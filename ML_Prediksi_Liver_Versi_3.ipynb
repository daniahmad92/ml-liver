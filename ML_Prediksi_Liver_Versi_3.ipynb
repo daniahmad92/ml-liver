{
  "nbformat": 4,
  "nbformat_minor": 0,
  "metadata": {
    "colab": {
      "provenance": []
    },
    "kernelspec": {
      "name": "python3",
      "display_name": "Python 3"
    },
    "language_info": {
      "name": "python"
    }
  },
  "cells": [
    {
      "cell_type": "markdown",
      "source": [
        "# Integrasi Model K-Nearest Neighbors (KNN) dengan Hyperparameter Tunning Optuna Untuk Mendeteksi Penyakit Liver Sejak Dini - Dadan Ahmad Dani"
      ],
      "metadata": {
        "id": "Bu2FsVOIo0MM"
      }
    },
    {
      "cell_type": "markdown",
      "source": [
        "### Library"
      ],
      "metadata": {
        "id": "t9K-i8C_lMLk"
      }
    },
    {
      "cell_type": "code",
      "execution_count": 86,
      "metadata": {
        "id": "-O5RePuZVKXJ"
      },
      "outputs": [],
      "source": [
        "#Install Optuna\n",
        "!pip install --quiet optuna"
      ]
    },
    {
      "cell_type": "code",
      "source": [
        "#Pemrosesan Data\n",
        "import numpy as np\n",
        "import pandas as pd\n",
        "from scipy import stats\n",
        "#Visualisasi\n",
        "import seaborn as sns\n",
        "import matplotlib.pyplot as plt\n",
        "from matplotlib.ticker import FormatStrFormatter\n",
        "# Scale\n",
        "from sklearn.preprocessing import LabelEncoder,StandardScaler\n",
        "# Model KNN\n",
        "from sklearn.neighbors import KNeighborsClassifier\n",
        "# Hyperparameter Tuning\n",
        "import optuna\n",
        "#Model Selection\n",
        "from sklearn.model_selection import train_test_split,cross_val_score,StratifiedKFold\n",
        "#Resample Data\n",
        "from imblearn.over_sampling import SMOTE\n",
        "#Matriks Evaluasi\n",
        "from sklearn.metrics import accuracy_score, classification_report, confusion_matrix\n",
        "#Warning\n",
        "import warnings\n",
        "warnings.filterwarnings('ignore')"
      ],
      "metadata": {
        "id": "eRtQKuAOVcCm"
      },
      "execution_count": 87,
      "outputs": []
    },
    {
      "cell_type": "markdown",
      "source": [
        "### Informasi Dataset"
      ],
      "metadata": {
        "id": "nIT9w7p7lXk-"
      }
    },
    {
      "cell_type": "code",
      "source": [
        "#load dataset csv\n",
        "liver_df = pd.read_csv('Indian Liver Patient Dataset (ILPD).csv')\n",
        "#tampilkan datasetnya\n",
        "liver_df.head()"
      ],
      "metadata": {
        "colab": {
          "base_uri": "https://localhost:8080/",
          "height": 206
        },
        "id": "FgRLQnJKVpr5",
        "outputId": "b9d903e8-2e92-455e-f699-bca132d612bd"
      },
      "execution_count": 88,
      "outputs": [
        {
          "output_type": "execute_result",
          "data": {
            "text/plain": [
              "   Age  Gender    TB   DB  Alkphos  Sgpt  Sgot   TP  ALB   A/G  Class\n",
              "0   65  Female   0.7  0.1      187    16    18  6.8  3.3  0.90      1\n",
              "1   62    Male  10.9  5.5      699    64   100  7.5  3.2  0.74      1\n",
              "2   62    Male   7.3  4.1      490    60    68  7.0  3.3  0.89      1\n",
              "3   58    Male   1.0  0.4      182    14    20  6.8  3.4  1.00      1\n",
              "4   72    Male   3.9  2.0      195    27    59  7.3  2.4  0.40      1"
            ],
            "text/html": [
              "\n",
              "\n",
              "  <div id=\"df-ceab76b1-d0fa-417f-beee-b96d00f8ae30\">\n",
              "    <div class=\"colab-df-container\">\n",
              "      <div>\n",
              "<style scoped>\n",
              "    .dataframe tbody tr th:only-of-type {\n",
              "        vertical-align: middle;\n",
              "    }\n",
              "\n",
              "    .dataframe tbody tr th {\n",
              "        vertical-align: top;\n",
              "    }\n",
              "\n",
              "    .dataframe thead th {\n",
              "        text-align: right;\n",
              "    }\n",
              "</style>\n",
              "<table border=\"1\" class=\"dataframe\">\n",
              "  <thead>\n",
              "    <tr style=\"text-align: right;\">\n",
              "      <th></th>\n",
              "      <th>Age</th>\n",
              "      <th>Gender</th>\n",
              "      <th>TB</th>\n",
              "      <th>DB</th>\n",
              "      <th>Alkphos</th>\n",
              "      <th>Sgpt</th>\n",
              "      <th>Sgot</th>\n",
              "      <th>TP</th>\n",
              "      <th>ALB</th>\n",
              "      <th>A/G</th>\n",
              "      <th>Class</th>\n",
              "    </tr>\n",
              "  </thead>\n",
              "  <tbody>\n",
              "    <tr>\n",
              "      <th>0</th>\n",
              "      <td>65</td>\n",
              "      <td>Female</td>\n",
              "      <td>0.7</td>\n",
              "      <td>0.1</td>\n",
              "      <td>187</td>\n",
              "      <td>16</td>\n",
              "      <td>18</td>\n",
              "      <td>6.8</td>\n",
              "      <td>3.3</td>\n",
              "      <td>0.90</td>\n",
              "      <td>1</td>\n",
              "    </tr>\n",
              "    <tr>\n",
              "      <th>1</th>\n",
              "      <td>62</td>\n",
              "      <td>Male</td>\n",
              "      <td>10.9</td>\n",
              "      <td>5.5</td>\n",
              "      <td>699</td>\n",
              "      <td>64</td>\n",
              "      <td>100</td>\n",
              "      <td>7.5</td>\n",
              "      <td>3.2</td>\n",
              "      <td>0.74</td>\n",
              "      <td>1</td>\n",
              "    </tr>\n",
              "    <tr>\n",
              "      <th>2</th>\n",
              "      <td>62</td>\n",
              "      <td>Male</td>\n",
              "      <td>7.3</td>\n",
              "      <td>4.1</td>\n",
              "      <td>490</td>\n",
              "      <td>60</td>\n",
              "      <td>68</td>\n",
              "      <td>7.0</td>\n",
              "      <td>3.3</td>\n",
              "      <td>0.89</td>\n",
              "      <td>1</td>\n",
              "    </tr>\n",
              "    <tr>\n",
              "      <th>3</th>\n",
              "      <td>58</td>\n",
              "      <td>Male</td>\n",
              "      <td>1.0</td>\n",
              "      <td>0.4</td>\n",
              "      <td>182</td>\n",
              "      <td>14</td>\n",
              "      <td>20</td>\n",
              "      <td>6.8</td>\n",
              "      <td>3.4</td>\n",
              "      <td>1.00</td>\n",
              "      <td>1</td>\n",
              "    </tr>\n",
              "    <tr>\n",
              "      <th>4</th>\n",
              "      <td>72</td>\n",
              "      <td>Male</td>\n",
              "      <td>3.9</td>\n",
              "      <td>2.0</td>\n",
              "      <td>195</td>\n",
              "      <td>27</td>\n",
              "      <td>59</td>\n",
              "      <td>7.3</td>\n",
              "      <td>2.4</td>\n",
              "      <td>0.40</td>\n",
              "      <td>1</td>\n",
              "    </tr>\n",
              "  </tbody>\n",
              "</table>\n",
              "</div>\n",
              "      <button class=\"colab-df-convert\" onclick=\"convertToInteractive('df-ceab76b1-d0fa-417f-beee-b96d00f8ae30')\"\n",
              "              title=\"Convert this dataframe to an interactive table.\"\n",
              "              style=\"display:none;\">\n",
              "\n",
              "  <svg xmlns=\"http://www.w3.org/2000/svg\" height=\"24px\"viewBox=\"0 0 24 24\"\n",
              "       width=\"24px\">\n",
              "    <path d=\"M0 0h24v24H0V0z\" fill=\"none\"/>\n",
              "    <path d=\"M18.56 5.44l.94 2.06.94-2.06 2.06-.94-2.06-.94-.94-2.06-.94 2.06-2.06.94zm-11 1L8.5 8.5l.94-2.06 2.06-.94-2.06-.94L8.5 2.5l-.94 2.06-2.06.94zm10 10l.94 2.06.94-2.06 2.06-.94-2.06-.94-.94-2.06-.94 2.06-2.06.94z\"/><path d=\"M17.41 7.96l-1.37-1.37c-.4-.4-.92-.59-1.43-.59-.52 0-1.04.2-1.43.59L10.3 9.45l-7.72 7.72c-.78.78-.78 2.05 0 2.83L4 21.41c.39.39.9.59 1.41.59.51 0 1.02-.2 1.41-.59l7.78-7.78 2.81-2.81c.8-.78.8-2.07 0-2.86zM5.41 20L4 18.59l7.72-7.72 1.47 1.35L5.41 20z\"/>\n",
              "  </svg>\n",
              "      </button>\n",
              "\n",
              "\n",
              "\n",
              "    <div id=\"df-864c6ff6-9293-4ffb-9ec9-3d35e41de561\">\n",
              "      <button class=\"colab-df-quickchart\" onclick=\"quickchart('df-864c6ff6-9293-4ffb-9ec9-3d35e41de561')\"\n",
              "              title=\"Suggest charts.\"\n",
              "              style=\"display:none;\">\n",
              "\n",
              "<svg xmlns=\"http://www.w3.org/2000/svg\" height=\"24px\"viewBox=\"0 0 24 24\"\n",
              "     width=\"24px\">\n",
              "    <g>\n",
              "        <path d=\"M19 3H5c-1.1 0-2 .9-2 2v14c0 1.1.9 2 2 2h14c1.1 0 2-.9 2-2V5c0-1.1-.9-2-2-2zM9 17H7v-7h2v7zm4 0h-2V7h2v10zm4 0h-2v-4h2v4z\"/>\n",
              "    </g>\n",
              "</svg>\n",
              "      </button>\n",
              "    </div>\n",
              "\n",
              "<style>\n",
              "  .colab-df-quickchart {\n",
              "    background-color: #E8F0FE;\n",
              "    border: none;\n",
              "    border-radius: 50%;\n",
              "    cursor: pointer;\n",
              "    display: none;\n",
              "    fill: #1967D2;\n",
              "    height: 32px;\n",
              "    padding: 0 0 0 0;\n",
              "    width: 32px;\n",
              "  }\n",
              "\n",
              "  .colab-df-quickchart:hover {\n",
              "    background-color: #E2EBFA;\n",
              "    box-shadow: 0px 1px 2px rgba(60, 64, 67, 0.3), 0px 1px 3px 1px rgba(60, 64, 67, 0.15);\n",
              "    fill: #174EA6;\n",
              "  }\n",
              "\n",
              "  [theme=dark] .colab-df-quickchart {\n",
              "    background-color: #3B4455;\n",
              "    fill: #D2E3FC;\n",
              "  }\n",
              "\n",
              "  [theme=dark] .colab-df-quickchart:hover {\n",
              "    background-color: #434B5C;\n",
              "    box-shadow: 0px 1px 3px 1px rgba(0, 0, 0, 0.15);\n",
              "    filter: drop-shadow(0px 1px 2px rgba(0, 0, 0, 0.3));\n",
              "    fill: #FFFFFF;\n",
              "  }\n",
              "</style>\n",
              "\n",
              "    <script>\n",
              "      async function quickchart(key) {\n",
              "        const containerElement = document.querySelector('#' + key);\n",
              "        const charts = await google.colab.kernel.invokeFunction(\n",
              "            'suggestCharts', [key], {});\n",
              "      }\n",
              "    </script>\n",
              "\n",
              "      <script>\n",
              "\n",
              "function displayQuickchartButton(domScope) {\n",
              "  let quickchartButtonEl =\n",
              "    domScope.querySelector('#df-864c6ff6-9293-4ffb-9ec9-3d35e41de561 button.colab-df-quickchart');\n",
              "  quickchartButtonEl.style.display =\n",
              "    google.colab.kernel.accessAllowed ? 'block' : 'none';\n",
              "}\n",
              "\n",
              "        displayQuickchartButton(document);\n",
              "      </script>\n",
              "      <style>\n",
              "    .colab-df-container {\n",
              "      display:flex;\n",
              "      flex-wrap:wrap;\n",
              "      gap: 12px;\n",
              "    }\n",
              "\n",
              "    .colab-df-convert {\n",
              "      background-color: #E8F0FE;\n",
              "      border: none;\n",
              "      border-radius: 50%;\n",
              "      cursor: pointer;\n",
              "      display: none;\n",
              "      fill: #1967D2;\n",
              "      height: 32px;\n",
              "      padding: 0 0 0 0;\n",
              "      width: 32px;\n",
              "    }\n",
              "\n",
              "    .colab-df-convert:hover {\n",
              "      background-color: #E2EBFA;\n",
              "      box-shadow: 0px 1px 2px rgba(60, 64, 67, 0.3), 0px 1px 3px 1px rgba(60, 64, 67, 0.15);\n",
              "      fill: #174EA6;\n",
              "    }\n",
              "\n",
              "    [theme=dark] .colab-df-convert {\n",
              "      background-color: #3B4455;\n",
              "      fill: #D2E3FC;\n",
              "    }\n",
              "\n",
              "    [theme=dark] .colab-df-convert:hover {\n",
              "      background-color: #434B5C;\n",
              "      box-shadow: 0px 1px 3px 1px rgba(0, 0, 0, 0.15);\n",
              "      filter: drop-shadow(0px 1px 2px rgba(0, 0, 0, 0.3));\n",
              "      fill: #FFFFFF;\n",
              "    }\n",
              "  </style>\n",
              "\n",
              "      <script>\n",
              "        const buttonEl =\n",
              "          document.querySelector('#df-ceab76b1-d0fa-417f-beee-b96d00f8ae30 button.colab-df-convert');\n",
              "        buttonEl.style.display =\n",
              "          google.colab.kernel.accessAllowed ? 'block' : 'none';\n",
              "\n",
              "        async function convertToInteractive(key) {\n",
              "          const element = document.querySelector('#df-ceab76b1-d0fa-417f-beee-b96d00f8ae30');\n",
              "          const dataTable =\n",
              "            await google.colab.kernel.invokeFunction('convertToInteractive',\n",
              "                                                     [key], {});\n",
              "          if (!dataTable) return;\n",
              "\n",
              "          const docLinkHtml = 'Like what you see? Visit the ' +\n",
              "            '<a target=\"_blank\" href=https://colab.research.google.com/notebooks/data_table.ipynb>data table notebook</a>'\n",
              "            + ' to learn more about interactive tables.';\n",
              "          element.innerHTML = '';\n",
              "          dataTable['output_type'] = 'display_data';\n",
              "          await google.colab.output.renderOutput(dataTable, element);\n",
              "          const docLink = document.createElement('div');\n",
              "          docLink.innerHTML = docLinkHtml;\n",
              "          element.appendChild(docLink);\n",
              "        }\n",
              "      </script>\n",
              "    </div>\n",
              "  </div>\n"
            ]
          },
          "metadata": {},
          "execution_count": 88
        }
      ]
    },
    {
      "cell_type": "code",
      "source": [
        "#Jumlah rows dan column\n",
        "print(f'Dataset ini memiliki {liver_df.shape[0]} rows and {liver_df.shape[1]} columns\\n')\n",
        "#cek data types untuk masing-masing kolom\n",
        "liver_df.info()"
      ],
      "metadata": {
        "colab": {
          "base_uri": "https://localhost:8080/"
        },
        "id": "zie4ufSbVuu2",
        "outputId": "22e9ca67-200f-4147-b2af-e7954406a97d"
      },
      "execution_count": 90,
      "outputs": [
        {
          "output_type": "stream",
          "name": "stdout",
          "text": [
            "Dataset ini memiliki 583 rows and 11 columns\n",
            "\n",
            "<class 'pandas.core.frame.DataFrame'>\n",
            "RangeIndex: 583 entries, 0 to 582\n",
            "Data columns (total 11 columns):\n",
            " #   Column   Non-Null Count  Dtype  \n",
            "---  ------   --------------  -----  \n",
            " 0   Age      583 non-null    int64  \n",
            " 1   Gender   583 non-null    object \n",
            " 2   TB       583 non-null    float64\n",
            " 3   DB       583 non-null    float64\n",
            " 4   Alkphos  583 non-null    int64  \n",
            " 5   Sgpt     583 non-null    int64  \n",
            " 6   Sgot     583 non-null    int64  \n",
            " 7   TP       583 non-null    float64\n",
            " 8   ALB      583 non-null    float64\n",
            " 9   A/G      579 non-null    float64\n",
            " 10  Class    583 non-null    int64  \n",
            "dtypes: float64(5), int64(5), object(1)\n",
            "memory usage: 50.2+ KB\n"
          ]
        }
      ]
    },
    {
      "cell_type": "code",
      "source": [
        "#kolom numerik\n",
        "feature_numeric = ['Age','TB','DB','Alkphos','Sgpt','Sgot','TP','ALB','A/G']\n",
        "#kolom klasifikasi Liver dan Non Liver (1: Liver dan 2:Non-Liver)\n",
        "liver_df['Class'].replace({1:\"Liver\" , 2:\"Non-Liver\"},inplace = True)\n",
        "target_label=['Class']\n",
        "#data untuk pasien Liver\n",
        "df_liv=liver_df[(liver_df['Class']==\"Liver\")]"
      ],
      "metadata": {
        "id": "uu4CuS1LWC-7"
      },
      "execution_count": 91,
      "outputs": []
    },
    {
      "cell_type": "markdown",
      "source": [
        "### Missing Value"
      ],
      "metadata": {
        "id": "v_7HHrkJlder"
      }
    },
    {
      "cell_type": "code",
      "source": [
        "#cek jumlah missing value tiap kolom\n",
        "print('Jumlah Missing Value Tiap Kolom')\n",
        "liver_df.isnull().sum()"
      ],
      "metadata": {
        "colab": {
          "base_uri": "https://localhost:8080/"
        },
        "id": "g_i5wgLmV1Fa",
        "outputId": "eb6a4eb6-80b4-4811-c259-a5e287b053e2"
      },
      "execution_count": 92,
      "outputs": [
        {
          "output_type": "stream",
          "name": "stdout",
          "text": [
            "Jumlah Missing Value Tiap Kolom\n"
          ]
        },
        {
          "output_type": "execute_result",
          "data": {
            "text/plain": [
              "Age        0\n",
              "Gender     0\n",
              "TB         0\n",
              "DB         0\n",
              "Alkphos    0\n",
              "Sgpt       0\n",
              "Sgot       0\n",
              "TP         0\n",
              "ALB        0\n",
              "A/G        4\n",
              "Class      0\n",
              "dtype: int64"
            ]
          },
          "metadata": {},
          "execution_count": 92
        }
      ]
    },
    {
      "cell_type": "code",
      "source": [
        "#isi 4 kolom A/G yg kosong dengan menggunakan nilai rata-rata (mean) dari nilai A/G\n",
        "liver_df[\"A/G\"] = liver_df[\"A/G\"].fillna(liver_df[\"A/G\"].mean())\n",
        "#cek kembali hasilnya\n",
        "print('Setelah Penanganan')\n",
        "liver_df.isnull().sum()"
      ],
      "metadata": {
        "colab": {
          "base_uri": "https://localhost:8080/"
        },
        "id": "uAy0XpwTV-zo",
        "outputId": "25cf31c9-7cd1-439b-c3b3-af5e6947084d"
      },
      "execution_count": 94,
      "outputs": [
        {
          "output_type": "stream",
          "name": "stdout",
          "text": [
            "Setelah Penanganan\n"
          ]
        },
        {
          "output_type": "execute_result",
          "data": {
            "text/plain": [
              "Age        0\n",
              "Gender     0\n",
              "TB         0\n",
              "DB         0\n",
              "Alkphos    0\n",
              "Sgpt       0\n",
              "Sgot       0\n",
              "TP         0\n",
              "ALB        0\n",
              "A/G        0\n",
              "Class      0\n",
              "dtype: int64"
            ]
          },
          "metadata": {},
          "execution_count": 94
        }
      ]
    },
    {
      "cell_type": "markdown",
      "source": [
        "### Statistik Deskriptif Variabel Fitur Numerik"
      ],
      "metadata": {
        "id": "TeN9buAql2xS"
      }
    },
    {
      "cell_type": "code",
      "source": [
        "#deskripsi fitur numerik\n",
        "liver_df[feature_numeric].describe().T"
      ],
      "metadata": {
        "colab": {
          "base_uri": "https://localhost:8080/",
          "height": 332
        },
        "id": "ikYy7tEvWNbk",
        "outputId": "0a5fd60b-bbdf-488f-b186-dcacd32dfe34"
      },
      "execution_count": 95,
      "outputs": [
        {
          "output_type": "execute_result",
          "data": {
            "text/plain": [
              "         count        mean         std   min    25%         50%    75%     max\n",
              "Age      583.0   44.746141   16.189833   4.0   33.0   45.000000   58.0    90.0\n",
              "TB       583.0    3.298799    6.209522   0.4    0.8    1.000000    2.6    75.0\n",
              "DB       583.0    1.486106    2.808498   0.1    0.2    0.300000    1.3    19.7\n",
              "Alkphos  583.0  290.576329  242.937989  63.0  175.5  208.000000  298.0  2110.0\n",
              "Sgpt     583.0   80.713551  182.620356  10.0   23.0   35.000000   60.5  2000.0\n",
              "Sgot     583.0  109.910806  288.918529  10.0   25.0   42.000000   87.0  4929.0\n",
              "TP       583.0    6.483190    1.085451   2.7    5.8    6.600000    7.2     9.6\n",
              "ALB      583.0    3.141852    0.795519   0.9    2.6    3.100000    3.8     5.5\n",
              "A/G      583.0    0.947064    0.318492   0.3    0.7    0.947064    1.1     2.8"
            ],
            "text/html": [
              "\n",
              "\n",
              "  <div id=\"df-32600b23-846a-47e5-a659-507a8926f001\">\n",
              "    <div class=\"colab-df-container\">\n",
              "      <div>\n",
              "<style scoped>\n",
              "    .dataframe tbody tr th:only-of-type {\n",
              "        vertical-align: middle;\n",
              "    }\n",
              "\n",
              "    .dataframe tbody tr th {\n",
              "        vertical-align: top;\n",
              "    }\n",
              "\n",
              "    .dataframe thead th {\n",
              "        text-align: right;\n",
              "    }\n",
              "</style>\n",
              "<table border=\"1\" class=\"dataframe\">\n",
              "  <thead>\n",
              "    <tr style=\"text-align: right;\">\n",
              "      <th></th>\n",
              "      <th>count</th>\n",
              "      <th>mean</th>\n",
              "      <th>std</th>\n",
              "      <th>min</th>\n",
              "      <th>25%</th>\n",
              "      <th>50%</th>\n",
              "      <th>75%</th>\n",
              "      <th>max</th>\n",
              "    </tr>\n",
              "  </thead>\n",
              "  <tbody>\n",
              "    <tr>\n",
              "      <th>Age</th>\n",
              "      <td>583.0</td>\n",
              "      <td>44.746141</td>\n",
              "      <td>16.189833</td>\n",
              "      <td>4.0</td>\n",
              "      <td>33.0</td>\n",
              "      <td>45.000000</td>\n",
              "      <td>58.0</td>\n",
              "      <td>90.0</td>\n",
              "    </tr>\n",
              "    <tr>\n",
              "      <th>TB</th>\n",
              "      <td>583.0</td>\n",
              "      <td>3.298799</td>\n",
              "      <td>6.209522</td>\n",
              "      <td>0.4</td>\n",
              "      <td>0.8</td>\n",
              "      <td>1.000000</td>\n",
              "      <td>2.6</td>\n",
              "      <td>75.0</td>\n",
              "    </tr>\n",
              "    <tr>\n",
              "      <th>DB</th>\n",
              "      <td>583.0</td>\n",
              "      <td>1.486106</td>\n",
              "      <td>2.808498</td>\n",
              "      <td>0.1</td>\n",
              "      <td>0.2</td>\n",
              "      <td>0.300000</td>\n",
              "      <td>1.3</td>\n",
              "      <td>19.7</td>\n",
              "    </tr>\n",
              "    <tr>\n",
              "      <th>Alkphos</th>\n",
              "      <td>583.0</td>\n",
              "      <td>290.576329</td>\n",
              "      <td>242.937989</td>\n",
              "      <td>63.0</td>\n",
              "      <td>175.5</td>\n",
              "      <td>208.000000</td>\n",
              "      <td>298.0</td>\n",
              "      <td>2110.0</td>\n",
              "    </tr>\n",
              "    <tr>\n",
              "      <th>Sgpt</th>\n",
              "      <td>583.0</td>\n",
              "      <td>80.713551</td>\n",
              "      <td>182.620356</td>\n",
              "      <td>10.0</td>\n",
              "      <td>23.0</td>\n",
              "      <td>35.000000</td>\n",
              "      <td>60.5</td>\n",
              "      <td>2000.0</td>\n",
              "    </tr>\n",
              "    <tr>\n",
              "      <th>Sgot</th>\n",
              "      <td>583.0</td>\n",
              "      <td>109.910806</td>\n",
              "      <td>288.918529</td>\n",
              "      <td>10.0</td>\n",
              "      <td>25.0</td>\n",
              "      <td>42.000000</td>\n",
              "      <td>87.0</td>\n",
              "      <td>4929.0</td>\n",
              "    </tr>\n",
              "    <tr>\n",
              "      <th>TP</th>\n",
              "      <td>583.0</td>\n",
              "      <td>6.483190</td>\n",
              "      <td>1.085451</td>\n",
              "      <td>2.7</td>\n",
              "      <td>5.8</td>\n",
              "      <td>6.600000</td>\n",
              "      <td>7.2</td>\n",
              "      <td>9.6</td>\n",
              "    </tr>\n",
              "    <tr>\n",
              "      <th>ALB</th>\n",
              "      <td>583.0</td>\n",
              "      <td>3.141852</td>\n",
              "      <td>0.795519</td>\n",
              "      <td>0.9</td>\n",
              "      <td>2.6</td>\n",
              "      <td>3.100000</td>\n",
              "      <td>3.8</td>\n",
              "      <td>5.5</td>\n",
              "    </tr>\n",
              "    <tr>\n",
              "      <th>A/G</th>\n",
              "      <td>583.0</td>\n",
              "      <td>0.947064</td>\n",
              "      <td>0.318492</td>\n",
              "      <td>0.3</td>\n",
              "      <td>0.7</td>\n",
              "      <td>0.947064</td>\n",
              "      <td>1.1</td>\n",
              "      <td>2.8</td>\n",
              "    </tr>\n",
              "  </tbody>\n",
              "</table>\n",
              "</div>\n",
              "      <button class=\"colab-df-convert\" onclick=\"convertToInteractive('df-32600b23-846a-47e5-a659-507a8926f001')\"\n",
              "              title=\"Convert this dataframe to an interactive table.\"\n",
              "              style=\"display:none;\">\n",
              "\n",
              "  <svg xmlns=\"http://www.w3.org/2000/svg\" height=\"24px\"viewBox=\"0 0 24 24\"\n",
              "       width=\"24px\">\n",
              "    <path d=\"M0 0h24v24H0V0z\" fill=\"none\"/>\n",
              "    <path d=\"M18.56 5.44l.94 2.06.94-2.06 2.06-.94-2.06-.94-.94-2.06-.94 2.06-2.06.94zm-11 1L8.5 8.5l.94-2.06 2.06-.94-2.06-.94L8.5 2.5l-.94 2.06-2.06.94zm10 10l.94 2.06.94-2.06 2.06-.94-2.06-.94-.94-2.06-.94 2.06-2.06.94z\"/><path d=\"M17.41 7.96l-1.37-1.37c-.4-.4-.92-.59-1.43-.59-.52 0-1.04.2-1.43.59L10.3 9.45l-7.72 7.72c-.78.78-.78 2.05 0 2.83L4 21.41c.39.39.9.59 1.41.59.51 0 1.02-.2 1.41-.59l7.78-7.78 2.81-2.81c.8-.78.8-2.07 0-2.86zM5.41 20L4 18.59l7.72-7.72 1.47 1.35L5.41 20z\"/>\n",
              "  </svg>\n",
              "      </button>\n",
              "\n",
              "\n",
              "\n",
              "    <div id=\"df-bfaca05c-5216-4422-b7f9-5359b24001ea\">\n",
              "      <button class=\"colab-df-quickchart\" onclick=\"quickchart('df-bfaca05c-5216-4422-b7f9-5359b24001ea')\"\n",
              "              title=\"Suggest charts.\"\n",
              "              style=\"display:none;\">\n",
              "\n",
              "<svg xmlns=\"http://www.w3.org/2000/svg\" height=\"24px\"viewBox=\"0 0 24 24\"\n",
              "     width=\"24px\">\n",
              "    <g>\n",
              "        <path d=\"M19 3H5c-1.1 0-2 .9-2 2v14c0 1.1.9 2 2 2h14c1.1 0 2-.9 2-2V5c0-1.1-.9-2-2-2zM9 17H7v-7h2v7zm4 0h-2V7h2v10zm4 0h-2v-4h2v4z\"/>\n",
              "    </g>\n",
              "</svg>\n",
              "      </button>\n",
              "    </div>\n",
              "\n",
              "<style>\n",
              "  .colab-df-quickchart {\n",
              "    background-color: #E8F0FE;\n",
              "    border: none;\n",
              "    border-radius: 50%;\n",
              "    cursor: pointer;\n",
              "    display: none;\n",
              "    fill: #1967D2;\n",
              "    height: 32px;\n",
              "    padding: 0 0 0 0;\n",
              "    width: 32px;\n",
              "  }\n",
              "\n",
              "  .colab-df-quickchart:hover {\n",
              "    background-color: #E2EBFA;\n",
              "    box-shadow: 0px 1px 2px rgba(60, 64, 67, 0.3), 0px 1px 3px 1px rgba(60, 64, 67, 0.15);\n",
              "    fill: #174EA6;\n",
              "  }\n",
              "\n",
              "  [theme=dark] .colab-df-quickchart {\n",
              "    background-color: #3B4455;\n",
              "    fill: #D2E3FC;\n",
              "  }\n",
              "\n",
              "  [theme=dark] .colab-df-quickchart:hover {\n",
              "    background-color: #434B5C;\n",
              "    box-shadow: 0px 1px 3px 1px rgba(0, 0, 0, 0.15);\n",
              "    filter: drop-shadow(0px 1px 2px rgba(0, 0, 0, 0.3));\n",
              "    fill: #FFFFFF;\n",
              "  }\n",
              "</style>\n",
              "\n",
              "    <script>\n",
              "      async function quickchart(key) {\n",
              "        const containerElement = document.querySelector('#' + key);\n",
              "        const charts = await google.colab.kernel.invokeFunction(\n",
              "            'suggestCharts', [key], {});\n",
              "      }\n",
              "    </script>\n",
              "\n",
              "      <script>\n",
              "\n",
              "function displayQuickchartButton(domScope) {\n",
              "  let quickchartButtonEl =\n",
              "    domScope.querySelector('#df-bfaca05c-5216-4422-b7f9-5359b24001ea button.colab-df-quickchart');\n",
              "  quickchartButtonEl.style.display =\n",
              "    google.colab.kernel.accessAllowed ? 'block' : 'none';\n",
              "}\n",
              "\n",
              "        displayQuickchartButton(document);\n",
              "      </script>\n",
              "      <style>\n",
              "    .colab-df-container {\n",
              "      display:flex;\n",
              "      flex-wrap:wrap;\n",
              "      gap: 12px;\n",
              "    }\n",
              "\n",
              "    .colab-df-convert {\n",
              "      background-color: #E8F0FE;\n",
              "      border: none;\n",
              "      border-radius: 50%;\n",
              "      cursor: pointer;\n",
              "      display: none;\n",
              "      fill: #1967D2;\n",
              "      height: 32px;\n",
              "      padding: 0 0 0 0;\n",
              "      width: 32px;\n",
              "    }\n",
              "\n",
              "    .colab-df-convert:hover {\n",
              "      background-color: #E2EBFA;\n",
              "      box-shadow: 0px 1px 2px rgba(60, 64, 67, 0.3), 0px 1px 3px 1px rgba(60, 64, 67, 0.15);\n",
              "      fill: #174EA6;\n",
              "    }\n",
              "\n",
              "    [theme=dark] .colab-df-convert {\n",
              "      background-color: #3B4455;\n",
              "      fill: #D2E3FC;\n",
              "    }\n",
              "\n",
              "    [theme=dark] .colab-df-convert:hover {\n",
              "      background-color: #434B5C;\n",
              "      box-shadow: 0px 1px 3px 1px rgba(0, 0, 0, 0.15);\n",
              "      filter: drop-shadow(0px 1px 2px rgba(0, 0, 0, 0.3));\n",
              "      fill: #FFFFFF;\n",
              "    }\n",
              "  </style>\n",
              "\n",
              "      <script>\n",
              "        const buttonEl =\n",
              "          document.querySelector('#df-32600b23-846a-47e5-a659-507a8926f001 button.colab-df-convert');\n",
              "        buttonEl.style.display =\n",
              "          google.colab.kernel.accessAllowed ? 'block' : 'none';\n",
              "\n",
              "        async function convertToInteractive(key) {\n",
              "          const element = document.querySelector('#df-32600b23-846a-47e5-a659-507a8926f001');\n",
              "          const dataTable =\n",
              "            await google.colab.kernel.invokeFunction('convertToInteractive',\n",
              "                                                     [key], {});\n",
              "          if (!dataTable) return;\n",
              "\n",
              "          const docLinkHtml = 'Like what you see? Visit the ' +\n",
              "            '<a target=\"_blank\" href=https://colab.research.google.com/notebooks/data_table.ipynb>data table notebook</a>'\n",
              "            + ' to learn more about interactive tables.';\n",
              "          element.innerHTML = '';\n",
              "          dataTable['output_type'] = 'display_data';\n",
              "          await google.colab.output.renderOutput(dataTable, element);\n",
              "          const docLink = document.createElement('div');\n",
              "          docLink.innerHTML = docLinkHtml;\n",
              "          element.appendChild(docLink);\n",
              "        }\n",
              "      </script>\n",
              "    </div>\n",
              "  </div>\n"
            ]
          },
          "metadata": {},
          "execution_count": 95
        }
      ]
    },
    {
      "cell_type": "markdown",
      "source": [
        "### Deteksi Imbalance pada Variabel Target"
      ],
      "metadata": {
        "id": "E0nC5RJOmMbE"
      }
    },
    {
      "cell_type": "code",
      "source": [
        "liver_df['Class'].value_counts()"
      ],
      "metadata": {
        "colab": {
          "base_uri": "https://localhost:8080/"
        },
        "id": "7vYaRXzcWRCb",
        "outputId": "e66d1d2e-0514-4663-f1a8-2627a62ef202"
      },
      "execution_count": 96,
      "outputs": [
        {
          "output_type": "execute_result",
          "data": {
            "text/plain": [
              "Liver        416\n",
              "Non-Liver    167\n",
              "Name: Class, dtype: int64"
            ]
          },
          "metadata": {},
          "execution_count": 96
        }
      ]
    },
    {
      "cell_type": "code",
      "source": [
        "#Perbandingan Jumlah Pasien Liver dan Non Liver (%)\n",
        "def plot_pie_liver_patient():\n",
        "    labels1 = 'Liver','Non-Liver'\n",
        "    liver_df['Class'].value_counts().plot.pie(explode=[0.1,0.1],labels=labels1, autopct='%1.1f%%',shadow=True,figsize=(2,2));\n",
        "    plt.title(\"Perbandingan Pasien Liver dan Non-Liver(%)\",fontsize=10)\n",
        "plot_pie_liver_patient()"
      ],
      "metadata": {
        "colab": {
          "base_uri": "https://localhost:8080/",
          "height": 210
        },
        "id": "3z2HveZQWU-f",
        "outputId": "97c95020-0ff6-4bc3-b60e-e6f141a3a1ab"
      },
      "execution_count": 97,
      "outputs": [
        {
          "output_type": "display_data",
          "data": {
            "text/plain": [
              "<Figure size 200x200 with 1 Axes>"
            ],
            "image/png": "[encoded data removed]"
          },
          "metadata": {}
        }
      ]
    },
    {
      "cell_type": "markdown",
      "source": [
        "### Exploratory Data Analysis (EDA)- Univariate Analysis"
      ],
      "metadata": {
        "id": "yTK-E03RmTEM"
      }
    },
    {
      "cell_type": "code",
      "source": [
        "liver_df['Gender'].value_counts()"
      ],
      "metadata": {
        "colab": {
          "base_uri": "https://localhost:8080/"
        },
        "id": "V2XZ2yYdWccD",
        "outputId": "e3a0914a-4d86-4fd4-972f-4ebd982fe409"
      },
      "execution_count": 98,
      "outputs": [
        {
          "output_type": "execute_result",
          "data": {
            "text/plain": [
              "Male      441\n",
              "Female    142\n",
              "Name: Gender, dtype: int64"
            ]
          },
          "metadata": {},
          "execution_count": 98
        }
      ]
    },
    {
      "cell_type": "code",
      "source": [
        "def plot_pie_gender():\n",
        "    labels_gend = 'Male','Female'\n",
        "    liver_df['Gender'].value_counts().plot.pie(explode=[0.1,0.1],labels=labels_gend, autopct='%1.1f%%',shadow=True,figsize=(3,3));\n",
        "    plt.title(\"Perbandingan Pasien Berdasarkan Gender\",fontsize=10)\n",
        "plot_pie_gender()"
      ],
      "metadata": {
        "colab": {
          "base_uri": "https://localhost:8080/",
          "height": 287
        },
        "id": "4QX0W1LTWguT",
        "outputId": "3d5f88d7-56d8-4133-8333-208491f47342"
      },
      "execution_count": 99,
      "outputs": [
        {
          "output_type": "display_data",
          "data": {
            "text/plain": [
              "<Figure size 300x300 with 1 Axes>"
            ],
            "image/png": "[encoded data removed]"
          },
          "metadata": {}
        }
      ]
    },
    {
      "cell_type": "code",
      "source": [
        "def plot_histogram(X_num):\n",
        "      plot_number = 1\n",
        "      plt.figure(figsize=(12,8))\n",
        "      plt.subplots_adjust(hspace=0.4, wspace=0.01)\n",
        "      for col in X_num.columns:\n",
        "          plt.subplot(3, 6, plot_number)\n",
        "          sns.histplot(X_num[col], color=\"#9bd0b7\")\n",
        "          plt.gca().xaxis.set_major_formatter(FormatStrFormatter('%.1f'))\n",
        "          plt.title(f'{col.capitalize()} histogram', fontsize=10)\n",
        "          plt.xlabel('')\n",
        "          plt.xticks(fontsize=6)\n",
        "          plt.ylabel('')\n",
        "          plt.yticks(fontsize=6)\n",
        "          plot_number = plot_number+2\n",
        "      plt.show()\n",
        "plot_histogram(liver_df[feature_numeric])"
      ],
      "metadata": {
        "colab": {
          "base_uri": "https://localhost:8080/",
          "height": 691
        },
        "id": "1eSUx1LLWtFm",
        "outputId": "236eeb82-f316-4a60-99d3-7574a0a3d068"
      },
      "execution_count": 100,
      "outputs": [
        {
          "output_type": "display_data",
          "data": {
            "text/plain": [
              "<Figure size 1200x800 with 9 Axes>"
            ],
            "image/png": "[encoded data removed]"
          },
          "metadata": {}
        }
      ]
    },
    {
      "cell_type": "markdown",
      "source": [
        "### Exploratory Data Analysis (EDA)-Multivariate Analysis"
      ],
      "metadata": {
        "id": "bL7Kq9fMmeQM"
      }
    },
    {
      "cell_type": "code",
      "source": [
        "#Korelasi Variabel Numerik\n",
        "def plot_corr():\n",
        "\tplt.figure(figsize=(8,8))\n",
        "\tsns.heatmap(liver_df[feature_numeric].corr(),annot=True,cmap = 'terrain')\n",
        "plot_corr()\n"
      ],
      "metadata": {
        "colab": {
          "base_uri": "https://localhost:8080/",
          "height": 682
        },
        "id": "saE0eizUWxyc",
        "outputId": "df68a988-0fa4-41ae-c190-a23a048ef287"
      },
      "execution_count": 101,
      "outputs": [
        {
          "output_type": "display_data",
          "data": {
            "text/plain": [
              "<Figure size 800x800 with 2 Axes>"
            ],
            "image/png": "[encoded data removed]"
          },
          "metadata": {}
        }
      ]
    },
    {
      "cell_type": "markdown",
      "source": [
        "### Outlier"
      ],
      "metadata": {
        "id": "4xV497VpmpLr"
      }
    },
    {
      "cell_type": "code",
      "source": [
        "#outlier boxplot\n",
        "def plot_boxplot(X_num):\n",
        "      plot_number = 1\n",
        "      plt.figure(figsize=(12,8))\n",
        "      plt.subplots_adjust(hspace=0.4, wspace=0.01)\n",
        "      for col in X_num.columns:\n",
        "          plt.subplot(3, 6, plot_number)\n",
        "          sns.boxplot(x=X_num[col], color='#badfda', width=0.9, linewidth=0.6)\n",
        "          plt.gca().xaxis.set_major_formatter(FormatStrFormatter('%.1f'))\n",
        "          plt.title(f'{col.capitalize()} boxplot', fontsize=10)\n",
        "          plt.xlabel('')\n",
        "          plt.xticks(fontsize=6)\n",
        "          plt.ylabel('')\n",
        "          plt.yticks(fontsize=6)\n",
        "          plot_number = plot_number+2\n",
        "      plt.show()\n",
        "plot_boxplot(liver_df[feature_numeric])"
      ],
      "metadata": {
        "colab": {
          "base_uri": "https://localhost:8080/",
          "height": 691
        },
        "id": "7bF4unNdXBn6",
        "outputId": "4d30b76d-d05e-4546-9c74-6a27ad8f15b9"
      },
      "execution_count": 102,
      "outputs": [
        {
          "output_type": "display_data",
          "data": {
            "text/plain": [
              "<Figure size 1200x800 with 9 Axes>"
            ],
            "image/png": "[encoded data removed]"
          },
          "metadata": {}
        }
      ]
    },
    {
      "cell_type": "code",
      "source": [
        "#hitung jumlah outlier masing masing kolom dengan menggunakan metode IQR dan tampilkan dalam tabel\n",
        "def count_Outliers(X_num):\n",
        "    indices = [x for x in X_num.index]\n",
        "    out_indexlist = []\n",
        "    outlier_tbl=[]\n",
        "    for col in feature_numeric:\n",
        "        q1 = np.percentile(X_num[col], 25)\n",
        "        q3 = np.percentile(X_num[col], 75)\n",
        "        iqr = q3 - q1\n",
        "        lower = q1 - (iqr*1.5)\n",
        "        upper = q3 + (iqr*1.5)\n",
        "        outliers_index = X_num[col][(X_num[col] < lower) | (X_num[col] > upper)].index.tolist()\n",
        "        outliers = X_num[col][(X_num[col] < lower) | (X_num[col] > upper)].values\n",
        "        out_indexlist.extend(outliers_index)\n",
        "        outlier_tbl.append({\n",
        "            'Fitur': col,\n",
        "            'Jml Outlier': len(outliers),\n",
        "        })\n",
        "    print('\\nTotal outliers: ', len(out_indexlist))\n",
        "    out_df = pd.DataFrame(outlier_tbl,columns=['Fitur','Jml Outlier'])\n",
        "    return out_df\n",
        "\n",
        "count_Outliers(liver_df[feature_numeric])"
      ],
      "metadata": {
        "colab": {
          "base_uri": "https://localhost:8080/",
          "height": 366
        },
        "id": "vKRN81YbXE3T",
        "outputId": "e82af831-049b-4a9d-cbb2-63939e867b83"
      },
      "execution_count": 103,
      "outputs": [
        {
          "output_type": "stream",
          "name": "stdout",
          "text": [
            "\n",
            "Total outliers:  391\n"
          ]
        },
        {
          "output_type": "execute_result",
          "data": {
            "text/plain": [
              "     Fitur  Jml Outlier\n",
              "0      Age            0\n",
              "1       TB           84\n",
              "2       DB           81\n",
              "3  Alkphos           69\n",
              "4     Sgpt           73\n",
              "5     Sgot           66\n",
              "6       TP            8\n",
              "7      ALB            0\n",
              "8      A/G           10"
            ],
            "text/html": [
              "\n",
              "\n",
              "  <div id=\"df-4e3b5d85-51b8-49e5-acbf-319b1cc5e0db\">\n",
              "    <div class=\"colab-df-container\">\n",
              "      <div>\n",
              "<style scoped>\n",
              "    .dataframe tbody tr th:only-of-type {\n",
              "        vertical-align: middle;\n",
              "    }\n",
              "\n",
              "    .dataframe tbody tr th {\n",
              "        vertical-align: top;\n",
              "    }\n",
              "\n",
              "    .dataframe thead th {\n",
              "        text-align: right;\n",
              "    }\n",
              "</style>\n",
              "<table border=\"1\" class=\"dataframe\">\n",
              "  <thead>\n",
              "    <tr style=\"text-align: right;\">\n",
              "      <th></th>\n",
              "      <th>Fitur</th>\n",
              "      <th>Jml Outlier</th>\n",
              "    </tr>\n",
              "  </thead>\n",
              "  <tbody>\n",
              "    <tr>\n",
              "      <th>0</th>\n",
              "      <td>Age</td>\n",
              "      <td>0</td>\n",
              "    </tr>\n",
              "    <tr>\n",
              "      <th>1</th>\n",
              "      <td>TB</td>\n",
              "      <td>84</td>\n",
              "    </tr>\n",
              "    <tr>\n",
              "      <th>2</th>\n",
              "      <td>DB</td>\n",
              "      <td>81</td>\n",
              "    </tr>\n",
              "    <tr>\n",
              "      <th>3</th>\n",
              "      <td>Alkphos</td>\n",
              "      <td>69</td>\n",
              "    </tr>\n",
              "    <tr>\n",
              "      <th>4</th>\n",
              "      <td>Sgpt</td>\n",
              "      <td>73</td>\n",
              "    </tr>\n",
              "    <tr>\n",
              "      <th>5</th>\n",
              "      <td>Sgot</td>\n",
              "      <td>66</td>\n",
              "    </tr>\n",
              "    <tr>\n",
              "      <th>6</th>\n",
              "      <td>TP</td>\n",
              "      <td>8</td>\n",
              "    </tr>\n",
              "    <tr>\n",
              "      <th>7</th>\n",
              "      <td>ALB</td>\n",
              "      <td>0</td>\n",
              "    </tr>\n",
              "    <tr>\n",
              "      <th>8</th>\n",
              "      <td>A/G</td>\n",
              "      <td>10</td>\n",
              "    </tr>\n",
              "  </tbody>\n",
              "</table>\n",
              "</div>\n",
              "      <button class=\"colab-df-convert\" onclick=\"convertToInteractive('df-4e3b5d85-51b8-49e5-acbf-319b1cc5e0db')\"\n",
              "              title=\"Convert this dataframe to an interactive table.\"\n",
              "              style=\"display:none;\">\n",
              "\n",
              "  <svg xmlns=\"http://www.w3.org/2000/svg\" height=\"24px\"viewBox=\"0 0 24 24\"\n",
              "       width=\"24px\">\n",
              "    <path d=\"M0 0h24v24H0V0z\" fill=\"none\"/>\n",
              "    <path d=\"M18.56 5.44l.94 2.06.94-2.06 2.06-.94-2.06-.94-.94-2.06-.94 2.06-2.06.94zm-11 1L8.5 8.5l.94-2.06 2.06-.94-2.06-.94L8.5 2.5l-.94 2.06-2.06.94zm10 10l.94 2.06.94-2.06 2.06-.94-2.06-.94-.94-2.06-.94 2.06-2.06.94z\"/><path d=\"M17.41 7.96l-1.37-1.37c-.4-.4-.92-.59-1.43-.59-.52 0-1.04.2-1.43.59L10.3 9.45l-7.72 7.72c-.78.78-.78 2.05 0 2.83L4 21.41c.39.39.9.59 1.41.59.51 0 1.02-.2 1.41-.59l7.78-7.78 2.81-2.81c.8-.78.8-2.07 0-2.86zM5.41 20L4 18.59l7.72-7.72 1.47 1.35L5.41 20z\"/>\n",
              "  </svg>\n",
              "      </button>\n",
              "\n",
              "\n",
              "\n",
              "    <div id=\"df-c285f1d2-0bfb-4ab5-bf00-d861ef11a40a\">\n",
              "      <button class=\"colab-df-quickchart\" onclick=\"quickchart('df-c285f1d2-0bfb-4ab5-bf00-d861ef11a40a')\"\n",
              "              title=\"Suggest charts.\"\n",
              "              style=\"display:none;\">\n",
              "\n",
              "<svg xmlns=\"http://www.w3.org/2000/svg\" height=\"24px\"viewBox=\"0 0 24 24\"\n",
              "     width=\"24px\">\n",
              "    <g>\n",
              "        <path d=\"M19 3H5c-1.1 0-2 .9-2 2v14c0 1.1.9 2 2 2h14c1.1 0 2-.9 2-2V5c0-1.1-.9-2-2-2zM9 17H7v-7h2v7zm4 0h-2V7h2v10zm4 0h-2v-4h2v4z\"/>\n",
              "    </g>\n",
              "</svg>\n",
              "      </button>\n",
              "    </div>\n",
              "\n",
              "<style>\n",
              "  .colab-df-quickchart {\n",
              "    background-color: #E8F0FE;\n",
              "    border: none;\n",
              "    border-radius: 50%;\n",
              "    cursor: pointer;\n",
              "    display: none;\n",
              "    fill: #1967D2;\n",
              "    height: 32px;\n",
              "    padding: 0 0 0 0;\n",
              "    width: 32px;\n",
              "  }\n",
              "\n",
              "  .colab-df-quickchart:hover {\n",
              "    background-color: #E2EBFA;\n",
              "    box-shadow: 0px 1px 2px rgba(60, 64, 67, 0.3), 0px 1px 3px 1px rgba(60, 64, 67, 0.15);\n",
              "    fill: #174EA6;\n",
              "  }\n",
              "\n",
              "  [theme=dark] .colab-df-quickchart {\n",
              "    background-color: #3B4455;\n",
              "    fill: #D2E3FC;\n",
              "  }\n",
              "\n",
              "  [theme=dark] .colab-df-quickchart:hover {\n",
              "    background-color: #434B5C;\n",
              "    box-shadow: 0px 1px 3px 1px rgba(0, 0, 0, 0.15);\n",
              "    filter: drop-shadow(0px 1px 2px rgba(0, 0, 0, 0.3));\n",
              "    fill: #FFFFFF;\n",
              "  }\n",
              "</style>\n",
              "\n",
              "    <script>\n",
              "      async function quickchart(key) {\n",
              "        const containerElement = document.querySelector('#' + key);\n",
              "        const charts = await google.colab.kernel.invokeFunction(\n",
              "            'suggestCharts', [key], {});\n",
              "      }\n",
              "    </script>\n",
              "\n",
              "      <script>\n",
              "\n",
              "function displayQuickchartButton(domScope) {\n",
              "  let quickchartButtonEl =\n",
              "    domScope.querySelector('#df-c285f1d2-0bfb-4ab5-bf00-d861ef11a40a button.colab-df-quickchart');\n",
              "  quickchartButtonEl.style.display =\n",
              "    google.colab.kernel.accessAllowed ? 'block' : 'none';\n",
              "}\n",
              "\n",
              "        displayQuickchartButton(document);\n",
              "      </script>\n",
              "      <style>\n",
              "    .colab-df-container {\n",
              "      display:flex;\n",
              "      flex-wrap:wrap;\n",
              "      gap: 12px;\n",
              "    }\n",
              "\n",
              "    .colab-df-convert {\n",
              "      background-color: #E8F0FE;\n",
              "      border: none;\n",
              "      border-radius: 50%;\n",
              "      cursor: pointer;\n",
              "      display: none;\n",
              "      fill: #1967D2;\n",
              "      height: 32px;\n",
              "      padding: 0 0 0 0;\n",
              "      width: 32px;\n",
              "    }\n",
              "\n",
              "    .colab-df-convert:hover {\n",
              "      background-color: #E2EBFA;\n",
              "      box-shadow: 0px 1px 2px rgba(60, 64, 67, 0.3), 0px 1px 3px 1px rgba(60, 64, 67, 0.15);\n",
              "      fill: #174EA6;\n",
              "    }\n",
              "\n",
              "    [theme=dark] .colab-df-convert {\n",
              "      background-color: #3B4455;\n",
              "      fill: #D2E3FC;\n",
              "    }\n",
              "\n",
              "    [theme=dark] .colab-df-convert:hover {\n",
              "      background-color: #434B5C;\n",
              "      box-shadow: 0px 1px 3px 1px rgba(0, 0, 0, 0.15);\n",
              "      filter: drop-shadow(0px 1px 2px rgba(0, 0, 0, 0.3));\n",
              "      fill: #FFFFFF;\n",
              "    }\n",
              "  </style>\n",
              "\n",
              "      <script>\n",
              "        const buttonEl =\n",
              "          document.querySelector('#df-4e3b5d85-51b8-49e5-acbf-319b1cc5e0db button.colab-df-convert');\n",
              "        buttonEl.style.display =\n",
              "          google.colab.kernel.accessAllowed ? 'block' : 'none';\n",
              "\n",
              "        async function convertToInteractive(key) {\n",
              "          const element = document.querySelector('#df-4e3b5d85-51b8-49e5-acbf-319b1cc5e0db');\n",
              "          const dataTable =\n",
              "            await google.colab.kernel.invokeFunction('convertToInteractive',\n",
              "                                                     [key], {});\n",
              "          if (!dataTable) return;\n",
              "\n",
              "          const docLinkHtml = 'Like what you see? Visit the ' +\n",
              "            '<a target=\"_blank\" href=https://colab.research.google.com/notebooks/data_table.ipynb>data table notebook</a>'\n",
              "            + ' to learn more about interactive tables.';\n",
              "          element.innerHTML = '';\n",
              "          dataTable['output_type'] = 'display_data';\n",
              "          await google.colab.output.renderOutput(dataTable, element);\n",
              "          const docLink = document.createElement('div');\n",
              "          docLink.innerHTML = docLinkHtml;\n",
              "          element.appendChild(docLink);\n",
              "        }\n",
              "      </script>\n",
              "    </div>\n",
              "  </div>\n"
            ]
          },
          "metadata": {},
          "execution_count": 103
        }
      ]
    },
    {
      "cell_type": "code",
      "source": [
        "#handle outlier: jika outlier diatas upper diganti nilainya dengan nilai upper dan outlier dibawah lower diganti nilainya dengan lower\n",
        "for c_kol in feature_numeric:\n",
        "    q1 = np.percentile(liver_df[c_kol], 25)\n",
        "    q3 = np.percentile(liver_df[c_kol], 75)\n",
        "    iqr = q3 - q1\n",
        "    lower = q1 - (iqr*1.5)\n",
        "    upper = q3 + (iqr*1.5)\n",
        "    liver_df[c_kol]= liver_df[c_kol].apply(lambda x: lower if x<lower else x)\n",
        "    liver_df[c_kol] = liver_df[c_kol].apply(lambda x: upper if x>upper else x)\n",
        "\n",
        "#tampilkan kembali jumlah outlier\n",
        "count_Outliers(liver_df[feature_numeric])"
      ],
      "metadata": {
        "colab": {
          "base_uri": "https://localhost:8080/",
          "height": 366
        },
        "id": "eShdmDCmXNHz",
        "outputId": "21896c6e-1f09-432d-8e5c-3aa1e126aea2"
      },
      "execution_count": 104,
      "outputs": [
        {
          "output_type": "stream",
          "name": "stdout",
          "text": [
            "\n",
            "Total outliers:  0\n"
          ]
        },
        {
          "output_type": "execute_result",
          "data": {
            "text/plain": [
              "     Fitur  Jml Outlier\n",
              "0      Age            0\n",
              "1       TB            0\n",
              "2       DB            0\n",
              "3  Alkphos            0\n",
              "4     Sgpt            0\n",
              "5     Sgot            0\n",
              "6       TP            0\n",
              "7      ALB            0\n",
              "8      A/G            0"
            ],
            "text/html": [
              "\n",
              "\n",
              "  <div id=\"df-69f8c079-6550-487c-8592-e987ac3a7544\">\n",
              "    <div class=\"colab-df-container\">\n",
              "      <div>\n",
              "<style scoped>\n",
              "    .dataframe tbody tr th:only-of-type {\n",
              "        vertical-align: middle;\n",
              "    }\n",
              "\n",
              "    .dataframe tbody tr th {\n",
              "        vertical-align: top;\n",
              "    }\n",
              "\n",
              "    .dataframe thead th {\n",
              "        text-align: right;\n",
              "    }\n",
              "</style>\n",
              "<table border=\"1\" class=\"dataframe\">\n",
              "  <thead>\n",
              "    <tr style=\"text-align: right;\">\n",
              "      <th></th>\n",
              "      <th>Fitur</th>\n",
              "      <th>Jml Outlier</th>\n",
              "    </tr>\n",
              "  </thead>\n",
              "  <tbody>\n",
              "    <tr>\n",
              "      <th>0</th>\n",
              "      <td>Age</td>\n",
              "      <td>0</td>\n",
              "    </tr>\n",
              "    <tr>\n",
              "      <th>1</th>\n",
              "      <td>TB</td>\n",
              "      <td>0</td>\n",
              "    </tr>\n",
              "    <tr>\n",
              "      <th>2</th>\n",
              "      <td>DB</td>\n",
              "      <td>0</td>\n",
              "    </tr>\n",
              "    <tr>\n",
              "      <th>3</th>\n",
              "      <td>Alkphos</td>\n",
              "      <td>0</td>\n",
              "    </tr>\n",
              "    <tr>\n",
              "      <th>4</th>\n",
              "      <td>Sgpt</td>\n",
              "      <td>0</td>\n",
              "    </tr>\n",
              "    <tr>\n",
              "      <th>5</th>\n",
              "      <td>Sgot</td>\n",
              "      <td>0</td>\n",
              "    </tr>\n",
              "    <tr>\n",
              "      <th>6</th>\n",
              "      <td>TP</td>\n",
              "      <td>0</td>\n",
              "    </tr>\n",
              "    <tr>\n",
              "      <th>7</th>\n",
              "      <td>ALB</td>\n",
              "      <td>0</td>\n",
              "    </tr>\n",
              "    <tr>\n",
              "      <th>8</th>\n",
              "      <td>A/G</td>\n",
              "      <td>0</td>\n",
              "    </tr>\n",
              "  </tbody>\n",
              "</table>\n",
              "</div>\n",
              "      <button class=\"colab-df-convert\" onclick=\"convertToInteractive('df-69f8c079-6550-487c-8592-e987ac3a7544')\"\n",
              "              title=\"Convert this dataframe to an interactive table.\"\n",
              "              style=\"display:none;\">\n",
              "\n",
              "  <svg xmlns=\"http://www.w3.org/2000/svg\" height=\"24px\"viewBox=\"0 0 24 24\"\n",
              "       width=\"24px\">\n",
              "    <path d=\"M0 0h24v24H0V0z\" fill=\"none\"/>\n",
              "    <path d=\"M18.56 5.44l.94 2.06.94-2.06 2.06-.94-2.06-.94-.94-2.06-.94 2.06-2.06.94zm-11 1L8.5 8.5l.94-2.06 2.06-.94-2.06-.94L8.5 2.5l-.94 2.06-2.06.94zm10 10l.94 2.06.94-2.06 2.06-.94-2.06-.94-.94-2.06-.94 2.06-2.06.94z\"/><path d=\"M17.41 7.96l-1.37-1.37c-.4-.4-.92-.59-1.43-.59-.52 0-1.04.2-1.43.59L10.3 9.45l-7.72 7.72c-.78.78-.78 2.05 0 2.83L4 21.41c.39.39.9.59 1.41.59.51 0 1.02-.2 1.41-.59l7.78-7.78 2.81-2.81c.8-.78.8-2.07 0-2.86zM5.41 20L4 18.59l7.72-7.72 1.47 1.35L5.41 20z\"/>\n",
              "  </svg>\n",
              "      </button>\n",
              "\n",
              "\n",
              "\n",
              "    <div id=\"df-de385e65-cf78-460e-9720-63ebd5d29d56\">\n",
              "      <button class=\"colab-df-quickchart\" onclick=\"quickchart('df-de385e65-cf78-460e-9720-63ebd5d29d56')\"\n",
              "              title=\"Suggest charts.\"\n",
              "              style=\"display:none;\">\n",
              "\n",
              "<svg xmlns=\"http://www.w3.org/2000/svg\" height=\"24px\"viewBox=\"0 0 24 24\"\n",
              "     width=\"24px\">\n",
              "    <g>\n",
              "        <path d=\"M19 3H5c-1.1 0-2 .9-2 2v14c0 1.1.9 2 2 2h14c1.1 0 2-.9 2-2V5c0-1.1-.9-2-2-2zM9 17H7v-7h2v7zm4 0h-2V7h2v10zm4 0h-2v-4h2v4z\"/>\n",
              "    </g>\n",
              "</svg>\n",
              "      </button>\n",
              "    </div>\n",
              "\n",
              "<style>\n",
              "  .colab-df-quickchart {\n",
              "    background-color: #E8F0FE;\n",
              "    border: none;\n",
              "    border-radius: 50%;\n",
              "    cursor: pointer;\n",
              "    display: none;\n",
              "    fill: #1967D2;\n",
              "    height: 32px;\n",
              "    padding: 0 0 0 0;\n",
              "    width: 32px;\n",
              "  }\n",
              "\n",
              "  .colab-df-quickchart:hover {\n",
              "    background-color: #E2EBFA;\n",
              "    box-shadow: 0px 1px 2px rgba(60, 64, 67, 0.3), 0px 1px 3px 1px rgba(60, 64, 67, 0.15);\n",
              "    fill: #174EA6;\n",
              "  }\n",
              "\n",
              "  [theme=dark] .colab-df-quickchart {\n",
              "    background-color: #3B4455;\n",
              "    fill: #D2E3FC;\n",
              "  }\n",
              "\n",
              "  [theme=dark] .colab-df-quickchart:hover {\n",
              "    background-color: #434B5C;\n",
              "    box-shadow: 0px 1px 3px 1px rgba(0, 0, 0, 0.15);\n",
              "    filter: drop-shadow(0px 1px 2px rgba(0, 0, 0, 0.3));\n",
              "    fill: #FFFFFF;\n",
              "  }\n",
              "</style>\n",
              "\n",
              "    <script>\n",
              "      async function quickchart(key) {\n",
              "        const containerElement = document.querySelector('#' + key);\n",
              "        const charts = await google.colab.kernel.invokeFunction(\n",
              "            'suggestCharts', [key], {});\n",
              "      }\n",
              "    </script>\n",
              "\n",
              "      <script>\n",
              "\n",
              "function displayQuickchartButton(domScope) {\n",
              "  let quickchartButtonEl =\n",
              "    domScope.querySelector('#df-de385e65-cf78-460e-9720-63ebd5d29d56 button.colab-df-quickchart');\n",
              "  quickchartButtonEl.style.display =\n",
              "    google.colab.kernel.accessAllowed ? 'block' : 'none';\n",
              "}\n",
              "\n",
              "        displayQuickchartButton(document);\n",
              "      </script>\n",
              "      <style>\n",
              "    .colab-df-container {\n",
              "      display:flex;\n",
              "      flex-wrap:wrap;\n",
              "      gap: 12px;\n",
              "    }\n",
              "\n",
              "    .colab-df-convert {\n",
              "      background-color: #E8F0FE;\n",
              "      border: none;\n",
              "      border-radius: 50%;\n",
              "      cursor: pointer;\n",
              "      display: none;\n",
              "      fill: #1967D2;\n",
              "      height: 32px;\n",
              "      padding: 0 0 0 0;\n",
              "      width: 32px;\n",
              "    }\n",
              "\n",
              "    .colab-df-convert:hover {\n",
              "      background-color: #E2EBFA;\n",
              "      box-shadow: 0px 1px 2px rgba(60, 64, 67, 0.3), 0px 1px 3px 1px rgba(60, 64, 67, 0.15);\n",
              "      fill: #174EA6;\n",
              "    }\n",
              "\n",
              "    [theme=dark] .colab-df-convert {\n",
              "      background-color: #3B4455;\n",
              "      fill: #D2E3FC;\n",
              "    }\n",
              "\n",
              "    [theme=dark] .colab-df-convert:hover {\n",
              "      background-color: #434B5C;\n",
              "      box-shadow: 0px 1px 3px 1px rgba(0, 0, 0, 0.15);\n",
              "      filter: drop-shadow(0px 1px 2px rgba(0, 0, 0, 0.3));\n",
              "      fill: #FFFFFF;\n",
              "    }\n",
              "  </style>\n",
              "\n",
              "      <script>\n",
              "        const buttonEl =\n",
              "          document.querySelector('#df-69f8c079-6550-487c-8592-e987ac3a7544 button.colab-df-convert');\n",
              "        buttonEl.style.display =\n",
              "          google.colab.kernel.accessAllowed ? 'block' : 'none';\n",
              "\n",
              "        async function convertToInteractive(key) {\n",
              "          const element = document.querySelector('#df-69f8c079-6550-487c-8592-e987ac3a7544');\n",
              "          const dataTable =\n",
              "            await google.colab.kernel.invokeFunction('convertToInteractive',\n",
              "                                                     [key], {});\n",
              "          if (!dataTable) return;\n",
              "\n",
              "          const docLinkHtml = 'Like what you see? Visit the ' +\n",
              "            '<a target=\"_blank\" href=https://colab.research.google.com/notebooks/data_table.ipynb>data table notebook</a>'\n",
              "            + ' to learn more about interactive tables.';\n",
              "          element.innerHTML = '';\n",
              "          dataTable['output_type'] = 'display_data';\n",
              "          await google.colab.output.renderOutput(dataTable, element);\n",
              "          const docLink = document.createElement('div');\n",
              "          docLink.innerHTML = docLinkHtml;\n",
              "          element.appendChild(docLink);\n",
              "        }\n",
              "      </script>\n",
              "    </div>\n",
              "  </div>\n"
            ]
          },
          "metadata": {},
          "execution_count": 104
        }
      ]
    },
    {
      "cell_type": "code",
      "source": [
        "plot_boxplot(liver_df[feature_numeric])"
      ],
      "metadata": {
        "colab": {
          "base_uri": "https://localhost:8080/",
          "height": 691
        },
        "id": "8EFDDriBXQG5",
        "outputId": "e12150d6-3650-4d11-83f8-df3143f3c5c3"
      },
      "execution_count": 105,
      "outputs": [
        {
          "output_type": "display_data",
          "data": {
            "text/plain": [
              "<Figure size 1200x800 with 9 Axes>"
            ],
            "image/png": "[encoded data removed]"
          },
          "metadata": {}
        }
      ]
    },
    {
      "cell_type": "markdown",
      "source": [
        "### Label Encoding"
      ],
      "metadata": {
        "id": "c2HCW9VAm1ro"
      }
    },
    {
      "cell_type": "code",
      "source": [
        "#Label Encoding\n",
        "\n",
        "# Create an instance of LabelEncoder\n",
        "label_encoder = LabelEncoder()\n",
        "# Fit and transform the categorical labels to numerical values\n",
        "liver_df['Gender'] = label_encoder.fit_transform(liver_df['Gender'])\n",
        "print('Class->Liver:1 dan Non-Liver:2')\n",
        "liver_df['Class'].replace({\"Liver\":1 , \"Non-Liver\":2},inplace = True)\n",
        "liver_df"
      ],
      "metadata": {
        "colab": {
          "base_uri": "https://localhost:8080/",
          "height": 441
        },
        "id": "gy93IV6LXXun",
        "outputId": "354d34e5-f4a6-4927-ef1c-f8a93ddf1296"
      },
      "execution_count": 106,
      "outputs": [
        {
          "output_type": "stream",
          "name": "stdout",
          "text": [
            "Class->Liver:1 dan Non-Liver:2\n"
          ]
        },
        {
          "output_type": "execute_result",
          "data": {
            "text/plain": [
              "     Age  Gender   TB    DB  Alkphos  Sgpt   Sgot   TP  ALB   A/G  Class\n",
              "0     65       0  0.7  0.10   187.00  16.0   18.0  6.8  3.3  0.90      1\n",
              "1     62       1  5.3  2.95   481.75  64.0  100.0  7.5  3.2  0.74      1\n",
              "2     62       1  5.3  2.95   481.75  60.0   68.0  7.0  3.3  0.89      1\n",
              "3     58       1  1.0  0.40   182.00  14.0   20.0  6.8  3.4  1.00      1\n",
              "4     72       1  3.9  2.00   195.00  27.0   59.0  7.3  2.4  0.40      1\n",
              "..   ...     ...  ...   ...      ...   ...    ...  ...  ...   ...    ...\n",
              "578   60       1  0.5  0.10   481.75  20.0   34.0  5.9  1.6  0.37      2\n",
              "579   40       1  0.6  0.10    98.00  35.0   31.0  6.0  3.2  1.10      1\n",
              "580   52       1  0.8  0.20   245.00  48.0   49.0  6.4  3.2  1.00      1\n",
              "581   31       1  1.3  0.50   184.00  29.0   32.0  6.8  3.4  1.00      1\n",
              "582   38       1  1.0  0.30   216.00  21.0   24.0  7.3  4.4  1.50      2\n",
              "\n",
              "[583 rows x 11 columns]"
            ],
            "text/html": [
              "\n",
              "\n",
              "  <div id=\"df-1a5cae2b-375c-4641-8c2d-905c99e16b6a\">\n",
              "    <div class=\"colab-df-container\">\n",
              "      <div>\n",
              "<style scoped>\n",
              "    .dataframe tbody tr th:only-of-type {\n",
              "        vertical-align: middle;\n",
              "    }\n",
              "\n",
              "    .dataframe tbody tr th {\n",
              "        vertical-align: top;\n",
              "    }\n",
              "\n",
              "    .dataframe thead th {\n",
              "        text-align: right;\n",
              "    }\n",
              "</style>\n",
              "<table border=\"1\" class=\"dataframe\">\n",
              "  <thead>\n",
              "    <tr style=\"text-align: right;\">\n",
              "      <th></th>\n",
              "      <th>Age</th>\n",
              "      <th>Gender</th>\n",
              "      <th>TB</th>\n",
              "      <th>DB</th>\n",
              "      <th>Alkphos</th>\n",
              "      <th>Sgpt</th>\n",
              "      <th>Sgot</th>\n",
              "      <th>TP</th>\n",
              "      <th>ALB</th>\n",
              "      <th>A/G</th>\n",
              "      <th>Class</th>\n",
              "    </tr>\n",
              "  </thead>\n",
              "  <tbody>\n",
              "    <tr>\n",
              "      <th>0</th>\n",
              "      <td>65</td>\n",
              "      <td>0</td>\n",
              "      <td>0.7</td>\n",
              "      <td>0.10</td>\n",
              "      <td>187.00</td>\n",
              "      <td>16.0</td>\n",
              "      <td>18.0</td>\n",
              "      <td>6.8</td>\n",
              "      <td>3.3</td>\n",
              "      <td>0.90</td>\n",
              "      <td>1</td>\n",
              "    </tr>\n",
              "    <tr>\n",
              "      <th>1</th>\n",
              "      <td>62</td>\n",
              "      <td>1</td>\n",
              "      <td>5.3</td>\n",
              "      <td>2.95</td>\n",
              "      <td>481.75</td>\n",
              "      <td>64.0</td>\n",
              "      <td>100.0</td>\n",
              "      <td>7.5</td>\n",
              "      <td>3.2</td>\n",
              "      <td>0.74</td>\n",
              "      <td>1</td>\n",
              "    </tr>\n",
              "    <tr>\n",
              "      <th>2</th>\n",
              "      <td>62</td>\n",
              "      <td>1</td>\n",
              "      <td>5.3</td>\n",
              "      <td>2.95</td>\n",
              "      <td>481.75</td>\n",
              "      <td>60.0</td>\n",
              "      <td>68.0</td>\n",
              "      <td>7.0</td>\n",
              "      <td>3.3</td>\n",
              "      <td>0.89</td>\n",
              "      <td>1</td>\n",
              "    </tr>\n",
              "    <tr>\n",
              "      <th>3</th>\n",
              "      <td>58</td>\n",
              "      <td>1</td>\n",
              "      <td>1.0</td>\n",
              "      <td>0.40</td>\n",
              "      <td>182.00</td>\n",
              "      <td>14.0</td>\n",
              "      <td>20.0</td>\n",
              "      <td>6.8</td>\n",
              "      <td>3.4</td>\n",
              "      <td>1.00</td>\n",
              "      <td>1</td>\n",
              "    </tr>\n",
              "    <tr>\n",
              "      <th>4</th>\n",
              "      <td>72</td>\n",
              "      <td>1</td>\n",
              "      <td>3.9</td>\n",
              "      <td>2.00</td>\n",
              "      <td>195.00</td>\n",
              "      <td>27.0</td>\n",
              "      <td>59.0</td>\n",
              "      <td>7.3</td>\n",
              "      <td>2.4</td>\n",
              "      <td>0.40</td>\n",
              "      <td>1</td>\n",
              "    </tr>\n",
              "    <tr>\n",
              "      <th>...</th>\n",
              "      <td>...</td>\n",
              "      <td>...</td>\n",
              "      <td>...</td>\n",
              "      <td>...</td>\n",
              "      <td>...</td>\n",
              "      <td>...</td>\n",
              "      <td>...</td>\n",
              "      <td>...</td>\n",
              "      <td>...</td>\n",
              "      <td>...</td>\n",
              "      <td>...</td>\n",
              "    </tr>\n",
              "    <tr>\n",
              "      <th>578</th>\n",
              "      <td>60</td>\n",
              "      <td>1</td>\n",
              "      <td>0.5</td>\n",
              "      <td>0.10</td>\n",
              "      <td>481.75</td>\n",
              "      <td>20.0</td>\n",
              "      <td>34.0</td>\n",
              "      <td>5.9</td>\n",
              "      <td>1.6</td>\n",
              "      <td>0.37</td>\n",
              "      <td>2</td>\n",
              "    </tr>\n",
              "    <tr>\n",
              "      <th>579</th>\n",
              "      <td>40</td>\n",
              "      <td>1</td>\n",
              "      <td>0.6</td>\n",
              "      <td>0.10</td>\n",
              "      <td>98.00</td>\n",
              "      <td>35.0</td>\n",
              "      <td>31.0</td>\n",
              "      <td>6.0</td>\n",
              "      <td>3.2</td>\n",
              "      <td>1.10</td>\n",
              "      <td>1</td>\n",
              "    </tr>\n",
              "    <tr>\n",
              "      <th>580</th>\n",
              "      <td>52</td>\n",
              "      <td>1</td>\n",
              "      <td>0.8</td>\n",
              "      <td>0.20</td>\n",
              "      <td>245.00</td>\n",
              "      <td>48.0</td>\n",
              "      <td>49.0</td>\n",
              "      <td>6.4</td>\n",
              "      <td>3.2</td>\n",
              "      <td>1.00</td>\n",
              "      <td>1</td>\n",
              "    </tr>\n",
              "    <tr>\n",
              "      <th>581</th>\n",
              "      <td>31</td>\n",
              "      <td>1</td>\n",
              "      <td>1.3</td>\n",
              "      <td>0.50</td>\n",
              "      <td>184.00</td>\n",
              "      <td>29.0</td>\n",
              "      <td>32.0</td>\n",
              "      <td>6.8</td>\n",
              "      <td>3.4</td>\n",
              "      <td>1.00</td>\n",
              "      <td>1</td>\n",
              "    </tr>\n",
              "    <tr>\n",
              "      <th>582</th>\n",
              "      <td>38</td>\n",
              "      <td>1</td>\n",
              "      <td>1.0</td>\n",
              "      <td>0.30</td>\n",
              "      <td>216.00</td>\n",
              "      <td>21.0</td>\n",
              "      <td>24.0</td>\n",
              "      <td>7.3</td>\n",
              "      <td>4.4</td>\n",
              "      <td>1.50</td>\n",
              "      <td>2</td>\n",
              "    </tr>\n",
              "  </tbody>\n",
              "</table>\n",
              "<p>583 rows × 11 columns</p>\n",
              "</div>\n",
              "      <button class=\"colab-df-convert\" onclick=\"convertToInteractive('df-1a5cae2b-375c-4641-8c2d-905c99e16b6a')\"\n",
              "              title=\"Convert this dataframe to an interactive table.\"\n",
              "              style=\"display:none;\">\n",
              "\n",
              "  <svg xmlns=\"http://www.w3.org/2000/svg\" height=\"24px\"viewBox=\"0 0 24 24\"\n",
              "       width=\"24px\">\n",
              "    <path d=\"M0 0h24v24H0V0z\" fill=\"none\"/>\n",
              "    <path d=\"M18.56 5.44l.94 2.06.94-2.06 2.06-.94-2.06-.94-.94-2.06-.94 2.06-2.06.94zm-11 1L8.5 8.5l.94-2.06 2.06-.94-2.06-.94L8.5 2.5l-.94 2.06-2.06.94zm10 10l.94 2.06.94-2.06 2.06-.94-2.06-.94-.94-2.06-.94 2.06-2.06.94z\"/><path d=\"M17.41 7.96l-1.37-1.37c-.4-.4-.92-.59-1.43-.59-.52 0-1.04.2-1.43.59L10.3 9.45l-7.72 7.72c-.78.78-.78 2.05 0 2.83L4 21.41c.39.39.9.59 1.41.59.51 0 1.02-.2 1.41-.59l7.78-7.78 2.81-2.81c.8-.78.8-2.07 0-2.86zM5.41 20L4 18.59l7.72-7.72 1.47 1.35L5.41 20z\"/>\n",
              "  </svg>\n",
              "      </button>\n",
              "\n",
              "\n",
              "\n",
              "    <div id=\"df-65a889bc-425d-4f41-9302-48490c5c67ac\">\n",
              "      <button class=\"colab-df-quickchart\" onclick=\"quickchart('df-65a889bc-425d-4f41-9302-48490c5c67ac')\"\n",
              "              title=\"Suggest charts.\"\n",
              "              style=\"display:none;\">\n",
              "\n",
              "<svg xmlns=\"http://www.w3.org/2000/svg\" height=\"24px\"viewBox=\"0 0 24 24\"\n",
              "     width=\"24px\">\n",
              "    <g>\n",
              "        <path d=\"M19 3H5c-1.1 0-2 .9-2 2v14c0 1.1.9 2 2 2h14c1.1 0 2-.9 2-2V5c0-1.1-.9-2-2-2zM9 17H7v-7h2v7zm4 0h-2V7h2v10zm4 0h-2v-4h2v4z\"/>\n",
              "    </g>\n",
              "</svg>\n",
              "      </button>\n",
              "    </div>\n",
              "\n",
              "<style>\n",
              "  .colab-df-quickchart {\n",
              "    background-color: #E8F0FE;\n",
              "    border: none;\n",
              "    border-radius: 50%;\n",
              "    cursor: pointer;\n",
              "    display: none;\n",
              "    fill: #1967D2;\n",
              "    height: 32px;\n",
              "    padding: 0 0 0 0;\n",
              "    width: 32px;\n",
              "  }\n",
              "\n",
              "  .colab-df-quickchart:hover {\n",
              "    background-color: #E2EBFA;\n",
              "    box-shadow: 0px 1px 2px rgba(60, 64, 67, 0.3), 0px 1px 3px 1px rgba(60, 64, 67, 0.15);\n",
              "    fill: #174EA6;\n",
              "  }\n",
              "\n",
              "  [theme=dark] .colab-df-quickchart {\n",
              "    background-color: #3B4455;\n",
              "    fill: #D2E3FC;\n",
              "  }\n",
              "\n",
              "  [theme=dark] .colab-df-quickchart:hover {\n",
              "    background-color: #434B5C;\n",
              "    box-shadow: 0px 1px 3px 1px rgba(0, 0, 0, 0.15);\n",
              "    filter: drop-shadow(0px 1px 2px rgba(0, 0, 0, 0.3));\n",
              "    fill: #FFFFFF;\n",
              "  }\n",
              "</style>\n",
              "\n",
              "    <script>\n",
              "      async function quickchart(key) {\n",
              "        const containerElement = document.querySelector('#' + key);\n",
              "        const charts = await google.colab.kernel.invokeFunction(\n",
              "            'suggestCharts', [key], {});\n",
              "      }\n",
              "    </script>\n",
              "\n",
              "      <script>\n",
              "\n",
              "function displayQuickchartButton(domScope) {\n",
              "  let quickchartButtonEl =\n",
              "    domScope.querySelector('#df-65a889bc-425d-4f41-9302-48490c5c67ac button.colab-df-quickchart');\n",
              "  quickchartButtonEl.style.display =\n",
              "    google.colab.kernel.accessAllowed ? 'block' : 'none';\n",
              "}\n",
              "\n",
              "        displayQuickchartButton(document);\n",
              "      </script>\n",
              "      <style>\n",
              "    .colab-df-container {\n",
              "      display:flex;\n",
              "      flex-wrap:wrap;\n",
              "      gap: 12px;\n",
              "    }\n",
              "\n",
              "    .colab-df-convert {\n",
              "      background-color: #E8F0FE;\n",
              "      border: none;\n",
              "      border-radius: 50%;\n",
              "      cursor: pointer;\n",
              "      display: none;\n",
              "      fill: #1967D2;\n",
              "      height: 32px;\n",
              "      padding: 0 0 0 0;\n",
              "      width: 32px;\n",
              "    }\n",
              "\n",
              "    .colab-df-convert:hover {\n",
              "      background-color: #E2EBFA;\n",
              "      box-shadow: 0px 1px 2px rgba(60, 64, 67, 0.3), 0px 1px 3px 1px rgba(60, 64, 67, 0.15);\n",
              "      fill: #174EA6;\n",
              "    }\n",
              "\n",
              "    [theme=dark] .colab-df-convert {\n",
              "      background-color: #3B4455;\n",
              "      fill: #D2E3FC;\n",
              "    }\n",
              "\n",
              "    [theme=dark] .colab-df-convert:hover {\n",
              "      background-color: #434B5C;\n",
              "      box-shadow: 0px 1px 3px 1px rgba(0, 0, 0, 0.15);\n",
              "      filter: drop-shadow(0px 1px 2px rgba(0, 0, 0, 0.3));\n",
              "      fill: #FFFFFF;\n",
              "    }\n",
              "  </style>\n",
              "\n",
              "      <script>\n",
              "        const buttonEl =\n",
              "          document.querySelector('#df-1a5cae2b-375c-4641-8c2d-905c99e16b6a button.colab-df-convert');\n",
              "        buttonEl.style.display =\n",
              "          google.colab.kernel.accessAllowed ? 'block' : 'none';\n",
              "\n",
              "        async function convertToInteractive(key) {\n",
              "          const element = document.querySelector('#df-1a5cae2b-375c-4641-8c2d-905c99e16b6a');\n",
              "          const dataTable =\n",
              "            await google.colab.kernel.invokeFunction('convertToInteractive',\n",
              "                                                     [key], {});\n",
              "          if (!dataTable) return;\n",
              "\n",
              "          const docLinkHtml = 'Like what you see? Visit the ' +\n",
              "            '<a target=\"_blank\" href=https://colab.research.google.com/notebooks/data_table.ipynb>data table notebook</a>'\n",
              "            + ' to learn more about interactive tables.';\n",
              "          element.innerHTML = '';\n",
              "          dataTable['output_type'] = 'display_data';\n",
              "          await google.colab.output.renderOutput(dataTable, element);\n",
              "          const docLink = document.createElement('div');\n",
              "          docLink.innerHTML = docLinkHtml;\n",
              "          element.appendChild(docLink);\n",
              "        }\n",
              "      </script>\n",
              "    </div>\n",
              "  </div>\n"
            ]
          },
          "metadata": {},
          "execution_count": 106
        }
      ]
    },
    {
      "cell_type": "markdown",
      "source": [
        "### Split data training dan testing"
      ],
      "metadata": {
        "id": "dVoLtycTnECE"
      }
    },
    {
      "cell_type": "code",
      "source": [
        "#split data ke dalam data latih (80%) dan data Uji (20%)\n",
        "X=liver_df.drop(['Class'],axis = 1)\n",
        "y=liver_df['Class']\n",
        "x_train,x_test,y_train,y_test=train_test_split(X,y,test_size=0.20,random_state=123,stratify= y)\n",
        "print(f'x_train: {x_train.shape}')\n",
        "print(f'x_test: {x_test.shape}')"
      ],
      "metadata": {
        "colab": {
          "base_uri": "https://localhost:8080/"
        },
        "id": "T9s3SSgIYlCH",
        "outputId": "03839bc5-6d65-488d-d40b-eae6dd95f5bb"
      },
      "execution_count": 107,
      "outputs": [
        {
          "output_type": "stream",
          "name": "stdout",
          "text": [
            "x_train: (466, 10)\n",
            "x_test: (117, 10)\n"
          ]
        }
      ]
    },
    {
      "cell_type": "code",
      "source": [
        "y_train.value_counts()"
      ],
      "metadata": {
        "colab": {
          "base_uri": "https://localhost:8080/"
        },
        "id": "tAc0tgaqiolZ",
        "outputId": "a7e273c3-ecf2-4084-c0b4-c1d4c7a91327"
      },
      "execution_count": 108,
      "outputs": [
        {
          "output_type": "execute_result",
          "data": {
            "text/plain": [
              "1    333\n",
              "2    133\n",
              "Name: Class, dtype: int64"
            ]
          },
          "metadata": {},
          "execution_count": 108
        }
      ]
    },
    {
      "cell_type": "code",
      "source": [
        "y_test.value_counts()"
      ],
      "metadata": {
        "colab": {
          "base_uri": "https://localhost:8080/"
        },
        "id": "Rbe-4QJpirH1",
        "outputId": "7cd88dd2-c3d6-49c2-b8fc-3126e9e1bbd4"
      },
      "execution_count": 110,
      "outputs": [
        {
          "output_type": "execute_result",
          "data": {
            "text/plain": [
              "1    83\n",
              "2    34\n",
              "Name: Class, dtype: int64"
            ]
          },
          "metadata": {},
          "execution_count": 110
        }
      ]
    },
    {
      "cell_type": "markdown",
      "source": [
        "### Normalisasi Data"
      ],
      "metadata": {
        "id": "JG6lZ3JonTQB"
      }
    },
    {
      "cell_type": "code",
      "source": [
        "#StandardScaler\n",
        "x_train_scaler = StandardScaler().fit_transform(x_train)\n",
        "x_test_scaler = StandardScaler().fit_transform(x_test)\n",
        "print(f'x_train_scaler: {x_train_scaler.shape}')\n",
        "print(f'x_test_scaler: {x_test_scaler.shape}')"
      ],
      "metadata": {
        "colab": {
          "base_uri": "https://localhost:8080/"
        },
        "id": "8FBKNN19Ypfw",
        "outputId": "cba8e0ea-4048-4567-f410-d978b8ff39ef"
      },
      "execution_count": 111,
      "outputs": [
        {
          "output_type": "stream",
          "name": "stdout",
          "text": [
            "x_train_scaler: (466, 10)\n",
            "x_test_scaler: (117, 10)\n"
          ]
        }
      ]
    },
    {
      "cell_type": "markdown",
      "source": [
        "### Resample Data"
      ],
      "metadata": {
        "id": "F8Z6kCT_naJN"
      }
    },
    {
      "cell_type": "code",
      "source": [
        "#SMOTE\n",
        "smote_resample = SMOTE(sampling_strategy='auto')\n",
        "x_train_resampled, y_train_resampled = smote_resample.fit_resample(x_train_scaler, y_train)\n",
        "print(f'x_train_resampled: {x_train_resampled.shape}')"
      ],
      "metadata": {
        "colab": {
          "base_uri": "https://localhost:8080/"
        },
        "id": "z6FSfbIOYuNq",
        "outputId": "ecc37966-c53b-4836-b73d-9ec4026ca854"
      },
      "execution_count": 112,
      "outputs": [
        {
          "output_type": "stream",
          "name": "stdout",
          "text": [
            "x_train_resampled: (666, 10)\n"
          ]
        }
      ]
    },
    {
      "cell_type": "code",
      "source": [
        "y_train_resampled.value_counts()"
      ],
      "metadata": {
        "colab": {
          "base_uri": "https://localhost:8080/"
        },
        "id": "pZaf97Tci_YV",
        "outputId": "409a6bf6-8f2d-45c7-d6b5-b52e038a41c5"
      },
      "execution_count": 113,
      "outputs": [
        {
          "output_type": "execute_result",
          "data": {
            "text/plain": [
              "2    333\n",
              "1    333\n",
              "Name: Class, dtype: int64"
            ]
          },
          "metadata": {},
          "execution_count": 113
        }
      ]
    },
    {
      "cell_type": "markdown",
      "source": [
        "### Modeling"
      ],
      "metadata": {
        "id": "SkoaK-kwnkVe"
      }
    },
    {
      "cell_type": "code",
      "source": [
        "# model 1\n",
        "knn_model_scaler = KNeighborsClassifier(n_neighbors=5, weights='uniform', metric='minkowski')\n",
        "knn_model_scaler.fit(x_train_scaler, y_train)"
      ],
      "metadata": {
        "colab": {
          "base_uri": "https://localhost:8080/",
          "height": 75
        },
        "id": "WtPxyGiRY23S",
        "outputId": "5c145c62-2d76-4320-f5fd-3f4d3cdf54cb"
      },
      "execution_count": 114,
      "outputs": [
        {
          "output_type": "execute_result",
          "data": {
            "text/plain": [
              "KNeighborsClassifier()"
            ],
            "text/html": [
              "<style>#sk-container-id-5 {color: black;background-color: white;}#sk-container-id-5 pre{padding: 0;}#sk-container-id-5 div.sk-toggleable {background-color: white;}#sk-container-id-5 label.sk-toggleable__label {cursor: pointer;display: block;width: 100%;margin-bottom: 0;padding: 0.3em;box-sizing: border-box;text-align: center;}#sk-container-id-5 label.sk-toggleable__label-arrow:before {content: \"▸\";float: left;margin-right: 0.25em;color: #696969;}#sk-container-id-5 label.sk-toggleable__label-arrow:hover:before {color: black;}#sk-container-id-5 div.sk-estimator:hover label.sk-toggleable__label-arrow:before {color: black;}#sk-container-id-5 div.sk-toggleable__content {max-height: 0;max-width: 0;overflow: hidden;text-align: left;background-color: #f0f8ff;}#sk-container-id-5 div.sk-toggleable__content pre {margin: 0.2em;color: black;border-radius: 0.25em;background-color: #f0f8ff;}#sk-container-id-5 input.sk-toggleable__control:checked~div.sk-toggleable__content {max-height: 200px;max-width: 100%;overflow: auto;}#sk-container-id-5 input.sk-toggleable__control:checked~label.sk-toggleable__label-arrow:before {content: \"▾\";}#sk-container-id-5 div.sk-estimator input.sk-toggleable__control:checked~label.sk-toggleable__label {background-color: #d4ebff;}#sk-container-id-5 div.sk-label input.sk-toggleable__control:checked~label.sk-toggleable__label {background-color: #d4ebff;}#sk-container-id-5 input.sk-hidden--visually {border: 0;clip: rect(1px 1px 1px 1px);clip: rect(1px, 1px, 1px, 1px);height: 1px;margin: -1px;overflow: hidden;padding: 0;position: absolute;width: 1px;}#sk-container-id-5 div.sk-estimator {font-family: monospace;background-color: #f0f8ff;border: 1px dotted black;border-radius: 0.25em;box-sizing: border-box;margin-bottom: 0.5em;}#sk-container-id-5 div.sk-estimator:hover {background-color: #d4ebff;}#sk-container-id-5 div.sk-parallel-item::after {content: \"\";width: 100%;border-bottom: 1px solid gray;flex-grow: 1;}#sk-container-id-5 div.sk-label:hover label.sk-toggleable__label {background-color: #d4ebff;}#sk-container-id-5 div.sk-serial::before {content: \"\";position: absolute;border-left: 1px solid gray;box-sizing: border-box;top: 0;bottom: 0;left: 50%;z-index: 0;}#sk-container-id-5 div.sk-serial {display: flex;flex-direction: column;align-items: center;background-color: white;padding-right: 0.2em;padding-left: 0.2em;position: relative;}#sk-container-id-5 div.sk-item {position: relative;z-index: 1;}#sk-container-id-5 div.sk-parallel {display: flex;align-items: stretch;justify-content: center;background-color: white;position: relative;}#sk-container-id-5 div.sk-item::before, #sk-container-id-5 div.sk-parallel-item::before {content: \"\";position: absolute;border-left: 1px solid gray;box-sizing: border-box;top: 0;bottom: 0;left: 50%;z-index: -1;}#sk-container-id-5 div.sk-parallel-item {display: flex;flex-direction: column;z-index: 1;position: relative;background-color: white;}#sk-container-id-5 div.sk-parallel-item:first-child::after {align-self: flex-end;width: 50%;}#sk-container-id-5 div.sk-parallel-item:last-child::after {align-self: flex-start;width: 50%;}#sk-container-id-5 div.sk-parallel-item:only-child::after {width: 0;}#sk-container-id-5 div.sk-dashed-wrapped {border: 1px dashed gray;margin: 0 0.4em 0.5em 0.4em;box-sizing: border-box;padding-bottom: 0.4em;background-color: white;}#sk-container-id-5 div.sk-label label {font-family: monospace;font-weight: bold;display: inline-block;line-height: 1.2em;}#sk-container-id-5 div.sk-label-container {text-align: center;}#sk-container-id-5 div.sk-container {/* jupyter's `normalize.less` sets `[hidden] { display: none; }` but bootstrap.min.css set `[hidden] { display: none !important; }` so we also need the `!important` here to be able to override the default hidden behavior on the sphinx rendered scikit-learn.org. See: https://github.com/scikit-learn/scikit-learn/issues/21755 */display: inline-block !important;position: relative;}#sk-container-id-5 div.sk-text-repr-fallback {display: none;}</style><div id=\"sk-container-id-5\" class=\"sk-top-container\"><div class=\"sk-text-repr-fallback\"><pre>KNeighborsClassifier()</pre><b>In a Jupyter environment, please rerun this cell to show the HTML representation or trust the notebook. <br />On GitHub, the HTML representation is unable to render, please try loading this page with nbviewer.org.</b></div><div class=\"sk-container\" hidden><div class=\"sk-item\"><div class=\"sk-estimator sk-toggleable\"><input class=\"sk-toggleable__control sk-hidden--visually\" id=\"sk-estimator-id-5\" type=\"checkbox\" checked><label for=\"sk-estimator-id-5\" class=\"sk-toggleable__label sk-toggleable__label-arrow\">KNeighborsClassifier</label><div class=\"sk-toggleable__content\"><pre>KNeighborsClassifier()</pre></div></div></div></div></div>"
            ]
          },
          "metadata": {},
          "execution_count": 114
        }
      ]
    },
    {
      "cell_type": "code",
      "source": [
        "#Skor Training Model\n",
        "score_knn_model_scaler=cross_val_score(knn_model_scaler, x_train_scaler, y_train, scoring='accuracy', cv=5)\n",
        "score_knn_model_scaler"
      ],
      "metadata": {
        "colab": {
          "base_uri": "https://localhost:8080/"
        },
        "id": "RQjIJwKPZAhk",
        "outputId": "fe66c3f0-823b-45b5-ba12-bbe80add5f73"
      },
      "execution_count": 115,
      "outputs": [
        {
          "output_type": "execute_result",
          "data": {
            "text/plain": [
              "array([0.59574468, 0.64516129, 0.68817204, 0.66666667, 0.78494624])"
            ]
          },
          "metadata": {},
          "execution_count": 115
        }
      ]
    },
    {
      "cell_type": "code",
      "source": [
        "#counfussion metric\n",
        "def plot_confusion_matrixs(actual,prediction,judul):\n",
        "    cm = confusion_matrix(actual,prediction)\n",
        "    cm_df = pd.DataFrame(cm,index = ['Liver','Non-Liver'],columns = ['Liver','Non-Liver'])\n",
        "    #Plotting the confusion matrix\n",
        "    plt.figure(figsize=(5,4))\n",
        "    sns.heatmap(cm_df, annot=True)\n",
        "    plt.title(judul)\n",
        "    plt.ylabel('Actual')\n",
        "    plt.xlabel('Predicted')\n",
        "    plt.show()"
      ],
      "metadata": {
        "id": "zZvtLi31ZNU9"
      },
      "execution_count": 117,
      "outputs": []
    },
    {
      "cell_type": "code",
      "source": [
        "# CM Model 1\n",
        "y_pred_scaler = knn_model_scaler.predict(x_test_scaler)\n",
        "plot_confusion_matrixs(y_test, y_pred_scaler,'Confusion Matrix Model V1')\n",
        "class_report_scaler = classification_report(y_test, y_pred_scaler)\n",
        "print(\"Classification Report Model V1:\")\n",
        "print(class_report_scaler)"
      ],
      "metadata": {
        "colab": {
          "base_uri": "https://localhost:8080/",
          "height": 584
        },
        "id": "seU6xlHTZRod",
        "outputId": "52b6b3c0-a0a1-4a9e-a0af-cb2864610ce5"
      },
      "execution_count": 118,
      "outputs": [
        {
          "output_type": "display_data",
          "data": {
            "text/plain": [
              "<Figure size 500x400 with 2 Axes>"
            ],
            "image/png": "[encoded data removed]"
          },
          "metadata": {}
        },
        {
          "output_type": "stream",
          "name": "stdout",
          "text": [
            "Classification Report Model V1:\n",
            "              precision    recall  f1-score   support\n",
            "\n",
            "           1       0.75      0.78      0.76        83\n",
            "           2       0.40      0.35      0.38        34\n",
            "\n",
            "    accuracy                           0.66       117\n",
            "   macro avg       0.57      0.57      0.57       117\n",
            "weighted avg       0.65      0.66      0.65       117\n",
            "\n"
          ]
        }
      ]
    },
    {
      "cell_type": "markdown",
      "source": [
        "### Evaluasi Model dengan Data Latih SMOTE"
      ],
      "metadata": {
        "id": "P6SI-BLdnrnu"
      }
    },
    {
      "cell_type": "code",
      "source": [
        "# model 2\n",
        "knn_model_smote = KNeighborsClassifier(n_neighbors=5, weights='uniform', metric='minkowski')\n",
        "knn_model_smote.fit(x_train_resampled, y_train_resampled)"
      ],
      "metadata": {
        "colab": {
          "base_uri": "https://localhost:8080/",
          "height": 75
        },
        "id": "fadp62COZW-V",
        "outputId": "f09fc095-7b22-442e-c6a3-5ab7a22b6ec8"
      },
      "execution_count": 119,
      "outputs": [
        {
          "output_type": "execute_result",
          "data": {
            "text/plain": [
              "KNeighborsClassifier()"
            ],
            "text/html": [
              "<style>#sk-container-id-6 {color: black;background-color: white;}#sk-container-id-6 pre{padding: 0;}#sk-container-id-6 div.sk-toggleable {background-color: white;}#sk-container-id-6 label.sk-toggleable__label {cursor: pointer;display: block;width: 100%;margin-bottom: 0;padding: 0.3em;box-sizing: border-box;text-align: center;}#sk-container-id-6 label.sk-toggleable__label-arrow:before {content: \"▸\";float: left;margin-right: 0.25em;color: #696969;}#sk-container-id-6 label.sk-toggleable__label-arrow:hover:before {color: black;}#sk-container-id-6 div.sk-estimator:hover label.sk-toggleable__label-arrow:before {color: black;}#sk-container-id-6 div.sk-toggleable__content {max-height: 0;max-width: 0;overflow: hidden;text-align: left;background-color: #f0f8ff;}#sk-container-id-6 div.sk-toggleable__content pre {margin: 0.2em;color: black;border-radius: 0.25em;background-color: #f0f8ff;}#sk-container-id-6 input.sk-toggleable__control:checked~div.sk-toggleable__content {max-height: 200px;max-width: 100%;overflow: auto;}#sk-container-id-6 input.sk-toggleable__control:checked~label.sk-toggleable__label-arrow:before {content: \"▾\";}#sk-container-id-6 div.sk-estimator input.sk-toggleable__control:checked~label.sk-toggleable__label {background-color: #d4ebff;}#sk-container-id-6 div.sk-label input.sk-toggleable__control:checked~label.sk-toggleable__label {background-color: #d4ebff;}#sk-container-id-6 input.sk-hidden--visually {border: 0;clip: rect(1px 1px 1px 1px);clip: rect(1px, 1px, 1px, 1px);height: 1px;margin: -1px;overflow: hidden;padding: 0;position: absolute;width: 1px;}#sk-container-id-6 div.sk-estimator {font-family: monospace;background-color: #f0f8ff;border: 1px dotted black;border-radius: 0.25em;box-sizing: border-box;margin-bottom: 0.5em;}#sk-container-id-6 div.sk-estimator:hover {background-color: #d4ebff;}#sk-container-id-6 div.sk-parallel-item::after {content: \"\";width: 100%;border-bottom: 1px solid gray;flex-grow: 1;}#sk-container-id-6 div.sk-label:hover label.sk-toggleable__label {background-color: #d4ebff;}#sk-container-id-6 div.sk-serial::before {content: \"\";position: absolute;border-left: 1px solid gray;box-sizing: border-box;top: 0;bottom: 0;left: 50%;z-index: 0;}#sk-container-id-6 div.sk-serial {display: flex;flex-direction: column;align-items: center;background-color: white;padding-right: 0.2em;padding-left: 0.2em;position: relative;}#sk-container-id-6 div.sk-item {position: relative;z-index: 1;}#sk-container-id-6 div.sk-parallel {display: flex;align-items: stretch;justify-content: center;background-color: white;position: relative;}#sk-container-id-6 div.sk-item::before, #sk-container-id-6 div.sk-parallel-item::before {content: \"\";position: absolute;border-left: 1px solid gray;box-sizing: border-box;top: 0;bottom: 0;left: 50%;z-index: -1;}#sk-container-id-6 div.sk-parallel-item {display: flex;flex-direction: column;z-index: 1;position: relative;background-color: white;}#sk-container-id-6 div.sk-parallel-item:first-child::after {align-self: flex-end;width: 50%;}#sk-container-id-6 div.sk-parallel-item:last-child::after {align-self: flex-start;width: 50%;}#sk-container-id-6 div.sk-parallel-item:only-child::after {width: 0;}#sk-container-id-6 div.sk-dashed-wrapped {border: 1px dashed gray;margin: 0 0.4em 0.5em 0.4em;box-sizing: border-box;padding-bottom: 0.4em;background-color: white;}#sk-container-id-6 div.sk-label label {font-family: monospace;font-weight: bold;display: inline-block;line-height: 1.2em;}#sk-container-id-6 div.sk-label-container {text-align: center;}#sk-container-id-6 div.sk-container {/* jupyter's `normalize.less` sets `[hidden] { display: none; }` but bootstrap.min.css set `[hidden] { display: none !important; }` so we also need the `!important` here to be able to override the default hidden behavior on the sphinx rendered scikit-learn.org. See: https://github.com/scikit-learn/scikit-learn/issues/21755 */display: inline-block !important;position: relative;}#sk-container-id-6 div.sk-text-repr-fallback {display: none;}</style><div id=\"sk-container-id-6\" class=\"sk-top-container\"><div class=\"sk-text-repr-fallback\"><pre>KNeighborsClassifier()</pre><b>In a Jupyter environment, please rerun this cell to show the HTML representation or trust the notebook. <br />On GitHub, the HTML representation is unable to render, please try loading this page with nbviewer.org.</b></div><div class=\"sk-container\" hidden><div class=\"sk-item\"><div class=\"sk-estimator sk-toggleable\"><input class=\"sk-toggleable__control sk-hidden--visually\" id=\"sk-estimator-id-6\" type=\"checkbox\" checked><label for=\"sk-estimator-id-6\" class=\"sk-toggleable__label sk-toggleable__label-arrow\">KNeighborsClassifier</label><div class=\"sk-toggleable__content\"><pre>KNeighborsClassifier()</pre></div></div></div></div></div>"
            ]
          },
          "metadata": {},
          "execution_count": 119
        }
      ]
    },
    {
      "cell_type": "code",
      "source": [
        "score_knn_model_smote=cross_val_score(knn_model_smote, x_train_resampled, y_train_resampled, scoring='accuracy', cv=5)\n",
        "score_knn_model_smote"
      ],
      "metadata": {
        "colab": {
          "base_uri": "https://localhost:8080/"
        },
        "id": "WwW_KJ0YZfGp",
        "outputId": "27c2eda1-0d4d-45f4-b997-8a06519429cc"
      },
      "execution_count": 120,
      "outputs": [
        {
          "output_type": "execute_result",
          "data": {
            "text/plain": [
              "array([0.67910448, 0.70676692, 0.72180451, 0.76691729, 0.77443609])"
            ]
          },
          "metadata": {},
          "execution_count": 120
        }
      ]
    },
    {
      "cell_type": "code",
      "source": [
        "# CM Model 2\n",
        "y_pred_smote = knn_model_smote.predict(x_test_scaler)\n",
        "plot_confusion_matrixs(y_test, y_pred_smote,'Confusion Matrix Model V2')\n",
        "class_report_smote = classification_report(y_test, y_pred_smote)\n",
        "print(\"Classification Report Model V2:\")\n",
        "print(class_report_smote)"
      ],
      "metadata": {
        "colab": {
          "base_uri": "https://localhost:8080/",
          "height": 584
        },
        "id": "ijng0j5kZlSY",
        "outputId": "a909612c-23fd-408c-e19c-c11e184f3667"
      },
      "execution_count": 121,
      "outputs": [
        {
          "output_type": "display_data",
          "data": {
            "text/plain": [
              "<Figure size 500x400 with 2 Axes>"
            ],
            "image/png": "[encoded data removed]"
          },
          "metadata": {}
        },
        {
          "output_type": "stream",
          "name": "stdout",
          "text": [
            "Classification Report Model V2:\n",
            "              precision    recall  f1-score   support\n",
            "\n",
            "           1       0.87      0.63      0.73        83\n",
            "           2       0.46      0.76      0.57        34\n",
            "\n",
            "    accuracy                           0.67       117\n",
            "   macro avg       0.66      0.70      0.65       117\n",
            "weighted avg       0.75      0.67      0.68       117\n",
            "\n"
          ]
        }
      ]
    },
    {
      "cell_type": "markdown",
      "source": [
        "### Evaluasi Model dengan tunning Hyperparameter Optuna"
      ],
      "metadata": {
        "id": "k6c0PARIoBwR"
      }
    },
    {
      "cell_type": "code",
      "source": [
        "#model 3\n",
        "def objective(trial):\n",
        "    #knn parameter\n",
        "    n_neighbors = trial.suggest_int(\"n_neighbors\", 1,10)\n",
        "    weights = trial.suggest_categorical(\"weights\", ['uniform', 'distance'])\n",
        "    metric = trial.suggest_categorical(\"metric\", ['euclidean', 'manhattan', 'minkowski'])\n",
        "\n",
        "    #knn model\n",
        "    knn_model = KNeighborsClassifier(n_neighbors=n_neighbors, weights=weights, metric=metric)\n",
        "\n",
        "    # Latih model dengan data latih\n",
        "    knn_model.fit(x_train_resampled, y_train_resampled)\n",
        "\n",
        "    # Prediksi label pada data uji\n",
        "    y_pred = knn_model.predict(x_test_scaler)\n",
        "\n",
        "    # Hitung akurasi prediksi\n",
        "    accuracy = accuracy_score(y_test, y_pred)\n",
        "\n",
        "    # Kembalikan akurasi sebagai skor optimasi\n",
        "    return accuracy"
      ],
      "metadata": {
        "id": "oatthv9gZtyr"
      },
      "execution_count": 122,
      "outputs": []
    },
    {
      "cell_type": "code",
      "source": [
        "#run optuna\n",
        "study = optuna.create_study(direction=\"maximize\")\n",
        "study.optimize(objective, n_trials=300)\n"
      ],
      "metadata": {
        "colab": {
          "base_uri": "https://localhost:8080/"
        },
        "id": "bYeiXMSAZ4Ka",
        "outputId": "84a16f5d-9db0-44b8-f108-7b061e7e1f8e"
      },
      "execution_count": 123,
      "outputs": [
        {
          "output_type": "stream",
          "name": "stderr",
          "text": [
            "[I 2023-07-24 07:21:05,472] A new study created in memory with name: no-name-a9ad2a73-b46e-4058-b533-c4105b521786\n",
            "[I 2023-07-24 07:21:05,485] Trial 0 finished with value: 0.6410256410256411 and parameters: {'n_neighbors': 2, 'weights': 'distance', 'metric': 'minkowski'}. Best is trial 0 with value: 0.6410256410256411.\n",
            "[I 2023-07-24 07:21:05,500] Trial 1 finished with value: 0.7008547008547008 and parameters: {'n_neighbors': 8, 'weights': 'distance', 'metric': 'manhattan'}. Best is trial 1 with value: 0.7008547008547008.\n",
            "[I 2023-07-24 07:21:05,513] Trial 2 finished with value: 0.6752136752136753 and parameters: {'n_neighbors': 1, 'weights': 'uniform', 'metric': 'manhattan'}. Best is trial 1 with value: 0.7008547008547008.\n",
            "[I 2023-07-24 07:21:05,525] Trial 3 finished with value: 0.6752136752136753 and parameters: {'n_neighbors': 2, 'weights': 'distance', 'metric': 'manhattan'}. Best is trial 1 with value: 0.7008547008547008.\n",
            "[I 2023-07-24 07:21:05,541] Trial 4 finished with value: 0.6923076923076923 and parameters: {'n_neighbors': 7, 'weights': 'uniform', 'metric': 'manhattan'}. Best is trial 1 with value: 0.7008547008547008.\n",
            "[I 2023-07-24 07:21:05,554] Trial 5 finished with value: 0.6495726495726496 and parameters: {'n_neighbors': 10, 'weights': 'uniform', 'metric': 'manhattan'}. Best is trial 1 with value: 0.7008547008547008.\n",
            "[I 2023-07-24 07:21:05,565] Trial 6 finished with value: 0.6666666666666666 and parameters: {'n_neighbors': 4, 'weights': 'distance', 'metric': 'minkowski'}. Best is trial 1 with value: 0.7008547008547008.\n",
            "[I 2023-07-24 07:21:05,576] Trial 7 finished with value: 0.6410256410256411 and parameters: {'n_neighbors': 10, 'weights': 'uniform', 'metric': 'minkowski'}. Best is trial 1 with value: 0.7008547008547008.\n",
            "[I 2023-07-24 07:21:05,588] Trial 8 finished with value: 0.6495726495726496 and parameters: {'n_neighbors': 8, 'weights': 'uniform', 'metric': 'euclidean'}. Best is trial 1 with value: 0.7008547008547008.\n",
            "[I 2023-07-24 07:21:05,596] Trial 9 finished with value: 0.6581196581196581 and parameters: {'n_neighbors': 8, 'weights': 'distance', 'metric': 'euclidean'}. Best is trial 1 with value: 0.7008547008547008.\n",
            "[I 2023-07-24 07:21:05,615] Trial 10 finished with value: 0.7094017094017094 and parameters: {'n_neighbors': 5, 'weights': 'distance', 'metric': 'manhattan'}. Best is trial 10 with value: 0.7094017094017094.\n",
            "[I 2023-07-24 07:21:05,635] Trial 11 finished with value: 0.7094017094017094 and parameters: {'n_neighbors': 5, 'weights': 'distance', 'metric': 'manhattan'}. Best is trial 10 with value: 0.7094017094017094.\n",
            "[I 2023-07-24 07:21:05,656] Trial 12 finished with value: 0.7094017094017094 and parameters: {'n_neighbors': 5, 'weights': 'distance', 'metric': 'manhattan'}. Best is trial 10 with value: 0.7094017094017094.\n",
            "[I 2023-07-24 07:21:05,678] Trial 13 finished with value: 0.6837606837606838 and parameters: {'n_neighbors': 4, 'weights': 'distance', 'metric': 'manhattan'}. Best is trial 10 with value: 0.7094017094017094.\n",
            "[I 2023-07-24 07:21:05,702] Trial 14 finished with value: 0.7094017094017094 and parameters: {'n_neighbors': 5, 'weights': 'distance', 'metric': 'manhattan'}. Best is trial 10 with value: 0.7094017094017094.\n",
            "[I 2023-07-24 07:21:05,721] Trial 15 finished with value: 0.6666666666666666 and parameters: {'n_neighbors': 6, 'weights': 'distance', 'metric': 'euclidean'}. Best is trial 10 with value: 0.7094017094017094.\n",
            "[I 2023-07-24 07:21:05,748] Trial 16 finished with value: 0.6837606837606838 and parameters: {'n_neighbors': 4, 'weights': 'distance', 'metric': 'manhattan'}. Best is trial 10 with value: 0.7094017094017094.\n",
            "[I 2023-07-24 07:21:05,776] Trial 17 finished with value: 0.6837606837606838 and parameters: {'n_neighbors': 6, 'weights': 'distance', 'metric': 'manhattan'}. Best is trial 10 with value: 0.7094017094017094.\n",
            "[I 2023-07-24 07:21:05,797] Trial 18 finished with value: 0.6923076923076923 and parameters: {'n_neighbors': 3, 'weights': 'distance', 'metric': 'minkowski'}. Best is trial 10 with value: 0.7094017094017094.\n",
            "[I 2023-07-24 07:21:05,814] Trial 19 finished with value: 0.6837606837606838 and parameters: {'n_neighbors': 7, 'weights': 'distance', 'metric': 'euclidean'}. Best is trial 10 with value: 0.7094017094017094.\n",
            "[I 2023-07-24 07:21:05,836] Trial 20 finished with value: 0.7094017094017094 and parameters: {'n_neighbors': 5, 'weights': 'distance', 'metric': 'manhattan'}. Best is trial 10 with value: 0.7094017094017094.\n",
            "[I 2023-07-24 07:21:05,854] Trial 21 finished with value: 0.7094017094017094 and parameters: {'n_neighbors': 5, 'weights': 'distance', 'metric': 'manhattan'}. Best is trial 10 with value: 0.7094017094017094.\n",
            "[I 2023-07-24 07:21:05,879] Trial 22 finished with value: 0.6752136752136753 and parameters: {'n_neighbors': 3, 'weights': 'distance', 'metric': 'manhattan'}. Best is trial 10 with value: 0.7094017094017094.\n",
            "[I 2023-07-24 07:21:05,898] Trial 23 finished with value: 0.6837606837606838 and parameters: {'n_neighbors': 6, 'weights': 'distance', 'metric': 'manhattan'}. Best is trial 10 with value: 0.7094017094017094.\n",
            "[I 2023-07-24 07:21:05,917] Trial 24 finished with value: 0.6837606837606838 and parameters: {'n_neighbors': 4, 'weights': 'distance', 'metric': 'manhattan'}. Best is trial 10 with value: 0.7094017094017094.\n",
            "[I 2023-07-24 07:21:05,936] Trial 25 finished with value: 0.7094017094017094 and parameters: {'n_neighbors': 7, 'weights': 'distance', 'metric': 'manhattan'}. Best is trial 10 with value: 0.7094017094017094.\n",
            "[I 2023-07-24 07:21:05,961] Trial 26 finished with value: 0.6581196581196581 and parameters: {'n_neighbors': 3, 'weights': 'uniform', 'metric': 'manhattan'}. Best is trial 10 with value: 0.7094017094017094.\n",
            "[I 2023-07-24 07:21:05,983] Trial 27 finished with value: 0.7094017094017094 and parameters: {'n_neighbors': 5, 'weights': 'distance', 'metric': 'manhattan'}. Best is trial 10 with value: 0.7094017094017094.\n",
            "[I 2023-07-24 07:21:06,005] Trial 28 finished with value: 0.6666666666666666 and parameters: {'n_neighbors': 6, 'weights': 'distance', 'metric': 'euclidean'}. Best is trial 10 with value: 0.7094017094017094.\n",
            "[I 2023-07-24 07:21:06,025] Trial 29 finished with value: 0.6410256410256411 and parameters: {'n_neighbors': 2, 'weights': 'distance', 'metric': 'minkowski'}. Best is trial 10 with value: 0.7094017094017094.\n",
            "[I 2023-07-24 07:21:06,046] Trial 30 finished with value: 0.6666666666666666 and parameters: {'n_neighbors': 4, 'weights': 'distance', 'metric': 'minkowski'}. Best is trial 10 with value: 0.7094017094017094.\n",
            "[I 2023-07-24 07:21:06,066] Trial 31 finished with value: 0.7094017094017094 and parameters: {'n_neighbors': 5, 'weights': 'distance', 'metric': 'manhattan'}. Best is trial 10 with value: 0.7094017094017094.\n",
            "[I 2023-07-24 07:21:06,088] Trial 32 finished with value: 0.7094017094017094 and parameters: {'n_neighbors': 5, 'weights': 'distance', 'metric': 'manhattan'}. Best is trial 10 with value: 0.7094017094017094.\n",
            "[I 2023-07-24 07:21:06,110] Trial 33 finished with value: 0.6837606837606838 and parameters: {'n_neighbors': 6, 'weights': 'distance', 'metric': 'manhattan'}. Best is trial 10 with value: 0.7094017094017094.\n",
            "[I 2023-07-24 07:21:06,129] Trial 34 finished with value: 0.6752136752136753 and parameters: {'n_neighbors': 3, 'weights': 'distance', 'metric': 'manhattan'}. Best is trial 10 with value: 0.7094017094017094.\n",
            "[I 2023-07-24 07:21:06,150] Trial 35 finished with value: 0.7094017094017094 and parameters: {'n_neighbors': 7, 'weights': 'distance', 'metric': 'manhattan'}. Best is trial 10 with value: 0.7094017094017094.\n",
            "[I 2023-07-24 07:21:06,173] Trial 36 finished with value: 0.6752136752136753 and parameters: {'n_neighbors': 1, 'weights': 'uniform', 'metric': 'manhattan'}. Best is trial 10 with value: 0.7094017094017094.\n",
            "[I 2023-07-24 07:21:06,194] Trial 37 finished with value: 0.7094017094017094 and parameters: {'n_neighbors': 5, 'weights': 'distance', 'metric': 'manhattan'}. Best is trial 10 with value: 0.7094017094017094.\n",
            "[I 2023-07-24 07:21:06,218] Trial 38 finished with value: 0.6923076923076923 and parameters: {'n_neighbors': 4, 'weights': 'uniform', 'metric': 'manhattan'}. Best is trial 10 with value: 0.7094017094017094.\n",
            "[I 2023-07-24 07:21:06,240] Trial 39 finished with value: 0.6923076923076923 and parameters: {'n_neighbors': 9, 'weights': 'distance', 'metric': 'manhattan'}. Best is trial 10 with value: 0.7094017094017094.\n",
            "[I 2023-07-24 07:21:06,263] Trial 40 finished with value: 0.6837606837606838 and parameters: {'n_neighbors': 2, 'weights': 'uniform', 'metric': 'minkowski'}. Best is trial 10 with value: 0.7094017094017094.\n",
            "[I 2023-07-24 07:21:06,283] Trial 41 finished with value: 0.7094017094017094 and parameters: {'n_neighbors': 5, 'weights': 'distance', 'metric': 'manhattan'}. Best is trial 10 with value: 0.7094017094017094.\n",
            "[I 2023-07-24 07:21:06,303] Trial 42 finished with value: 0.7094017094017094 and parameters: {'n_neighbors': 5, 'weights': 'distance', 'metric': 'manhattan'}. Best is trial 10 with value: 0.7094017094017094.\n",
            "[I 2023-07-24 07:21:06,324] Trial 43 finished with value: 0.6837606837606838 and parameters: {'n_neighbors': 6, 'weights': 'distance', 'metric': 'manhattan'}. Best is trial 10 with value: 0.7094017094017094.\n",
            "[I 2023-07-24 07:21:06,345] Trial 44 finished with value: 0.6837606837606838 and parameters: {'n_neighbors': 4, 'weights': 'distance', 'metric': 'manhattan'}. Best is trial 10 with value: 0.7094017094017094.\n",
            "[I 2023-07-24 07:21:06,366] Trial 45 finished with value: 0.6837606837606838 and parameters: {'n_neighbors': 7, 'weights': 'distance', 'metric': 'euclidean'}. Best is trial 10 with value: 0.7094017094017094.\n",
            "[I 2023-07-24 07:21:06,389] Trial 46 finished with value: 0.7094017094017094 and parameters: {'n_neighbors': 5, 'weights': 'distance', 'metric': 'manhattan'}. Best is trial 10 with value: 0.7094017094017094.\n",
            "[I 2023-07-24 07:21:06,411] Trial 47 finished with value: 0.6837606837606838 and parameters: {'n_neighbors': 6, 'weights': 'distance', 'metric': 'manhattan'}. Best is trial 10 with value: 0.7094017094017094.\n",
            "[I 2023-07-24 07:21:06,434] Trial 48 finished with value: 0.6837606837606838 and parameters: {'n_neighbors': 4, 'weights': 'distance', 'metric': 'manhattan'}. Best is trial 10 with value: 0.7094017094017094.\n",
            "[I 2023-07-24 07:21:06,457] Trial 49 finished with value: 0.6666666666666666 and parameters: {'n_neighbors': 5, 'weights': 'uniform', 'metric': 'euclidean'}. Best is trial 10 with value: 0.7094017094017094.\n",
            "[I 2023-07-24 07:21:06,483] Trial 50 finished with value: 0.6752136752136753 and parameters: {'n_neighbors': 3, 'weights': 'distance', 'metric': 'manhattan'}. Best is trial 10 with value: 0.7094017094017094.\n",
            "[I 2023-07-24 07:21:06,504] Trial 51 finished with value: 0.7094017094017094 and parameters: {'n_neighbors': 5, 'weights': 'distance', 'metric': 'manhattan'}. Best is trial 10 with value: 0.7094017094017094.\n",
            "[I 2023-07-24 07:21:06,528] Trial 52 finished with value: 0.6837606837606838 and parameters: {'n_neighbors': 6, 'weights': 'distance', 'metric': 'manhattan'}. Best is trial 10 with value: 0.7094017094017094.\n",
            "[I 2023-07-24 07:21:06,560] Trial 53 finished with value: 0.6837606837606838 and parameters: {'n_neighbors': 4, 'weights': 'distance', 'metric': 'manhattan'}. Best is trial 10 with value: 0.7094017094017094.\n",
            "[I 2023-07-24 07:21:06,581] Trial 54 finished with value: 0.7094017094017094 and parameters: {'n_neighbors': 5, 'weights': 'distance', 'metric': 'manhattan'}. Best is trial 10 with value: 0.7094017094017094.\n",
            "[I 2023-07-24 07:21:06,603] Trial 55 finished with value: 0.6837606837606838 and parameters: {'n_neighbors': 6, 'weights': 'distance', 'metric': 'manhattan'}. Best is trial 10 with value: 0.7094017094017094.\n",
            "[I 2023-07-24 07:21:06,622] Trial 56 finished with value: 0.6666666666666666 and parameters: {'n_neighbors': 4, 'weights': 'distance', 'metric': 'minkowski'}. Best is trial 10 with value: 0.7094017094017094.\n",
            "[I 2023-07-24 07:21:06,644] Trial 57 finished with value: 0.7094017094017094 and parameters: {'n_neighbors': 7, 'weights': 'distance', 'metric': 'manhattan'}. Best is trial 10 with value: 0.7094017094017094.\n",
            "[I 2023-07-24 07:21:06,666] Trial 58 finished with value: 0.7094017094017094 and parameters: {'n_neighbors': 5, 'weights': 'distance', 'metric': 'manhattan'}. Best is trial 10 with value: 0.7094017094017094.\n",
            "[I 2023-07-24 07:21:06,690] Trial 59 finished with value: 0.6666666666666666 and parameters: {'n_neighbors': 6, 'weights': 'distance', 'metric': 'euclidean'}. Best is trial 10 with value: 0.7094017094017094.\n",
            "[I 2023-07-24 07:21:06,714] Trial 60 finished with value: 0.6923076923076923 and parameters: {'n_neighbors': 4, 'weights': 'uniform', 'metric': 'manhattan'}. Best is trial 10 with value: 0.7094017094017094.\n",
            "[I 2023-07-24 07:21:06,739] Trial 61 finished with value: 0.7008547008547008 and parameters: {'n_neighbors': 8, 'weights': 'distance', 'metric': 'manhattan'}. Best is trial 10 with value: 0.7094017094017094.\n",
            "[I 2023-07-24 07:21:06,767] Trial 62 finished with value: 0.6923076923076923 and parameters: {'n_neighbors': 9, 'weights': 'distance', 'metric': 'manhattan'}. Best is trial 10 with value: 0.7094017094017094.\n",
            "[I 2023-07-24 07:21:06,798] Trial 63 finished with value: 0.7094017094017094 and parameters: {'n_neighbors': 7, 'weights': 'distance', 'metric': 'manhattan'}. Best is trial 10 with value: 0.7094017094017094.\n",
            "[I 2023-07-24 07:21:06,819] Trial 64 finished with value: 0.6837606837606838 and parameters: {'n_neighbors': 6, 'weights': 'distance', 'metric': 'manhattan'}. Best is trial 10 with value: 0.7094017094017094.\n",
            "[I 2023-07-24 07:21:06,841] Trial 65 finished with value: 0.7094017094017094 and parameters: {'n_neighbors': 5, 'weights': 'distance', 'metric': 'manhattan'}. Best is trial 10 with value: 0.7094017094017094.\n",
            "[I 2023-07-24 07:21:06,863] Trial 66 finished with value: 0.6837606837606838 and parameters: {'n_neighbors': 7, 'weights': 'distance', 'metric': 'minkowski'}. Best is trial 10 with value: 0.7094017094017094.\n",
            "[I 2023-07-24 07:21:06,885] Trial 67 finished with value: 0.7094017094017094 and parameters: {'n_neighbors': 5, 'weights': 'distance', 'metric': 'manhattan'}. Best is trial 10 with value: 0.7094017094017094.\n",
            "[I 2023-07-24 07:21:06,909] Trial 68 finished with value: 0.6837606837606838 and parameters: {'n_neighbors': 6, 'weights': 'distance', 'metric': 'manhattan'}. Best is trial 10 with value: 0.7094017094017094.\n",
            "[I 2023-07-24 07:21:06,931] Trial 69 finished with value: 0.7094017094017094 and parameters: {'n_neighbors': 5, 'weights': 'distance', 'metric': 'manhattan'}. Best is trial 10 with value: 0.7094017094017094.\n",
            "[I 2023-07-24 07:21:06,953] Trial 70 finished with value: 0.6837606837606838 and parameters: {'n_neighbors': 4, 'weights': 'distance', 'metric': 'manhattan'}. Best is trial 10 with value: 0.7094017094017094.\n",
            "[I 2023-07-24 07:21:06,981] Trial 71 finished with value: 0.7094017094017094 and parameters: {'n_neighbors': 5, 'weights': 'distance', 'metric': 'manhattan'}. Best is trial 10 with value: 0.7094017094017094.\n",
            "[I 2023-07-24 07:21:07,004] Trial 72 finished with value: 0.7094017094017094 and parameters: {'n_neighbors': 5, 'weights': 'distance', 'metric': 'manhattan'}. Best is trial 10 with value: 0.7094017094017094.\n",
            "[I 2023-07-24 07:21:07,030] Trial 73 finished with value: 0.6837606837606838 and parameters: {'n_neighbors': 4, 'weights': 'distance', 'metric': 'manhattan'}. Best is trial 10 with value: 0.7094017094017094.\n",
            "[I 2023-07-24 07:21:07,051] Trial 74 finished with value: 0.6837606837606838 and parameters: {'n_neighbors': 6, 'weights': 'distance', 'metric': 'manhattan'}. Best is trial 10 with value: 0.7094017094017094.\n",
            "[I 2023-07-24 07:21:07,076] Trial 75 finished with value: 0.6837606837606838 and parameters: {'n_neighbors': 5, 'weights': 'uniform', 'metric': 'manhattan'}. Best is trial 10 with value: 0.7094017094017094.\n",
            "[I 2023-07-24 07:21:07,100] Trial 76 finished with value: 0.6666666666666666 and parameters: {'n_neighbors': 6, 'weights': 'distance', 'metric': 'euclidean'}. Best is trial 10 with value: 0.7094017094017094.\n",
            "[I 2023-07-24 07:21:07,121] Trial 77 finished with value: 0.6666666666666666 and parameters: {'n_neighbors': 4, 'weights': 'distance', 'metric': 'minkowski'}. Best is trial 10 with value: 0.7094017094017094.\n",
            "[I 2023-07-24 07:21:07,147] Trial 78 finished with value: 0.6923076923076923 and parameters: {'n_neighbors': 9, 'weights': 'distance', 'metric': 'manhattan'}. Best is trial 10 with value: 0.7094017094017094.\n",
            "[I 2023-07-24 07:21:07,171] Trial 79 finished with value: 0.7094017094017094 and parameters: {'n_neighbors': 5, 'weights': 'distance', 'metric': 'manhattan'}. Best is trial 10 with value: 0.7094017094017094.\n",
            "[I 2023-07-24 07:21:07,195] Trial 80 finished with value: 0.7008547008547008 and parameters: {'n_neighbors': 8, 'weights': 'distance', 'metric': 'manhattan'}. Best is trial 10 with value: 0.7094017094017094.\n",
            "[I 2023-07-24 07:21:07,217] Trial 81 finished with value: 0.7094017094017094 and parameters: {'n_neighbors': 5, 'weights': 'distance', 'metric': 'manhattan'}. Best is trial 10 with value: 0.7094017094017094.\n",
            "[I 2023-07-24 07:21:07,241] Trial 82 finished with value: 0.7094017094017094 and parameters: {'n_neighbors': 5, 'weights': 'distance', 'metric': 'manhattan'}. Best is trial 10 with value: 0.7094017094017094.\n",
            "[I 2023-07-24 07:21:07,263] Trial 83 finished with value: 0.7094017094017094 and parameters: {'n_neighbors': 5, 'weights': 'distance', 'metric': 'manhattan'}. Best is trial 10 with value: 0.7094017094017094.\n",
            "[I 2023-07-24 07:21:07,287] Trial 84 finished with value: 0.6837606837606838 and parameters: {'n_neighbors': 6, 'weights': 'distance', 'metric': 'manhattan'}. Best is trial 10 with value: 0.7094017094017094.\n",
            "[I 2023-07-24 07:21:07,312] Trial 85 finished with value: 0.6837606837606838 and parameters: {'n_neighbors': 4, 'weights': 'distance', 'metric': 'manhattan'}. Best is trial 10 with value: 0.7094017094017094.\n",
            "[I 2023-07-24 07:21:07,337] Trial 86 finished with value: 0.6837606837606838 and parameters: {'n_neighbors': 5, 'weights': 'uniform', 'metric': 'manhattan'}. Best is trial 10 with value: 0.7094017094017094.\n",
            "[I 2023-07-24 07:21:07,362] Trial 87 finished with value: 0.7094017094017094 and parameters: {'n_neighbors': 5, 'weights': 'distance', 'metric': 'manhattan'}. Best is trial 10 with value: 0.7094017094017094.\n",
            "[I 2023-07-24 07:21:07,383] Trial 88 finished with value: 0.6666666666666666 and parameters: {'n_neighbors': 4, 'weights': 'distance', 'metric': 'euclidean'}. Best is trial 10 with value: 0.7094017094017094.\n",
            "[I 2023-07-24 07:21:07,410] Trial 89 finished with value: 0.6752136752136753 and parameters: {'n_neighbors': 3, 'weights': 'distance', 'metric': 'manhattan'}. Best is trial 10 with value: 0.7094017094017094.\n",
            "[I 2023-07-24 07:21:07,432] Trial 90 finished with value: 0.6837606837606838 and parameters: {'n_neighbors': 6, 'weights': 'distance', 'metric': 'manhattan'}. Best is trial 10 with value: 0.7094017094017094.\n",
            "[I 2023-07-24 07:21:07,459] Trial 91 finished with value: 0.7094017094017094 and parameters: {'n_neighbors': 5, 'weights': 'distance', 'metric': 'manhattan'}. Best is trial 10 with value: 0.7094017094017094.\n",
            "[I 2023-07-24 07:21:07,480] Trial 92 finished with value: 0.7094017094017094 and parameters: {'n_neighbors': 5, 'weights': 'distance', 'metric': 'manhattan'}. Best is trial 10 with value: 0.7094017094017094.\n",
            "[I 2023-07-24 07:21:07,503] Trial 93 finished with value: 0.7094017094017094 and parameters: {'n_neighbors': 5, 'weights': 'distance', 'metric': 'manhattan'}. Best is trial 10 with value: 0.7094017094017094.\n",
            "[I 2023-07-24 07:21:07,525] Trial 94 finished with value: 0.6837606837606838 and parameters: {'n_neighbors': 4, 'weights': 'distance', 'metric': 'manhattan'}. Best is trial 10 with value: 0.7094017094017094.\n",
            "[I 2023-07-24 07:21:07,550] Trial 95 finished with value: 0.6666666666666666 and parameters: {'n_neighbors': 6, 'weights': 'distance', 'metric': 'minkowski'}. Best is trial 10 with value: 0.7094017094017094.\n",
            "[I 2023-07-24 07:21:07,575] Trial 96 finished with value: 0.7094017094017094 and parameters: {'n_neighbors': 5, 'weights': 'distance', 'metric': 'manhattan'}. Best is trial 10 with value: 0.7094017094017094.\n",
            "[I 2023-07-24 07:21:07,597] Trial 97 finished with value: 0.6837606837606838 and parameters: {'n_neighbors': 6, 'weights': 'distance', 'metric': 'manhattan'}. Best is trial 10 with value: 0.7094017094017094.\n",
            "[I 2023-07-24 07:21:07,623] Trial 98 finished with value: 0.6923076923076923 and parameters: {'n_neighbors': 4, 'weights': 'uniform', 'metric': 'manhattan'}. Best is trial 10 with value: 0.7094017094017094.\n",
            "[I 2023-07-24 07:21:07,644] Trial 99 finished with value: 0.7094017094017094 and parameters: {'n_neighbors': 5, 'weights': 'distance', 'metric': 'manhattan'}. Best is trial 10 with value: 0.7094017094017094.\n",
            "[I 2023-07-24 07:21:07,667] Trial 100 finished with value: 0.7094017094017094 and parameters: {'n_neighbors': 5, 'weights': 'distance', 'metric': 'manhattan'}. Best is trial 10 with value: 0.7094017094017094.\n",
            "[I 2023-07-24 07:21:07,691] Trial 101 finished with value: 0.7094017094017094 and parameters: {'n_neighbors': 7, 'weights': 'distance', 'metric': 'manhattan'}. Best is trial 10 with value: 0.7094017094017094.\n",
            "[I 2023-07-24 07:21:07,716] Trial 102 finished with value: 0.7008547008547008 and parameters: {'n_neighbors': 8, 'weights': 'distance', 'metric': 'manhattan'}. Best is trial 10 with value: 0.7094017094017094.\n",
            "[I 2023-07-24 07:21:07,742] Trial 103 finished with value: 0.6837606837606838 and parameters: {'n_neighbors': 6, 'weights': 'distance', 'metric': 'manhattan'}. Best is trial 10 with value: 0.7094017094017094.\n",
            "[I 2023-07-24 07:21:07,766] Trial 104 finished with value: 0.7094017094017094 and parameters: {'n_neighbors': 7, 'weights': 'distance', 'metric': 'manhattan'}. Best is trial 10 with value: 0.7094017094017094.\n",
            "[I 2023-07-24 07:21:07,804] Trial 105 finished with value: 0.7094017094017094 and parameters: {'n_neighbors': 7, 'weights': 'distance', 'metric': 'manhattan'}. Best is trial 10 with value: 0.7094017094017094.\n",
            "[I 2023-07-24 07:21:07,833] Trial 106 finished with value: 0.7094017094017094 and parameters: {'n_neighbors': 5, 'weights': 'distance', 'metric': 'manhattan'}. Best is trial 10 with value: 0.7094017094017094.\n",
            "[I 2023-07-24 07:21:07,856] Trial 107 finished with value: 0.6666666666666666 and parameters: {'n_neighbors': 4, 'weights': 'distance', 'metric': 'euclidean'}. Best is trial 10 with value: 0.7094017094017094.\n",
            "[I 2023-07-24 07:21:07,877] Trial 108 finished with value: 0.7094017094017094 and parameters: {'n_neighbors': 5, 'weights': 'distance', 'metric': 'manhattan'}. Best is trial 10 with value: 0.7094017094017094.\n",
            "[I 2023-07-24 07:21:07,901] Trial 109 finished with value: 0.6837606837606838 and parameters: {'n_neighbors': 6, 'weights': 'distance', 'metric': 'manhattan'}. Best is trial 10 with value: 0.7094017094017094.\n",
            "[I 2023-07-24 07:21:07,924] Trial 110 finished with value: 0.6837606837606838 and parameters: {'n_neighbors': 5, 'weights': 'distance', 'metric': 'minkowski'}. Best is trial 10 with value: 0.7094017094017094.\n",
            "[I 2023-07-24 07:21:07,947] Trial 111 finished with value: 0.7094017094017094 and parameters: {'n_neighbors': 5, 'weights': 'distance', 'metric': 'manhattan'}. Best is trial 10 with value: 0.7094017094017094.\n",
            "[I 2023-07-24 07:21:07,972] Trial 112 finished with value: 0.6752136752136753 and parameters: {'n_neighbors': 10, 'weights': 'distance', 'metric': 'manhattan'}. Best is trial 10 with value: 0.7094017094017094.\n",
            "[I 2023-07-24 07:21:07,995] Trial 113 finished with value: 0.7094017094017094 and parameters: {'n_neighbors': 5, 'weights': 'distance', 'metric': 'manhattan'}. Best is trial 10 with value: 0.7094017094017094.\n",
            "[I 2023-07-24 07:21:08,021] Trial 114 finished with value: 0.6837606837606838 and parameters: {'n_neighbors': 4, 'weights': 'distance', 'metric': 'manhattan'}. Best is trial 10 with value: 0.7094017094017094.\n",
            "[I 2023-07-24 07:21:08,043] Trial 115 finished with value: 0.7094017094017094 and parameters: {'n_neighbors': 5, 'weights': 'distance', 'metric': 'manhattan'}. Best is trial 10 with value: 0.7094017094017094.\n",
            "[I 2023-07-24 07:21:08,068] Trial 116 finished with value: 0.6837606837606838 and parameters: {'n_neighbors': 5, 'weights': 'uniform', 'metric': 'manhattan'}. Best is trial 10 with value: 0.7094017094017094.\n",
            "[I 2023-07-24 07:21:08,091] Trial 117 finished with value: 0.6837606837606838 and parameters: {'n_neighbors': 6, 'weights': 'distance', 'metric': 'manhattan'}. Best is trial 10 with value: 0.7094017094017094.\n",
            "[I 2023-07-24 07:21:08,116] Trial 118 finished with value: 0.7094017094017094 and parameters: {'n_neighbors': 5, 'weights': 'distance', 'metric': 'manhattan'}. Best is trial 10 with value: 0.7094017094017094.\n",
            "[I 2023-07-24 07:21:08,141] Trial 119 finished with value: 0.7008547008547008 and parameters: {'n_neighbors': 8, 'weights': 'distance', 'metric': 'manhattan'}. Best is trial 10 with value: 0.7094017094017094.\n",
            "[I 2023-07-24 07:21:08,164] Trial 120 finished with value: 0.6837606837606838 and parameters: {'n_neighbors': 6, 'weights': 'distance', 'metric': 'manhattan'}. Best is trial 10 with value: 0.7094017094017094.\n",
            "[I 2023-07-24 07:21:08,190] Trial 121 finished with value: 0.7094017094017094 and parameters: {'n_neighbors': 5, 'weights': 'distance', 'metric': 'manhattan'}. Best is trial 10 with value: 0.7094017094017094.\n",
            "[I 2023-07-24 07:21:08,213] Trial 122 finished with value: 0.7094017094017094 and parameters: {'n_neighbors': 5, 'weights': 'distance', 'metric': 'manhattan'}. Best is trial 10 with value: 0.7094017094017094.\n",
            "[I 2023-07-24 07:21:08,238] Trial 123 finished with value: 0.7094017094017094 and parameters: {'n_neighbors': 5, 'weights': 'distance', 'metric': 'manhattan'}. Best is trial 10 with value: 0.7094017094017094.\n",
            "[I 2023-07-24 07:21:08,261] Trial 124 finished with value: 0.6837606837606838 and parameters: {'n_neighbors': 4, 'weights': 'distance', 'metric': 'manhattan'}. Best is trial 10 with value: 0.7094017094017094.\n",
            "[I 2023-07-24 07:21:08,286] Trial 125 finished with value: 0.7094017094017094 and parameters: {'n_neighbors': 5, 'weights': 'distance', 'metric': 'manhattan'}. Best is trial 10 with value: 0.7094017094017094.\n",
            "[I 2023-07-24 07:21:08,310] Trial 126 finished with value: 0.6837606837606838 and parameters: {'n_neighbors': 5, 'weights': 'distance', 'metric': 'euclidean'}. Best is trial 10 with value: 0.7094017094017094.\n",
            "[I 2023-07-24 07:21:08,334] Trial 127 finished with value: 0.6837606837606838 and parameters: {'n_neighbors': 6, 'weights': 'distance', 'metric': 'manhattan'}. Best is trial 10 with value: 0.7094017094017094.\n",
            "[I 2023-07-24 07:21:08,361] Trial 128 finished with value: 0.7094017094017094 and parameters: {'n_neighbors': 5, 'weights': 'distance', 'metric': 'manhattan'}. Best is trial 10 with value: 0.7094017094017094.\n",
            "[I 2023-07-24 07:21:08,383] Trial 129 finished with value: 0.6837606837606838 and parameters: {'n_neighbors': 4, 'weights': 'distance', 'metric': 'manhattan'}. Best is trial 10 with value: 0.7094017094017094.\n",
            "[I 2023-07-24 07:21:08,412] Trial 130 finished with value: 0.6666666666666666 and parameters: {'n_neighbors': 5, 'weights': 'uniform', 'metric': 'minkowski'}. Best is trial 10 with value: 0.7094017094017094.\n",
            "[I 2023-07-24 07:21:08,437] Trial 131 finished with value: 0.7094017094017094 and parameters: {'n_neighbors': 5, 'weights': 'distance', 'metric': 'manhattan'}. Best is trial 10 with value: 0.7094017094017094.\n",
            "[I 2023-07-24 07:21:08,461] Trial 132 finished with value: 0.7094017094017094 and parameters: {'n_neighbors': 5, 'weights': 'distance', 'metric': 'manhattan'}. Best is trial 10 with value: 0.7094017094017094.\n",
            "[I 2023-07-24 07:21:08,484] Trial 133 finished with value: 0.6752136752136753 and parameters: {'n_neighbors': 1, 'weights': 'distance', 'metric': 'manhattan'}. Best is trial 10 with value: 0.7094017094017094.\n",
            "[I 2023-07-24 07:21:08,508] Trial 134 finished with value: 0.6837606837606838 and parameters: {'n_neighbors': 4, 'weights': 'distance', 'metric': 'manhattan'}. Best is trial 10 with value: 0.7094017094017094.\n",
            "[I 2023-07-24 07:21:08,534] Trial 135 finished with value: 0.7094017094017094 and parameters: {'n_neighbors': 5, 'weights': 'distance', 'metric': 'manhattan'}. Best is trial 10 with value: 0.7094017094017094.\n",
            "[I 2023-07-24 07:21:08,561] Trial 136 finished with value: 0.6837606837606838 and parameters: {'n_neighbors': 6, 'weights': 'distance', 'metric': 'manhattan'}. Best is trial 10 with value: 0.7094017094017094.\n",
            "[I 2023-07-24 07:21:08,588] Trial 137 finished with value: 0.7094017094017094 and parameters: {'n_neighbors': 5, 'weights': 'distance', 'metric': 'manhattan'}. Best is trial 10 with value: 0.7094017094017094.\n",
            "[I 2023-07-24 07:21:08,618] Trial 138 finished with value: 0.7094017094017094 and parameters: {'n_neighbors': 7, 'weights': 'distance', 'metric': 'manhattan'}. Best is trial 10 with value: 0.7094017094017094.\n",
            "[I 2023-07-24 07:21:08,645] Trial 139 finished with value: 0.7094017094017094 and parameters: {'n_neighbors': 5, 'weights': 'distance', 'metric': 'manhattan'}. Best is trial 10 with value: 0.7094017094017094.\n",
            "[I 2023-07-24 07:21:08,670] Trial 140 finished with value: 0.6837606837606838 and parameters: {'n_neighbors': 6, 'weights': 'distance', 'metric': 'manhattan'}. Best is trial 10 with value: 0.7094017094017094.\n",
            "[I 2023-07-24 07:21:08,695] Trial 141 finished with value: 0.7094017094017094 and parameters: {'n_neighbors': 5, 'weights': 'distance', 'metric': 'manhattan'}. Best is trial 10 with value: 0.7094017094017094.\n",
            "[I 2023-07-24 07:21:08,723] Trial 142 finished with value: 0.7094017094017094 and parameters: {'n_neighbors': 5, 'weights': 'distance', 'metric': 'manhattan'}. Best is trial 10 with value: 0.7094017094017094.\n",
            "[I 2023-07-24 07:21:08,752] Trial 143 finished with value: 0.7094017094017094 and parameters: {'n_neighbors': 5, 'weights': 'distance', 'metric': 'manhattan'}. Best is trial 10 with value: 0.7094017094017094.\n",
            "[I 2023-07-24 07:21:08,783] Trial 144 finished with value: 0.7094017094017094 and parameters: {'n_neighbors': 5, 'weights': 'distance', 'metric': 'manhattan'}. Best is trial 10 with value: 0.7094017094017094.\n",
            "[I 2023-07-24 07:21:08,815] Trial 145 finished with value: 0.7094017094017094 and parameters: {'n_neighbors': 5, 'weights': 'distance', 'metric': 'manhattan'}. Best is trial 10 with value: 0.7094017094017094.\n",
            "[I 2023-07-24 07:21:08,849] Trial 146 finished with value: 0.7094017094017094 and parameters: {'n_neighbors': 5, 'weights': 'distance', 'metric': 'manhattan'}. Best is trial 10 with value: 0.7094017094017094.\n",
            "[I 2023-07-24 07:21:08,873] Trial 147 finished with value: 0.6837606837606838 and parameters: {'n_neighbors': 4, 'weights': 'distance', 'metric': 'manhattan'}. Best is trial 10 with value: 0.7094017094017094.\n",
            "[I 2023-07-24 07:21:08,898] Trial 148 finished with value: 0.7094017094017094 and parameters: {'n_neighbors': 5, 'weights': 'distance', 'metric': 'manhattan'}. Best is trial 10 with value: 0.7094017094017094.\n",
            "[I 2023-07-24 07:21:08,924] Trial 149 finished with value: 0.6837606837606838 and parameters: {'n_neighbors': 7, 'weights': 'distance', 'metric': 'euclidean'}. Best is trial 10 with value: 0.7094017094017094.\n",
            "[I 2023-07-24 07:21:08,949] Trial 150 finished with value: 0.6837606837606838 and parameters: {'n_neighbors': 6, 'weights': 'distance', 'metric': 'manhattan'}. Best is trial 10 with value: 0.7094017094017094.\n",
            "[I 2023-07-24 07:21:08,975] Trial 151 finished with value: 0.7094017094017094 and parameters: {'n_neighbors': 5, 'weights': 'distance', 'metric': 'manhattan'}. Best is trial 10 with value: 0.7094017094017094.\n",
            "[I 2023-07-24 07:21:09,001] Trial 152 finished with value: 0.7094017094017094 and parameters: {'n_neighbors': 5, 'weights': 'distance', 'metric': 'manhattan'}. Best is trial 10 with value: 0.7094017094017094.\n",
            "[I 2023-07-24 07:21:09,029] Trial 153 finished with value: 0.7094017094017094 and parameters: {'n_neighbors': 5, 'weights': 'distance', 'metric': 'manhattan'}. Best is trial 10 with value: 0.7094017094017094.\n",
            "[I 2023-07-24 07:21:09,054] Trial 154 finished with value: 0.7094017094017094 and parameters: {'n_neighbors': 5, 'weights': 'distance', 'metric': 'manhattan'}. Best is trial 10 with value: 0.7094017094017094.\n",
            "[I 2023-07-24 07:21:09,080] Trial 155 finished with value: 0.7094017094017094 and parameters: {'n_neighbors': 5, 'weights': 'distance', 'metric': 'manhattan'}. Best is trial 10 with value: 0.7094017094017094.\n",
            "[I 2023-07-24 07:21:09,111] Trial 156 finished with value: 0.6923076923076923 and parameters: {'n_neighbors': 4, 'weights': 'uniform', 'metric': 'manhattan'}. Best is trial 10 with value: 0.7094017094017094.\n",
            "[I 2023-07-24 07:21:09,136] Trial 157 finished with value: 0.6837606837606838 and parameters: {'n_neighbors': 5, 'weights': 'distance', 'metric': 'minkowski'}. Best is trial 10 with value: 0.7094017094017094.\n",
            "[I 2023-07-24 07:21:09,162] Trial 158 finished with value: 0.6837606837606838 and parameters: {'n_neighbors': 6, 'weights': 'distance', 'metric': 'manhattan'}. Best is trial 10 with value: 0.7094017094017094.\n",
            "[I 2023-07-24 07:21:09,188] Trial 159 finished with value: 0.7094017094017094 and parameters: {'n_neighbors': 5, 'weights': 'distance', 'metric': 'manhattan'}. Best is trial 10 with value: 0.7094017094017094.\n",
            "[I 2023-07-24 07:21:09,215] Trial 160 finished with value: 0.7094017094017094 and parameters: {'n_neighbors': 5, 'weights': 'distance', 'metric': 'manhattan'}. Best is trial 10 with value: 0.7094017094017094.\n",
            "[I 2023-07-24 07:21:09,240] Trial 161 finished with value: 0.7094017094017094 and parameters: {'n_neighbors': 5, 'weights': 'distance', 'metric': 'manhattan'}. Best is trial 10 with value: 0.7094017094017094.\n",
            "[I 2023-07-24 07:21:09,266] Trial 162 finished with value: 0.7094017094017094 and parameters: {'n_neighbors': 5, 'weights': 'distance', 'metric': 'manhattan'}. Best is trial 10 with value: 0.7094017094017094.\n",
            "[I 2023-07-24 07:21:09,292] Trial 163 finished with value: 0.7094017094017094 and parameters: {'n_neighbors': 5, 'weights': 'distance', 'metric': 'manhattan'}. Best is trial 10 with value: 0.7094017094017094.\n",
            "[I 2023-07-24 07:21:09,317] Trial 164 finished with value: 0.6837606837606838 and parameters: {'n_neighbors': 4, 'weights': 'distance', 'metric': 'manhattan'}. Best is trial 10 with value: 0.7094017094017094.\n",
            "[I 2023-07-24 07:21:09,342] Trial 165 finished with value: 0.7094017094017094 and parameters: {'n_neighbors': 5, 'weights': 'distance', 'metric': 'manhattan'}. Best is trial 10 with value: 0.7094017094017094.\n",
            "[I 2023-07-24 07:21:09,365] Trial 166 finished with value: 0.7094017094017094 and parameters: {'n_neighbors': 5, 'weights': 'distance', 'metric': 'manhattan'}. Best is trial 10 with value: 0.7094017094017094.\n",
            "[I 2023-07-24 07:21:09,393] Trial 167 finished with value: 0.7094017094017094 and parameters: {'n_neighbors': 5, 'weights': 'distance', 'metric': 'manhattan'}. Best is trial 10 with value: 0.7094017094017094.\n",
            "[I 2023-07-24 07:21:09,416] Trial 168 finished with value: 0.6923076923076923 and parameters: {'n_neighbors': 9, 'weights': 'distance', 'metric': 'manhattan'}. Best is trial 10 with value: 0.7094017094017094.\n",
            "[I 2023-07-24 07:21:09,449] Trial 169 finished with value: 0.6837606837606838 and parameters: {'n_neighbors': 4, 'weights': 'distance', 'metric': 'manhattan'}. Best is trial 10 with value: 0.7094017094017094.\n",
            "[I 2023-07-24 07:21:09,475] Trial 170 finished with value: 0.7094017094017094 and parameters: {'n_neighbors': 5, 'weights': 'distance', 'metric': 'manhattan'}. Best is trial 10 with value: 0.7094017094017094.\n",
            "[I 2023-07-24 07:21:09,500] Trial 171 finished with value: 0.7094017094017094 and parameters: {'n_neighbors': 7, 'weights': 'distance', 'metric': 'manhattan'}. Best is trial 10 with value: 0.7094017094017094.\n",
            "[I 2023-07-24 07:21:09,531] Trial 172 finished with value: 0.7094017094017094 and parameters: {'n_neighbors': 7, 'weights': 'distance', 'metric': 'manhattan'}. Best is trial 10 with value: 0.7094017094017094.\n",
            "[I 2023-07-24 07:21:09,560] Trial 173 finished with value: 0.7094017094017094 and parameters: {'n_neighbors': 7, 'weights': 'distance', 'metric': 'manhattan'}. Best is trial 10 with value: 0.7094017094017094.\n",
            "[I 2023-07-24 07:21:09,586] Trial 174 finished with value: 0.7094017094017094 and parameters: {'n_neighbors': 5, 'weights': 'distance', 'metric': 'manhattan'}. Best is trial 10 with value: 0.7094017094017094.\n",
            "[I 2023-07-24 07:21:09,613] Trial 175 finished with value: 0.7094017094017094 and parameters: {'n_neighbors': 7, 'weights': 'distance', 'metric': 'manhattan'}. Best is trial 10 with value: 0.7094017094017094.\n",
            "[I 2023-07-24 07:21:09,637] Trial 176 finished with value: 0.6837606837606838 and parameters: {'n_neighbors': 5, 'weights': 'distance', 'metric': 'euclidean'}. Best is trial 10 with value: 0.7094017094017094.\n",
            "[I 2023-07-24 07:21:09,680] Trial 177 finished with value: 0.6837606837606838 and parameters: {'n_neighbors': 6, 'weights': 'distance', 'metric': 'manhattan'}. Best is trial 10 with value: 0.7094017094017094.\n",
            "[I 2023-07-24 07:21:09,709] Trial 178 finished with value: 0.6837606837606838 and parameters: {'n_neighbors': 5, 'weights': 'uniform', 'metric': 'manhattan'}. Best is trial 10 with value: 0.7094017094017094.\n",
            "[I 2023-07-24 07:21:09,735] Trial 179 finished with value: 0.7008547008547008 and parameters: {'n_neighbors': 8, 'weights': 'distance', 'metric': 'manhattan'}. Best is trial 10 with value: 0.7094017094017094.\n",
            "[I 2023-07-24 07:21:09,761] Trial 180 finished with value: 0.7094017094017094 and parameters: {'n_neighbors': 5, 'weights': 'distance', 'metric': 'manhattan'}. Best is trial 10 with value: 0.7094017094017094.\n",
            "[I 2023-07-24 07:21:09,788] Trial 181 finished with value: 0.7094017094017094 and parameters: {'n_neighbors': 5, 'weights': 'distance', 'metric': 'manhattan'}. Best is trial 10 with value: 0.7094017094017094.\n",
            "[I 2023-07-24 07:21:09,817] Trial 182 finished with value: 0.7094017094017094 and parameters: {'n_neighbors': 5, 'weights': 'distance', 'metric': 'manhattan'}. Best is trial 10 with value: 0.7094017094017094.\n",
            "[I 2023-07-24 07:21:09,842] Trial 183 finished with value: 0.7094017094017094 and parameters: {'n_neighbors': 5, 'weights': 'distance', 'metric': 'manhattan'}. Best is trial 10 with value: 0.7094017094017094.\n",
            "[I 2023-07-24 07:21:09,876] Trial 184 finished with value: 0.7094017094017094 and parameters: {'n_neighbors': 5, 'weights': 'distance', 'metric': 'manhattan'}. Best is trial 10 with value: 0.7094017094017094.\n",
            "[I 2023-07-24 07:21:09,903] Trial 185 finished with value: 0.6837606837606838 and parameters: {'n_neighbors': 5, 'weights': 'distance', 'metric': 'minkowski'}. Best is trial 10 with value: 0.7094017094017094.\n",
            "[I 2023-07-24 07:21:09,930] Trial 186 finished with value: 0.6837606837606838 and parameters: {'n_neighbors': 6, 'weights': 'distance', 'metric': 'manhattan'}. Best is trial 10 with value: 0.7094017094017094.\n",
            "[I 2023-07-24 07:21:09,956] Trial 187 finished with value: 0.7094017094017094 and parameters: {'n_neighbors': 5, 'weights': 'distance', 'metric': 'manhattan'}. Best is trial 10 with value: 0.7094017094017094.\n",
            "[I 2023-07-24 07:21:09,982] Trial 188 finished with value: 0.7094017094017094 and parameters: {'n_neighbors': 5, 'weights': 'distance', 'metric': 'manhattan'}. Best is trial 10 with value: 0.7094017094017094.\n",
            "[I 2023-07-24 07:21:10,012] Trial 189 finished with value: 0.7094017094017094 and parameters: {'n_neighbors': 5, 'weights': 'distance', 'metric': 'manhattan'}. Best is trial 10 with value: 0.7094017094017094.\n",
            "[I 2023-07-24 07:21:10,040] Trial 190 finished with value: 0.7094017094017094 and parameters: {'n_neighbors': 7, 'weights': 'distance', 'metric': 'manhattan'}. Best is trial 10 with value: 0.7094017094017094.\n",
            "[I 2023-07-24 07:21:10,066] Trial 191 finished with value: 0.7094017094017094 and parameters: {'n_neighbors': 5, 'weights': 'distance', 'metric': 'manhattan'}. Best is trial 10 with value: 0.7094017094017094.\n",
            "[I 2023-07-24 07:21:10,093] Trial 192 finished with value: 0.7094017094017094 and parameters: {'n_neighbors': 7, 'weights': 'distance', 'metric': 'manhattan'}. Best is trial 10 with value: 0.7094017094017094.\n",
            "[I 2023-07-24 07:21:10,121] Trial 193 finished with value: 0.7094017094017094 and parameters: {'n_neighbors': 7, 'weights': 'distance', 'metric': 'manhattan'}. Best is trial 10 with value: 0.7094017094017094.\n",
            "[I 2023-07-24 07:21:10,153] Trial 194 finished with value: 0.7094017094017094 and parameters: {'n_neighbors': 7, 'weights': 'distance', 'metric': 'manhattan'}. Best is trial 10 with value: 0.7094017094017094.\n",
            "[I 2023-07-24 07:21:10,182] Trial 195 finished with value: 0.7094017094017094 and parameters: {'n_neighbors': 7, 'weights': 'distance', 'metric': 'manhattan'}. Best is trial 10 with value: 0.7094017094017094.\n",
            "[I 2023-07-24 07:21:10,210] Trial 196 finished with value: 0.7094017094017094 and parameters: {'n_neighbors': 5, 'weights': 'distance', 'metric': 'manhattan'}. Best is trial 10 with value: 0.7094017094017094.\n",
            "[I 2023-07-24 07:21:10,237] Trial 197 finished with value: 0.7094017094017094 and parameters: {'n_neighbors': 5, 'weights': 'distance', 'metric': 'manhattan'}. Best is trial 10 with value: 0.7094017094017094.\n",
            "[I 2023-07-24 07:21:10,261] Trial 198 finished with value: 0.7008547008547008 and parameters: {'n_neighbors': 8, 'weights': 'distance', 'metric': 'manhattan'}. Best is trial 10 with value: 0.7094017094017094.\n",
            "[I 2023-07-24 07:21:10,290] Trial 199 finished with value: 0.6837606837606838 and parameters: {'n_neighbors': 6, 'weights': 'distance', 'metric': 'manhattan'}. Best is trial 10 with value: 0.7094017094017094.\n",
            "[I 2023-07-24 07:21:10,332] Trial 200 finished with value: 0.7094017094017094 and parameters: {'n_neighbors': 5, 'weights': 'distance', 'metric': 'manhattan'}. Best is trial 10 with value: 0.7094017094017094.\n",
            "[I 2023-07-24 07:21:10,369] Trial 201 finished with value: 0.7094017094017094 and parameters: {'n_neighbors': 5, 'weights': 'distance', 'metric': 'manhattan'}. Best is trial 10 with value: 0.7094017094017094.\n",
            "[I 2023-07-24 07:21:10,414] Trial 202 finished with value: 0.7094017094017094 and parameters: {'n_neighbors': 5, 'weights': 'distance', 'metric': 'manhattan'}. Best is trial 10 with value: 0.7094017094017094.\n",
            "[I 2023-07-24 07:21:10,459] Trial 203 finished with value: 0.7094017094017094 and parameters: {'n_neighbors': 5, 'weights': 'distance', 'metric': 'manhattan'}. Best is trial 10 with value: 0.7094017094017094.\n",
            "[I 2023-07-24 07:21:10,500] Trial 204 finished with value: 0.7094017094017094 and parameters: {'n_neighbors': 5, 'weights': 'distance', 'metric': 'manhattan'}. Best is trial 10 with value: 0.7094017094017094.\n",
            "[I 2023-07-24 07:21:10,544] Trial 205 finished with value: 0.7094017094017094 and parameters: {'n_neighbors': 5, 'weights': 'distance', 'metric': 'manhattan'}. Best is trial 10 with value: 0.7094017094017094.\n",
            "[I 2023-07-24 07:21:10,583] Trial 206 finished with value: 0.7094017094017094 and parameters: {'n_neighbors': 5, 'weights': 'distance', 'metric': 'manhattan'}. Best is trial 10 with value: 0.7094017094017094.\n",
            "[I 2023-07-24 07:21:10,629] Trial 207 finished with value: 0.6923076923076923 and parameters: {'n_neighbors': 7, 'weights': 'uniform', 'metric': 'manhattan'}. Best is trial 10 with value: 0.7094017094017094.\n",
            "[I 2023-07-24 07:21:10,667] Trial 208 finished with value: 0.6837606837606838 and parameters: {'n_neighbors': 5, 'weights': 'distance', 'metric': 'euclidean'}. Best is trial 10 with value: 0.7094017094017094.\n",
            "[I 2023-07-24 07:21:10,708] Trial 209 finished with value: 0.7094017094017094 and parameters: {'n_neighbors': 5, 'weights': 'distance', 'metric': 'manhattan'}. Best is trial 10 with value: 0.7094017094017094.\n",
            "[I 2023-07-24 07:21:10,749] Trial 210 finished with value: 0.7094017094017094 and parameters: {'n_neighbors': 5, 'weights': 'distance', 'metric': 'manhattan'}. Best is trial 10 with value: 0.7094017094017094.\n",
            "[I 2023-07-24 07:21:10,789] Trial 211 finished with value: 0.7094017094017094 and parameters: {'n_neighbors': 5, 'weights': 'distance', 'metric': 'manhattan'}. Best is trial 10 with value: 0.7094017094017094.\n",
            "[I 2023-07-24 07:21:10,828] Trial 212 finished with value: 0.7094017094017094 and parameters: {'n_neighbors': 5, 'weights': 'distance', 'metric': 'manhattan'}. Best is trial 10 with value: 0.7094017094017094.\n",
            "[I 2023-07-24 07:21:10,868] Trial 213 finished with value: 0.7094017094017094 and parameters: {'n_neighbors': 5, 'weights': 'distance', 'metric': 'manhattan'}. Best is trial 10 with value: 0.7094017094017094.\n",
            "[I 2023-07-24 07:21:10,912] Trial 214 finished with value: 0.7094017094017094 and parameters: {'n_neighbors': 5, 'weights': 'distance', 'metric': 'manhattan'}. Best is trial 10 with value: 0.7094017094017094.\n",
            "[I 2023-07-24 07:21:10,956] Trial 215 finished with value: 0.7094017094017094 and parameters: {'n_neighbors': 5, 'weights': 'distance', 'metric': 'manhattan'}. Best is trial 10 with value: 0.7094017094017094.\n",
            "[I 2023-07-24 07:21:10,999] Trial 216 finished with value: 0.6837606837606838 and parameters: {'n_neighbors': 4, 'weights': 'distance', 'metric': 'manhattan'}. Best is trial 10 with value: 0.7094017094017094.\n",
            "[I 2023-07-24 07:21:11,047] Trial 217 finished with value: 0.6837606837606838 and parameters: {'n_neighbors': 5, 'weights': 'distance', 'metric': 'minkowski'}. Best is trial 10 with value: 0.7094017094017094.\n",
            "[I 2023-07-24 07:21:11,087] Trial 218 finished with value: 0.7094017094017094 and parameters: {'n_neighbors': 5, 'weights': 'distance', 'metric': 'manhattan'}. Best is trial 10 with value: 0.7094017094017094.\n",
            "[I 2023-07-24 07:21:11,134] Trial 219 finished with value: 0.6837606837606838 and parameters: {'n_neighbors': 6, 'weights': 'distance', 'metric': 'manhattan'}. Best is trial 10 with value: 0.7094017094017094.\n",
            "[I 2023-07-24 07:21:11,182] Trial 220 finished with value: 0.7094017094017094 and parameters: {'n_neighbors': 7, 'weights': 'distance', 'metric': 'manhattan'}. Best is trial 10 with value: 0.7094017094017094.\n",
            "[I 2023-07-24 07:21:11,224] Trial 221 finished with value: 0.7094017094017094 and parameters: {'n_neighbors': 5, 'weights': 'distance', 'metric': 'manhattan'}. Best is trial 10 with value: 0.7094017094017094.\n",
            "[I 2023-07-24 07:21:11,264] Trial 222 finished with value: 0.7094017094017094 and parameters: {'n_neighbors': 5, 'weights': 'distance', 'metric': 'manhattan'}. Best is trial 10 with value: 0.7094017094017094.\n",
            "[I 2023-07-24 07:21:11,304] Trial 223 finished with value: 0.7094017094017094 and parameters: {'n_neighbors': 5, 'weights': 'distance', 'metric': 'manhattan'}. Best is trial 10 with value: 0.7094017094017094.\n",
            "[I 2023-07-24 07:21:11,344] Trial 224 finished with value: 0.7094017094017094 and parameters: {'n_neighbors': 5, 'weights': 'distance', 'metric': 'manhattan'}. Best is trial 10 with value: 0.7094017094017094.\n",
            "[I 2023-07-24 07:21:11,382] Trial 225 finished with value: 0.7094017094017094 and parameters: {'n_neighbors': 5, 'weights': 'distance', 'metric': 'manhattan'}. Best is trial 10 with value: 0.7094017094017094.\n",
            "[I 2023-07-24 07:21:11,422] Trial 226 finished with value: 0.7094017094017094 and parameters: {'n_neighbors': 5, 'weights': 'distance', 'metric': 'manhattan'}. Best is trial 10 with value: 0.7094017094017094.\n",
            "[I 2023-07-24 07:21:11,461] Trial 227 finished with value: 0.7094017094017094 and parameters: {'n_neighbors': 5, 'weights': 'distance', 'metric': 'manhattan'}. Best is trial 10 with value: 0.7094017094017094.\n",
            "[I 2023-07-24 07:21:11,500] Trial 228 finished with value: 0.7094017094017094 and parameters: {'n_neighbors': 5, 'weights': 'distance', 'metric': 'manhattan'}. Best is trial 10 with value: 0.7094017094017094.\n",
            "[I 2023-07-24 07:21:11,547] Trial 229 finished with value: 0.7094017094017094 and parameters: {'n_neighbors': 5, 'weights': 'distance', 'metric': 'manhattan'}. Best is trial 10 with value: 0.7094017094017094.\n",
            "[I 2023-07-24 07:21:11,590] Trial 230 finished with value: 0.7094017094017094 and parameters: {'n_neighbors': 7, 'weights': 'distance', 'metric': 'manhattan'}. Best is trial 10 with value: 0.7094017094017094.\n",
            "[I 2023-07-24 07:21:11,634] Trial 231 finished with value: 0.7094017094017094 and parameters: {'n_neighbors': 5, 'weights': 'distance', 'metric': 'manhattan'}. Best is trial 10 with value: 0.7094017094017094.\n",
            "[I 2023-07-24 07:21:11,682] Trial 232 finished with value: 0.7094017094017094 and parameters: {'n_neighbors': 5, 'weights': 'distance', 'metric': 'manhattan'}. Best is trial 10 with value: 0.7094017094017094.\n",
            "[I 2023-07-24 07:21:11,728] Trial 233 finished with value: 0.7094017094017094 and parameters: {'n_neighbors': 5, 'weights': 'distance', 'metric': 'manhattan'}. Best is trial 10 with value: 0.7094017094017094.\n",
            "[I 2023-07-24 07:21:11,775] Trial 234 finished with value: 0.7094017094017094 and parameters: {'n_neighbors': 5, 'weights': 'distance', 'metric': 'manhattan'}. Best is trial 10 with value: 0.7094017094017094.\n",
            "[I 2023-07-24 07:21:11,821] Trial 235 finished with value: 0.7094017094017094 and parameters: {'n_neighbors': 5, 'weights': 'distance', 'metric': 'manhattan'}. Best is trial 10 with value: 0.7094017094017094.\n",
            "[I 2023-07-24 07:21:11,866] Trial 236 finished with value: 0.7094017094017094 and parameters: {'n_neighbors': 5, 'weights': 'distance', 'metric': 'manhattan'}. Best is trial 10 with value: 0.7094017094017094.\n",
            "[I 2023-07-24 07:21:11,909] Trial 237 finished with value: 0.7094017094017094 and parameters: {'n_neighbors': 5, 'weights': 'distance', 'metric': 'manhattan'}. Best is trial 10 with value: 0.7094017094017094.\n",
            "[I 2023-07-24 07:21:11,965] Trial 238 finished with value: 0.6923076923076923 and parameters: {'n_neighbors': 7, 'weights': 'uniform', 'metric': 'manhattan'}. Best is trial 10 with value: 0.7094017094017094.\n",
            "[I 2023-07-24 07:21:12,006] Trial 239 finished with value: 0.7094017094017094 and parameters: {'n_neighbors': 5, 'weights': 'distance', 'metric': 'manhattan'}. Best is trial 10 with value: 0.7094017094017094.\n",
            "[I 2023-07-24 07:21:12,048] Trial 240 finished with value: 0.7094017094017094 and parameters: {'n_neighbors': 5, 'weights': 'distance', 'metric': 'manhattan'}. Best is trial 10 with value: 0.7094017094017094.\n",
            "[I 2023-07-24 07:21:12,089] Trial 241 finished with value: 0.7094017094017094 and parameters: {'n_neighbors': 5, 'weights': 'distance', 'metric': 'manhattan'}. Best is trial 10 with value: 0.7094017094017094.\n",
            "[I 2023-07-24 07:21:12,142] Trial 242 finished with value: 0.7094017094017094 and parameters: {'n_neighbors': 5, 'weights': 'distance', 'metric': 'manhattan'}. Best is trial 10 with value: 0.7094017094017094.\n",
            "[I 2023-07-24 07:21:12,182] Trial 243 finished with value: 0.7094017094017094 and parameters: {'n_neighbors': 5, 'weights': 'distance', 'metric': 'manhattan'}. Best is trial 10 with value: 0.7094017094017094.\n",
            "[I 2023-07-24 07:21:12,226] Trial 244 finished with value: 0.7094017094017094 and parameters: {'n_neighbors': 5, 'weights': 'distance', 'metric': 'manhattan'}. Best is trial 10 with value: 0.7094017094017094.\n",
            "[I 2023-07-24 07:21:12,269] Trial 245 finished with value: 0.6837606837606838 and parameters: {'n_neighbors': 5, 'weights': 'distance', 'metric': 'euclidean'}. Best is trial 10 with value: 0.7094017094017094.\n",
            "[I 2023-07-24 07:21:12,311] Trial 246 finished with value: 0.7094017094017094 and parameters: {'n_neighbors': 5, 'weights': 'distance', 'metric': 'manhattan'}. Best is trial 10 with value: 0.7094017094017094.\n",
            "[I 2023-07-24 07:21:12,353] Trial 247 finished with value: 0.7094017094017094 and parameters: {'n_neighbors': 5, 'weights': 'distance', 'metric': 'manhattan'}. Best is trial 10 with value: 0.7094017094017094.\n",
            "[I 2023-07-24 07:21:12,396] Trial 248 finished with value: 0.7094017094017094 and parameters: {'n_neighbors': 5, 'weights': 'distance', 'metric': 'manhattan'}. Best is trial 10 with value: 0.7094017094017094.\n",
            "[I 2023-07-24 07:21:12,440] Trial 249 finished with value: 0.6837606837606838 and parameters: {'n_neighbors': 4, 'weights': 'distance', 'metric': 'manhattan'}. Best is trial 10 with value: 0.7094017094017094.\n",
            "[I 2023-07-24 07:21:12,483] Trial 250 finished with value: 0.7094017094017094 and parameters: {'n_neighbors': 5, 'weights': 'distance', 'metric': 'manhattan'}. Best is trial 10 with value: 0.7094017094017094.\n",
            "[I 2023-07-24 07:21:12,533] Trial 251 finished with value: 0.6837606837606838 and parameters: {'n_neighbors': 6, 'weights': 'distance', 'metric': 'manhattan'}. Best is trial 10 with value: 0.7094017094017094.\n",
            "[I 2023-07-24 07:21:12,585] Trial 252 finished with value: 0.6837606837606838 and parameters: {'n_neighbors': 5, 'weights': 'distance', 'metric': 'minkowski'}. Best is trial 10 with value: 0.7094017094017094.\n",
            "[I 2023-07-24 07:21:12,627] Trial 253 finished with value: 0.7094017094017094 and parameters: {'n_neighbors': 7, 'weights': 'distance', 'metric': 'manhattan'}. Best is trial 10 with value: 0.7094017094017094.\n",
            "[I 2023-07-24 07:21:12,675] Trial 254 finished with value: 0.7094017094017094 and parameters: {'n_neighbors': 5, 'weights': 'distance', 'metric': 'manhattan'}. Best is trial 10 with value: 0.7094017094017094.\n",
            "[I 2023-07-24 07:21:12,723] Trial 255 finished with value: 0.7094017094017094 and parameters: {'n_neighbors': 5, 'weights': 'distance', 'metric': 'manhattan'}. Best is trial 10 with value: 0.7094017094017094.\n",
            "[I 2023-07-24 07:21:12,776] Trial 256 finished with value: 0.6752136752136753 and parameters: {'n_neighbors': 2, 'weights': 'distance', 'metric': 'manhattan'}. Best is trial 10 with value: 0.7094017094017094.\n",
            "[I 2023-07-24 07:21:12,825] Trial 257 finished with value: 0.7094017094017094 and parameters: {'n_neighbors': 5, 'weights': 'distance', 'metric': 'manhattan'}. Best is trial 10 with value: 0.7094017094017094.\n",
            "[I 2023-07-24 07:21:12,871] Trial 258 finished with value: 0.7094017094017094 and parameters: {'n_neighbors': 5, 'weights': 'distance', 'metric': 'manhattan'}. Best is trial 10 with value: 0.7094017094017094.\n",
            "[I 2023-07-24 07:21:12,921] Trial 259 finished with value: 0.6752136752136753 and parameters: {'n_neighbors': 10, 'weights': 'distance', 'metric': 'manhattan'}. Best is trial 10 with value: 0.7094017094017094.\n",
            "[I 2023-07-24 07:21:12,963] Trial 260 finished with value: 0.7094017094017094 and parameters: {'n_neighbors': 5, 'weights': 'distance', 'metric': 'manhattan'}. Best is trial 10 with value: 0.7094017094017094.\n",
            "[I 2023-07-24 07:21:13,019] Trial 261 finished with value: 0.6923076923076923 and parameters: {'n_neighbors': 7, 'weights': 'uniform', 'metric': 'manhattan'}. Best is trial 10 with value: 0.7094017094017094.\n",
            "[I 2023-07-24 07:21:13,062] Trial 262 finished with value: 0.7094017094017094 and parameters: {'n_neighbors': 5, 'weights': 'distance', 'metric': 'manhattan'}. Best is trial 10 with value: 0.7094017094017094.\n",
            "[I 2023-07-24 07:21:13,104] Trial 263 finished with value: 0.7094017094017094 and parameters: {'n_neighbors': 5, 'weights': 'distance', 'metric': 'manhattan'}. Best is trial 10 with value: 0.7094017094017094.\n",
            "[I 2023-07-24 07:21:13,147] Trial 264 finished with value: 0.6837606837606838 and parameters: {'n_neighbors': 4, 'weights': 'distance', 'metric': 'manhattan'}. Best is trial 10 with value: 0.7094017094017094.\n",
            "[I 2023-07-24 07:21:13,189] Trial 265 finished with value: 0.7094017094017094 and parameters: {'n_neighbors': 5, 'weights': 'distance', 'metric': 'manhattan'}. Best is trial 10 with value: 0.7094017094017094.\n",
            "[I 2023-07-24 07:21:13,240] Trial 266 finished with value: 0.6666666666666666 and parameters: {'n_neighbors': 6, 'weights': 'distance', 'metric': 'euclidean'}. Best is trial 10 with value: 0.7094017094017094.\n",
            "[I 2023-07-24 07:21:13,289] Trial 267 finished with value: 0.7094017094017094 and parameters: {'n_neighbors': 5, 'weights': 'distance', 'metric': 'manhattan'}. Best is trial 10 with value: 0.7094017094017094.\n",
            "[I 2023-07-24 07:21:13,332] Trial 268 finished with value: 0.7094017094017094 and parameters: {'n_neighbors': 7, 'weights': 'distance', 'metric': 'manhattan'}. Best is trial 10 with value: 0.7094017094017094.\n",
            "[I 2023-07-24 07:21:13,376] Trial 269 finished with value: 0.7094017094017094 and parameters: {'n_neighbors': 5, 'weights': 'distance', 'metric': 'manhattan'}. Best is trial 10 with value: 0.7094017094017094.\n",
            "[I 2023-07-24 07:21:13,421] Trial 270 finished with value: 0.7008547008547008 and parameters: {'n_neighbors': 8, 'weights': 'distance', 'metric': 'manhattan'}. Best is trial 10 with value: 0.7094017094017094.\n",
            "[I 2023-07-24 07:21:13,469] Trial 271 finished with value: 0.6837606837606838 and parameters: {'n_neighbors': 6, 'weights': 'distance', 'metric': 'manhattan'}. Best is trial 10 with value: 0.7094017094017094.\n",
            "[I 2023-07-24 07:21:13,512] Trial 272 finished with value: 0.7094017094017094 and parameters: {'n_neighbors': 5, 'weights': 'distance', 'metric': 'manhattan'}. Best is trial 10 with value: 0.7094017094017094.\n",
            "[I 2023-07-24 07:21:13,555] Trial 273 finished with value: 0.7094017094017094 and parameters: {'n_neighbors': 5, 'weights': 'distance', 'metric': 'manhattan'}. Best is trial 10 with value: 0.7094017094017094.\n",
            "[I 2023-07-24 07:21:13,597] Trial 274 finished with value: 0.6837606837606838 and parameters: {'n_neighbors': 5, 'weights': 'distance', 'metric': 'minkowski'}. Best is trial 10 with value: 0.7094017094017094.\n",
            "[I 2023-07-24 07:21:13,626] Trial 275 finished with value: 0.7094017094017094 and parameters: {'n_neighbors': 5, 'weights': 'distance', 'metric': 'manhattan'}. Best is trial 10 with value: 0.7094017094017094.\n",
            "[I 2023-07-24 07:21:13,655] Trial 276 finished with value: 0.7094017094017094 and parameters: {'n_neighbors': 5, 'weights': 'distance', 'metric': 'manhattan'}. Best is trial 10 with value: 0.7094017094017094.\n",
            "[I 2023-07-24 07:21:13,683] Trial 277 finished with value: 0.7094017094017094 and parameters: {'n_neighbors': 5, 'weights': 'distance', 'metric': 'manhattan'}. Best is trial 10 with value: 0.7094017094017094.\n",
            "[I 2023-07-24 07:21:13,715] Trial 278 finished with value: 0.6837606837606838 and parameters: {'n_neighbors': 4, 'weights': 'distance', 'metric': 'manhattan'}. Best is trial 10 with value: 0.7094017094017094.\n",
            "[I 2023-07-24 07:21:13,747] Trial 279 finished with value: 0.7094017094017094 and parameters: {'n_neighbors': 5, 'weights': 'distance', 'metric': 'manhattan'}. Best is trial 10 with value: 0.7094017094017094.\n",
            "[I 2023-07-24 07:21:13,782] Trial 280 finished with value: 0.6837606837606838 and parameters: {'n_neighbors': 5, 'weights': 'uniform', 'metric': 'manhattan'}. Best is trial 10 with value: 0.7094017094017094.\n",
            "[I 2023-07-24 07:21:13,813] Trial 281 finished with value: 0.7094017094017094 and parameters: {'n_neighbors': 5, 'weights': 'distance', 'metric': 'manhattan'}. Best is trial 10 with value: 0.7094017094017094.\n",
            "[I 2023-07-24 07:21:13,843] Trial 282 finished with value: 0.6923076923076923 and parameters: {'n_neighbors': 9, 'weights': 'distance', 'metric': 'manhattan'}. Best is trial 10 with value: 0.7094017094017094.\n",
            "[I 2023-07-24 07:21:13,872] Trial 283 finished with value: 0.6837606837606838 and parameters: {'n_neighbors': 4, 'weights': 'distance', 'metric': 'manhattan'}. Best is trial 10 with value: 0.7094017094017094.\n",
            "[I 2023-07-24 07:21:13,901] Trial 284 finished with value: 0.6837606837606838 and parameters: {'n_neighbors': 6, 'weights': 'distance', 'metric': 'manhattan'}. Best is trial 10 with value: 0.7094017094017094.\n",
            "[I 2023-07-24 07:21:13,931] Trial 285 finished with value: 0.7094017094017094 and parameters: {'n_neighbors': 7, 'weights': 'distance', 'metric': 'manhattan'}. Best is trial 10 with value: 0.7094017094017094.\n",
            "[I 2023-07-24 07:21:13,964] Trial 286 finished with value: 0.7094017094017094 and parameters: {'n_neighbors': 5, 'weights': 'distance', 'metric': 'manhattan'}. Best is trial 10 with value: 0.7094017094017094.\n",
            "[I 2023-07-24 07:21:13,994] Trial 287 finished with value: 0.7094017094017094 and parameters: {'n_neighbors': 5, 'weights': 'distance', 'metric': 'manhattan'}. Best is trial 10 with value: 0.7094017094017094.\n",
            "[I 2023-07-24 07:21:14,033] Trial 288 finished with value: 0.6837606837606838 and parameters: {'n_neighbors': 5, 'weights': 'distance', 'metric': 'euclidean'}. Best is trial 10 with value: 0.7094017094017094.\n",
            "[I 2023-07-24 07:21:14,062] Trial 289 finished with value: 0.7094017094017094 and parameters: {'n_neighbors': 5, 'weights': 'distance', 'metric': 'manhattan'}. Best is trial 10 with value: 0.7094017094017094.\n",
            "[I 2023-07-24 07:21:14,091] Trial 290 finished with value: 0.7094017094017094 and parameters: {'n_neighbors': 5, 'weights': 'distance', 'metric': 'manhattan'}. Best is trial 10 with value: 0.7094017094017094.\n",
            "[I 2023-07-24 07:21:14,119] Trial 291 finished with value: 0.7094017094017094 and parameters: {'n_neighbors': 7, 'weights': 'distance', 'metric': 'manhattan'}. Best is trial 10 with value: 0.7094017094017094.\n",
            "[I 2023-07-24 07:21:14,151] Trial 292 finished with value: 0.7094017094017094 and parameters: {'n_neighbors': 5, 'weights': 'distance', 'metric': 'manhattan'}. Best is trial 10 with value: 0.7094017094017094.\n",
            "[I 2023-07-24 07:21:14,182] Trial 293 finished with value: 0.7094017094017094 and parameters: {'n_neighbors': 5, 'weights': 'distance', 'metric': 'manhattan'}. Best is trial 10 with value: 0.7094017094017094.\n",
            "[I 2023-07-24 07:21:14,213] Trial 294 finished with value: 0.6837606837606838 and parameters: {'n_neighbors': 6, 'weights': 'distance', 'metric': 'manhattan'}. Best is trial 10 with value: 0.7094017094017094.\n",
            "[I 2023-07-24 07:21:14,243] Trial 295 finished with value: 0.6837606837606838 and parameters: {'n_neighbors': 5, 'weights': 'distance', 'metric': 'minkowski'}. Best is trial 10 with value: 0.7094017094017094.\n",
            "[I 2023-07-24 07:21:14,272] Trial 296 finished with value: 0.7094017094017094 and parameters: {'n_neighbors': 5, 'weights': 'distance', 'metric': 'manhattan'}. Best is trial 10 with value: 0.7094017094017094.\n",
            "[I 2023-07-24 07:21:14,301] Trial 297 finished with value: 0.6837606837606838 and parameters: {'n_neighbors': 4, 'weights': 'distance', 'metric': 'manhattan'}. Best is trial 10 with value: 0.7094017094017094.\n",
            "[I 2023-07-24 07:21:14,332] Trial 298 finished with value: 0.7094017094017094 and parameters: {'n_neighbors': 5, 'weights': 'distance', 'metric': 'manhattan'}. Best is trial 10 with value: 0.7094017094017094.\n",
            "[I 2023-07-24 07:21:14,369] Trial 299 finished with value: 0.6923076923076923 and parameters: {'n_neighbors': 7, 'weights': 'uniform', 'metric': 'manhattan'}. Best is trial 10 with value: 0.7094017094017094.\n"
          ]
        }
      ]
    },
    {
      "cell_type": "code",
      "source": [
        "optuna.visualization.plot_optimization_history(study)"
      ],
      "metadata": {
        "colab": {
          "base_uri": "https://localhost:8080/",
          "height": 542
        },
        "id": "X-SzRJIwZ-hW",
        "outputId": "adf24c81-c546-4827-eeae-6a1eaf813d4d"
      },
      "execution_count": 124,
      "outputs": [
        {
          "output_type": "display_data",
          "data": {
            "text/html": [
              "<html>\n",
              "<head><meta charset=\"utf-8\" /></head>\n",
              "<body>\n",
              "    <div>            <script src=\"https://cdnjs.cloudflare.com/ajax/libs/mathjax/2.7.5/MathJax.js?config=TeX-AMS-MML_SVG\"></script><script type=\"text/javascript\">if (window.MathJax && window.MathJax.Hub && window.MathJax.Hub.Config) {window.MathJax.Hub.Config({SVG: {font: \"STIX-Web\"}});}</script>                <script type=\"text/javascript\">window.PlotlyConfig = {MathJaxConfig: 'local'};</script>\n",
              "        <script src=\"https://cdn.plot.ly/plotly-2.18.2.min.js\"></script>                <div id=\"5e272c9a-ce60-483a-8026-a0d4499c529b\" class=\"plotly-graph-div\" style=\"height:525px; width:100%;\"></div>            <script type=\"text/javascript\">                                    window.PLOTLYENV=window.PLOTLYENV || {};                                    if (document.getElementById(\"5e272c9a-ce60-483a-8026-a0d4499c529b\")) {                    Plotly.newPlot(                        \"5e272c9a-ce60-483a-8026-a0d4499c529b\",                        [{\"mode\":\"markers\",\"name\":\"Objective Value\",\"x\":[0,1,2,3,4,5,6,7,8,9,10,11,12,13,14,15,16,17,18,19,20,21,22,23,24,25,26,27,28,29,30,31,32,33,34,35,36,37,38,39,40,41,42,43,44,45,46,47,48,49,50,51,52,53,54,55,56,57,58,59,60,61,62,63,64,65,66,67,68,69,70,71,72,73,74,75,76,77,78,79,80,81,82,83,84,85,86,87,88,89,90,91,92,93,94,95,96,97,98,99,100,101,102,103,104,105,106,107,108,109,110,111,112,113,114,115,116,117,118,119,120,121,122,123,124,125,126,127,128,129,130,131,132,133,134,135,136,137,138,139,140,141,142,143,144,145,146,147,148,149,150,151,152,153,154,155,156,157,158,159,160,161,162,163,164,165,166,167,168,169,170,171,172,173,174,175,176,177,178,179,180,181,182,183,184,185,186,187,188,189,190,191,192,193,194,195,196,197,198,199,200,201,202,203,204,205,206,207,208,209,210,211,212,213,214,215,216,217,218,219,220,221,222,223,224,225,226,227,228,229,230,231,232,233,234,235,236,237,238,239,240,241,242,243,244,245,246,247,248,249,250,251,252,253,254,255,256,257,258,259,260,261,262,263,264,265,266,267,268,269,270,271,272,273,274,275,276,277,278,279,280,281,282,283,284,285,286,287,288,289,290,291,292,293,294,295,296,297,298,299],\"y\":[0.6410256410256411,0.7008547008547008,0.6752136752136753,0.6752136752136753,0.6923076923076923,0.6495726495726496,0.6666666666666666,0.6410256410256411,0.6495726495726496,0.6581196581196581,0.7094017094017094,0.7094017094017094,0.7094017094017094,0.6837606837606838,0.7094017094017094,0.6666666666666666,0.6837606837606838,0.6837606837606838,0.6923076923076923,0.6837606837606838,0.7094017094017094,0.7094017094017094,0.6752136752136753,0.6837606837606838,0.6837606837606838,0.7094017094017094,0.6581196581196581,0.7094017094017094,0.6666666666666666,0.6410256410256411,0.6666666666666666,0.7094017094017094,0.7094017094017094,0.6837606837606838,0.6752136752136753,0.7094017094017094,0.6752136752136753,0.7094017094017094,0.6923076923076923,0.6923076923076923,0.6837606837606838,0.7094017094017094,0.7094017094017094,0.6837606837606838,0.6837606837606838,0.6837606837606838,0.7094017094017094,0.6837606837606838,0.6837606837606838,0.6666666666666666,0.6752136752136753,0.7094017094017094,0.6837606837606838,0.6837606837606838,0.7094017094017094,0.6837606837606838,0.6666666666666666,0.7094017094017094,0.7094017094017094,0.6666666666666666,0.6923076923076923,0.7008547008547008,0.6923076923076923,0.7094017094017094,0.6837606837606838,0.7094017094017094,0.6837606837606838,0.7094017094017094,0.6837606837606838,0.7094017094017094,0.6837606837606838,0.7094017094017094,0.7094017094017094,0.6837606837606838,0.6837606837606838,0.6837606837606838,0.6666666666666666,0.6666666666666666,0.6923076923076923,0.7094017094017094,0.7008547008547008,0.7094017094017094,0.7094017094017094,0.7094017094017094,0.6837606837606838,0.6837606837606838,0.6837606837606838,0.7094017094017094,0.6666666666666666,0.6752136752136753,0.6837606837606838,0.7094017094017094,0.7094017094017094,0.7094017094017094,0.6837606837606838,0.6666666666666666,0.7094017094017094,0.6837606837606838,0.6923076923076923,0.7094017094017094,0.7094017094017094,0.7094017094017094,0.7008547008547008,0.6837606837606838,0.7094017094017094,0.7094017094017094,0.7094017094017094,0.6666666666666666,0.7094017094017094,0.6837606837606838,0.6837606837606838,0.7094017094017094,0.6752136752136753,0.7094017094017094,0.6837606837606838,0.7094017094017094,0.6837606837606838,0.6837606837606838,0.7094017094017094,0.7008547008547008,0.6837606837606838,0.7094017094017094,0.7094017094017094,0.7094017094017094,0.6837606837606838,0.7094017094017094,0.6837606837606838,0.6837606837606838,0.7094017094017094,0.6837606837606838,0.6666666666666666,0.7094017094017094,0.7094017094017094,0.6752136752136753,0.6837606837606838,0.7094017094017094,0.6837606837606838,0.7094017094017094,0.7094017094017094,0.7094017094017094,0.6837606837606838,0.7094017094017094,0.7094017094017094,0.7094017094017094,0.7094017094017094,0.7094017094017094,0.7094017094017094,0.6837606837606838,0.7094017094017094,0.6837606837606838,0.6837606837606838,0.7094017094017094,0.7094017094017094,0.7094017094017094,0.7094017094017094,0.7094017094017094,0.6923076923076923,0.6837606837606838,0.6837606837606838,0.7094017094017094,0.7094017094017094,0.7094017094017094,0.7094017094017094,0.7094017094017094,0.6837606837606838,0.7094017094017094,0.7094017094017094,0.7094017094017094,0.6923076923076923,0.6837606837606838,0.7094017094017094,0.7094017094017094,0.7094017094017094,0.7094017094017094,0.7094017094017094,0.7094017094017094,0.6837606837606838,0.6837606837606838,0.6837606837606838,0.7008547008547008,0.7094017094017094,0.7094017094017094,0.7094017094017094,0.7094017094017094,0.7094017094017094,0.6837606837606838,0.6837606837606838,0.7094017094017094,0.7094017094017094,0.7094017094017094,0.7094017094017094,0.7094017094017094,0.7094017094017094,0.7094017094017094,0.7094017094017094,0.7094017094017094,0.7094017094017094,0.7094017094017094,0.7008547008547008,0.6837606837606838,0.7094017094017094,0.7094017094017094,0.7094017094017094,0.7094017094017094,0.7094017094017094,0.7094017094017094,0.7094017094017094,0.6923076923076923,0.6837606837606838,0.7094017094017094,0.7094017094017094,0.7094017094017094,0.7094017094017094,0.7094017094017094,0.7094017094017094,0.7094017094017094,0.6837606837606838,0.6837606837606838,0.7094017094017094,0.6837606837606838,0.7094017094017094,0.7094017094017094,0.7094017094017094,0.7094017094017094,0.7094017094017094,0.7094017094017094,0.7094017094017094,0.7094017094017094,0.7094017094017094,0.7094017094017094,0.7094017094017094,0.7094017094017094,0.7094017094017094,0.7094017094017094,0.7094017094017094,0.7094017094017094,0.7094017094017094,0.7094017094017094,0.6923076923076923,0.7094017094017094,0.7094017094017094,0.7094017094017094,0.7094017094017094,0.7094017094017094,0.7094017094017094,0.6837606837606838,0.7094017094017094,0.7094017094017094,0.7094017094017094,0.6837606837606838,0.7094017094017094,0.6837606837606838,0.6837606837606838,0.7094017094017094,0.7094017094017094,0.7094017094017094,0.6752136752136753,0.7094017094017094,0.7094017094017094,0.6752136752136753,0.7094017094017094,0.6923076923076923,0.7094017094017094,0.7094017094017094,0.6837606837606838,0.7094017094017094,0.6666666666666666,0.7094017094017094,0.7094017094017094,0.7094017094017094,0.7008547008547008,0.6837606837606838,0.7094017094017094,0.7094017094017094,0.6837606837606838,0.7094017094017094,0.7094017094017094,0.7094017094017094,0.6837606837606838,0.7094017094017094,0.6837606837606838,0.7094017094017094,0.6923076923076923,0.6837606837606838,0.6837606837606838,0.7094017094017094,0.7094017094017094,0.7094017094017094,0.6837606837606838,0.7094017094017094,0.7094017094017094,0.7094017094017094,0.7094017094017094,0.7094017094017094,0.6837606837606838,0.6837606837606838,0.7094017094017094,0.6837606837606838,0.7094017094017094,0.6923076923076923],\"type\":\"scatter\"},{\"name\":\"Best Value\",\"x\":[0,1,2,3,4,5,6,7,8,9,10,11,12,13,14,15,16,17,18,19,20,21,22,23,24,25,26,27,28,29,30,31,32,33,34,35,36,37,38,39,40,41,42,43,44,45,46,47,48,49,50,51,52,53,54,55,56,57,58,59,60,61,62,63,64,65,66,67,68,69,70,71,72,73,74,75,76,77,78,79,80,81,82,83,84,85,86,87,88,89,90,91,92,93,94,95,96,97,98,99,100,101,102,103,104,105,106,107,108,109,110,111,112,113,114,115,116,117,118,119,120,121,122,123,124,125,126,127,128,129,130,131,132,133,134,135,136,137,138,139,140,141,142,143,144,145,146,147,148,149,150,151,152,153,154,155,156,157,158,159,160,161,162,163,164,165,166,167,168,169,170,171,172,173,174,175,176,177,178,179,180,181,182,183,184,185,186,187,188,189,190,191,192,193,194,195,196,197,198,199,200,201,202,203,204,205,206,207,208,209,210,211,212,213,214,215,216,217,218,219,220,221,222,223,224,225,226,227,228,229,230,231,232,233,234,235,236,237,238,239,240,241,242,243,244,245,246,247,248,249,250,251,252,253,254,255,256,257,258,259,260,261,262,263,264,265,266,267,268,269,270,271,272,273,274,275,276,277,278,279,280,281,282,283,284,285,286,287,288,289,290,291,292,293,294,295,296,297,298,299],\"y\":[0.6410256410256411,0.7008547008547008,0.7008547008547008,0.7008547008547008,0.7008547008547008,0.7008547008547008,0.7008547008547008,0.7008547008547008,0.7008547008547008,0.7008547008547008,0.7094017094017094,0.7094017094017094,0.7094017094017094,0.7094017094017094,0.7094017094017094,0.7094017094017094,0.7094017094017094,0.7094017094017094,0.7094017094017094,0.7094017094017094,0.7094017094017094,0.7094017094017094,0.7094017094017094,0.7094017094017094,0.7094017094017094,0.7094017094017094,0.7094017094017094,0.7094017094017094,0.7094017094017094,0.7094017094017094,0.7094017094017094,0.7094017094017094,0.7094017094017094,0.7094017094017094,0.7094017094017094,0.7094017094017094,0.7094017094017094,0.7094017094017094,0.7094017094017094,0.7094017094017094,0.7094017094017094,0.7094017094017094,0.7094017094017094,0.7094017094017094,0.7094017094017094,0.7094017094017094,0.7094017094017094,0.7094017094017094,0.7094017094017094,0.7094017094017094,0.7094017094017094,0.7094017094017094,0.7094017094017094,0.7094017094017094,0.7094017094017094,0.7094017094017094,0.7094017094017094,0.7094017094017094,0.7094017094017094,0.7094017094017094,0.7094017094017094,0.7094017094017094,0.7094017094017094,0.7094017094017094,0.7094017094017094,0.7094017094017094,0.7094017094017094,0.7094017094017094,0.7094017094017094,0.7094017094017094,0.7094017094017094,0.7094017094017094,0.7094017094017094,0.7094017094017094,0.7094017094017094,0.7094017094017094,0.7094017094017094,0.7094017094017094,0.7094017094017094,0.7094017094017094,0.7094017094017094,0.7094017094017094,0.7094017094017094,0.7094017094017094,0.7094017094017094,0.7094017094017094,0.7094017094017094,0.7094017094017094,0.7094017094017094,0.7094017094017094,0.7094017094017094,0.7094017094017094,0.7094017094017094,0.7094017094017094,0.7094017094017094,0.7094017094017094,0.7094017094017094,0.7094017094017094,0.7094017094017094,0.7094017094017094,0.7094017094017094,0.7094017094017094,0.7094017094017094,0.7094017094017094,0.7094017094017094,0.7094017094017094,0.7094017094017094,0.7094017094017094,0.7094017094017094,0.7094017094017094,0.7094017094017094,0.7094017094017094,0.7094017094017094,0.7094017094017094,0.7094017094017094,0.7094017094017094,0.7094017094017094,0.7094017094017094,0.7094017094017094,0.7094017094017094,0.7094017094017094,0.7094017094017094,0.7094017094017094,0.7094017094017094,0.7094017094017094,0.7094017094017094,0.7094017094017094,0.7094017094017094,0.7094017094017094,0.7094017094017094,0.7094017094017094,0.7094017094017094,0.7094017094017094,0.7094017094017094,0.7094017094017094,0.7094017094017094,0.7094017094017094,0.7094017094017094,0.7094017094017094,0.7094017094017094,0.7094017094017094,0.7094017094017094,0.7094017094017094,0.7094017094017094,0.7094017094017094,0.7094017094017094,0.7094017094017094,0.7094017094017094,0.7094017094017094,0.7094017094017094,0.7094017094017094,0.7094017094017094,0.7094017094017094,0.7094017094017094,0.7094017094017094,0.7094017094017094,0.7094017094017094,0.7094017094017094,0.7094017094017094,0.7094017094017094,0.7094017094017094,0.7094017094017094,0.7094017094017094,0.7094017094017094,0.7094017094017094,0.7094017094017094,0.7094017094017094,0.7094017094017094,0.7094017094017094,0.7094017094017094,0.7094017094017094,0.7094017094017094,0.7094017094017094,0.7094017094017094,0.7094017094017094,0.7094017094017094,0.7094017094017094,0.7094017094017094,0.7094017094017094,0.7094017094017094,0.7094017094017094,0.7094017094017094,0.7094017094017094,0.7094017094017094,0.7094017094017094,0.7094017094017094,0.7094017094017094,0.7094017094017094,0.7094017094017094,0.7094017094017094,0.7094017094017094,0.7094017094017094,0.7094017094017094,0.7094017094017094,0.7094017094017094,0.7094017094017094,0.7094017094017094,0.7094017094017094,0.7094017094017094,0.7094017094017094,0.7094017094017094,0.7094017094017094,0.7094017094017094,0.7094017094017094,0.7094017094017094,0.7094017094017094,0.7094017094017094,0.7094017094017094,0.7094017094017094,0.7094017094017094,0.7094017094017094,0.7094017094017094,0.7094017094017094,0.7094017094017094,0.7094017094017094,0.7094017094017094,0.7094017094017094,0.7094017094017094,0.7094017094017094,0.7094017094017094,0.7094017094017094,0.7094017094017094,0.7094017094017094,0.7094017094017094,0.7094017094017094,0.7094017094017094,0.7094017094017094,0.7094017094017094,0.7094017094017094,0.7094017094017094,0.7094017094017094,0.7094017094017094,0.7094017094017094,0.7094017094017094,0.7094017094017094,0.7094017094017094,0.7094017094017094,0.7094017094017094,0.7094017094017094,0.7094017094017094,0.7094017094017094,0.7094017094017094,0.7094017094017094,0.7094017094017094,0.7094017094017094,0.7094017094017094,0.7094017094017094,0.7094017094017094,0.7094017094017094,0.7094017094017094,0.7094017094017094,0.7094017094017094,0.7094017094017094,0.7094017094017094,0.7094017094017094,0.7094017094017094,0.7094017094017094,0.7094017094017094,0.7094017094017094,0.7094017094017094,0.7094017094017094,0.7094017094017094,0.7094017094017094,0.7094017094017094,0.7094017094017094,0.7094017094017094,0.7094017094017094,0.7094017094017094,0.7094017094017094,0.7094017094017094,0.7094017094017094,0.7094017094017094,0.7094017094017094,0.7094017094017094,0.7094017094017094,0.7094017094017094,0.7094017094017094,0.7094017094017094,0.7094017094017094,0.7094017094017094,0.7094017094017094,0.7094017094017094,0.7094017094017094,0.7094017094017094,0.7094017094017094,0.7094017094017094,0.7094017094017094,0.7094017094017094,0.7094017094017094,0.7094017094017094,0.7094017094017094,0.7094017094017094,0.7094017094017094,0.7094017094017094,0.7094017094017094,0.7094017094017094,0.7094017094017094,0.7094017094017094,0.7094017094017094,0.7094017094017094],\"type\":\"scatter\"}],                        {\"title\":{\"text\":\"Optimization History Plot\"},\"xaxis\":{\"title\":{\"text\":\"Trial\"}},\"yaxis\":{\"title\":{\"text\":\"Objective Value\"}},\"template\":{\"data\":{\"histogram2dcontour\":[{\"type\":\"histogram2dcontour\",\"colorbar\":{\"outlinewidth\":0,\"ticks\":\"\"},\"colorscale\":[[0.0,\"#0d0887\"],[0.1111111111111111,\"#46039f\"],[0.2222222222222222,\"#7201a8\"],[0.3333333333333333,\"#9c179e\"],[0.4444444444444444,\"#bd3786\"],[0.5555555555555556,\"#d8576b\"],[0.6666666666666666,\"#ed7953\"],[0.7777777777777778,\"#fb9f3a\"],[0.8888888888888888,\"#fdca26\"],[1.0,\"#f0f921\"]]}],\"choropleth\":[{\"type\":\"choropleth\",\"colorbar\":{\"outlinewidth\":0,\"ticks\":\"\"}}],\"histogram2d\":[{\"type\":\"histogram2d\",\"colorbar\":{\"outlinewidth\":0,\"ticks\":\"\"},\"colorscale\":[[0.0,\"#0d0887\"],[0.1111111111111111,\"#46039f\"],[0.2222222222222222,\"#7201a8\"],[0.3333333333333333,\"#9c179e\"],[0.4444444444444444,\"#bd3786\"],[0.5555555555555556,\"#d8576b\"],[0.6666666666666666,\"#ed7953\"],[0.7777777777777778,\"#fb9f3a\"],[0.8888888888888888,\"#fdca26\"],[1.0,\"#f0f921\"]]}],\"heatmap\":[{\"type\":\"heatmap\",\"colorbar\":{\"outlinewidth\":0,\"ticks\":\"\"},\"colorscale\":[[0.0,\"#0d0887\"],[0.1111111111111111,\"#46039f\"],[0.2222222222222222,\"#7201a8\"],[0.3333333333333333,\"#9c179e\"],[0.4444444444444444,\"#bd3786\"],[0.5555555555555556,\"#d8576b\"],[0.6666666666666666,\"#ed7953\"],[0.7777777777777778,\"#fb9f3a\"],[0.8888888888888888,\"#fdca26\"],[1.0,\"#f0f921\"]]}],\"heatmapgl\":[{\"type\":\"heatmapgl\",\"colorbar\":{\"outlinewidth\":0,\"ticks\":\"\"},\"colorscale\":[[0.0,\"#0d0887\"],[0.1111111111111111,\"#46039f\"],[0.2222222222222222,\"#7201a8\"],[0.3333333333333333,\"#9c179e\"],[0.4444444444444444,\"#bd3786\"],[0.5555555555555556,\"#d8576b\"],[0.6666666666666666,\"#ed7953\"],[0.7777777777777778,\"#fb9f3a\"],[0.8888888888888888,\"#fdca26\"],[1.0,\"#f0f921\"]]}],\"contourcarpet\":[{\"type\":\"contourcarpet\",\"colorbar\":{\"outlinewidth\":0,\"ticks\":\"\"}}],\"contour\":[{\"type\":\"contour\",\"colorbar\":{\"outlinewidth\":0,\"ticks\":\"\"},\"colorscale\":[[0.0,\"#0d0887\"],[0.1111111111111111,\"#46039f\"],[0.2222222222222222,\"#7201a8\"],[0.3333333333333333,\"#9c179e\"],[0.4444444444444444,\"#bd3786\"],[0.5555555555555556,\"#d8576b\"],[0.6666666666666666,\"#ed7953\"],[0.7777777777777778,\"#fb9f3a\"],[0.8888888888888888,\"#fdca26\"],[1.0,\"#f0f921\"]]}],\"surface\":[{\"type\":\"surface\",\"colorbar\":{\"outlinewidth\":0,\"ticks\":\"\"},\"colorscale\":[[0.0,\"#0d0887\"],[0.1111111111111111,\"#46039f\"],[0.2222222222222222,\"#7201a8\"],[0.3333333333333333,\"#9c179e\"],[0.4444444444444444,\"#bd3786\"],[0.5555555555555556,\"#d8576b\"],[0.6666666666666666,\"#ed7953\"],[0.7777777777777778,\"#fb9f3a\"],[0.8888888888888888,\"#fdca26\"],[1.0,\"#f0f921\"]]}],\"mesh3d\":[{\"type\":\"mesh3d\",\"colorbar\":{\"outlinewidth\":0,\"ticks\":\"\"}}],\"scatter\":[{\"fillpattern\":{\"fillmode\":\"overlay\",\"size\":10,\"solidity\":0.2},\"type\":\"scatter\"}],\"parcoords\":[{\"type\":\"parcoords\",\"line\":{\"colorbar\":{\"outlinewidth\":0,\"ticks\":\"\"}}}],\"scatterpolargl\":[{\"type\":\"scatterpolargl\",\"marker\":{\"colorbar\":{\"outlinewidth\":0,\"ticks\":\"\"}}}],\"bar\":[{\"error_x\":{\"color\":\"#2a3f5f\"},\"error_y\":{\"color\":\"#2a3f5f\"},\"marker\":{\"line\":{\"color\":\"#E5ECF6\",\"width\":0.5},\"pattern\":{\"fillmode\":\"overlay\",\"size\":10,\"solidity\":0.2}},\"type\":\"bar\"}],\"scattergeo\":[{\"type\":\"scattergeo\",\"marker\":{\"colorbar\":{\"outlinewidth\":0,\"ticks\":\"\"}}}],\"scatterpolar\":[{\"type\":\"scatterpolar\",\"marker\":{\"colorbar\":{\"outlinewidth\":0,\"ticks\":\"\"}}}],\"histogram\":[{\"marker\":{\"pattern\":{\"fillmode\":\"overlay\",\"size\":10,\"solidity\":0.2}},\"type\":\"histogram\"}],\"scattergl\":[{\"type\":\"scattergl\",\"marker\":{\"colorbar\":{\"outlinewidth\":0,\"ticks\":\"\"}}}],\"scatter3d\":[{\"type\":\"scatter3d\",\"line\":{\"colorbar\":{\"outlinewidth\":0,\"ticks\":\"\"}},\"marker\":{\"colorbar\":{\"outlinewidth\":0,\"ticks\":\"\"}}}],\"scattermapbox\":[{\"type\":\"scattermapbox\",\"marker\":{\"colorbar\":{\"outlinewidth\":0,\"ticks\":\"\"}}}],\"scatterternary\":[{\"type\":\"scatterternary\",\"marker\":{\"colorbar\":{\"outlinewidth\":0,\"ticks\":\"\"}}}],\"scattercarpet\":[{\"type\":\"scattercarpet\",\"marker\":{\"colorbar\":{\"outlinewidth\":0,\"ticks\":\"\"}}}],\"carpet\":[{\"aaxis\":{\"endlinecolor\":\"#2a3f5f\",\"gridcolor\":\"white\",\"linecolor\":\"white\",\"minorgridcolor\":\"white\",\"startlinecolor\":\"#2a3f5f\"},\"baxis\":{\"endlinecolor\":\"#2a3f5f\",\"gridcolor\":\"white\",\"linecolor\":\"white\",\"minorgridcolor\":\"white\",\"startlinecolor\":\"#2a3f5f\"},\"type\":\"carpet\"}],\"table\":[{\"cells\":{\"fill\":{\"color\":\"#EBF0F8\"},\"line\":{\"color\":\"white\"}},\"header\":{\"fill\":{\"color\":\"#C8D4E3\"},\"line\":{\"color\":\"white\"}},\"type\":\"table\"}],\"barpolar\":[{\"marker\":{\"line\":{\"color\":\"#E5ECF6\",\"width\":0.5},\"pattern\":{\"fillmode\":\"overlay\",\"size\":10,\"solidity\":0.2}},\"type\":\"barpolar\"}],\"pie\":[{\"automargin\":true,\"type\":\"pie\"}]},\"layout\":{\"autotypenumbers\":\"strict\",\"colorway\":[\"#636efa\",\"#EF553B\",\"#00cc96\",\"#ab63fa\",\"#FFA15A\",\"#19d3f3\",\"#FF6692\",\"#B6E880\",\"#FF97FF\",\"#FECB52\"],\"font\":{\"color\":\"#2a3f5f\"},\"hovermode\":\"closest\",\"hoverlabel\":{\"align\":\"left\"},\"paper_bgcolor\":\"white\",\"plot_bgcolor\":\"#E5ECF6\",\"polar\":{\"bgcolor\":\"#E5ECF6\",\"angularaxis\":{\"gridcolor\":\"white\",\"linecolor\":\"white\",\"ticks\":\"\"},\"radialaxis\":{\"gridcolor\":\"white\",\"linecolor\":\"white\",\"ticks\":\"\"}},\"ternary\":{\"bgcolor\":\"#E5ECF6\",\"aaxis\":{\"gridcolor\":\"white\",\"linecolor\":\"white\",\"ticks\":\"\"},\"baxis\":{\"gridcolor\":\"white\",\"linecolor\":\"white\",\"ticks\":\"\"},\"caxis\":{\"gridcolor\":\"white\",\"linecolor\":\"white\",\"ticks\":\"\"}},\"coloraxis\":{\"colorbar\":{\"outlinewidth\":0,\"ticks\":\"\"}},\"colorscale\":{\"sequential\":[[0.0,\"#0d0887\"],[0.1111111111111111,\"#46039f\"],[0.2222222222222222,\"#7201a8\"],[0.3333333333333333,\"#9c179e\"],[0.4444444444444444,\"#bd3786\"],[0.5555555555555556,\"#d8576b\"],[0.6666666666666666,\"#ed7953\"],[0.7777777777777778,\"#fb9f3a\"],[0.8888888888888888,\"#fdca26\"],[1.0,\"#f0f921\"]],\"sequentialminus\":[[0.0,\"#0d0887\"],[0.1111111111111111,\"#46039f\"],[0.2222222222222222,\"#7201a8\"],[0.3333333333333333,\"#9c179e\"],[0.4444444444444444,\"#bd3786\"],[0.5555555555555556,\"#d8576b\"],[0.6666666666666666,\"#ed7953\"],[0.7777777777777778,\"#fb9f3a\"],[0.8888888888888888,\"#fdca26\"],[1.0,\"#f0f921\"]],\"diverging\":[[0,\"#8e0152\"],[0.1,\"#c51b7d\"],[0.2,\"#de77ae\"],[0.3,\"#f1b6da\"],[0.4,\"#fde0ef\"],[0.5,\"#f7f7f7\"],[0.6,\"#e6f5d0\"],[0.7,\"#b8e186\"],[0.8,\"#7fbc41\"],[0.9,\"#4d9221\"],[1,\"#276419\"]]},\"xaxis\":{\"gridcolor\":\"white\",\"linecolor\":\"white\",\"ticks\":\"\",\"title\":{\"standoff\":15},\"zerolinecolor\":\"white\",\"automargin\":true,\"zerolinewidth\":2},\"yaxis\":{\"gridcolor\":\"white\",\"linecolor\":\"white\",\"ticks\":\"\",\"title\":{\"standoff\":15},\"zerolinecolor\":\"white\",\"automargin\":true,\"zerolinewidth\":2},\"scene\":{\"xaxis\":{\"backgroundcolor\":\"#E5ECF6\",\"gridcolor\":\"white\",\"linecolor\":\"white\",\"showbackground\":true,\"ticks\":\"\",\"zerolinecolor\":\"white\",\"gridwidth\":2},\"yaxis\":{\"backgroundcolor\":\"#E5ECF6\",\"gridcolor\":\"white\",\"linecolor\":\"white\",\"showbackground\":true,\"ticks\":\"\",\"zerolinecolor\":\"white\",\"gridwidth\":2},\"zaxis\":{\"backgroundcolor\":\"#E5ECF6\",\"gridcolor\":\"white\",\"linecolor\":\"white\",\"showbackground\":true,\"ticks\":\"\",\"zerolinecolor\":\"white\",\"gridwidth\":2}},\"shapedefaults\":{\"line\":{\"color\":\"#2a3f5f\"}},\"annotationdefaults\":{\"arrowcolor\":\"#2a3f5f\",\"arrowhead\":0,\"arrowwidth\":1},\"geo\":{\"bgcolor\":\"white\",\"landcolor\":\"#E5ECF6\",\"subunitcolor\":\"white\",\"showland\":true,\"showlakes\":true,\"lakecolor\":\"white\"},\"title\":{\"x\":0.05},\"mapbox\":{\"style\":\"light\"}}}},                        {\"responsive\": true}                    ).then(function(){\n",
              "                            \n",
              "var gd = document.getElementById('5e272c9a-ce60-483a-8026-a0d4499c529b');\n",
              "var x = new MutationObserver(function (mutations, observer) {{\n",
              "        var display = window.getComputedStyle(gd).display;\n",
              "        if (!display || display === 'none') {{\n",
              "            console.log([gd, 'removed!']);\n",
              "            Plotly.purge(gd);\n",
              "            observer.disconnect();\n",
              "        }}\n",
              "}});\n",
              "\n",
              "// Listen for the removal of the full notebook cells\n",
              "var notebookContainer = gd.closest('#notebook-container');\n",
              "if (notebookContainer) {{\n",
              "    x.observe(notebookContainer, {childList: true});\n",
              "}}\n",
              "\n",
              "// Listen for the clearing of the current output cell\n",
              "var outputEl = gd.closest('.output');\n",
              "if (outputEl) {{\n",
              "    x.observe(outputEl, {childList: true});\n",
              "}}\n",
              "\n",
              "                        })                };                            </script>        </div>\n",
              "</body>\n",
              "</html>"
            ]
          },
          "metadata": {}
        }
      ]
    },
    {
      "cell_type": "code",
      "source": [
        "optuna.visualization.plot_param_importances(study)"
      ],
      "metadata": {
        "colab": {
          "base_uri": "https://localhost:8080/",
          "height": 542
        },
        "id": "eJOYElCRaUiI",
        "outputId": "dacb0fbf-9669-49ce-ec72-3410bf7b8e5a"
      },
      "execution_count": 125,
      "outputs": [
        {
          "output_type": "display_data",
          "data": {
            "text/html": [
              "<html>\n",
              "<head><meta charset=\"utf-8\" /></head>\n",
              "<body>\n",
              "    <div>            <script src=\"https://cdnjs.cloudflare.com/ajax/libs/mathjax/2.7.5/MathJax.js?config=TeX-AMS-MML_SVG\"></script><script type=\"text/javascript\">if (window.MathJax && window.MathJax.Hub && window.MathJax.Hub.Config) {window.MathJax.Hub.Config({SVG: {font: \"STIX-Web\"}});}</script>                <script type=\"text/javascript\">window.PlotlyConfig = {MathJaxConfig: 'local'};</script>\n",
              "        <script src=\"https://cdn.plot.ly/plotly-2.18.2.min.js\"></script>                <div id=\"d481bb6a-f467-4359-bc3d-f227076602cc\" class=\"plotly-graph-div\" style=\"height:525px; width:100%;\"></div>            <script type=\"text/javascript\">                                    window.PLOTLYENV=window.PLOTLYENV || {};                                    if (document.getElementById(\"d481bb6a-f467-4359-bc3d-f227076602cc\")) {                    Plotly.newPlot(                        \"d481bb6a-f467-4359-bc3d-f227076602cc\",                        [{\"cliponaxis\":false,\"hovertemplate\":[\"weights (CategoricalDistribution): 0.02556075633745244<extra></extra>\",\"metric (CategoricalDistribution): 0.47874373953935806<extra></extra>\",\"n_neighbors (IntDistribution): 0.4956955041231896<extra></extra>\"],\"marker\":{\"color\":\"rgb(66,146,198)\"},\"orientation\":\"h\",\"text\":[\"0.03\",\"0.48\",\"0.50\"],\"textposition\":\"outside\",\"x\":[0.02556075633745244,0.47874373953935806,0.4956955041231896],\"y\":[\"weights\",\"metric\",\"n_neighbors\"],\"type\":\"bar\"}],                        {\"showlegend\":false,\"title\":{\"text\":\"Hyperparameter Importances\"},\"xaxis\":{\"title\":{\"text\":\"Importance for Objective Value\"}},\"yaxis\":{\"title\":{\"text\":\"Hyperparameter\"}},\"template\":{\"data\":{\"histogram2dcontour\":[{\"type\":\"histogram2dcontour\",\"colorbar\":{\"outlinewidth\":0,\"ticks\":\"\"},\"colorscale\":[[0.0,\"#0d0887\"],[0.1111111111111111,\"#46039f\"],[0.2222222222222222,\"#7201a8\"],[0.3333333333333333,\"#9c179e\"],[0.4444444444444444,\"#bd3786\"],[0.5555555555555556,\"#d8576b\"],[0.6666666666666666,\"#ed7953\"],[0.7777777777777778,\"#fb9f3a\"],[0.8888888888888888,\"#fdca26\"],[1.0,\"#f0f921\"]]}],\"choropleth\":[{\"type\":\"choropleth\",\"colorbar\":{\"outlinewidth\":0,\"ticks\":\"\"}}],\"histogram2d\":[{\"type\":\"histogram2d\",\"colorbar\":{\"outlinewidth\":0,\"ticks\":\"\"},\"colorscale\":[[0.0,\"#0d0887\"],[0.1111111111111111,\"#46039f\"],[0.2222222222222222,\"#7201a8\"],[0.3333333333333333,\"#9c179e\"],[0.4444444444444444,\"#bd3786\"],[0.5555555555555556,\"#d8576b\"],[0.6666666666666666,\"#ed7953\"],[0.7777777777777778,\"#fb9f3a\"],[0.8888888888888888,\"#fdca26\"],[1.0,\"#f0f921\"]]}],\"heatmap\":[{\"type\":\"heatmap\",\"colorbar\":{\"outlinewidth\":0,\"ticks\":\"\"},\"colorscale\":[[0.0,\"#0d0887\"],[0.1111111111111111,\"#46039f\"],[0.2222222222222222,\"#7201a8\"],[0.3333333333333333,\"#9c179e\"],[0.4444444444444444,\"#bd3786\"],[0.5555555555555556,\"#d8576b\"],[0.6666666666666666,\"#ed7953\"],[0.7777777777777778,\"#fb9f3a\"],[0.8888888888888888,\"#fdca26\"],[1.0,\"#f0f921\"]]}],\"heatmapgl\":[{\"type\":\"heatmapgl\",\"colorbar\":{\"outlinewidth\":0,\"ticks\":\"\"},\"colorscale\":[[0.0,\"#0d0887\"],[0.1111111111111111,\"#46039f\"],[0.2222222222222222,\"#7201a8\"],[0.3333333333333333,\"#9c179e\"],[0.4444444444444444,\"#bd3786\"],[0.5555555555555556,\"#d8576b\"],[0.6666666666666666,\"#ed7953\"],[0.7777777777777778,\"#fb9f3a\"],[0.8888888888888888,\"#fdca26\"],[1.0,\"#f0f921\"]]}],\"contourcarpet\":[{\"type\":\"contourcarpet\",\"colorbar\":{\"outlinewidth\":0,\"ticks\":\"\"}}],\"contour\":[{\"type\":\"contour\",\"colorbar\":{\"outlinewidth\":0,\"ticks\":\"\"},\"colorscale\":[[0.0,\"#0d0887\"],[0.1111111111111111,\"#46039f\"],[0.2222222222222222,\"#7201a8\"],[0.3333333333333333,\"#9c179e\"],[0.4444444444444444,\"#bd3786\"],[0.5555555555555556,\"#d8576b\"],[0.6666666666666666,\"#ed7953\"],[0.7777777777777778,\"#fb9f3a\"],[0.8888888888888888,\"#fdca26\"],[1.0,\"#f0f921\"]]}],\"surface\":[{\"type\":\"surface\",\"colorbar\":{\"outlinewidth\":0,\"ticks\":\"\"},\"colorscale\":[[0.0,\"#0d0887\"],[0.1111111111111111,\"#46039f\"],[0.2222222222222222,\"#7201a8\"],[0.3333333333333333,\"#9c179e\"],[0.4444444444444444,\"#bd3786\"],[0.5555555555555556,\"#d8576b\"],[0.6666666666666666,\"#ed7953\"],[0.7777777777777778,\"#fb9f3a\"],[0.8888888888888888,\"#fdca26\"],[1.0,\"#f0f921\"]]}],\"mesh3d\":[{\"type\":\"mesh3d\",\"colorbar\":{\"outlinewidth\":0,\"ticks\":\"\"}}],\"scatter\":[{\"fillpattern\":{\"fillmode\":\"overlay\",\"size\":10,\"solidity\":0.2},\"type\":\"scatter\"}],\"parcoords\":[{\"type\":\"parcoords\",\"line\":{\"colorbar\":{\"outlinewidth\":0,\"ticks\":\"\"}}}],\"scatterpolargl\":[{\"type\":\"scatterpolargl\",\"marker\":{\"colorbar\":{\"outlinewidth\":0,\"ticks\":\"\"}}}],\"bar\":[{\"error_x\":{\"color\":\"#2a3f5f\"},\"error_y\":{\"color\":\"#2a3f5f\"},\"marker\":{\"line\":{\"color\":\"#E5ECF6\",\"width\":0.5},\"pattern\":{\"fillmode\":\"overlay\",\"size\":10,\"solidity\":0.2}},\"type\":\"bar\"}],\"scattergeo\":[{\"type\":\"scattergeo\",\"marker\":{\"colorbar\":{\"outlinewidth\":0,\"ticks\":\"\"}}}],\"scatterpolar\":[{\"type\":\"scatterpolar\",\"marker\":{\"colorbar\":{\"outlinewidth\":0,\"ticks\":\"\"}}}],\"histogram\":[{\"marker\":{\"pattern\":{\"fillmode\":\"overlay\",\"size\":10,\"solidity\":0.2}},\"type\":\"histogram\"}],\"scattergl\":[{\"type\":\"scattergl\",\"marker\":{\"colorbar\":{\"outlinewidth\":0,\"ticks\":\"\"}}}],\"scatter3d\":[{\"type\":\"scatter3d\",\"line\":{\"colorbar\":{\"outlinewidth\":0,\"ticks\":\"\"}},\"marker\":{\"colorbar\":{\"outlinewidth\":0,\"ticks\":\"\"}}}],\"scattermapbox\":[{\"type\":\"scattermapbox\",\"marker\":{\"colorbar\":{\"outlinewidth\":0,\"ticks\":\"\"}}}],\"scatterternary\":[{\"type\":\"scatterternary\",\"marker\":{\"colorbar\":{\"outlinewidth\":0,\"ticks\":\"\"}}}],\"scattercarpet\":[{\"type\":\"scattercarpet\",\"marker\":{\"colorbar\":{\"outlinewidth\":0,\"ticks\":\"\"}}}],\"carpet\":[{\"aaxis\":{\"endlinecolor\":\"#2a3f5f\",\"gridcolor\":\"white\",\"linecolor\":\"white\",\"minorgridcolor\":\"white\",\"startlinecolor\":\"#2a3f5f\"},\"baxis\":{\"endlinecolor\":\"#2a3f5f\",\"gridcolor\":\"white\",\"linecolor\":\"white\",\"minorgridcolor\":\"white\",\"startlinecolor\":\"#2a3f5f\"},\"type\":\"carpet\"}],\"table\":[{\"cells\":{\"fill\":{\"color\":\"#EBF0F8\"},\"line\":{\"color\":\"white\"}},\"header\":{\"fill\":{\"color\":\"#C8D4E3\"},\"line\":{\"color\":\"white\"}},\"type\":\"table\"}],\"barpolar\":[{\"marker\":{\"line\":{\"color\":\"#E5ECF6\",\"width\":0.5},\"pattern\":{\"fillmode\":\"overlay\",\"size\":10,\"solidity\":0.2}},\"type\":\"barpolar\"}],\"pie\":[{\"automargin\":true,\"type\":\"pie\"}]},\"layout\":{\"autotypenumbers\":\"strict\",\"colorway\":[\"#636efa\",\"#EF553B\",\"#00cc96\",\"#ab63fa\",\"#FFA15A\",\"#19d3f3\",\"#FF6692\",\"#B6E880\",\"#FF97FF\",\"#FECB52\"],\"font\":{\"color\":\"#2a3f5f\"},\"hovermode\":\"closest\",\"hoverlabel\":{\"align\":\"left\"},\"paper_bgcolor\":\"white\",\"plot_bgcolor\":\"#E5ECF6\",\"polar\":{\"bgcolor\":\"#E5ECF6\",\"angularaxis\":{\"gridcolor\":\"white\",\"linecolor\":\"white\",\"ticks\":\"\"},\"radialaxis\":{\"gridcolor\":\"white\",\"linecolor\":\"white\",\"ticks\":\"\"}},\"ternary\":{\"bgcolor\":\"#E5ECF6\",\"aaxis\":{\"gridcolor\":\"white\",\"linecolor\":\"white\",\"ticks\":\"\"},\"baxis\":{\"gridcolor\":\"white\",\"linecolor\":\"white\",\"ticks\":\"\"},\"caxis\":{\"gridcolor\":\"white\",\"linecolor\":\"white\",\"ticks\":\"\"}},\"coloraxis\":{\"colorbar\":{\"outlinewidth\":0,\"ticks\":\"\"}},\"colorscale\":{\"sequential\":[[0.0,\"#0d0887\"],[0.1111111111111111,\"#46039f\"],[0.2222222222222222,\"#7201a8\"],[0.3333333333333333,\"#9c179e\"],[0.4444444444444444,\"#bd3786\"],[0.5555555555555556,\"#d8576b\"],[0.6666666666666666,\"#ed7953\"],[0.7777777777777778,\"#fb9f3a\"],[0.8888888888888888,\"#fdca26\"],[1.0,\"#f0f921\"]],\"sequentialminus\":[[0.0,\"#0d0887\"],[0.1111111111111111,\"#46039f\"],[0.2222222222222222,\"#7201a8\"],[0.3333333333333333,\"#9c179e\"],[0.4444444444444444,\"#bd3786\"],[0.5555555555555556,\"#d8576b\"],[0.6666666666666666,\"#ed7953\"],[0.7777777777777778,\"#fb9f3a\"],[0.8888888888888888,\"#fdca26\"],[1.0,\"#f0f921\"]],\"diverging\":[[0,\"#8e0152\"],[0.1,\"#c51b7d\"],[0.2,\"#de77ae\"],[0.3,\"#f1b6da\"],[0.4,\"#fde0ef\"],[0.5,\"#f7f7f7\"],[0.6,\"#e6f5d0\"],[0.7,\"#b8e186\"],[0.8,\"#7fbc41\"],[0.9,\"#4d9221\"],[1,\"#276419\"]]},\"xaxis\":{\"gridcolor\":\"white\",\"linecolor\":\"white\",\"ticks\":\"\",\"title\":{\"standoff\":15},\"zerolinecolor\":\"white\",\"automargin\":true,\"zerolinewidth\":2},\"yaxis\":{\"gridcolor\":\"white\",\"linecolor\":\"white\",\"ticks\":\"\",\"title\":{\"standoff\":15},\"zerolinecolor\":\"white\",\"automargin\":true,\"zerolinewidth\":2},\"scene\":{\"xaxis\":{\"backgroundcolor\":\"#E5ECF6\",\"gridcolor\":\"white\",\"linecolor\":\"white\",\"showbackground\":true,\"ticks\":\"\",\"zerolinecolor\":\"white\",\"gridwidth\":2},\"yaxis\":{\"backgroundcolor\":\"#E5ECF6\",\"gridcolor\":\"white\",\"linecolor\":\"white\",\"showbackground\":true,\"ticks\":\"\",\"zerolinecolor\":\"white\",\"gridwidth\":2},\"zaxis\":{\"backgroundcolor\":\"#E5ECF6\",\"gridcolor\":\"white\",\"linecolor\":\"white\",\"showbackground\":true,\"ticks\":\"\",\"zerolinecolor\":\"white\",\"gridwidth\":2}},\"shapedefaults\":{\"line\":{\"color\":\"#2a3f5f\"}},\"annotationdefaults\":{\"arrowcolor\":\"#2a3f5f\",\"arrowhead\":0,\"arrowwidth\":1},\"geo\":{\"bgcolor\":\"white\",\"landcolor\":\"#E5ECF6\",\"subunitcolor\":\"white\",\"showland\":true,\"showlakes\":true,\"lakecolor\":\"white\"},\"title\":{\"x\":0.05},\"mapbox\":{\"style\":\"light\"}}}},                        {\"responsive\": true}                    ).then(function(){\n",
              "                            \n",
              "var gd = document.getElementById('d481bb6a-f467-4359-bc3d-f227076602cc');\n",
              "var x = new MutationObserver(function (mutations, observer) {{\n",
              "        var display = window.getComputedStyle(gd).display;\n",
              "        if (!display || display === 'none') {{\n",
              "            console.log([gd, 'removed!']);\n",
              "            Plotly.purge(gd);\n",
              "            observer.disconnect();\n",
              "        }}\n",
              "}});\n",
              "\n",
              "// Listen for the removal of the full notebook cells\n",
              "var notebookContainer = gd.closest('#notebook-container');\n",
              "if (notebookContainer) {{\n",
              "    x.observe(notebookContainer, {childList: true});\n",
              "}}\n",
              "\n",
              "// Listen for the clearing of the current output cell\n",
              "var outputEl = gd.closest('.output');\n",
              "if (outputEl) {{\n",
              "    x.observe(outputEl, {childList: true});\n",
              "}}\n",
              "\n",
              "                        })                };                            </script>        </div>\n",
              "</body>\n",
              "</html>"
            ]
          },
          "metadata": {}
        }
      ]
    },
    {
      "cell_type": "code",
      "source": [
        "#get best params\n",
        "best_params = study.best_params\n",
        "best_params"
      ],
      "metadata": {
        "colab": {
          "base_uri": "https://localhost:8080/"
        },
        "id": "E8pqYQsBaP83",
        "outputId": "c83caf03-7482-4d00-8873-38ed77ec249d"
      },
      "execution_count": 126,
      "outputs": [
        {
          "output_type": "execute_result",
          "data": {
            "text/plain": [
              "{'n_neighbors': 5, 'weights': 'distance', 'metric': 'manhattan'}"
            ]
          },
          "metadata": {},
          "execution_count": 126
        }
      ]
    },
    {
      "cell_type": "code",
      "source": [
        "#create models best params\n",
        "def create_model_best_params(best_params):\n",
        "    best_n_neighbors =best_params['n_neighbors']\n",
        "    best_weights =best_params['weights']\n",
        "    best_metric =best_params['metric']\n",
        "    knn_optuna=KNeighborsClassifier(n_neighbors=best_n_neighbors,weights=best_weights,metric=best_metric)\n",
        "    return knn_optuna\n",
        "\n",
        "knn_model_optuna=create_model_best_params(best_params)\n",
        "knn_model_optuna.fit(x_train_resampled, y_train_resampled)"
      ],
      "metadata": {
        "colab": {
          "base_uri": "https://localhost:8080/",
          "height": 75
        },
        "id": "yw8-a593acVS",
        "outputId": "3e002f4a-0b01-4e40-b663-497abf2bce33"
      },
      "execution_count": 127,
      "outputs": [
        {
          "output_type": "execute_result",
          "data": {
            "text/plain": [
              "KNeighborsClassifier(metric='manhattan', weights='distance')"
            ],
            "text/html": [
              "<style>#sk-container-id-7 {color: black;background-color: white;}#sk-container-id-7 pre{padding: 0;}#sk-container-id-7 div.sk-toggleable {background-color: white;}#sk-container-id-7 label.sk-toggleable__label {cursor: pointer;display: block;width: 100%;margin-bottom: 0;padding: 0.3em;box-sizing: border-box;text-align: center;}#sk-container-id-7 label.sk-toggleable__label-arrow:before {content: \"▸\";float: left;margin-right: 0.25em;color: #696969;}#sk-container-id-7 label.sk-toggleable__label-arrow:hover:before {color: black;}#sk-container-id-7 div.sk-estimator:hover label.sk-toggleable__label-arrow:before {color: black;}#sk-container-id-7 div.sk-toggleable__content {max-height: 0;max-width: 0;overflow: hidden;text-align: left;background-color: #f0f8ff;}#sk-container-id-7 div.sk-toggleable__content pre {margin: 0.2em;color: black;border-radius: 0.25em;background-color: #f0f8ff;}#sk-container-id-7 input.sk-toggleable__control:checked~div.sk-toggleable__content {max-height: 200px;max-width: 100%;overflow: auto;}#sk-container-id-7 input.sk-toggleable__control:checked~label.sk-toggleable__label-arrow:before {content: \"▾\";}#sk-container-id-7 div.sk-estimator input.sk-toggleable__control:checked~label.sk-toggleable__label {background-color: #d4ebff;}#sk-container-id-7 div.sk-label input.sk-toggleable__control:checked~label.sk-toggleable__label {background-color: #d4ebff;}#sk-container-id-7 input.sk-hidden--visually {border: 0;clip: rect(1px 1px 1px 1px);clip: rect(1px, 1px, 1px, 1px);height: 1px;margin: -1px;overflow: hidden;padding: 0;position: absolute;width: 1px;}#sk-container-id-7 div.sk-estimator {font-family: monospace;background-color: #f0f8ff;border: 1px dotted black;border-radius: 0.25em;box-sizing: border-box;margin-bottom: 0.5em;}#sk-container-id-7 div.sk-estimator:hover {background-color: #d4ebff;}#sk-container-id-7 div.sk-parallel-item::after {content: \"\";width: 100%;border-bottom: 1px solid gray;flex-grow: 1;}#sk-container-id-7 div.sk-label:hover label.sk-toggleable__label {background-color: #d4ebff;}#sk-container-id-7 div.sk-serial::before {content: \"\";position: absolute;border-left: 1px solid gray;box-sizing: border-box;top: 0;bottom: 0;left: 50%;z-index: 0;}#sk-container-id-7 div.sk-serial {display: flex;flex-direction: column;align-items: center;background-color: white;padding-right: 0.2em;padding-left: 0.2em;position: relative;}#sk-container-id-7 div.sk-item {position: relative;z-index: 1;}#sk-container-id-7 div.sk-parallel {display: flex;align-items: stretch;justify-content: center;background-color: white;position: relative;}#sk-container-id-7 div.sk-item::before, #sk-container-id-7 div.sk-parallel-item::before {content: \"\";position: absolute;border-left: 1px solid gray;box-sizing: border-box;top: 0;bottom: 0;left: 50%;z-index: -1;}#sk-container-id-7 div.sk-parallel-item {display: flex;flex-direction: column;z-index: 1;position: relative;background-color: white;}#sk-container-id-7 div.sk-parallel-item:first-child::after {align-self: flex-end;width: 50%;}#sk-container-id-7 div.sk-parallel-item:last-child::after {align-self: flex-start;width: 50%;}#sk-container-id-7 div.sk-parallel-item:only-child::after {width: 0;}#sk-container-id-7 div.sk-dashed-wrapped {border: 1px dashed gray;margin: 0 0.4em 0.5em 0.4em;box-sizing: border-box;padding-bottom: 0.4em;background-color: white;}#sk-container-id-7 div.sk-label label {font-family: monospace;font-weight: bold;display: inline-block;line-height: 1.2em;}#sk-container-id-7 div.sk-label-container {text-align: center;}#sk-container-id-7 div.sk-container {/* jupyter's `normalize.less` sets `[hidden] { display: none; }` but bootstrap.min.css set `[hidden] { display: none !important; }` so we also need the `!important` here to be able to override the default hidden behavior on the sphinx rendered scikit-learn.org. See: https://github.com/scikit-learn/scikit-learn/issues/21755 */display: inline-block !important;position: relative;}#sk-container-id-7 div.sk-text-repr-fallback {display: none;}</style><div id=\"sk-container-id-7\" class=\"sk-top-container\"><div class=\"sk-text-repr-fallback\"><pre>KNeighborsClassifier(metric=&#x27;manhattan&#x27;, weights=&#x27;distance&#x27;)</pre><b>In a Jupyter environment, please rerun this cell to show the HTML representation or trust the notebook. <br />On GitHub, the HTML representation is unable to render, please try loading this page with nbviewer.org.</b></div><div class=\"sk-container\" hidden><div class=\"sk-item\"><div class=\"sk-estimator sk-toggleable\"><input class=\"sk-toggleable__control sk-hidden--visually\" id=\"sk-estimator-id-7\" type=\"checkbox\" checked><label for=\"sk-estimator-id-7\" class=\"sk-toggleable__label sk-toggleable__label-arrow\">KNeighborsClassifier</label><div class=\"sk-toggleable__content\"><pre>KNeighborsClassifier(metric=&#x27;manhattan&#x27;, weights=&#x27;distance&#x27;)</pre></div></div></div></div></div>"
            ]
          },
          "metadata": {},
          "execution_count": 127
        }
      ]
    },
    {
      "cell_type": "code",
      "source": [
        "score_knn_model_optuna=cross_val_score(knn_model_optuna, x_train_resampled, y_train_resampled, scoring='accuracy', cv=5)\n",
        "score_knn_model_optuna"
      ],
      "metadata": {
        "colab": {
          "base_uri": "https://localhost:8080/"
        },
        "id": "PMjZJUEJalsm",
        "outputId": "c38c8642-ff44-4cf7-83ea-17a90c635f93"
      },
      "execution_count": 128,
      "outputs": [
        {
          "output_type": "execute_result",
          "data": {
            "text/plain": [
              "array([0.7238806 , 0.78947368, 0.77443609, 0.77443609, 0.81203008])"
            ]
          },
          "metadata": {},
          "execution_count": 128
        }
      ]
    },
    {
      "cell_type": "code",
      "source": [
        "# CM Model 3\n",
        "y_pred_optuna = knn_model_optuna.predict(x_test_scaler)\n",
        "plot_confusion_matrixs(y_test, y_pred_optuna,'Confusion Matrix Model V3')\n",
        "class_report_optuna = classification_report(y_test, y_pred_optuna)\n",
        "print(\"Classification Report Model V2:\")\n",
        "print(class_report_optuna)"
      ],
      "metadata": {
        "colab": {
          "base_uri": "https://localhost:8080/",
          "height": 584
        },
        "id": "Z-wfgKgaarrd",
        "outputId": "7993ba61-494a-42a7-dd48-53ef4fe28cdb"
      },
      "execution_count": 129,
      "outputs": [
        {
          "output_type": "display_data",
          "data": {
            "text/plain": [
              "<Figure size 500x400 with 2 Axes>"
            ],
            "image/png": "[encoded data removed]"
          },
          "metadata": {}
        },
        {
          "output_type": "stream",
          "name": "stdout",
          "text": [
            "Classification Report Model V2:\n",
            "              precision    recall  f1-score   support\n",
            "\n",
            "           1       0.89      0.67      0.77        83\n",
            "           2       0.50      0.79      0.61        34\n",
            "\n",
            "    accuracy                           0.71       117\n",
            "   macro avg       0.69      0.73      0.69       117\n",
            "weighted avg       0.78      0.71      0.72       117\n",
            "\n"
          ]
        }
      ]
    },
    {
      "cell_type": "markdown",
      "source": [
        "### Matriks Evaluasi Model"
      ],
      "metadata": {
        "id": "cqND7Dg2oU_H"
      }
    },
    {
      "cell_type": "code",
      "source": [
        "def calculate_tp_tn_fp_fn(confusion_matrix):\n",
        "\n",
        "    # [[TP, FP],\n",
        "    #  [FN, TN]]\n",
        "\n",
        "    # Mengekstrak nilai TN, FP, FN, dan TP dari confusion matrix\n",
        "    TP = confusion_matrix[0][0]\n",
        "    FP = confusion_matrix[0][1]\n",
        "    FN = confusion_matrix[1][0]\n",
        "    TN = confusion_matrix[1][1]\n",
        "    return TP, TN, FP, FN\n",
        "\n",
        "def create_confusion_matrix_table(confusion_matrices):\n",
        "    data = {\n",
        "        'Confusion Matrix': [],\n",
        "        'True Positive (TP)': [],\n",
        "        'False Positive (FP)': [],\n",
        "        'True Negative (TN)': [],\n",
        "        'False Negative (FN)': []\n",
        "    }\n",
        "\n",
        "    for i, confusion_matrix in enumerate(confusion_matrices, start=1):\n",
        "        TP, TN, FP, FN = calculate_tp_tn_fp_fn(confusion_matrix)\n",
        "        data['Confusion Matrix'].append(f'Model {i}')\n",
        "        data['True Positive (TP)'].append(TP)\n",
        "        data['False Positive (FP)'].append(FP)\n",
        "        data['True Negative (TN)'].append(TN)\n",
        "        data['False Negative (FN)'].append(FN)\n",
        "\n",
        "    df = pd.DataFrame(data)\n",
        "    return df\n",
        "\n",
        "\n",
        "confusion_matrices_all = [\n",
        "\tconfusion_matrix(y_test, y_pred_scaler),\n",
        "\tconfusion_matrix(y_test, y_pred_smote),\n",
        "\tconfusion_matrix(y_test, y_pred_optuna)\n",
        "]\n",
        "\n",
        "confusion_matrix_table = create_confusion_matrix_table(confusion_matrices_all)\n",
        "confusion_matrix_table"
      ],
      "metadata": {
        "colab": {
          "base_uri": "https://localhost:8080/",
          "height": 143
        },
        "id": "CCAUIu1SayGH",
        "outputId": "ae976387-b4a9-45f1-acd6-ad866129f11d"
      },
      "execution_count": 138,
      "outputs": [
        {
          "output_type": "execute_result",
          "data": {
            "text/plain": [
              "  Confusion Matrix  True Positive (TP)  False Positive (FP)  \\\n",
              "0          Model 1                  65                   18   \n",
              "1          Model 2                  52                   31   \n",
              "2          Model 3                  56                   27   \n",
              "\n",
              "   True Negative (TN)  False Negative (FN)  \n",
              "0                  12                   22  \n",
              "1                  26                    8  \n",
              "2                  27                    7  "
            ],
            "text/html": [
              "\n",
              "\n",
              "  <div id=\"df-0de60e90-b4fb-471d-9d6e-986286f1986a\">\n",
              "    <div class=\"colab-df-container\">\n",
              "      <div>\n",
              "<style scoped>\n",
              "    .dataframe tbody tr th:only-of-type {\n",
              "        vertical-align: middle;\n",
              "    }\n",
              "\n",
              "    .dataframe tbody tr th {\n",
              "        vertical-align: top;\n",
              "    }\n",
              "\n",
              "    .dataframe thead th {\n",
              "        text-align: right;\n",
              "    }\n",
              "</style>\n",
              "<table border=\"1\" class=\"dataframe\">\n",
              "  <thead>\n",
              "    <tr style=\"text-align: right;\">\n",
              "      <th></th>\n",
              "      <th>Confusion Matrix</th>\n",
              "      <th>True Positive (TP)</th>\n",
              "      <th>False Positive (FP)</th>\n",
              "      <th>True Negative (TN)</th>\n",
              "      <th>False Negative (FN)</th>\n",
              "    </tr>\n",
              "  </thead>\n",
              "  <tbody>\n",
              "    <tr>\n",
              "      <th>0</th>\n",
              "      <td>Model 1</td>\n",
              "      <td>65</td>\n",
              "      <td>18</td>\n",
              "      <td>12</td>\n",
              "      <td>22</td>\n",
              "    </tr>\n",
              "    <tr>\n",
              "      <th>1</th>\n",
              "      <td>Model 2</td>\n",
              "      <td>52</td>\n",
              "      <td>31</td>\n",
              "      <td>26</td>\n",
              "      <td>8</td>\n",
              "    </tr>\n",
              "    <tr>\n",
              "      <th>2</th>\n",
              "      <td>Model 3</td>\n",
              "      <td>56</td>\n",
              "      <td>27</td>\n",
              "      <td>27</td>\n",
              "      <td>7</td>\n",
              "    </tr>\n",
              "  </tbody>\n",
              "</table>\n",
              "</div>\n",
              "      <button class=\"colab-df-convert\" onclick=\"convertToInteractive('df-0de60e90-b4fb-471d-9d6e-986286f1986a')\"\n",
              "              title=\"Convert this dataframe to an interactive table.\"\n",
              "              style=\"display:none;\">\n",
              "\n",
              "  <svg xmlns=\"http://www.w3.org/2000/svg\" height=\"24px\"viewBox=\"0 0 24 24\"\n",
              "       width=\"24px\">\n",
              "    <path d=\"M0 0h24v24H0V0z\" fill=\"none\"/>\n",
              "    <path d=\"M18.56 5.44l.94 2.06.94-2.06 2.06-.94-2.06-.94-.94-2.06-.94 2.06-2.06.94zm-11 1L8.5 8.5l.94-2.06 2.06-.94-2.06-.94L8.5 2.5l-.94 2.06-2.06.94zm10 10l.94 2.06.94-2.06 2.06-.94-2.06-.94-.94-2.06-.94 2.06-2.06.94z\"/><path d=\"M17.41 7.96l-1.37-1.37c-.4-.4-.92-.59-1.43-.59-.52 0-1.04.2-1.43.59L10.3 9.45l-7.72 7.72c-.78.78-.78 2.05 0 2.83L4 21.41c.39.39.9.59 1.41.59.51 0 1.02-.2 1.41-.59l7.78-7.78 2.81-2.81c.8-.78.8-2.07 0-2.86zM5.41 20L4 18.59l7.72-7.72 1.47 1.35L5.41 20z\"/>\n",
              "  </svg>\n",
              "      </button>\n",
              "\n",
              "\n",
              "\n",
              "    <div id=\"df-9d701151-140c-4cfd-92b8-d1363566a3c9\">\n",
              "      <button class=\"colab-df-quickchart\" onclick=\"quickchart('df-9d701151-140c-4cfd-92b8-d1363566a3c9')\"\n",
              "              title=\"Suggest charts.\"\n",
              "              style=\"display:none;\">\n",
              "\n",
              "<svg xmlns=\"http://www.w3.org/2000/svg\" height=\"24px\"viewBox=\"0 0 24 24\"\n",
              "     width=\"24px\">\n",
              "    <g>\n",
              "        <path d=\"M19 3H5c-1.1 0-2 .9-2 2v14c0 1.1.9 2 2 2h14c1.1 0 2-.9 2-2V5c0-1.1-.9-2-2-2zM9 17H7v-7h2v7zm4 0h-2V7h2v10zm4 0h-2v-4h2v4z\"/>\n",
              "    </g>\n",
              "</svg>\n",
              "      </button>\n",
              "    </div>\n",
              "\n",
              "<style>\n",
              "  .colab-df-quickchart {\n",
              "    background-color: #E8F0FE;\n",
              "    border: none;\n",
              "    border-radius: 50%;\n",
              "    cursor: pointer;\n",
              "    display: none;\n",
              "    fill: #1967D2;\n",
              "    height: 32px;\n",
              "    padding: 0 0 0 0;\n",
              "    width: 32px;\n",
              "  }\n",
              "\n",
              "  .colab-df-quickchart:hover {\n",
              "    background-color: #E2EBFA;\n",
              "    box-shadow: 0px 1px 2px rgba(60, 64, 67, 0.3), 0px 1px 3px 1px rgba(60, 64, 67, 0.15);\n",
              "    fill: #174EA6;\n",
              "  }\n",
              "\n",
              "  [theme=dark] .colab-df-quickchart {\n",
              "    background-color: #3B4455;\n",
              "    fill: #D2E3FC;\n",
              "  }\n",
              "\n",
              "  [theme=dark] .colab-df-quickchart:hover {\n",
              "    background-color: #434B5C;\n",
              "    box-shadow: 0px 1px 3px 1px rgba(0, 0, 0, 0.15);\n",
              "    filter: drop-shadow(0px 1px 2px rgba(0, 0, 0, 0.3));\n",
              "    fill: #FFFFFF;\n",
              "  }\n",
              "</style>\n",
              "\n",
              "    <script>\n",
              "      async function quickchart(key) {\n",
              "        const containerElement = document.querySelector('#' + key);\n",
              "        const charts = await google.colab.kernel.invokeFunction(\n",
              "            'suggestCharts', [key], {});\n",
              "      }\n",
              "    </script>\n",
              "\n",
              "      <script>\n",
              "\n",
              "function displayQuickchartButton(domScope) {\n",
              "  let quickchartButtonEl =\n",
              "    domScope.querySelector('#df-9d701151-140c-4cfd-92b8-d1363566a3c9 button.colab-df-quickchart');\n",
              "  quickchartButtonEl.style.display =\n",
              "    google.colab.kernel.accessAllowed ? 'block' : 'none';\n",
              "}\n",
              "\n",
              "        displayQuickchartButton(document);\n",
              "      </script>\n",
              "      <style>\n",
              "    .colab-df-container {\n",
              "      display:flex;\n",
              "      flex-wrap:wrap;\n",
              "      gap: 12px;\n",
              "    }\n",
              "\n",
              "    .colab-df-convert {\n",
              "      background-color: #E8F0FE;\n",
              "      border: none;\n",
              "      border-radius: 50%;\n",
              "      cursor: pointer;\n",
              "      display: none;\n",
              "      fill: #1967D2;\n",
              "      height: 32px;\n",
              "      padding: 0 0 0 0;\n",
              "      width: 32px;\n",
              "    }\n",
              "\n",
              "    .colab-df-convert:hover {\n",
              "      background-color: #E2EBFA;\n",
              "      box-shadow: 0px 1px 2px rgba(60, 64, 67, 0.3), 0px 1px 3px 1px rgba(60, 64, 67, 0.15);\n",
              "      fill: #174EA6;\n",
              "    }\n",
              "\n",
              "    [theme=dark] .colab-df-convert {\n",
              "      background-color: #3B4455;\n",
              "      fill: #D2E3FC;\n",
              "    }\n",
              "\n",
              "    [theme=dark] .colab-df-convert:hover {\n",
              "      background-color: #434B5C;\n",
              "      box-shadow: 0px 1px 3px 1px rgba(0, 0, 0, 0.15);\n",
              "      filter: drop-shadow(0px 1px 2px rgba(0, 0, 0, 0.3));\n",
              "      fill: #FFFFFF;\n",
              "    }\n",
              "  </style>\n",
              "\n",
              "      <script>\n",
              "        const buttonEl =\n",
              "          document.querySelector('#df-0de60e90-b4fb-471d-9d6e-986286f1986a button.colab-df-convert');\n",
              "        buttonEl.style.display =\n",
              "          google.colab.kernel.accessAllowed ? 'block' : 'none';\n",
              "\n",
              "        async function convertToInteractive(key) {\n",
              "          const element = document.querySelector('#df-0de60e90-b4fb-471d-9d6e-986286f1986a');\n",
              "          const dataTable =\n",
              "            await google.colab.kernel.invokeFunction('convertToInteractive',\n",
              "                                                     [key], {});\n",
              "          if (!dataTable) return;\n",
              "\n",
              "          const docLinkHtml = 'Like what you see? Visit the ' +\n",
              "            '<a target=\"_blank\" href=https://colab.research.google.com/notebooks/data_table.ipynb>data table notebook</a>'\n",
              "            + ' to learn more about interactive tables.';\n",
              "          element.innerHTML = '';\n",
              "          dataTable['output_type'] = 'display_data';\n",
              "          await google.colab.output.renderOutput(dataTable, element);\n",
              "          const docLink = document.createElement('div');\n",
              "          docLink.innerHTML = docLinkHtml;\n",
              "          element.appendChild(docLink);\n",
              "        }\n",
              "      </script>\n",
              "    </div>\n",
              "  </div>\n"
            ]
          },
          "metadata": {},
          "execution_count": 138
        }
      ]
    },
    {
      "cell_type": "code",
      "source": [
        "def calculate_metrics(TP, TN, FP, FN):\n",
        "    accuracy = (TP + TN) / (TP + TN + FP + FN)\n",
        "    precision = TP / (TP + FP)\n",
        "    recall = TP / (TP + FN)\n",
        "    f1_score = 2 * (precision * recall) / (precision + recall)\n",
        "    return accuracy, precision, recall, f1_score\n",
        "\n",
        "# Menghitung akurasi, presisi, recall, dan F1-Score\n",
        "confusion_matrix_table['Accuracy'], confusion_matrix_table['Precision'], confusion_matrix_table['Recall'], confusion_matrix_table['F1-Score'] = zip(*confusion_matrix_table.apply(\n",
        "    lambda row: calculate_metrics(row['True Positive (TP)'], row['True Negative (TN)'], row['False Positive (FP)'], row['False Negative (FN)']), axis=1\n",
        "))\n",
        "\n",
        "confusion_matrix_table"
      ],
      "metadata": {
        "colab": {
          "base_uri": "https://localhost:8080/",
          "height": 143
        },
        "id": "g2xpoj3vbGCa",
        "outputId": "8a076a70-0d5c-458a-9e84-7b3ec0aa4349"
      },
      "execution_count": 139,
      "outputs": [
        {
          "output_type": "execute_result",
          "data": {
            "text/plain": [
              "  Confusion Matrix  True Positive (TP)  False Positive (FP)  \\\n",
              "0          Model 1                  65                   18   \n",
              "1          Model 2                  52                   31   \n",
              "2          Model 3                  56                   27   \n",
              "\n",
              "   True Negative (TN)  False Negative (FN)  Accuracy  Precision    Recall  \\\n",
              "0                  12                   22  0.658120   0.783133  0.747126   \n",
              "1                  26                    8  0.666667   0.626506  0.866667   \n",
              "2                  27                    7  0.709402   0.674699  0.888889   \n",
              "\n",
              "   F1-Score  \n",
              "0  0.764706  \n",
              "1  0.727273  \n",
              "2  0.767123  "
            ],
            "text/html": [
              "\n",
              "\n",
              "  <div id=\"df-18407fe9-8241-46d9-8926-01bd8b85d568\">\n",
              "    <div class=\"colab-df-container\">\n",
              "      <div>\n",
              "<style scoped>\n",
              "    .dataframe tbody tr th:only-of-type {\n",
              "        vertical-align: middle;\n",
              "    }\n",
              "\n",
              "    .dataframe tbody tr th {\n",
              "        vertical-align: top;\n",
              "    }\n",
              "\n",
              "    .dataframe thead th {\n",
              "        text-align: right;\n",
              "    }\n",
              "</style>\n",
              "<table border=\"1\" class=\"dataframe\">\n",
              "  <thead>\n",
              "    <tr style=\"text-align: right;\">\n",
              "      <th></th>\n",
              "      <th>Confusion Matrix</th>\n",
              "      <th>True Positive (TP)</th>\n",
              "      <th>False Positive (FP)</th>\n",
              "      <th>True Negative (TN)</th>\n",
              "      <th>False Negative (FN)</th>\n",
              "      <th>Accuracy</th>\n",
              "      <th>Precision</th>\n",
              "      <th>Recall</th>\n",
              "      <th>F1-Score</th>\n",
              "    </tr>\n",
              "  </thead>\n",
              "  <tbody>\n",
              "    <tr>\n",
              "      <th>0</th>\n",
              "      <td>Model 1</td>\n",
              "      <td>65</td>\n",
              "      <td>18</td>\n",
              "      <td>12</td>\n",
              "      <td>22</td>\n",
              "      <td>0.658120</td>\n",
              "      <td>0.783133</td>\n",
              "      <td>0.747126</td>\n",
              "      <td>0.764706</td>\n",
              "    </tr>\n",
              "    <tr>\n",
              "      <th>1</th>\n",
              "      <td>Model 2</td>\n",
              "      <td>52</td>\n",
              "      <td>31</td>\n",
              "      <td>26</td>\n",
              "      <td>8</td>\n",
              "      <td>0.666667</td>\n",
              "      <td>0.626506</td>\n",
              "      <td>0.866667</td>\n",
              "      <td>0.727273</td>\n",
              "    </tr>\n",
              "    <tr>\n",
              "      <th>2</th>\n",
              "      <td>Model 3</td>\n",
              "      <td>56</td>\n",
              "      <td>27</td>\n",
              "      <td>27</td>\n",
              "      <td>7</td>\n",
              "      <td>0.709402</td>\n",
              "      <td>0.674699</td>\n",
              "      <td>0.888889</td>\n",
              "      <td>0.767123</td>\n",
              "    </tr>\n",
              "  </tbody>\n",
              "</table>\n",
              "</div>\n",
              "      <button class=\"colab-df-convert\" onclick=\"convertToInteractive('df-18407fe9-8241-46d9-8926-01bd8b85d568')\"\n",
              "              title=\"Convert this dataframe to an interactive table.\"\n",
              "              style=\"display:none;\">\n",
              "\n",
              "  <svg xmlns=\"http://www.w3.org/2000/svg\" height=\"24px\"viewBox=\"0 0 24 24\"\n",
              "       width=\"24px\">\n",
              "    <path d=\"M0 0h24v24H0V0z\" fill=\"none\"/>\n",
              "    <path d=\"M18.56 5.44l.94 2.06.94-2.06 2.06-.94-2.06-.94-.94-2.06-.94 2.06-2.06.94zm-11 1L8.5 8.5l.94-2.06 2.06-.94-2.06-.94L8.5 2.5l-.94 2.06-2.06.94zm10 10l.94 2.06.94-2.06 2.06-.94-2.06-.94-.94-2.06-.94 2.06-2.06.94z\"/><path d=\"M17.41 7.96l-1.37-1.37c-.4-.4-.92-.59-1.43-.59-.52 0-1.04.2-1.43.59L10.3 9.45l-7.72 7.72c-.78.78-.78 2.05 0 2.83L4 21.41c.39.39.9.59 1.41.59.51 0 1.02-.2 1.41-.59l7.78-7.78 2.81-2.81c.8-.78.8-2.07 0-2.86zM5.41 20L4 18.59l7.72-7.72 1.47 1.35L5.41 20z\"/>\n",
              "  </svg>\n",
              "      </button>\n",
              "\n",
              "\n",
              "\n",
              "    <div id=\"df-24191ed9-90ca-4106-abb7-ecd2e31e97d5\">\n",
              "      <button class=\"colab-df-quickchart\" onclick=\"quickchart('df-24191ed9-90ca-4106-abb7-ecd2e31e97d5')\"\n",
              "              title=\"Suggest charts.\"\n",
              "              style=\"display:none;\">\n",
              "\n",
              "<svg xmlns=\"http://www.w3.org/2000/svg\" height=\"24px\"viewBox=\"0 0 24 24\"\n",
              "     width=\"24px\">\n",
              "    <g>\n",
              "        <path d=\"M19 3H5c-1.1 0-2 .9-2 2v14c0 1.1.9 2 2 2h14c1.1 0 2-.9 2-2V5c0-1.1-.9-2-2-2zM9 17H7v-7h2v7zm4 0h-2V7h2v10zm4 0h-2v-4h2v4z\"/>\n",
              "    </g>\n",
              "</svg>\n",
              "      </button>\n",
              "    </div>\n",
              "\n",
              "<style>\n",
              "  .colab-df-quickchart {\n",
              "    background-color: #E8F0FE;\n",
              "    border: none;\n",
              "    border-radius: 50%;\n",
              "    cursor: pointer;\n",
              "    display: none;\n",
              "    fill: #1967D2;\n",
              "    height: 32px;\n",
              "    padding: 0 0 0 0;\n",
              "    width: 32px;\n",
              "  }\n",
              "\n",
              "  .colab-df-quickchart:hover {\n",
              "    background-color: #E2EBFA;\n",
              "    box-shadow: 0px 1px 2px rgba(60, 64, 67, 0.3), 0px 1px 3px 1px rgba(60, 64, 67, 0.15);\n",
              "    fill: #174EA6;\n",
              "  }\n",
              "\n",
              "  [theme=dark] .colab-df-quickchart {\n",
              "    background-color: #3B4455;\n",
              "    fill: #D2E3FC;\n",
              "  }\n",
              "\n",
              "  [theme=dark] .colab-df-quickchart:hover {\n",
              "    background-color: #434B5C;\n",
              "    box-shadow: 0px 1px 3px 1px rgba(0, 0, 0, 0.15);\n",
              "    filter: drop-shadow(0px 1px 2px rgba(0, 0, 0, 0.3));\n",
              "    fill: #FFFFFF;\n",
              "  }\n",
              "</style>\n",
              "\n",
              "    <script>\n",
              "      async function quickchart(key) {\n",
              "        const containerElement = document.querySelector('#' + key);\n",
              "        const charts = await google.colab.kernel.invokeFunction(\n",
              "            'suggestCharts', [key], {});\n",
              "      }\n",
              "    </script>\n",
              "\n",
              "      <script>\n",
              "\n",
              "function displayQuickchartButton(domScope) {\n",
              "  let quickchartButtonEl =\n",
              "    domScope.querySelector('#df-24191ed9-90ca-4106-abb7-ecd2e31e97d5 button.colab-df-quickchart');\n",
              "  quickchartButtonEl.style.display =\n",
              "    google.colab.kernel.accessAllowed ? 'block' : 'none';\n",
              "}\n",
              "\n",
              "        displayQuickchartButton(document);\n",
              "      </script>\n",
              "      <style>\n",
              "    .colab-df-container {\n",
              "      display:flex;\n",
              "      flex-wrap:wrap;\n",
              "      gap: 12px;\n",
              "    }\n",
              "\n",
              "    .colab-df-convert {\n",
              "      background-color: #E8F0FE;\n",
              "      border: none;\n",
              "      border-radius: 50%;\n",
              "      cursor: pointer;\n",
              "      display: none;\n",
              "      fill: #1967D2;\n",
              "      height: 32px;\n",
              "      padding: 0 0 0 0;\n",
              "      width: 32px;\n",
              "    }\n",
              "\n",
              "    .colab-df-convert:hover {\n",
              "      background-color: #E2EBFA;\n",
              "      box-shadow: 0px 1px 2px rgba(60, 64, 67, 0.3), 0px 1px 3px 1px rgba(60, 64, 67, 0.15);\n",
              "      fill: #174EA6;\n",
              "    }\n",
              "\n",
              "    [theme=dark] .colab-df-convert {\n",
              "      background-color: #3B4455;\n",
              "      fill: #D2E3FC;\n",
              "    }\n",
              "\n",
              "    [theme=dark] .colab-df-convert:hover {\n",
              "      background-color: #434B5C;\n",
              "      box-shadow: 0px 1px 3px 1px rgba(0, 0, 0, 0.15);\n",
              "      filter: drop-shadow(0px 1px 2px rgba(0, 0, 0, 0.3));\n",
              "      fill: #FFFFFF;\n",
              "    }\n",
              "  </style>\n",
              "\n",
              "      <script>\n",
              "        const buttonEl =\n",
              "          document.querySelector('#df-18407fe9-8241-46d9-8926-01bd8b85d568 button.colab-df-convert');\n",
              "        buttonEl.style.display =\n",
              "          google.colab.kernel.accessAllowed ? 'block' : 'none';\n",
              "\n",
              "        async function convertToInteractive(key) {\n",
              "          const element = document.querySelector('#df-18407fe9-8241-46d9-8926-01bd8b85d568');\n",
              "          const dataTable =\n",
              "            await google.colab.kernel.invokeFunction('convertToInteractive',\n",
              "                                                     [key], {});\n",
              "          if (!dataTable) return;\n",
              "\n",
              "          const docLinkHtml = 'Like what you see? Visit the ' +\n",
              "            '<a target=\"_blank\" href=https://colab.research.google.com/notebooks/data_table.ipynb>data table notebook</a>'\n",
              "            + ' to learn more about interactive tables.';\n",
              "          element.innerHTML = '';\n",
              "          dataTable['output_type'] = 'display_data';\n",
              "          await google.colab.output.renderOutput(dataTable, element);\n",
              "          const docLink = document.createElement('div');\n",
              "          docLink.innerHTML = docLinkHtml;\n",
              "          element.appendChild(docLink);\n",
              "        }\n",
              "      </script>\n",
              "    </div>\n",
              "  </div>\n"
            ]
          },
          "metadata": {},
          "execution_count": 139
        }
      ]
    },
    {
      "cell_type": "code",
      "source": [
        "#Berdasarkan Data Latih\n",
        "print(f'Akurasi Skor Model 1: {round(score_knn_model_scaler.mean(),2)}')\n",
        "print(f'Akurasi Skor Model 2: {round(score_knn_model_smote.mean(),2)}')\n",
        "print(f'Akurasi Skor Model 3: {round(score_knn_model_optuna.mean(),2)}')"
      ],
      "metadata": {
        "colab": {
          "base_uri": "https://localhost:8080/"
        },
        "id": "pk0LiFZicsuR",
        "outputId": "f7947bf0-0189-4138-ffb1-f2fad2e22ca8"
      },
      "execution_count": 141,
      "outputs": [
        {
          "output_type": "stream",
          "name": "stdout",
          "text": [
            "Akurasi Skor Model 1: 0.68\n",
            "Akurasi Skor Model 2: 0.73\n",
            "Akurasi Skor Model 3: 0.77\n"
          ]
        }
      ]
    }
  ]
}