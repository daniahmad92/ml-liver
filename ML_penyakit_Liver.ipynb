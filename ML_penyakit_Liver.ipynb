{
  "nbformat": 4,
  "nbformat_minor": 0,
  "metadata": {
    "colab": {
      "provenance": []
    },
    "kernelspec": {
      "name": "python3",
      "display_name": "Python 3"
    },
    "language_info": {
      "name": "python"
    }
  },
  "cells": [
    {
      "cell_type": "markdown",
      "source": [
        "# Integrasi Model K-Nearest Neighbors (KNN) dengan Hyperparameter Tunning Optuna Untuk Memprediksi Penyakit Liver - Dadan Ahmad Dani"
      ],
      "metadata": {
        "id": "HvPQHaN3rxJA"
      }
    },
    {
      "cell_type": "markdown",
      "source": [
        "### Library"
      ],
      "metadata": {
        "id": "VCPLL_eBsDUo"
      }
    },
    {
      "cell_type": "code",
      "execution_count": 1,
      "metadata": {
        "id": "MPrTtd89BlBQ",
        "colab": {
          "base_uri": "https://localhost:8080/"
        },
        "outputId": "b0a7252c-6a9d-4908-a867-69d3d05f4aac"
      },
      "outputs": [
        {
          "output_type": "stream",
          "name": "stdout",
          "text": [
            "\u001b[?25l     \u001b[90m━━━━━━━━━━━━━━━━━━━━━━━━━━━━━━━━━━━━━━━━\u001b[0m \u001b[32m0.0/390.6 kB\u001b[0m \u001b[31m?\u001b[0m eta \u001b[36m-:--:--\u001b[0m\r\u001b[2K     \u001b[91m━━━━━━━━━━━━━━━━━━━━━━━━━━━━━━━\u001b[0m\u001b[91m╸\u001b[0m\u001b[90m━━━━━━\u001b[0m \u001b[32m327.7/390.6 kB\u001b[0m \u001b[31m10.1 MB/s\u001b[0m eta \u001b[36m0:00:01\u001b[0m\r\u001b[2K     \u001b[90m━━━━━━━━━━━━━━━━━━━━━━━━━━━━━━━━━━━━━━━\u001b[0m \u001b[32m390.6/390.6 kB\u001b[0m \u001b[31m7.8 MB/s\u001b[0m eta \u001b[36m0:00:00\u001b[0m\n",
            "\u001b[2K     \u001b[90m━━━━━━━━━━━━━━━━━━━━━━━━━━━━━━━━━━━━━━\u001b[0m \u001b[32m224.5/224.5 kB\u001b[0m \u001b[31m12.2 MB/s\u001b[0m eta \u001b[36m0:00:00\u001b[0m\n",
            "\u001b[2K     \u001b[90m━━━━━━━━━━━━━━━━━━━━━━━━━━━━━━━━━━━━━━━━\u001b[0m \u001b[32m78.7/78.7 kB\u001b[0m \u001b[31m7.3 MB/s\u001b[0m eta \u001b[36m0:00:00\u001b[0m\n",
            "\u001b[?25h"
          ]
        }
      ],
      "source": [
        "#Install Optuna\n",
        "!pip install --quiet optuna"
      ]
    },
    {
      "cell_type": "code",
      "source": [
        "#Data\n",
        "import numpy as np\n",
        "import pandas as pd\n",
        "from scipy import stats\n",
        "#Visualisasi\n",
        "import seaborn as sns\n",
        "import matplotlib.pyplot as plt\n",
        "from matplotlib.ticker import FormatStrFormatter\n",
        "# Scale\n",
        "from sklearn.preprocessing import LabelEncoder,MinMaxScaler,StandardScaler,RobustScaler\n",
        "# Model KNN\n",
        "from sklearn.neighbors import KNeighborsClassifier\n",
        "# Hyperparameter Tuning\n",
        "import optuna\n",
        "from imblearn.pipeline import make_pipeline\n",
        "#Model Selection\n",
        "from sklearn.model_selection import train_test_split,cross_val_score,StratifiedKFold\n",
        "#Resample Data\n",
        "from imblearn.over_sampling import SMOTE\n",
        "from imblearn.combine import SMOTETomek\n",
        "#Matriks Evaluasi\n",
        "from sklearn.metrics import accuracy_score, classification_report, confusion_matrix\n",
        "#Warning\n",
        "import warnings\n",
        "warnings.filterwarnings('ignore')"
      ],
      "metadata": {
        "id": "jKbZ61VyCGy4"
      },
      "execution_count": 2,
      "outputs": []
    },
    {
      "cell_type": "markdown",
      "source": [
        "### Load Dataset"
      ],
      "metadata": {
        "id": "_dbKAoTPsNg5"
      }
    },
    {
      "cell_type": "code",
      "source": [
        "#load dataset csv\n",
        "liver_df = pd.read_csv('Indian Liver Patient Dataset (ILPD).csv')\n",
        "#tampilkan datasetnya\n",
        "liver_df.head()"
      ],
      "metadata": {
        "colab": {
          "base_uri": "https://localhost:8080/",
          "height": 206
        },
        "id": "Lglw2ZZfCNo4",
        "outputId": "4b0687c9-15e2-4cf2-ced6-b867aece759d"
      },
      "execution_count": 3,
      "outputs": [
        {
          "output_type": "execute_result",
          "data": {
            "text/plain": [
              "   Age  Gender    TB   DB  Alkphos  Sgpt  Sgot   TP  ALB   A/G  Class\n",
              "0   65  Female   0.7  0.1      187    16    18  6.8  3.3  0.90      1\n",
              "1   62    Male  10.9  5.5      699    64   100  7.5  3.2  0.74      1\n",
              "2   62    Male   7.3  4.1      490    60    68  7.0  3.3  0.89      1\n",
              "3   58    Male   1.0  0.4      182    14    20  6.8  3.4  1.00      1\n",
              "4   72    Male   3.9  2.0      195    27    59  7.3  2.4  0.40      1"
            ],
            "text/html": [
              "\n",
              "\n",
              "  <div id=\"df-64f88b0e-e3c6-4755-bbab-38ec2056230c\">\n",
              "    <div class=\"colab-df-container\">\n",
              "      <div>\n",
              "<style scoped>\n",
              "    .dataframe tbody tr th:only-of-type {\n",
              "        vertical-align: middle;\n",
              "    }\n",
              "\n",
              "    .dataframe tbody tr th {\n",
              "        vertical-align: top;\n",
              "    }\n",
              "\n",
              "    .dataframe thead th {\n",
              "        text-align: right;\n",
              "    }\n",
              "</style>\n",
              "<table border=\"1\" class=\"dataframe\">\n",
              "  <thead>\n",
              "    <tr style=\"text-align: right;\">\n",
              "      <th></th>\n",
              "      <th>Age</th>\n",
              "      <th>Gender</th>\n",
              "      <th>TB</th>\n",
              "      <th>DB</th>\n",
              "      <th>Alkphos</th>\n",
              "      <th>Sgpt</th>\n",
              "      <th>Sgot</th>\n",
              "      <th>TP</th>\n",
              "      <th>ALB</th>\n",
              "      <th>A/G</th>\n",
              "      <th>Class</th>\n",
              "    </tr>\n",
              "  </thead>\n",
              "  <tbody>\n",
              "    <tr>\n",
              "      <th>0</th>\n",
              "      <td>65</td>\n",
              "      <td>Female</td>\n",
              "      <td>0.7</td>\n",
              "      <td>0.1</td>\n",
              "      <td>187</td>\n",
              "      <td>16</td>\n",
              "      <td>18</td>\n",
              "      <td>6.8</td>\n",
              "      <td>3.3</td>\n",
              "      <td>0.90</td>\n",
              "      <td>1</td>\n",
              "    </tr>\n",
              "    <tr>\n",
              "      <th>1</th>\n",
              "      <td>62</td>\n",
              "      <td>Male</td>\n",
              "      <td>10.9</td>\n",
              "      <td>5.5</td>\n",
              "      <td>699</td>\n",
              "      <td>64</td>\n",
              "      <td>100</td>\n",
              "      <td>7.5</td>\n",
              "      <td>3.2</td>\n",
              "      <td>0.74</td>\n",
              "      <td>1</td>\n",
              "    </tr>\n",
              "    <tr>\n",
              "      <th>2</th>\n",
              "      <td>62</td>\n",
              "      <td>Male</td>\n",
              "      <td>7.3</td>\n",
              "      <td>4.1</td>\n",
              "      <td>490</td>\n",
              "      <td>60</td>\n",
              "      <td>68</td>\n",
              "      <td>7.0</td>\n",
              "      <td>3.3</td>\n",
              "      <td>0.89</td>\n",
              "      <td>1</td>\n",
              "    </tr>\n",
              "    <tr>\n",
              "      <th>3</th>\n",
              "      <td>58</td>\n",
              "      <td>Male</td>\n",
              "      <td>1.0</td>\n",
              "      <td>0.4</td>\n",
              "      <td>182</td>\n",
              "      <td>14</td>\n",
              "      <td>20</td>\n",
              "      <td>6.8</td>\n",
              "      <td>3.4</td>\n",
              "      <td>1.00</td>\n",
              "      <td>1</td>\n",
              "    </tr>\n",
              "    <tr>\n",
              "      <th>4</th>\n",
              "      <td>72</td>\n",
              "      <td>Male</td>\n",
              "      <td>3.9</td>\n",
              "      <td>2.0</td>\n",
              "      <td>195</td>\n",
              "      <td>27</td>\n",
              "      <td>59</td>\n",
              "      <td>7.3</td>\n",
              "      <td>2.4</td>\n",
              "      <td>0.40</td>\n",
              "      <td>1</td>\n",
              "    </tr>\n",
              "  </tbody>\n",
              "</table>\n",
              "</div>\n",
              "      <button class=\"colab-df-convert\" onclick=\"convertToInteractive('df-64f88b0e-e3c6-4755-bbab-38ec2056230c')\"\n",
              "              title=\"Convert this dataframe to an interactive table.\"\n",
              "              style=\"display:none;\">\n",
              "\n",
              "  <svg xmlns=\"http://www.w3.org/2000/svg\" height=\"24px\"viewBox=\"0 0 24 24\"\n",
              "       width=\"24px\">\n",
              "    <path d=\"M0 0h24v24H0V0z\" fill=\"none\"/>\n",
              "    <path d=\"M18.56 5.44l.94 2.06.94-2.06 2.06-.94-2.06-.94-.94-2.06-.94 2.06-2.06.94zm-11 1L8.5 8.5l.94-2.06 2.06-.94-2.06-.94L8.5 2.5l-.94 2.06-2.06.94zm10 10l.94 2.06.94-2.06 2.06-.94-2.06-.94-.94-2.06-.94 2.06-2.06.94z\"/><path d=\"M17.41 7.96l-1.37-1.37c-.4-.4-.92-.59-1.43-.59-.52 0-1.04.2-1.43.59L10.3 9.45l-7.72 7.72c-.78.78-.78 2.05 0 2.83L4 21.41c.39.39.9.59 1.41.59.51 0 1.02-.2 1.41-.59l7.78-7.78 2.81-2.81c.8-.78.8-2.07 0-2.86zM5.41 20L4 18.59l7.72-7.72 1.47 1.35L5.41 20z\"/>\n",
              "  </svg>\n",
              "      </button>\n",
              "\n",
              "\n",
              "\n",
              "    <div id=\"df-bcff99ed-a496-48db-b0d7-60378212b9f2\">\n",
              "      <button class=\"colab-df-quickchart\" onclick=\"quickchart('df-bcff99ed-a496-48db-b0d7-60378212b9f2')\"\n",
              "              title=\"Suggest charts.\"\n",
              "              style=\"display:none;\">\n",
              "\n",
              "<svg xmlns=\"http://www.w3.org/2000/svg\" height=\"24px\"viewBox=\"0 0 24 24\"\n",
              "     width=\"24px\">\n",
              "    <g>\n",
              "        <path d=\"M19 3H5c-1.1 0-2 .9-2 2v14c0 1.1.9 2 2 2h14c1.1 0 2-.9 2-2V5c0-1.1-.9-2-2-2zM9 17H7v-7h2v7zm4 0h-2V7h2v10zm4 0h-2v-4h2v4z\"/>\n",
              "    </g>\n",
              "</svg>\n",
              "      </button>\n",
              "    </div>\n",
              "\n",
              "<style>\n",
              "  .colab-df-quickchart {\n",
              "    background-color: #E8F0FE;\n",
              "    border: none;\n",
              "    border-radius: 50%;\n",
              "    cursor: pointer;\n",
              "    display: none;\n",
              "    fill: #1967D2;\n",
              "    height: 32px;\n",
              "    padding: 0 0 0 0;\n",
              "    width: 32px;\n",
              "  }\n",
              "\n",
              "  .colab-df-quickchart:hover {\n",
              "    background-color: #E2EBFA;\n",
              "    box-shadow: 0px 1px 2px rgba(60, 64, 67, 0.3), 0px 1px 3px 1px rgba(60, 64, 67, 0.15);\n",
              "    fill: #174EA6;\n",
              "  }\n",
              "\n",
              "  [theme=dark] .colab-df-quickchart {\n",
              "    background-color: #3B4455;\n",
              "    fill: #D2E3FC;\n",
              "  }\n",
              "\n",
              "  [theme=dark] .colab-df-quickchart:hover {\n",
              "    background-color: #434B5C;\n",
              "    box-shadow: 0px 1px 3px 1px rgba(0, 0, 0, 0.15);\n",
              "    filter: drop-shadow(0px 1px 2px rgba(0, 0, 0, 0.3));\n",
              "    fill: #FFFFFF;\n",
              "  }\n",
              "</style>\n",
              "\n",
              "    <script>\n",
              "      async function quickchart(key) {\n",
              "        const containerElement = document.querySelector('#' + key);\n",
              "        const charts = await google.colab.kernel.invokeFunction(\n",
              "            'suggestCharts', [key], {});\n",
              "      }\n",
              "    </script>\n",
              "\n",
              "      <script>\n",
              "\n",
              "function displayQuickchartButton(domScope) {\n",
              "  let quickchartButtonEl =\n",
              "    domScope.querySelector('#df-bcff99ed-a496-48db-b0d7-60378212b9f2 button.colab-df-quickchart');\n",
              "  quickchartButtonEl.style.display =\n",
              "    google.colab.kernel.accessAllowed ? 'block' : 'none';\n",
              "}\n",
              "\n",
              "        displayQuickchartButton(document);\n",
              "      </script>\n",
              "      <style>\n",
              "    .colab-df-container {\n",
              "      display:flex;\n",
              "      flex-wrap:wrap;\n",
              "      gap: 12px;\n",
              "    }\n",
              "\n",
              "    .colab-df-convert {\n",
              "      background-color: #E8F0FE;\n",
              "      border: none;\n",
              "      border-radius: 50%;\n",
              "      cursor: pointer;\n",
              "      display: none;\n",
              "      fill: #1967D2;\n",
              "      height: 32px;\n",
              "      padding: 0 0 0 0;\n",
              "      width: 32px;\n",
              "    }\n",
              "\n",
              "    .colab-df-convert:hover {\n",
              "      background-color: #E2EBFA;\n",
              "      box-shadow: 0px 1px 2px rgba(60, 64, 67, 0.3), 0px 1px 3px 1px rgba(60, 64, 67, 0.15);\n",
              "      fill: #174EA6;\n",
              "    }\n",
              "\n",
              "    [theme=dark] .colab-df-convert {\n",
              "      background-color: #3B4455;\n",
              "      fill: #D2E3FC;\n",
              "    }\n",
              "\n",
              "    [theme=dark] .colab-df-convert:hover {\n",
              "      background-color: #434B5C;\n",
              "      box-shadow: 0px 1px 3px 1px rgba(0, 0, 0, 0.15);\n",
              "      filter: drop-shadow(0px 1px 2px rgba(0, 0, 0, 0.3));\n",
              "      fill: #FFFFFF;\n",
              "    }\n",
              "  </style>\n",
              "\n",
              "      <script>\n",
              "        const buttonEl =\n",
              "          document.querySelector('#df-64f88b0e-e3c6-4755-bbab-38ec2056230c button.colab-df-convert');\n",
              "        buttonEl.style.display =\n",
              "          google.colab.kernel.accessAllowed ? 'block' : 'none';\n",
              "\n",
              "        async function convertToInteractive(key) {\n",
              "          const element = document.querySelector('#df-64f88b0e-e3c6-4755-bbab-38ec2056230c');\n",
              "          const dataTable =\n",
              "            await google.colab.kernel.invokeFunction('convertToInteractive',\n",
              "                                                     [key], {});\n",
              "          if (!dataTable) return;\n",
              "\n",
              "          const docLinkHtml = 'Like what you see? Visit the ' +\n",
              "            '<a target=\"_blank\" href=https://colab.research.google.com/notebooks/data_table.ipynb>data table notebook</a>'\n",
              "            + ' to learn more about interactive tables.';\n",
              "          element.innerHTML = '';\n",
              "          dataTable['output_type'] = 'display_data';\n",
              "          await google.colab.output.renderOutput(dataTable, element);\n",
              "          const docLink = document.createElement('div');\n",
              "          docLink.innerHTML = docLinkHtml;\n",
              "          element.appendChild(docLink);\n",
              "        }\n",
              "      </script>\n",
              "    </div>\n",
              "  </div>\n"
            ]
          },
          "metadata": {},
          "execution_count": 3
        }
      ]
    },
    {
      "cell_type": "code",
      "source": [
        "#Jumlah Baris ,Kolom, dan Tipe Data\n",
        "#Jumlah rows dan column\n",
        "print(f'Dataset ini memiliki {liver_df.shape[0]} rows and {liver_df.shape[1]} columns\\n')\n",
        "# ----Tipe Data------------------------\n",
        "#cek data types untuk masing-masing kolom\n",
        "liver_df.info()"
      ],
      "metadata": {
        "colab": {
          "base_uri": "https://localhost:8080/"
        },
        "id": "LtW7tCIhCvW9",
        "outputId": "2050db16-0f7e-4d51-cfef-ab89c9c5d9db"
      },
      "execution_count": 4,
      "outputs": [
        {
          "output_type": "stream",
          "name": "stdout",
          "text": [
            "Dataset ini memiliki 583 rows and 11 columns\n",
            "\n",
            "<class 'pandas.core.frame.DataFrame'>\n",
            "RangeIndex: 583 entries, 0 to 582\n",
            "Data columns (total 11 columns):\n",
            " #   Column   Non-Null Count  Dtype  \n",
            "---  ------   --------------  -----  \n",
            " 0   Age      583 non-null    int64  \n",
            " 1   Gender   583 non-null    object \n",
            " 2   TB       583 non-null    float64\n",
            " 3   DB       583 non-null    float64\n",
            " 4   Alkphos  583 non-null    int64  \n",
            " 5   Sgpt     583 non-null    int64  \n",
            " 6   Sgot     583 non-null    int64  \n",
            " 7   TP       583 non-null    float64\n",
            " 8   ALB      583 non-null    float64\n",
            " 9   A/G      579 non-null    float64\n",
            " 10  Class    583 non-null    int64  \n",
            "dtypes: float64(5), int64(5), object(1)\n",
            "memory usage: 50.2+ KB\n"
          ]
        }
      ]
    },
    {
      "cell_type": "code",
      "source": [
        "#kolom numerik\n",
        "feature_numeric = ['Age','TB','DB','Alkphos','Sgpt','Sgot','TP','ALB','A/G']\n",
        "#kolom klasifikasi Liver dan Non Liver\n",
        "# 1: Liver dan 2:Non-Liver\n",
        "liver_df['Class'].replace({1:\"Liver\" , 2:\"Non-Liver\"},inplace = True)\n",
        "target_label=['Class']\n",
        "#data untuk pasien Liver\n",
        "df_liv=liver_df[(liver_df['Class']==\"Liver\")]"
      ],
      "metadata": {
        "id": "vIXk1VG5C0ZA"
      },
      "execution_count": 5,
      "outputs": []
    },
    {
      "cell_type": "markdown",
      "source": [
        "### Statistik Deskriptif"
      ],
      "metadata": {
        "id": "nWLwmFTTsu4o"
      }
    },
    {
      "cell_type": "code",
      "source": [
        "#deskripsi fitur numerik\n",
        "liver_df[feature_numeric].describe().T"
      ],
      "metadata": {
        "colab": {
          "base_uri": "https://localhost:8080/",
          "height": 332
        },
        "id": "1V0j0SbXDFPH",
        "outputId": "e1e1724a-02d5-425f-969e-8864a45434ed"
      },
      "execution_count": 6,
      "outputs": [
        {
          "output_type": "execute_result",
          "data": {
            "text/plain": [
              "         count        mean         std   min    25%     50%    75%     max\n",
              "Age      583.0   44.746141   16.189833   4.0   33.0   45.00   58.0    90.0\n",
              "TB       583.0    3.298799    6.209522   0.4    0.8    1.00    2.6    75.0\n",
              "DB       583.0    1.486106    2.808498   0.1    0.2    0.30    1.3    19.7\n",
              "Alkphos  583.0  290.576329  242.937989  63.0  175.5  208.00  298.0  2110.0\n",
              "Sgpt     583.0   80.713551  182.620356  10.0   23.0   35.00   60.5  2000.0\n",
              "Sgot     583.0  109.910806  288.918529  10.0   25.0   42.00   87.0  4929.0\n",
              "TP       583.0    6.483190    1.085451   2.7    5.8    6.60    7.2     9.6\n",
              "ALB      583.0    3.141852    0.795519   0.9    2.6    3.10    3.8     5.5\n",
              "A/G      579.0    0.947064    0.319592   0.3    0.7    0.93    1.1     2.8"
            ],
            "text/html": [
              "\n",
              "\n",
              "  <div id=\"df-d9587bb2-d4cf-4058-a05c-d9f1d990effd\">\n",
              "    <div class=\"colab-df-container\">\n",
              "      <div>\n",
              "<style scoped>\n",
              "    .dataframe tbody tr th:only-of-type {\n",
              "        vertical-align: middle;\n",
              "    }\n",
              "\n",
              "    .dataframe tbody tr th {\n",
              "        vertical-align: top;\n",
              "    }\n",
              "\n",
              "    .dataframe thead th {\n",
              "        text-align: right;\n",
              "    }\n",
              "</style>\n",
              "<table border=\"1\" class=\"dataframe\">\n",
              "  <thead>\n",
              "    <tr style=\"text-align: right;\">\n",
              "      <th></th>\n",
              "      <th>count</th>\n",
              "      <th>mean</th>\n",
              "      <th>std</th>\n",
              "      <th>min</th>\n",
              "      <th>25%</th>\n",
              "      <th>50%</th>\n",
              "      <th>75%</th>\n",
              "      <th>max</th>\n",
              "    </tr>\n",
              "  </thead>\n",
              "  <tbody>\n",
              "    <tr>\n",
              "      <th>Age</th>\n",
              "      <td>583.0</td>\n",
              "      <td>44.746141</td>\n",
              "      <td>16.189833</td>\n",
              "      <td>4.0</td>\n",
              "      <td>33.0</td>\n",
              "      <td>45.00</td>\n",
              "      <td>58.0</td>\n",
              "      <td>90.0</td>\n",
              "    </tr>\n",
              "    <tr>\n",
              "      <th>TB</th>\n",
              "      <td>583.0</td>\n",
              "      <td>3.298799</td>\n",
              "      <td>6.209522</td>\n",
              "      <td>0.4</td>\n",
              "      <td>0.8</td>\n",
              "      <td>1.00</td>\n",
              "      <td>2.6</td>\n",
              "      <td>75.0</td>\n",
              "    </tr>\n",
              "    <tr>\n",
              "      <th>DB</th>\n",
              "      <td>583.0</td>\n",
              "      <td>1.486106</td>\n",
              "      <td>2.808498</td>\n",
              "      <td>0.1</td>\n",
              "      <td>0.2</td>\n",
              "      <td>0.30</td>\n",
              "      <td>1.3</td>\n",
              "      <td>19.7</td>\n",
              "    </tr>\n",
              "    <tr>\n",
              "      <th>Alkphos</th>\n",
              "      <td>583.0</td>\n",
              "      <td>290.576329</td>\n",
              "      <td>242.937989</td>\n",
              "      <td>63.0</td>\n",
              "      <td>175.5</td>\n",
              "      <td>208.00</td>\n",
              "      <td>298.0</td>\n",
              "      <td>2110.0</td>\n",
              "    </tr>\n",
              "    <tr>\n",
              "      <th>Sgpt</th>\n",
              "      <td>583.0</td>\n",
              "      <td>80.713551</td>\n",
              "      <td>182.620356</td>\n",
              "      <td>10.0</td>\n",
              "      <td>23.0</td>\n",
              "      <td>35.00</td>\n",
              "      <td>60.5</td>\n",
              "      <td>2000.0</td>\n",
              "    </tr>\n",
              "    <tr>\n",
              "      <th>Sgot</th>\n",
              "      <td>583.0</td>\n",
              "      <td>109.910806</td>\n",
              "      <td>288.918529</td>\n",
              "      <td>10.0</td>\n",
              "      <td>25.0</td>\n",
              "      <td>42.00</td>\n",
              "      <td>87.0</td>\n",
              "      <td>4929.0</td>\n",
              "    </tr>\n",
              "    <tr>\n",
              "      <th>TP</th>\n",
              "      <td>583.0</td>\n",
              "      <td>6.483190</td>\n",
              "      <td>1.085451</td>\n",
              "      <td>2.7</td>\n",
              "      <td>5.8</td>\n",
              "      <td>6.60</td>\n",
              "      <td>7.2</td>\n",
              "      <td>9.6</td>\n",
              "    </tr>\n",
              "    <tr>\n",
              "      <th>ALB</th>\n",
              "      <td>583.0</td>\n",
              "      <td>3.141852</td>\n",
              "      <td>0.795519</td>\n",
              "      <td>0.9</td>\n",
              "      <td>2.6</td>\n",
              "      <td>3.10</td>\n",
              "      <td>3.8</td>\n",
              "      <td>5.5</td>\n",
              "    </tr>\n",
              "    <tr>\n",
              "      <th>A/G</th>\n",
              "      <td>579.0</td>\n",
              "      <td>0.947064</td>\n",
              "      <td>0.319592</td>\n",
              "      <td>0.3</td>\n",
              "      <td>0.7</td>\n",
              "      <td>0.93</td>\n",
              "      <td>1.1</td>\n",
              "      <td>2.8</td>\n",
              "    </tr>\n",
              "  </tbody>\n",
              "</table>\n",
              "</div>\n",
              "      <button class=\"colab-df-convert\" onclick=\"convertToInteractive('df-d9587bb2-d4cf-4058-a05c-d9f1d990effd')\"\n",
              "              title=\"Convert this dataframe to an interactive table.\"\n",
              "              style=\"display:none;\">\n",
              "\n",
              "  <svg xmlns=\"http://www.w3.org/2000/svg\" height=\"24px\"viewBox=\"0 0 24 24\"\n",
              "       width=\"24px\">\n",
              "    <path d=\"M0 0h24v24H0V0z\" fill=\"none\"/>\n",
              "    <path d=\"M18.56 5.44l.94 2.06.94-2.06 2.06-.94-2.06-.94-.94-2.06-.94 2.06-2.06.94zm-11 1L8.5 8.5l.94-2.06 2.06-.94-2.06-.94L8.5 2.5l-.94 2.06-2.06.94zm10 10l.94 2.06.94-2.06 2.06-.94-2.06-.94-.94-2.06-.94 2.06-2.06.94z\"/><path d=\"M17.41 7.96l-1.37-1.37c-.4-.4-.92-.59-1.43-.59-.52 0-1.04.2-1.43.59L10.3 9.45l-7.72 7.72c-.78.78-.78 2.05 0 2.83L4 21.41c.39.39.9.59 1.41.59.51 0 1.02-.2 1.41-.59l7.78-7.78 2.81-2.81c.8-.78.8-2.07 0-2.86zM5.41 20L4 18.59l7.72-7.72 1.47 1.35L5.41 20z\"/>\n",
              "  </svg>\n",
              "      </button>\n",
              "\n",
              "\n",
              "\n",
              "    <div id=\"df-1509f39f-bf18-4062-a118-3d0500dce86e\">\n",
              "      <button class=\"colab-df-quickchart\" onclick=\"quickchart('df-1509f39f-bf18-4062-a118-3d0500dce86e')\"\n",
              "              title=\"Suggest charts.\"\n",
              "              style=\"display:none;\">\n",
              "\n",
              "<svg xmlns=\"http://www.w3.org/2000/svg\" height=\"24px\"viewBox=\"0 0 24 24\"\n",
              "     width=\"24px\">\n",
              "    <g>\n",
              "        <path d=\"M19 3H5c-1.1 0-2 .9-2 2v14c0 1.1.9 2 2 2h14c1.1 0 2-.9 2-2V5c0-1.1-.9-2-2-2zM9 17H7v-7h2v7zm4 0h-2V7h2v10zm4 0h-2v-4h2v4z\"/>\n",
              "    </g>\n",
              "</svg>\n",
              "      </button>\n",
              "    </div>\n",
              "\n",
              "<style>\n",
              "  .colab-df-quickchart {\n",
              "    background-color: #E8F0FE;\n",
              "    border: none;\n",
              "    border-radius: 50%;\n",
              "    cursor: pointer;\n",
              "    display: none;\n",
              "    fill: #1967D2;\n",
              "    height: 32px;\n",
              "    padding: 0 0 0 0;\n",
              "    width: 32px;\n",
              "  }\n",
              "\n",
              "  .colab-df-quickchart:hover {\n",
              "    background-color: #E2EBFA;\n",
              "    box-shadow: 0px 1px 2px rgba(60, 64, 67, 0.3), 0px 1px 3px 1px rgba(60, 64, 67, 0.15);\n",
              "    fill: #174EA6;\n",
              "  }\n",
              "\n",
              "  [theme=dark] .colab-df-quickchart {\n",
              "    background-color: #3B4455;\n",
              "    fill: #D2E3FC;\n",
              "  }\n",
              "\n",
              "  [theme=dark] .colab-df-quickchart:hover {\n",
              "    background-color: #434B5C;\n",
              "    box-shadow: 0px 1px 3px 1px rgba(0, 0, 0, 0.15);\n",
              "    filter: drop-shadow(0px 1px 2px rgba(0, 0, 0, 0.3));\n",
              "    fill: #FFFFFF;\n",
              "  }\n",
              "</style>\n",
              "\n",
              "    <script>\n",
              "      async function quickchart(key) {\n",
              "        const containerElement = document.querySelector('#' + key);\n",
              "        const charts = await google.colab.kernel.invokeFunction(\n",
              "            'suggestCharts', [key], {});\n",
              "      }\n",
              "    </script>\n",
              "\n",
              "      <script>\n",
              "\n",
              "function displayQuickchartButton(domScope) {\n",
              "  let quickchartButtonEl =\n",
              "    domScope.querySelector('#df-1509f39f-bf18-4062-a118-3d0500dce86e button.colab-df-quickchart');\n",
              "  quickchartButtonEl.style.display =\n",
              "    google.colab.kernel.accessAllowed ? 'block' : 'none';\n",
              "}\n",
              "\n",
              "        displayQuickchartButton(document);\n",
              "      </script>\n",
              "      <style>\n",
              "    .colab-df-container {\n",
              "      display:flex;\n",
              "      flex-wrap:wrap;\n",
              "      gap: 12px;\n",
              "    }\n",
              "\n",
              "    .colab-df-convert {\n",
              "      background-color: #E8F0FE;\n",
              "      border: none;\n",
              "      border-radius: 50%;\n",
              "      cursor: pointer;\n",
              "      display: none;\n",
              "      fill: #1967D2;\n",
              "      height: 32px;\n",
              "      padding: 0 0 0 0;\n",
              "      width: 32px;\n",
              "    }\n",
              "\n",
              "    .colab-df-convert:hover {\n",
              "      background-color: #E2EBFA;\n",
              "      box-shadow: 0px 1px 2px rgba(60, 64, 67, 0.3), 0px 1px 3px 1px rgba(60, 64, 67, 0.15);\n",
              "      fill: #174EA6;\n",
              "    }\n",
              "\n",
              "    [theme=dark] .colab-df-convert {\n",
              "      background-color: #3B4455;\n",
              "      fill: #D2E3FC;\n",
              "    }\n",
              "\n",
              "    [theme=dark] .colab-df-convert:hover {\n",
              "      background-color: #434B5C;\n",
              "      box-shadow: 0px 1px 3px 1px rgba(0, 0, 0, 0.15);\n",
              "      filter: drop-shadow(0px 1px 2px rgba(0, 0, 0, 0.3));\n",
              "      fill: #FFFFFF;\n",
              "    }\n",
              "  </style>\n",
              "\n",
              "      <script>\n",
              "        const buttonEl =\n",
              "          document.querySelector('#df-d9587bb2-d4cf-4058-a05c-d9f1d990effd button.colab-df-convert');\n",
              "        buttonEl.style.display =\n",
              "          google.colab.kernel.accessAllowed ? 'block' : 'none';\n",
              "\n",
              "        async function convertToInteractive(key) {\n",
              "          const element = document.querySelector('#df-d9587bb2-d4cf-4058-a05c-d9f1d990effd');\n",
              "          const dataTable =\n",
              "            await google.colab.kernel.invokeFunction('convertToInteractive',\n",
              "                                                     [key], {});\n",
              "          if (!dataTable) return;\n",
              "\n",
              "          const docLinkHtml = 'Like what you see? Visit the ' +\n",
              "            '<a target=\"_blank\" href=https://colab.research.google.com/notebooks/data_table.ipynb>data table notebook</a>'\n",
              "            + ' to learn more about interactive tables.';\n",
              "          element.innerHTML = '';\n",
              "          dataTable['output_type'] = 'display_data';\n",
              "          await google.colab.output.renderOutput(dataTable, element);\n",
              "          const docLink = document.createElement('div');\n",
              "          docLink.innerHTML = docLinkHtml;\n",
              "          element.appendChild(docLink);\n",
              "        }\n",
              "      </script>\n",
              "    </div>\n",
              "  </div>\n"
            ]
          },
          "metadata": {},
          "execution_count": 6
        }
      ]
    },
    {
      "cell_type": "markdown",
      "source": [
        "### Perbandingan Jumlah Pasien Liver dan Non Liver"
      ],
      "metadata": {
        "id": "IP7OCVzfs7ww"
      }
    },
    {
      "cell_type": "code",
      "source": [
        "# Deskripsi Pasien\n",
        "#Perbandingan Jumlah Pasien Liver dan Non Liver (%)\n",
        "def plot_pie_liver_patient():\n",
        "    labels1 = 'Liver','Non-Liver'\n",
        "    liver_df['Class'].value_counts().plot.pie(explode=[0.1,0.1],labels=labels1, autopct='%1.1f%%',shadow=True,figsize=(3,3));\n",
        "    plt.title(\"Perbandingan Pasien Liver dan Non-Liver(%)\")"
      ],
      "metadata": {
        "id": "7GbGhbTADMf6"
      },
      "execution_count": 7,
      "outputs": []
    },
    {
      "cell_type": "code",
      "source": [
        "plot_pie_liver_patient()"
      ],
      "metadata": {
        "colab": {
          "base_uri": "https://localhost:8080/",
          "height": 290
        },
        "id": "Y6DaYMCyDQoX",
        "outputId": "89d4cfa9-d88c-4ee5-c546-d8ad0d6cc80c"
      },
      "execution_count": 8,
      "outputs": [
        {
          "output_type": "display_data",
          "data": {
            "text/plain": [
              "<Figure size 300x300 with 1 Axes>"
            ],
            "image/png": "[encoded data removed]"
          },
          "metadata": {}
        }
      ]
    },
    {
      "cell_type": "markdown",
      "source": [
        "### Perbandingan Jumlah Pasien Liver Berdasarkan Jenis Kelamin"
      ],
      "metadata": {
        "id": "9SktEAGftQJH"
      }
    },
    {
      "cell_type": "code",
      "source": [
        "#Perbandingan Jumlah Pasien Liver Berdasarkan Jenis Kelamin (%)\n",
        "def plot_pie_liver_gender():\n",
        "    labels_gend = 'Male','Female'\n",
        "    df_liv['Gender'].value_counts().plot.pie(explode=[0.1,0.1],labels=labels_gend, autopct='%1.1f%%',shadow=True,figsize=(3,3));\n",
        "    plt.title(\"Perbandingan Pasien Liver Berdasarkan Gender\",fontsize=10)"
      ],
      "metadata": {
        "id": "CzA8kjNVDhy6"
      },
      "execution_count": 9,
      "outputs": []
    },
    {
      "cell_type": "code",
      "source": [
        "plot_pie_liver_gender()"
      ],
      "metadata": {
        "colab": {
          "base_uri": "https://localhost:8080/",
          "height": 287
        },
        "id": "mS_4TC_0DokH",
        "outputId": "09b44d1d-5c3d-43c2-f56f-b251299e5c83"
      },
      "execution_count": 10,
      "outputs": [
        {
          "output_type": "display_data",
          "data": {
            "text/plain": [
              "<Figure size 300x300 with 1 Axes>"
            ],
            "image/png": "[encoded data removed]"
          },
          "metadata": {}
        }
      ]
    },
    {
      "cell_type": "markdown",
      "source": [
        "### Distribusi Pasien Liver Berdasarkan Usia"
      ],
      "metadata": {
        "id": "B1KKyDlotbsG"
      }
    },
    {
      "cell_type": "code",
      "source": [
        "#Distribusi Pasien Liver Berdasarkan Usia\n",
        "def plot_hist_age_patient():\n",
        "    plt.figure(figsize=(3,3))\n",
        "    sns.histplot(df_liv['Age'], color=\"#9bd0b7\")\n",
        "    plt.title(f'Distribusi Pasien Liver Berdasarkan Usia', fontsize=10)\n",
        "    plt.xlabel('Usia')\n",
        "    plt.xticks(fontsize=10)\n",
        "    plt.ylabel('Jumlah')\n",
        "    plt.yticks(fontsize=10)"
      ],
      "metadata": {
        "id": "5rh7g39eEr8j"
      },
      "execution_count": 11,
      "outputs": []
    },
    {
      "cell_type": "code",
      "source": [
        "plot_hist_age_patient()"
      ],
      "metadata": {
        "colab": {
          "base_uri": "https://localhost:8080/",
          "height": 330
        },
        "id": "N7LuHwuLEwr8",
        "outputId": "fa3bc700-b5ba-472f-a88b-1814d5c4fb5b"
      },
      "execution_count": 12,
      "outputs": [
        {
          "output_type": "display_data",
          "data": {
            "text/plain": [
              "<Figure size 300x300 with 1 Axes>"
            ],
            "image/png": "[encoded data removed]"
          },
          "metadata": {}
        }
      ]
    },
    {
      "cell_type": "markdown",
      "source": [
        "### Exploratory Data Analysis (EDA)--Multivariate Analysis"
      ],
      "metadata": {
        "id": "xuT24eIitp71"
      }
    },
    {
      "cell_type": "code",
      "source": [
        "def plot_corr():\n",
        "\tplt.figure(figsize=(8,8))\n",
        "\tsns.heatmap(liver_df[feature_numeric].corr(),annot=True,cmap = 'terrain')"
      ],
      "metadata": {
        "id": "eFmyOx22Vzxi"
      },
      "execution_count": 13,
      "outputs": []
    },
    {
      "cell_type": "code",
      "source": [
        "plot_corr()"
      ],
      "metadata": {
        "colab": {
          "base_uri": "https://localhost:8080/",
          "height": 682
        },
        "id": "zfQanRkaWC1G",
        "outputId": "4d46c843-79f9-4a91-c996-580a2da84989"
      },
      "execution_count": 14,
      "outputs": [
        {
          "output_type": "display_data",
          "data": {
            "text/plain": [
              "<Figure size 800x800 with 2 Axes>"
            ],
            "image/png": "[encoded data removed]"
          },
          "metadata": {}
        }
      ]
    },
    {
      "cell_type": "markdown",
      "source": [
        "### Exploratory Data Analysis (EDA)- EDA-Menangani Missing Value"
      ],
      "metadata": {
        "id": "-Rvb8SX5txql"
      }
    },
    {
      "cell_type": "code",
      "source": [
        "#cek jumlah missing value tiap kolom\n",
        "print('Jumlah Missing Value Tiap Kolom')\n",
        "liver_df.isnull().sum()"
      ],
      "metadata": {
        "colab": {
          "base_uri": "https://localhost:8080/"
        },
        "id": "5hvhlzrXFHwn",
        "outputId": "dac8dc20-e220-4390-b95c-cfccbb4f1016"
      },
      "execution_count": 15,
      "outputs": [
        {
          "output_type": "stream",
          "name": "stdout",
          "text": [
            "Jumlah Missing Value Tiap Kolom\n"
          ]
        },
        {
          "output_type": "execute_result",
          "data": {
            "text/plain": [
              "Age        0\n",
              "Gender     0\n",
              "TB         0\n",
              "DB         0\n",
              "Alkphos    0\n",
              "Sgpt       0\n",
              "Sgot       0\n",
              "TP         0\n",
              "ALB        0\n",
              "A/G        4\n",
              "Class      0\n",
              "dtype: int64"
            ]
          },
          "metadata": {},
          "execution_count": 15
        }
      ]
    },
    {
      "cell_type": "code",
      "source": [
        "#isi 4 kolom A/G yg kosong dengan menggunakan nilai rata-rata (mean) dari nilai A/G\n",
        "liver_df[\"A/G\"] = liver_df[\"A/G\"].fillna(liver_df[\"A/G\"].mean())\n",
        "#cek kembali hasilnya\n",
        "print('Setelah Penanganan')\n",
        "liver_df.isnull().sum()"
      ],
      "metadata": {
        "colab": {
          "base_uri": "https://localhost:8080/"
        },
        "id": "cazs9ygVFPR9",
        "outputId": "e7750c3a-c676-4f99-d919-d00df1e89461"
      },
      "execution_count": 16,
      "outputs": [
        {
          "output_type": "stream",
          "name": "stdout",
          "text": [
            "Setelah Penanganan\n"
          ]
        },
        {
          "output_type": "execute_result",
          "data": {
            "text/plain": [
              "Age        0\n",
              "Gender     0\n",
              "TB         0\n",
              "DB         0\n",
              "Alkphos    0\n",
              "Sgpt       0\n",
              "Sgot       0\n",
              "TP         0\n",
              "ALB        0\n",
              "A/G        0\n",
              "Class      0\n",
              "dtype: int64"
            ]
          },
          "metadata": {},
          "execution_count": 16
        }
      ]
    },
    {
      "cell_type": "markdown",
      "source": [
        "### Exploratory Data Analysis (EDA)- Visualisasi dan penanganan Outlier"
      ],
      "metadata": {
        "id": "fcJCyD6Vt66D"
      }
    },
    {
      "cell_type": "code",
      "source": [
        "def plot_hist_box(X_num):\n",
        "      plot_number = 1\n",
        "      plt.figure(figsize=(6,18))\n",
        "      plt.subplots_adjust(hspace=1, wspace=0.05)\n",
        "      for col in X_num.columns:\n",
        "\n",
        "          plt.subplot(9, 2, plot_number)\n",
        "          sns.histplot(X_num[col], color=\"#9bd0b7\")\n",
        "          plt.gca().xaxis.set_major_formatter(FormatStrFormatter('%.1f'))\n",
        "          plt.title(f'{col.capitalize()} histogram', fontsize=10)\n",
        "          plt.xlabel('')\n",
        "          plt.xticks(fontsize=6)\n",
        "          plt.ylabel('')\n",
        "          plt.yticks(fontsize=6)\n",
        "\n",
        "          plt.subplot(9, 2, plot_number+1)\n",
        "          sns.boxplot(x=X_num[col], color='#badfda', width=0.7, linewidth=0.6)\n",
        "          plt.gca().xaxis.set_major_formatter(FormatStrFormatter('%.1f'))\n",
        "          plt.title(f'{col.capitalize()} boxplot', fontsize=10)\n",
        "          plt.xlabel('')\n",
        "          plt.xticks(fontsize=6)\n",
        "          plt.ylabel('')\n",
        "          plt.yticks(fontsize=6)\n",
        "          plot_number = plot_number+2\n",
        "      plt.show()"
      ],
      "metadata": {
        "id": "KhE6cL0MFXXL"
      },
      "execution_count": 17,
      "outputs": []
    },
    {
      "cell_type": "code",
      "source": [
        "#visualisasikan data outlier ke dalam histogram dan boxpolot\n",
        "plot_hist_box(liver_df[feature_numeric])"
      ],
      "metadata": {
        "colab": {
          "base_uri": "https://localhost:8080/",
          "height": 1000
        },
        "id": "5VD4Bk0mFZqa",
        "outputId": "9fe15d47-812a-4375-a7fb-1f9e7701ac9a"
      },
      "execution_count": 18,
      "outputs": [
        {
          "output_type": "display_data",
          "data": {
            "text/plain": [
              "<Figure size 600x1800 with 18 Axes>"
            ],
            "image/png": "[encoded data removed]"
          },
          "metadata": {}
        }
      ]
    },
    {
      "cell_type": "code",
      "source": [
        "#hitung jumlah outlier masing masing kolom dengan menggunakan metode IQR dan tampilkan dalam tabel\n",
        "def count_Outliers(X_num):\n",
        "    indices = [x for x in X_num.index]\n",
        "    out_indexlist = []\n",
        "    outlier_tbl=[]\n",
        "    for col in feature_numeric:\n",
        "        q1 = np.percentile(X_num[col], 25)\n",
        "        q3 = np.percentile(X_num[col], 75)\n",
        "        iqr = q3 - q1\n",
        "        lower = q1 - (iqr*1.5)\n",
        "        upper = q3 + (iqr*1.5)\n",
        "        outliers_index = X_num[col][(X_num[col] < lower) | (X_num[col] > upper)].index.tolist()\n",
        "        outliers = X_num[col][(X_num[col] < lower) | (X_num[col] > upper)].values\n",
        "        out_indexlist.extend(outliers_index)\n",
        "        outlier_tbl.append({\n",
        "            'Fitur': col,\n",
        "            'Min': round(X_num[col].min(),1),\n",
        "            'Q1': round(q1,1),\n",
        "            'Mean': round(X_num[col].mean(),1),\n",
        "            'Q3': round(q3,1),\n",
        "            'Max': round(X_num[col].max(),1),\n",
        "            'Lower': round(lower,1),\n",
        "            'Upper': round(upper,1),\n",
        "            'Jml Outlier': len(outliers),\n",
        "        })\n",
        "    print('\\nNumber of rows with outliers: ', len(out_indexlist))\n",
        "    out_df = pd.DataFrame(outlier_tbl,columns=['Fitur','Min','Q1','Mean','Q3','Max','Lower','Upper','Jml Outlier'])\n",
        "    return out_df"
      ],
      "metadata": {
        "id": "IgkeBVA4Fo7V"
      },
      "execution_count": 19,
      "outputs": []
    },
    {
      "cell_type": "code",
      "source": [
        "count_Outliers(liver_df[feature_numeric])"
      ],
      "metadata": {
        "colab": {
          "base_uri": "https://localhost:8080/",
          "height": 366
        },
        "id": "wLNWvjXhFu45",
        "outputId": "05157c2b-f7df-4d84-bfe9-b5f1b40f1f02"
      },
      "execution_count": 20,
      "outputs": [
        {
          "output_type": "stream",
          "name": "stdout",
          "text": [
            "\n",
            "Number of rows with outliers:  391\n"
          ]
        },
        {
          "output_type": "execute_result",
          "data": {
            "text/plain": [
              "     Fitur   Min     Q1   Mean     Q3     Max  Lower  Upper  Jml Outlier\n",
              "0      Age   4.0   33.0   44.7   58.0    90.0   -4.5   95.5            0\n",
              "1       TB   0.4    0.8    3.3    2.6    75.0   -1.9    5.3           84\n",
              "2       DB   0.1    0.2    1.5    1.3    19.7   -1.5    3.0           81\n",
              "3  Alkphos  63.0  175.5  290.6  298.0  2110.0   -8.2  481.8           69\n",
              "4     Sgpt  10.0   23.0   80.7   60.5  2000.0  -33.2  116.8           73\n",
              "5     Sgot  10.0   25.0  109.9   87.0  4929.0  -68.0  180.0           66\n",
              "6       TP   2.7    5.8    6.5    7.2     9.6    3.7    9.3            8\n",
              "7      ALB   0.9    2.6    3.1    3.8     5.5    0.8    5.6            0\n",
              "8      A/G   0.3    0.7    0.9    1.1     2.8    0.1    1.7           10"
            ],
            "text/html": [
              "\n",
              "\n",
              "  <div id=\"df-6a6b301a-3767-471e-95f7-a5883850f3a6\">\n",
              "    <div class=\"colab-df-container\">\n",
              "      <div>\n",
              "<style scoped>\n",
              "    .dataframe tbody tr th:only-of-type {\n",
              "        vertical-align: middle;\n",
              "    }\n",
              "\n",
              "    .dataframe tbody tr th {\n",
              "        vertical-align: top;\n",
              "    }\n",
              "\n",
              "    .dataframe thead th {\n",
              "        text-align: right;\n",
              "    }\n",
              "</style>\n",
              "<table border=\"1\" class=\"dataframe\">\n",
              "  <thead>\n",
              "    <tr style=\"text-align: right;\">\n",
              "      <th></th>\n",
              "      <th>Fitur</th>\n",
              "      <th>Min</th>\n",
              "      <th>Q1</th>\n",
              "      <th>Mean</th>\n",
              "      <th>Q3</th>\n",
              "      <th>Max</th>\n",
              "      <th>Lower</th>\n",
              "      <th>Upper</th>\n",
              "      <th>Jml Outlier</th>\n",
              "    </tr>\n",
              "  </thead>\n",
              "  <tbody>\n",
              "    <tr>\n",
              "      <th>0</th>\n",
              "      <td>Age</td>\n",
              "      <td>4.0</td>\n",
              "      <td>33.0</td>\n",
              "      <td>44.7</td>\n",
              "      <td>58.0</td>\n",
              "      <td>90.0</td>\n",
              "      <td>-4.5</td>\n",
              "      <td>95.5</td>\n",
              "      <td>0</td>\n",
              "    </tr>\n",
              "    <tr>\n",
              "      <th>1</th>\n",
              "      <td>TB</td>\n",
              "      <td>0.4</td>\n",
              "      <td>0.8</td>\n",
              "      <td>3.3</td>\n",
              "      <td>2.6</td>\n",
              "      <td>75.0</td>\n",
              "      <td>-1.9</td>\n",
              "      <td>5.3</td>\n",
              "      <td>84</td>\n",
              "    </tr>\n",
              "    <tr>\n",
              "      <th>2</th>\n",
              "      <td>DB</td>\n",
              "      <td>0.1</td>\n",
              "      <td>0.2</td>\n",
              "      <td>1.5</td>\n",
              "      <td>1.3</td>\n",
              "      <td>19.7</td>\n",
              "      <td>-1.5</td>\n",
              "      <td>3.0</td>\n",
              "      <td>81</td>\n",
              "    </tr>\n",
              "    <tr>\n",
              "      <th>3</th>\n",
              "      <td>Alkphos</td>\n",
              "      <td>63.0</td>\n",
              "      <td>175.5</td>\n",
              "      <td>290.6</td>\n",
              "      <td>298.0</td>\n",
              "      <td>2110.0</td>\n",
              "      <td>-8.2</td>\n",
              "      <td>481.8</td>\n",
              "      <td>69</td>\n",
              "    </tr>\n",
              "    <tr>\n",
              "      <th>4</th>\n",
              "      <td>Sgpt</td>\n",
              "      <td>10.0</td>\n",
              "      <td>23.0</td>\n",
              "      <td>80.7</td>\n",
              "      <td>60.5</td>\n",
              "      <td>2000.0</td>\n",
              "      <td>-33.2</td>\n",
              "      <td>116.8</td>\n",
              "      <td>73</td>\n",
              "    </tr>\n",
              "    <tr>\n",
              "      <th>5</th>\n",
              "      <td>Sgot</td>\n",
              "      <td>10.0</td>\n",
              "      <td>25.0</td>\n",
              "      <td>109.9</td>\n",
              "      <td>87.0</td>\n",
              "      <td>4929.0</td>\n",
              "      <td>-68.0</td>\n",
              "      <td>180.0</td>\n",
              "      <td>66</td>\n",
              "    </tr>\n",
              "    <tr>\n",
              "      <th>6</th>\n",
              "      <td>TP</td>\n",
              "      <td>2.7</td>\n",
              "      <td>5.8</td>\n",
              "      <td>6.5</td>\n",
              "      <td>7.2</td>\n",
              "      <td>9.6</td>\n",
              "      <td>3.7</td>\n",
              "      <td>9.3</td>\n",
              "      <td>8</td>\n",
              "    </tr>\n",
              "    <tr>\n",
              "      <th>7</th>\n",
              "      <td>ALB</td>\n",
              "      <td>0.9</td>\n",
              "      <td>2.6</td>\n",
              "      <td>3.1</td>\n",
              "      <td>3.8</td>\n",
              "      <td>5.5</td>\n",
              "      <td>0.8</td>\n",
              "      <td>5.6</td>\n",
              "      <td>0</td>\n",
              "    </tr>\n",
              "    <tr>\n",
              "      <th>8</th>\n",
              "      <td>A/G</td>\n",
              "      <td>0.3</td>\n",
              "      <td>0.7</td>\n",
              "      <td>0.9</td>\n",
              "      <td>1.1</td>\n",
              "      <td>2.8</td>\n",
              "      <td>0.1</td>\n",
              "      <td>1.7</td>\n",
              "      <td>10</td>\n",
              "    </tr>\n",
              "  </tbody>\n",
              "</table>\n",
              "</div>\n",
              "      <button class=\"colab-df-convert\" onclick=\"convertToInteractive('df-6a6b301a-3767-471e-95f7-a5883850f3a6')\"\n",
              "              title=\"Convert this dataframe to an interactive table.\"\n",
              "              style=\"display:none;\">\n",
              "\n",
              "  <svg xmlns=\"http://www.w3.org/2000/svg\" height=\"24px\"viewBox=\"0 0 24 24\"\n",
              "       width=\"24px\">\n",
              "    <path d=\"M0 0h24v24H0V0z\" fill=\"none\"/>\n",
              "    <path d=\"M18.56 5.44l.94 2.06.94-2.06 2.06-.94-2.06-.94-.94-2.06-.94 2.06-2.06.94zm-11 1L8.5 8.5l.94-2.06 2.06-.94-2.06-.94L8.5 2.5l-.94 2.06-2.06.94zm10 10l.94 2.06.94-2.06 2.06-.94-2.06-.94-.94-2.06-.94 2.06-2.06.94z\"/><path d=\"M17.41 7.96l-1.37-1.37c-.4-.4-.92-.59-1.43-.59-.52 0-1.04.2-1.43.59L10.3 9.45l-7.72 7.72c-.78.78-.78 2.05 0 2.83L4 21.41c.39.39.9.59 1.41.59.51 0 1.02-.2 1.41-.59l7.78-7.78 2.81-2.81c.8-.78.8-2.07 0-2.86zM5.41 20L4 18.59l7.72-7.72 1.47 1.35L5.41 20z\"/>\n",
              "  </svg>\n",
              "      </button>\n",
              "\n",
              "\n",
              "\n",
              "    <div id=\"df-453a049c-971e-4db8-882a-d6bd039508c5\">\n",
              "      <button class=\"colab-df-quickchart\" onclick=\"quickchart('df-453a049c-971e-4db8-882a-d6bd039508c5')\"\n",
              "              title=\"Suggest charts.\"\n",
              "              style=\"display:none;\">\n",
              "\n",
              "<svg xmlns=\"http://www.w3.org/2000/svg\" height=\"24px\"viewBox=\"0 0 24 24\"\n",
              "     width=\"24px\">\n",
              "    <g>\n",
              "        <path d=\"M19 3H5c-1.1 0-2 .9-2 2v14c0 1.1.9 2 2 2h14c1.1 0 2-.9 2-2V5c0-1.1-.9-2-2-2zM9 17H7v-7h2v7zm4 0h-2V7h2v10zm4 0h-2v-4h2v4z\"/>\n",
              "    </g>\n",
              "</svg>\n",
              "      </button>\n",
              "    </div>\n",
              "\n",
              "<style>\n",
              "  .colab-df-quickchart {\n",
              "    background-color: #E8F0FE;\n",
              "    border: none;\n",
              "    border-radius: 50%;\n",
              "    cursor: pointer;\n",
              "    display: none;\n",
              "    fill: #1967D2;\n",
              "    height: 32px;\n",
              "    padding: 0 0 0 0;\n",
              "    width: 32px;\n",
              "  }\n",
              "\n",
              "  .colab-df-quickchart:hover {\n",
              "    background-color: #E2EBFA;\n",
              "    box-shadow: 0px 1px 2px rgba(60, 64, 67, 0.3), 0px 1px 3px 1px rgba(60, 64, 67, 0.15);\n",
              "    fill: #174EA6;\n",
              "  }\n",
              "\n",
              "  [theme=dark] .colab-df-quickchart {\n",
              "    background-color: #3B4455;\n",
              "    fill: #D2E3FC;\n",
              "  }\n",
              "\n",
              "  [theme=dark] .colab-df-quickchart:hover {\n",
              "    background-color: #434B5C;\n",
              "    box-shadow: 0px 1px 3px 1px rgba(0, 0, 0, 0.15);\n",
              "    filter: drop-shadow(0px 1px 2px rgba(0, 0, 0, 0.3));\n",
              "    fill: #FFFFFF;\n",
              "  }\n",
              "</style>\n",
              "\n",
              "    <script>\n",
              "      async function quickchart(key) {\n",
              "        const containerElement = document.querySelector('#' + key);\n",
              "        const charts = await google.colab.kernel.invokeFunction(\n",
              "            'suggestCharts', [key], {});\n",
              "      }\n",
              "    </script>\n",
              "\n",
              "      <script>\n",
              "\n",
              "function displayQuickchartButton(domScope) {\n",
              "  let quickchartButtonEl =\n",
              "    domScope.querySelector('#df-453a049c-971e-4db8-882a-d6bd039508c5 button.colab-df-quickchart');\n",
              "  quickchartButtonEl.style.display =\n",
              "    google.colab.kernel.accessAllowed ? 'block' : 'none';\n",
              "}\n",
              "\n",
              "        displayQuickchartButton(document);\n",
              "      </script>\n",
              "      <style>\n",
              "    .colab-df-container {\n",
              "      display:flex;\n",
              "      flex-wrap:wrap;\n",
              "      gap: 12px;\n",
              "    }\n",
              "\n",
              "    .colab-df-convert {\n",
              "      background-color: #E8F0FE;\n",
              "      border: none;\n",
              "      border-radius: 50%;\n",
              "      cursor: pointer;\n",
              "      display: none;\n",
              "      fill: #1967D2;\n",
              "      height: 32px;\n",
              "      padding: 0 0 0 0;\n",
              "      width: 32px;\n",
              "    }\n",
              "\n",
              "    .colab-df-convert:hover {\n",
              "      background-color: #E2EBFA;\n",
              "      box-shadow: 0px 1px 2px rgba(60, 64, 67, 0.3), 0px 1px 3px 1px rgba(60, 64, 67, 0.15);\n",
              "      fill: #174EA6;\n",
              "    }\n",
              "\n",
              "    [theme=dark] .colab-df-convert {\n",
              "      background-color: #3B4455;\n",
              "      fill: #D2E3FC;\n",
              "    }\n",
              "\n",
              "    [theme=dark] .colab-df-convert:hover {\n",
              "      background-color: #434B5C;\n",
              "      box-shadow: 0px 1px 3px 1px rgba(0, 0, 0, 0.15);\n",
              "      filter: drop-shadow(0px 1px 2px rgba(0, 0, 0, 0.3));\n",
              "      fill: #FFFFFF;\n",
              "    }\n",
              "  </style>\n",
              "\n",
              "      <script>\n",
              "        const buttonEl =\n",
              "          document.querySelector('#df-6a6b301a-3767-471e-95f7-a5883850f3a6 button.colab-df-convert');\n",
              "        buttonEl.style.display =\n",
              "          google.colab.kernel.accessAllowed ? 'block' : 'none';\n",
              "\n",
              "        async function convertToInteractive(key) {\n",
              "          const element = document.querySelector('#df-6a6b301a-3767-471e-95f7-a5883850f3a6');\n",
              "          const dataTable =\n",
              "            await google.colab.kernel.invokeFunction('convertToInteractive',\n",
              "                                                     [key], {});\n",
              "          if (!dataTable) return;\n",
              "\n",
              "          const docLinkHtml = 'Like what you see? Visit the ' +\n",
              "            '<a target=\"_blank\" href=https://colab.research.google.com/notebooks/data_table.ipynb>data table notebook</a>'\n",
              "            + ' to learn more about interactive tables.';\n",
              "          element.innerHTML = '';\n",
              "          dataTable['output_type'] = 'display_data';\n",
              "          await google.colab.output.renderOutput(dataTable, element);\n",
              "          const docLink = document.createElement('div');\n",
              "          docLink.innerHTML = docLinkHtml;\n",
              "          element.appendChild(docLink);\n",
              "        }\n",
              "      </script>\n",
              "    </div>\n",
              "  </div>\n"
            ]
          },
          "metadata": {},
          "execution_count": 20
        }
      ]
    },
    {
      "cell_type": "code",
      "source": [
        "#handle outlier: jika outlier diatas upper diganti nilainya dengan nilai upper dan outlier dibawah lower diganti nilainya dengan lower\n",
        "for c_kol in feature_numeric:\n",
        "    q1 = np.percentile(liver_df[c_kol], 25)\n",
        "    q3 = np.percentile(liver_df[c_kol], 75)\n",
        "    iqr = q3 - q1\n",
        "    lower = q1 - (iqr*1.5)\n",
        "    upper = q3 + (iqr*1.5)\n",
        "    liver_df[c_kol]= liver_df[c_kol].apply(lambda x: lower if x<lower else x)\n",
        "    liver_df[c_kol] = liver_df[c_kol].apply(lambda x: upper if x>upper else x)"
      ],
      "metadata": {
        "id": "QghrTMOsF2w6"
      },
      "execution_count": 21,
      "outputs": []
    },
    {
      "cell_type": "code",
      "source": [
        "#tampilkan kembali jumlah outlier\n",
        "count_Outliers(liver_df[feature_numeric])"
      ],
      "metadata": {
        "colab": {
          "base_uri": "https://localhost:8080/",
          "height": 366
        },
        "id": "jTPhDZ7PGBFX",
        "outputId": "af1fca14-b742-42b0-cbf3-f1b250113178"
      },
      "execution_count": 22,
      "outputs": [
        {
          "output_type": "stream",
          "name": "stdout",
          "text": [
            "\n",
            "Number of rows with outliers:  0\n"
          ]
        },
        {
          "output_type": "execute_result",
          "data": {
            "text/plain": [
              "     Fitur   Min     Q1   Mean     Q3    Max  Lower  Upper  Jml Outlier\n",
              "0      Age   4.0   33.0   44.7   58.0   90.0   -4.5   95.5            0\n",
              "1       TB   0.4    0.8    1.9    2.6    5.3   -1.9    5.3            0\n",
              "2       DB   0.1    0.2    0.9    1.3    3.0   -1.5    3.0            0\n",
              "3  Alkphos  63.0  175.5  251.3  298.0  481.8   -8.2  481.8            0\n",
              "4     Sgpt  10.0   23.0   47.9   60.5  116.8  -33.2  116.8            0\n",
              "5     Sgot  10.0   25.0   64.8   87.0  180.0  -68.0  180.0            0\n",
              "6       TP   3.7    5.8    6.5    7.2    9.3    3.7    9.3            0\n",
              "7      ALB   0.9    2.6    3.1    3.8    5.5    0.8    5.6            0\n",
              "8      A/G   0.3    0.7    0.9    1.1    1.7    0.1    1.7            0"
            ],
            "text/html": [
              "\n",
              "\n",
              "  <div id=\"df-6a0d9b13-504c-409b-b330-82d60e525b50\">\n",
              "    <div class=\"colab-df-container\">\n",
              "      <div>\n",
              "<style scoped>\n",
              "    .dataframe tbody tr th:only-of-type {\n",
              "        vertical-align: middle;\n",
              "    }\n",
              "\n",
              "    .dataframe tbody tr th {\n",
              "        vertical-align: top;\n",
              "    }\n",
              "\n",
              "    .dataframe thead th {\n",
              "        text-align: right;\n",
              "    }\n",
              "</style>\n",
              "<table border=\"1\" class=\"dataframe\">\n",
              "  <thead>\n",
              "    <tr style=\"text-align: right;\">\n",
              "      <th></th>\n",
              "      <th>Fitur</th>\n",
              "      <th>Min</th>\n",
              "      <th>Q1</th>\n",
              "      <th>Mean</th>\n",
              "      <th>Q3</th>\n",
              "      <th>Max</th>\n",
              "      <th>Lower</th>\n",
              "      <th>Upper</th>\n",
              "      <th>Jml Outlier</th>\n",
              "    </tr>\n",
              "  </thead>\n",
              "  <tbody>\n",
              "    <tr>\n",
              "      <th>0</th>\n",
              "      <td>Age</td>\n",
              "      <td>4.0</td>\n",
              "      <td>33.0</td>\n",
              "      <td>44.7</td>\n",
              "      <td>58.0</td>\n",
              "      <td>90.0</td>\n",
              "      <td>-4.5</td>\n",
              "      <td>95.5</td>\n",
              "      <td>0</td>\n",
              "    </tr>\n",
              "    <tr>\n",
              "      <th>1</th>\n",
              "      <td>TB</td>\n",
              "      <td>0.4</td>\n",
              "      <td>0.8</td>\n",
              "      <td>1.9</td>\n",
              "      <td>2.6</td>\n",
              "      <td>5.3</td>\n",
              "      <td>-1.9</td>\n",
              "      <td>5.3</td>\n",
              "      <td>0</td>\n",
              "    </tr>\n",
              "    <tr>\n",
              "      <th>2</th>\n",
              "      <td>DB</td>\n",
              "      <td>0.1</td>\n",
              "      <td>0.2</td>\n",
              "      <td>0.9</td>\n",
              "      <td>1.3</td>\n",
              "      <td>3.0</td>\n",
              "      <td>-1.5</td>\n",
              "      <td>3.0</td>\n",
              "      <td>0</td>\n",
              "    </tr>\n",
              "    <tr>\n",
              "      <th>3</th>\n",
              "      <td>Alkphos</td>\n",
              "      <td>63.0</td>\n",
              "      <td>175.5</td>\n",
              "      <td>251.3</td>\n",
              "      <td>298.0</td>\n",
              "      <td>481.8</td>\n",
              "      <td>-8.2</td>\n",
              "      <td>481.8</td>\n",
              "      <td>0</td>\n",
              "    </tr>\n",
              "    <tr>\n",
              "      <th>4</th>\n",
              "      <td>Sgpt</td>\n",
              "      <td>10.0</td>\n",
              "      <td>23.0</td>\n",
              "      <td>47.9</td>\n",
              "      <td>60.5</td>\n",
              "      <td>116.8</td>\n",
              "      <td>-33.2</td>\n",
              "      <td>116.8</td>\n",
              "      <td>0</td>\n",
              "    </tr>\n",
              "    <tr>\n",
              "      <th>5</th>\n",
              "      <td>Sgot</td>\n",
              "      <td>10.0</td>\n",
              "      <td>25.0</td>\n",
              "      <td>64.8</td>\n",
              "      <td>87.0</td>\n",
              "      <td>180.0</td>\n",
              "      <td>-68.0</td>\n",
              "      <td>180.0</td>\n",
              "      <td>0</td>\n",
              "    </tr>\n",
              "    <tr>\n",
              "      <th>6</th>\n",
              "      <td>TP</td>\n",
              "      <td>3.7</td>\n",
              "      <td>5.8</td>\n",
              "      <td>6.5</td>\n",
              "      <td>7.2</td>\n",
              "      <td>9.3</td>\n",
              "      <td>3.7</td>\n",
              "      <td>9.3</td>\n",
              "      <td>0</td>\n",
              "    </tr>\n",
              "    <tr>\n",
              "      <th>7</th>\n",
              "      <td>ALB</td>\n",
              "      <td>0.9</td>\n",
              "      <td>2.6</td>\n",
              "      <td>3.1</td>\n",
              "      <td>3.8</td>\n",
              "      <td>5.5</td>\n",
              "      <td>0.8</td>\n",
              "      <td>5.6</td>\n",
              "      <td>0</td>\n",
              "    </tr>\n",
              "    <tr>\n",
              "      <th>8</th>\n",
              "      <td>A/G</td>\n",
              "      <td>0.3</td>\n",
              "      <td>0.7</td>\n",
              "      <td>0.9</td>\n",
              "      <td>1.1</td>\n",
              "      <td>1.7</td>\n",
              "      <td>0.1</td>\n",
              "      <td>1.7</td>\n",
              "      <td>0</td>\n",
              "    </tr>\n",
              "  </tbody>\n",
              "</table>\n",
              "</div>\n",
              "      <button class=\"colab-df-convert\" onclick=\"convertToInteractive('df-6a0d9b13-504c-409b-b330-82d60e525b50')\"\n",
              "              title=\"Convert this dataframe to an interactive table.\"\n",
              "              style=\"display:none;\">\n",
              "\n",
              "  <svg xmlns=\"http://www.w3.org/2000/svg\" height=\"24px\"viewBox=\"0 0 24 24\"\n",
              "       width=\"24px\">\n",
              "    <path d=\"M0 0h24v24H0V0z\" fill=\"none\"/>\n",
              "    <path d=\"M18.56 5.44l.94 2.06.94-2.06 2.06-.94-2.06-.94-.94-2.06-.94 2.06-2.06.94zm-11 1L8.5 8.5l.94-2.06 2.06-.94-2.06-.94L8.5 2.5l-.94 2.06-2.06.94zm10 10l.94 2.06.94-2.06 2.06-.94-2.06-.94-.94-2.06-.94 2.06-2.06.94z\"/><path d=\"M17.41 7.96l-1.37-1.37c-.4-.4-.92-.59-1.43-.59-.52 0-1.04.2-1.43.59L10.3 9.45l-7.72 7.72c-.78.78-.78 2.05 0 2.83L4 21.41c.39.39.9.59 1.41.59.51 0 1.02-.2 1.41-.59l7.78-7.78 2.81-2.81c.8-.78.8-2.07 0-2.86zM5.41 20L4 18.59l7.72-7.72 1.47 1.35L5.41 20z\"/>\n",
              "  </svg>\n",
              "      </button>\n",
              "\n",
              "\n",
              "\n",
              "    <div id=\"df-694ed627-2826-46d3-bf78-983ac87cd329\">\n",
              "      <button class=\"colab-df-quickchart\" onclick=\"quickchart('df-694ed627-2826-46d3-bf78-983ac87cd329')\"\n",
              "              title=\"Suggest charts.\"\n",
              "              style=\"display:none;\">\n",
              "\n",
              "<svg xmlns=\"http://www.w3.org/2000/svg\" height=\"24px\"viewBox=\"0 0 24 24\"\n",
              "     width=\"24px\">\n",
              "    <g>\n",
              "        <path d=\"M19 3H5c-1.1 0-2 .9-2 2v14c0 1.1.9 2 2 2h14c1.1 0 2-.9 2-2V5c0-1.1-.9-2-2-2zM9 17H7v-7h2v7zm4 0h-2V7h2v10zm4 0h-2v-4h2v4z\"/>\n",
              "    </g>\n",
              "</svg>\n",
              "      </button>\n",
              "    </div>\n",
              "\n",
              "<style>\n",
              "  .colab-df-quickchart {\n",
              "    background-color: #E8F0FE;\n",
              "    border: none;\n",
              "    border-radius: 50%;\n",
              "    cursor: pointer;\n",
              "    display: none;\n",
              "    fill: #1967D2;\n",
              "    height: 32px;\n",
              "    padding: 0 0 0 0;\n",
              "    width: 32px;\n",
              "  }\n",
              "\n",
              "  .colab-df-quickchart:hover {\n",
              "    background-color: #E2EBFA;\n",
              "    box-shadow: 0px 1px 2px rgba(60, 64, 67, 0.3), 0px 1px 3px 1px rgba(60, 64, 67, 0.15);\n",
              "    fill: #174EA6;\n",
              "  }\n",
              "\n",
              "  [theme=dark] .colab-df-quickchart {\n",
              "    background-color: #3B4455;\n",
              "    fill: #D2E3FC;\n",
              "  }\n",
              "\n",
              "  [theme=dark] .colab-df-quickchart:hover {\n",
              "    background-color: #434B5C;\n",
              "    box-shadow: 0px 1px 3px 1px rgba(0, 0, 0, 0.15);\n",
              "    filter: drop-shadow(0px 1px 2px rgba(0, 0, 0, 0.3));\n",
              "    fill: #FFFFFF;\n",
              "  }\n",
              "</style>\n",
              "\n",
              "    <script>\n",
              "      async function quickchart(key) {\n",
              "        const containerElement = document.querySelector('#' + key);\n",
              "        const charts = await google.colab.kernel.invokeFunction(\n",
              "            'suggestCharts', [key], {});\n",
              "      }\n",
              "    </script>\n",
              "\n",
              "      <script>\n",
              "\n",
              "function displayQuickchartButton(domScope) {\n",
              "  let quickchartButtonEl =\n",
              "    domScope.querySelector('#df-694ed627-2826-46d3-bf78-983ac87cd329 button.colab-df-quickchart');\n",
              "  quickchartButtonEl.style.display =\n",
              "    google.colab.kernel.accessAllowed ? 'block' : 'none';\n",
              "}\n",
              "\n",
              "        displayQuickchartButton(document);\n",
              "      </script>\n",
              "      <style>\n",
              "    .colab-df-container {\n",
              "      display:flex;\n",
              "      flex-wrap:wrap;\n",
              "      gap: 12px;\n",
              "    }\n",
              "\n",
              "    .colab-df-convert {\n",
              "      background-color: #E8F0FE;\n",
              "      border: none;\n",
              "      border-radius: 50%;\n",
              "      cursor: pointer;\n",
              "      display: none;\n",
              "      fill: #1967D2;\n",
              "      height: 32px;\n",
              "      padding: 0 0 0 0;\n",
              "      width: 32px;\n",
              "    }\n",
              "\n",
              "    .colab-df-convert:hover {\n",
              "      background-color: #E2EBFA;\n",
              "      box-shadow: 0px 1px 2px rgba(60, 64, 67, 0.3), 0px 1px 3px 1px rgba(60, 64, 67, 0.15);\n",
              "      fill: #174EA6;\n",
              "    }\n",
              "\n",
              "    [theme=dark] .colab-df-convert {\n",
              "      background-color: #3B4455;\n",
              "      fill: #D2E3FC;\n",
              "    }\n",
              "\n",
              "    [theme=dark] .colab-df-convert:hover {\n",
              "      background-color: #434B5C;\n",
              "      box-shadow: 0px 1px 3px 1px rgba(0, 0, 0, 0.15);\n",
              "      filter: drop-shadow(0px 1px 2px rgba(0, 0, 0, 0.3));\n",
              "      fill: #FFFFFF;\n",
              "    }\n",
              "  </style>\n",
              "\n",
              "      <script>\n",
              "        const buttonEl =\n",
              "          document.querySelector('#df-6a0d9b13-504c-409b-b330-82d60e525b50 button.colab-df-convert');\n",
              "        buttonEl.style.display =\n",
              "          google.colab.kernel.accessAllowed ? 'block' : 'none';\n",
              "\n",
              "        async function convertToInteractive(key) {\n",
              "          const element = document.querySelector('#df-6a0d9b13-504c-409b-b330-82d60e525b50');\n",
              "          const dataTable =\n",
              "            await google.colab.kernel.invokeFunction('convertToInteractive',\n",
              "                                                     [key], {});\n",
              "          if (!dataTable) return;\n",
              "\n",
              "          const docLinkHtml = 'Like what you see? Visit the ' +\n",
              "            '<a target=\"_blank\" href=https://colab.research.google.com/notebooks/data_table.ipynb>data table notebook</a>'\n",
              "            + ' to learn more about interactive tables.';\n",
              "          element.innerHTML = '';\n",
              "          dataTable['output_type'] = 'display_data';\n",
              "          await google.colab.output.renderOutput(dataTable, element);\n",
              "          const docLink = document.createElement('div');\n",
              "          docLink.innerHTML = docLinkHtml;\n",
              "          element.appendChild(docLink);\n",
              "        }\n",
              "      </script>\n",
              "    </div>\n",
              "  </div>\n"
            ]
          },
          "metadata": {},
          "execution_count": 22
        }
      ]
    },
    {
      "cell_type": "code",
      "source": [
        "#visualkan kembali boxplotnya\n",
        "plot_hist_box(liver_df[feature_numeric])"
      ],
      "metadata": {
        "colab": {
          "base_uri": "https://localhost:8080/",
          "height": 1000
        },
        "id": "KzzsOnJKGG7w",
        "outputId": "6a0c8b9e-afe3-4c6a-f72f-27ebad4f89b3"
      },
      "execution_count": 23,
      "outputs": [
        {
          "output_type": "display_data",
          "data": {
            "text/plain": [
              "<Figure size 600x1800 with 18 Axes>"
            ],
            "image/png": "[encoded data removed]"
          },
          "metadata": {}
        }
      ]
    },
    {
      "cell_type": "markdown",
      "source": [
        "### Label Encoding"
      ],
      "metadata": {
        "id": "2k7c4QvzuWUo"
      }
    },
    {
      "cell_type": "code",
      "source": [
        "#Label Encoding\n",
        "print('Gender->Male:1 dan Female:0')\n",
        "liver_df['Gender'].replace({\"Male\":1 , \"Female\":0},inplace = True)\n",
        "print('Class->Liver:1 dan Non-Liver:2')\n",
        "liver_df['Class'].replace({\"Liver\":1 , \"Non-Liver\":2},inplace = True)\n",
        "liver_df"
      ],
      "metadata": {
        "colab": {
          "base_uri": "https://localhost:8080/",
          "height": 458
        },
        "id": "I5N6nVZbGPD4",
        "outputId": "c1f349f9-5e67-42ef-a640-425b7177ffa4"
      },
      "execution_count": 24,
      "outputs": [
        {
          "output_type": "stream",
          "name": "stdout",
          "text": [
            "Gender->Male:1 dan Female:0\n",
            "Class->Liver:1 dan Non-Liver:2\n"
          ]
        },
        {
          "output_type": "execute_result",
          "data": {
            "text/plain": [
              "     Age  Gender   TB    DB  Alkphos  Sgpt   Sgot   TP  ALB   A/G  Class\n",
              "0     65       0  0.7  0.10   187.00  16.0   18.0  6.8  3.3  0.90      1\n",
              "1     62       1  5.3  2.95   481.75  64.0  100.0  7.5  3.2  0.74      1\n",
              "2     62       1  5.3  2.95   481.75  60.0   68.0  7.0  3.3  0.89      1\n",
              "3     58       1  1.0  0.40   182.00  14.0   20.0  6.8  3.4  1.00      1\n",
              "4     72       1  3.9  2.00   195.00  27.0   59.0  7.3  2.4  0.40      1\n",
              "..   ...     ...  ...   ...      ...   ...    ...  ...  ...   ...    ...\n",
              "578   60       1  0.5  0.10   481.75  20.0   34.0  5.9  1.6  0.37      2\n",
              "579   40       1  0.6  0.10    98.00  35.0   31.0  6.0  3.2  1.10      1\n",
              "580   52       1  0.8  0.20   245.00  48.0   49.0  6.4  3.2  1.00      1\n",
              "581   31       1  1.3  0.50   184.00  29.0   32.0  6.8  3.4  1.00      1\n",
              "582   38       1  1.0  0.30   216.00  21.0   24.0  7.3  4.4  1.50      2\n",
              "\n",
              "[583 rows x 11 columns]"
            ],
            "text/html": [
              "\n",
              "\n",
              "  <div id=\"df-b8e1099b-d711-4981-bf4c-590207af2454\">\n",
              "    <div class=\"colab-df-container\">\n",
              "      <div>\n",
              "<style scoped>\n",
              "    .dataframe tbody tr th:only-of-type {\n",
              "        vertical-align: middle;\n",
              "    }\n",
              "\n",
              "    .dataframe tbody tr th {\n",
              "        vertical-align: top;\n",
              "    }\n",
              "\n",
              "    .dataframe thead th {\n",
              "        text-align: right;\n",
              "    }\n",
              "</style>\n",
              "<table border=\"1\" class=\"dataframe\">\n",
              "  <thead>\n",
              "    <tr style=\"text-align: right;\">\n",
              "      <th></th>\n",
              "      <th>Age</th>\n",
              "      <th>Gender</th>\n",
              "      <th>TB</th>\n",
              "      <th>DB</th>\n",
              "      <th>Alkphos</th>\n",
              "      <th>Sgpt</th>\n",
              "      <th>Sgot</th>\n",
              "      <th>TP</th>\n",
              "      <th>ALB</th>\n",
              "      <th>A/G</th>\n",
              "      <th>Class</th>\n",
              "    </tr>\n",
              "  </thead>\n",
              "  <tbody>\n",
              "    <tr>\n",
              "      <th>0</th>\n",
              "      <td>65</td>\n",
              "      <td>0</td>\n",
              "      <td>0.7</td>\n",
              "      <td>0.10</td>\n",
              "      <td>187.00</td>\n",
              "      <td>16.0</td>\n",
              "      <td>18.0</td>\n",
              "      <td>6.8</td>\n",
              "      <td>3.3</td>\n",
              "      <td>0.90</td>\n",
              "      <td>1</td>\n",
              "    </tr>\n",
              "    <tr>\n",
              "      <th>1</th>\n",
              "      <td>62</td>\n",
              "      <td>1</td>\n",
              "      <td>5.3</td>\n",
              "      <td>2.95</td>\n",
              "      <td>481.75</td>\n",
              "      <td>64.0</td>\n",
              "      <td>100.0</td>\n",
              "      <td>7.5</td>\n",
              "      <td>3.2</td>\n",
              "      <td>0.74</td>\n",
              "      <td>1</td>\n",
              "    </tr>\n",
              "    <tr>\n",
              "      <th>2</th>\n",
              "      <td>62</td>\n",
              "      <td>1</td>\n",
              "      <td>5.3</td>\n",
              "      <td>2.95</td>\n",
              "      <td>481.75</td>\n",
              "      <td>60.0</td>\n",
              "      <td>68.0</td>\n",
              "      <td>7.0</td>\n",
              "      <td>3.3</td>\n",
              "      <td>0.89</td>\n",
              "      <td>1</td>\n",
              "    </tr>\n",
              "    <tr>\n",
              "      <th>3</th>\n",
              "      <td>58</td>\n",
              "      <td>1</td>\n",
              "      <td>1.0</td>\n",
              "      <td>0.40</td>\n",
              "      <td>182.00</td>\n",
              "      <td>14.0</td>\n",
              "      <td>20.0</td>\n",
              "      <td>6.8</td>\n",
              "      <td>3.4</td>\n",
              "      <td>1.00</td>\n",
              "      <td>1</td>\n",
              "    </tr>\n",
              "    <tr>\n",
              "      <th>4</th>\n",
              "      <td>72</td>\n",
              "      <td>1</td>\n",
              "      <td>3.9</td>\n",
              "      <td>2.00</td>\n",
              "      <td>195.00</td>\n",
              "      <td>27.0</td>\n",
              "      <td>59.0</td>\n",
              "      <td>7.3</td>\n",
              "      <td>2.4</td>\n",
              "      <td>0.40</td>\n",
              "      <td>1</td>\n",
              "    </tr>\n",
              "    <tr>\n",
              "      <th>...</th>\n",
              "      <td>...</td>\n",
              "      <td>...</td>\n",
              "      <td>...</td>\n",
              "      <td>...</td>\n",
              "      <td>...</td>\n",
              "      <td>...</td>\n",
              "      <td>...</td>\n",
              "      <td>...</td>\n",
              "      <td>...</td>\n",
              "      <td>...</td>\n",
              "      <td>...</td>\n",
              "    </tr>\n",
              "    <tr>\n",
              "      <th>578</th>\n",
              "      <td>60</td>\n",
              "      <td>1</td>\n",
              "      <td>0.5</td>\n",
              "      <td>0.10</td>\n",
              "      <td>481.75</td>\n",
              "      <td>20.0</td>\n",
              "      <td>34.0</td>\n",
              "      <td>5.9</td>\n",
              "      <td>1.6</td>\n",
              "      <td>0.37</td>\n",
              "      <td>2</td>\n",
              "    </tr>\n",
              "    <tr>\n",
              "      <th>579</th>\n",
              "      <td>40</td>\n",
              "      <td>1</td>\n",
              "      <td>0.6</td>\n",
              "      <td>0.10</td>\n",
              "      <td>98.00</td>\n",
              "      <td>35.0</td>\n",
              "      <td>31.0</td>\n",
              "      <td>6.0</td>\n",
              "      <td>3.2</td>\n",
              "      <td>1.10</td>\n",
              "      <td>1</td>\n",
              "    </tr>\n",
              "    <tr>\n",
              "      <th>580</th>\n",
              "      <td>52</td>\n",
              "      <td>1</td>\n",
              "      <td>0.8</td>\n",
              "      <td>0.20</td>\n",
              "      <td>245.00</td>\n",
              "      <td>48.0</td>\n",
              "      <td>49.0</td>\n",
              "      <td>6.4</td>\n",
              "      <td>3.2</td>\n",
              "      <td>1.00</td>\n",
              "      <td>1</td>\n",
              "    </tr>\n",
              "    <tr>\n",
              "      <th>581</th>\n",
              "      <td>31</td>\n",
              "      <td>1</td>\n",
              "      <td>1.3</td>\n",
              "      <td>0.50</td>\n",
              "      <td>184.00</td>\n",
              "      <td>29.0</td>\n",
              "      <td>32.0</td>\n",
              "      <td>6.8</td>\n",
              "      <td>3.4</td>\n",
              "      <td>1.00</td>\n",
              "      <td>1</td>\n",
              "    </tr>\n",
              "    <tr>\n",
              "      <th>582</th>\n",
              "      <td>38</td>\n",
              "      <td>1</td>\n",
              "      <td>1.0</td>\n",
              "      <td>0.30</td>\n",
              "      <td>216.00</td>\n",
              "      <td>21.0</td>\n",
              "      <td>24.0</td>\n",
              "      <td>7.3</td>\n",
              "      <td>4.4</td>\n",
              "      <td>1.50</td>\n",
              "      <td>2</td>\n",
              "    </tr>\n",
              "  </tbody>\n",
              "</table>\n",
              "<p>583 rows × 11 columns</p>\n",
              "</div>\n",
              "      <button class=\"colab-df-convert\" onclick=\"convertToInteractive('df-b8e1099b-d711-4981-bf4c-590207af2454')\"\n",
              "              title=\"Convert this dataframe to an interactive table.\"\n",
              "              style=\"display:none;\">\n",
              "\n",
              "  <svg xmlns=\"http://www.w3.org/2000/svg\" height=\"24px\"viewBox=\"0 0 24 24\"\n",
              "       width=\"24px\">\n",
              "    <path d=\"M0 0h24v24H0V0z\" fill=\"none\"/>\n",
              "    <path d=\"M18.56 5.44l.94 2.06.94-2.06 2.06-.94-2.06-.94-.94-2.06-.94 2.06-2.06.94zm-11 1L8.5 8.5l.94-2.06 2.06-.94-2.06-.94L8.5 2.5l-.94 2.06-2.06.94zm10 10l.94 2.06.94-2.06 2.06-.94-2.06-.94-.94-2.06-.94 2.06-2.06.94z\"/><path d=\"M17.41 7.96l-1.37-1.37c-.4-.4-.92-.59-1.43-.59-.52 0-1.04.2-1.43.59L10.3 9.45l-7.72 7.72c-.78.78-.78 2.05 0 2.83L4 21.41c.39.39.9.59 1.41.59.51 0 1.02-.2 1.41-.59l7.78-7.78 2.81-2.81c.8-.78.8-2.07 0-2.86zM5.41 20L4 18.59l7.72-7.72 1.47 1.35L5.41 20z\"/>\n",
              "  </svg>\n",
              "      </button>\n",
              "\n",
              "\n",
              "\n",
              "    <div id=\"df-b55d86e2-9fe5-4893-b34c-5ed6b53a6048\">\n",
              "      <button class=\"colab-df-quickchart\" onclick=\"quickchart('df-b55d86e2-9fe5-4893-b34c-5ed6b53a6048')\"\n",
              "              title=\"Suggest charts.\"\n",
              "              style=\"display:none;\">\n",
              "\n",
              "<svg xmlns=\"http://www.w3.org/2000/svg\" height=\"24px\"viewBox=\"0 0 24 24\"\n",
              "     width=\"24px\">\n",
              "    <g>\n",
              "        <path d=\"M19 3H5c-1.1 0-2 .9-2 2v14c0 1.1.9 2 2 2h14c1.1 0 2-.9 2-2V5c0-1.1-.9-2-2-2zM9 17H7v-7h2v7zm4 0h-2V7h2v10zm4 0h-2v-4h2v4z\"/>\n",
              "    </g>\n",
              "</svg>\n",
              "      </button>\n",
              "    </div>\n",
              "\n",
              "<style>\n",
              "  .colab-df-quickchart {\n",
              "    background-color: #E8F0FE;\n",
              "    border: none;\n",
              "    border-radius: 50%;\n",
              "    cursor: pointer;\n",
              "    display: none;\n",
              "    fill: #1967D2;\n",
              "    height: 32px;\n",
              "    padding: 0 0 0 0;\n",
              "    width: 32px;\n",
              "  }\n",
              "\n",
              "  .colab-df-quickchart:hover {\n",
              "    background-color: #E2EBFA;\n",
              "    box-shadow: 0px 1px 2px rgba(60, 64, 67, 0.3), 0px 1px 3px 1px rgba(60, 64, 67, 0.15);\n",
              "    fill: #174EA6;\n",
              "  }\n",
              "\n",
              "  [theme=dark] .colab-df-quickchart {\n",
              "    background-color: #3B4455;\n",
              "    fill: #D2E3FC;\n",
              "  }\n",
              "\n",
              "  [theme=dark] .colab-df-quickchart:hover {\n",
              "    background-color: #434B5C;\n",
              "    box-shadow: 0px 1px 3px 1px rgba(0, 0, 0, 0.15);\n",
              "    filter: drop-shadow(0px 1px 2px rgba(0, 0, 0, 0.3));\n",
              "    fill: #FFFFFF;\n",
              "  }\n",
              "</style>\n",
              "\n",
              "    <script>\n",
              "      async function quickchart(key) {\n",
              "        const containerElement = document.querySelector('#' + key);\n",
              "        const charts = await google.colab.kernel.invokeFunction(\n",
              "            'suggestCharts', [key], {});\n",
              "      }\n",
              "    </script>\n",
              "\n",
              "      <script>\n",
              "\n",
              "function displayQuickchartButton(domScope) {\n",
              "  let quickchartButtonEl =\n",
              "    domScope.querySelector('#df-b55d86e2-9fe5-4893-b34c-5ed6b53a6048 button.colab-df-quickchart');\n",
              "  quickchartButtonEl.style.display =\n",
              "    google.colab.kernel.accessAllowed ? 'block' : 'none';\n",
              "}\n",
              "\n",
              "        displayQuickchartButton(document);\n",
              "      </script>\n",
              "      <style>\n",
              "    .colab-df-container {\n",
              "      display:flex;\n",
              "      flex-wrap:wrap;\n",
              "      gap: 12px;\n",
              "    }\n",
              "\n",
              "    .colab-df-convert {\n",
              "      background-color: #E8F0FE;\n",
              "      border: none;\n",
              "      border-radius: 50%;\n",
              "      cursor: pointer;\n",
              "      display: none;\n",
              "      fill: #1967D2;\n",
              "      height: 32px;\n",
              "      padding: 0 0 0 0;\n",
              "      width: 32px;\n",
              "    }\n",
              "\n",
              "    .colab-df-convert:hover {\n",
              "      background-color: #E2EBFA;\n",
              "      box-shadow: 0px 1px 2px rgba(60, 64, 67, 0.3), 0px 1px 3px 1px rgba(60, 64, 67, 0.15);\n",
              "      fill: #174EA6;\n",
              "    }\n",
              "\n",
              "    [theme=dark] .colab-df-convert {\n",
              "      background-color: #3B4455;\n",
              "      fill: #D2E3FC;\n",
              "    }\n",
              "\n",
              "    [theme=dark] .colab-df-convert:hover {\n",
              "      background-color: #434B5C;\n",
              "      box-shadow: 0px 1px 3px 1px rgba(0, 0, 0, 0.15);\n",
              "      filter: drop-shadow(0px 1px 2px rgba(0, 0, 0, 0.3));\n",
              "      fill: #FFFFFF;\n",
              "    }\n",
              "  </style>\n",
              "\n",
              "      <script>\n",
              "        const buttonEl =\n",
              "          document.querySelector('#df-b8e1099b-d711-4981-bf4c-590207af2454 button.colab-df-convert');\n",
              "        buttonEl.style.display =\n",
              "          google.colab.kernel.accessAllowed ? 'block' : 'none';\n",
              "\n",
              "        async function convertToInteractive(key) {\n",
              "          const element = document.querySelector('#df-b8e1099b-d711-4981-bf4c-590207af2454');\n",
              "          const dataTable =\n",
              "            await google.colab.kernel.invokeFunction('convertToInteractive',\n",
              "                                                     [key], {});\n",
              "          if (!dataTable) return;\n",
              "\n",
              "          const docLinkHtml = 'Like what you see? Visit the ' +\n",
              "            '<a target=\"_blank\" href=https://colab.research.google.com/notebooks/data_table.ipynb>data table notebook</a>'\n",
              "            + ' to learn more about interactive tables.';\n",
              "          element.innerHTML = '';\n",
              "          dataTable['output_type'] = 'display_data';\n",
              "          await google.colab.output.renderOutput(dataTable, element);\n",
              "          const docLink = document.createElement('div');\n",
              "          docLink.innerHTML = docLinkHtml;\n",
              "          element.appendChild(docLink);\n",
              "        }\n",
              "      </script>\n",
              "    </div>\n",
              "  </div>\n"
            ]
          },
          "metadata": {},
          "execution_count": 24
        }
      ]
    },
    {
      "cell_type": "markdown",
      "source": [
        "### Split data training dan testing"
      ],
      "metadata": {
        "id": "-qI160oIufLE"
      }
    },
    {
      "cell_type": "code",
      "source": [
        "X=liver_df.drop(['Class'],axis = 1)\n",
        "y=liver_df['Class']"
      ],
      "metadata": {
        "id": "MwVDvzW1GW_3"
      },
      "execution_count": 26,
      "outputs": []
    },
    {
      "cell_type": "code",
      "source": [
        "#split data ke dalam data latih (80%) dan data Uji (20%)\n",
        "x_train,x_test,y_train,y_test=train_test_split(X,y,test_size=0.20,random_state=123,stratify= y)\n",
        "print(f'x_train: {x_train.shape}')\n",
        "print(f'x_test: {x_test.shape}')"
      ],
      "metadata": {
        "colab": {
          "base_uri": "https://localhost:8080/"
        },
        "id": "fax_qWa1GfWr",
        "outputId": "bdca61f9-f879-41b9-938e-c87abda897d6"
      },
      "execution_count": 27,
      "outputs": [
        {
          "output_type": "stream",
          "name": "stdout",
          "text": [
            "x_train: (466, 10)\n",
            "x_test: (117, 10)\n"
          ]
        }
      ]
    },
    {
      "cell_type": "markdown",
      "source": [
        "### Normalisasi Data"
      ],
      "metadata": {
        "id": "KGElv4T6upvV"
      }
    },
    {
      "cell_type": "code",
      "source": [
        "# Preprocessing dengan StandardScaler\n",
        "x_train_scaler = StandardScaler().fit_transform(x_train)\n",
        "x_test_scaler = StandardScaler().fit_transform(x_test)\n",
        "x_train_scaler"
      ],
      "metadata": {
        "colab": {
          "base_uri": "https://localhost:8080/"
        },
        "id": "0uwYDLOazxHK",
        "outputId": "600fbb91-55cd-46b7-9cc3-9488784b9a48"
      },
      "execution_count": 28,
      "outputs": [
        {
          "output_type": "execute_result",
          "data": {
            "text/plain": [
              "array([[-0.41164924,  0.57239438, -0.56071816, ...,  0.72761168,\n",
              "         1.53875446,  1.89367731],\n",
              "       [ 1.82541833, -1.7470472 , -0.50019125, ...,  1.46271639,\n",
              "         1.16541556,  0.18434926],\n",
              "       [ 0.39618072,  0.57239438, -0.68177198, ...,  0.36005933,\n",
              "         0.66763036,  0.52621487],\n",
              "       ...,\n",
              "       [ 0.64474378,  0.57239438, -0.68177198, ...,  0.45194742,\n",
              "        -0.20349373, -0.84124757],\n",
              "       [ 0.27189919,  0.57239438, -0.50019125, ...,  0.45194742,\n",
              "         1.41430816,  1.89367731],\n",
              "       [ 0.02333612, -1.7470472 ,  2.04193889, ...,  1.09516404,\n",
              "         0.41873776, -0.49938196]])"
            ]
          },
          "metadata": {},
          "execution_count": 28
        }
      ]
    },
    {
      "cell_type": "markdown",
      "source": [
        "### Resample Data"
      ],
      "metadata": {
        "id": "mrkJBe3GuxZI"
      }
    },
    {
      "cell_type": "code",
      "source": [
        "# SMOTE\n",
        "smote_resample = SMOTE(random_state=42)\n",
        "x_train_resampled, y_train_resampled = smote_resample.fit_resample(x_train_scaler, y_train)\n",
        "x_test_resampled, y_test_resampled = smote_resample.fit_resample(x_test_scaler, y_test)"
      ],
      "metadata": {
        "id": "Hkf8HxeF0YJK"
      },
      "execution_count": 29,
      "outputs": []
    },
    {
      "cell_type": "markdown",
      "source": [
        "### Modeling - Parameter KNN Default"
      ],
      "metadata": {
        "id": "pMxP9mRDu4Q1"
      }
    },
    {
      "cell_type": "code",
      "source": [
        "knn_model_default = KNeighborsClassifier(n_neighbors=5, weights='uniform', metric='minkowski')\n",
        "knn_model_default.fit(x_train_resampled, y_train_resampled)\n",
        "y_pred_default = knn_model_default.predict(x_test_resampled)"
      ],
      "metadata": {
        "id": "QsIf7nmi0eZA"
      },
      "execution_count": 50,
      "outputs": []
    },
    {
      "cell_type": "markdown",
      "source": [
        "### Tunning Hyperparameter Optuna"
      ],
      "metadata": {
        "id": "bJNNFxd1vXXX"
      }
    },
    {
      "cell_type": "code",
      "source": [
        "# Tuning Hyperparameter Optuna\n",
        "def objective(trial):\n",
        "    #knn parameter\n",
        "    n_neighbors = trial.suggest_int(\"n_neighbors\", 1,10)\n",
        "    weights = trial.suggest_categorical(\"weights\", ['uniform', 'distance'])\n",
        "    metric = trial.suggest_categorical(\"metric\", ['euclidean', 'manhattan', 'minkowski'])\n",
        "\n",
        "    #knn model\n",
        "    knn_model = KNeighborsClassifier(n_neighbors=n_neighbors, weights=weights, metric=metric)\n",
        "\n",
        "    #cross_val_score\n",
        "    #score = cross_val_score(knn_model, x_train_resampled, y_train_resampled, scoring='accuracy', cv=5)\n",
        "    #score = score.mean()\n",
        "\n",
        "      # Latih model dengan data latih\n",
        "    knn_model.fit(x_train_resampled, y_train_resampled)\n",
        "\n",
        "    # Prediksi label pada data uji\n",
        "    y_pred = knn_model.predict(x_test_resampled)\n",
        "\n",
        "    # Hitung akurasi prediksi\n",
        "    accuracy = accuracy_score(y_test_resampled, y_pred)\n",
        "\n",
        "    # Kembalikan akurasi sebagai skor optimasi\n",
        "    return accuracy\n",
        "\n",
        "    #return score"
      ],
      "metadata": {
        "id": "83NDonSKHitS"
      },
      "execution_count": 51,
      "outputs": []
    },
    {
      "cell_type": "code",
      "source": [
        "study = optuna.create_study(direction=\"maximize\")\n",
        "study.optimize(objective, n_trials=100)"
      ],
      "metadata": {
        "colab": {
          "base_uri": "https://localhost:8080/"
        },
        "id": "h8T4YR4nHvVW",
        "outputId": "46e5f8af-09fc-478d-b061-d360129eb9f6"
      },
      "execution_count": 53,
      "outputs": [
        {
          "output_type": "stream",
          "name": "stderr",
          "text": [
            "[I 2023-07-22 08:50:01,044] A new study created in memory with name: no-name-f3d2be72-ce32-46bf-9a68-879a25626779\n",
            "[I 2023-07-22 08:50:01,055] Trial 0 finished with value: 0.6927710843373494 and parameters: {'n_neighbors': 10, 'weights': 'distance', 'metric': 'minkowski'}. Best is trial 0 with value: 0.6927710843373494.\n",
            "[I 2023-07-22 08:50:01,067] Trial 1 finished with value: 0.6506024096385542 and parameters: {'n_neighbors': 1, 'weights': 'uniform', 'metric': 'minkowski'}. Best is trial 0 with value: 0.6927710843373494.\n",
            "[I 2023-07-22 08:50:01,077] Trial 2 finished with value: 0.6746987951807228 and parameters: {'n_neighbors': 6, 'weights': 'uniform', 'metric': 'minkowski'}. Best is trial 0 with value: 0.6927710843373494.\n",
            "[I 2023-07-22 08:50:01,087] Trial 3 finished with value: 0.6807228915662651 and parameters: {'n_neighbors': 5, 'weights': 'uniform', 'metric': 'minkowski'}. Best is trial 0 with value: 0.6927710843373494.\n",
            "[I 2023-07-22 08:50:01,098] Trial 4 finished with value: 0.6807228915662651 and parameters: {'n_neighbors': 5, 'weights': 'uniform', 'metric': 'euclidean'}. Best is trial 0 with value: 0.6927710843373494.\n",
            "[I 2023-07-22 08:50:01,106] Trial 5 finished with value: 0.6987951807228916 and parameters: {'n_neighbors': 5, 'weights': 'distance', 'metric': 'minkowski'}. Best is trial 5 with value: 0.6987951807228916.\n",
            "[I 2023-07-22 08:50:01,112] Trial 6 finished with value: 0.6506024096385542 and parameters: {'n_neighbors': 2, 'weights': 'distance', 'metric': 'euclidean'}. Best is trial 5 with value: 0.6987951807228916.\n",
            "[I 2023-07-22 08:50:01,119] Trial 7 finished with value: 0.6807228915662651 and parameters: {'n_neighbors': 6, 'weights': 'distance', 'metric': 'euclidean'}. Best is trial 5 with value: 0.6987951807228916.\n",
            "[I 2023-07-22 08:50:01,127] Trial 8 finished with value: 0.6686746987951807 and parameters: {'n_neighbors': 4, 'weights': 'distance', 'metric': 'manhattan'}. Best is trial 5 with value: 0.6987951807228916.\n",
            "[I 2023-07-22 08:50:01,135] Trial 9 finished with value: 0.6987951807228916 and parameters: {'n_neighbors': 5, 'weights': 'distance', 'metric': 'euclidean'}. Best is trial 5 with value: 0.6987951807228916.\n",
            "[I 2023-07-22 08:50:01,151] Trial 10 finished with value: 0.7168674698795181 and parameters: {'n_neighbors': 9, 'weights': 'distance', 'metric': 'manhattan'}. Best is trial 10 with value: 0.7168674698795181.\n",
            "[I 2023-07-22 08:50:01,170] Trial 11 finished with value: 0.7168674698795181 and parameters: {'n_neighbors': 9, 'weights': 'distance', 'metric': 'manhattan'}. Best is trial 10 with value: 0.7168674698795181.\n",
            "[I 2023-07-22 08:50:01,193] Trial 12 finished with value: 0.7048192771084337 and parameters: {'n_neighbors': 10, 'weights': 'distance', 'metric': 'manhattan'}. Best is trial 10 with value: 0.7168674698795181.\n",
            "[I 2023-07-22 08:50:01,208] Trial 13 finished with value: 0.7228915662650602 and parameters: {'n_neighbors': 8, 'weights': 'distance', 'metric': 'manhattan'}. Best is trial 13 with value: 0.7228915662650602.\n",
            "[I 2023-07-22 08:50:01,222] Trial 14 finished with value: 0.7228915662650602 and parameters: {'n_neighbors': 8, 'weights': 'distance', 'metric': 'manhattan'}. Best is trial 13 with value: 0.7228915662650602.\n",
            "[I 2023-07-22 08:50:01,237] Trial 15 finished with value: 0.7228915662650602 and parameters: {'n_neighbors': 8, 'weights': 'distance', 'metric': 'manhattan'}. Best is trial 13 with value: 0.7228915662650602.\n",
            "[I 2023-07-22 08:50:01,252] Trial 16 finished with value: 0.7108433734939759 and parameters: {'n_neighbors': 7, 'weights': 'distance', 'metric': 'manhattan'}. Best is trial 13 with value: 0.7228915662650602.\n",
            "[I 2023-07-22 08:50:01,266] Trial 17 finished with value: 0.7228915662650602 and parameters: {'n_neighbors': 8, 'weights': 'distance', 'metric': 'manhattan'}. Best is trial 13 with value: 0.7228915662650602.\n",
            "[I 2023-07-22 08:50:01,284] Trial 18 finished with value: 0.7108433734939759 and parameters: {'n_neighbors': 7, 'weights': 'uniform', 'metric': 'manhattan'}. Best is trial 13 with value: 0.7228915662650602.\n",
            "[I 2023-07-22 08:50:01,299] Trial 19 finished with value: 0.7228915662650602 and parameters: {'n_neighbors': 8, 'weights': 'distance', 'metric': 'manhattan'}. Best is trial 13 with value: 0.7228915662650602.\n",
            "[I 2023-07-22 08:50:01,315] Trial 20 finished with value: 0.6626506024096386 and parameters: {'n_neighbors': 3, 'weights': 'distance', 'metric': 'manhattan'}. Best is trial 13 with value: 0.7228915662650602.\n",
            "[I 2023-07-22 08:50:01,330] Trial 21 finished with value: 0.7228915662650602 and parameters: {'n_neighbors': 8, 'weights': 'distance', 'metric': 'manhattan'}. Best is trial 13 with value: 0.7228915662650602.\n",
            "[I 2023-07-22 08:50:01,347] Trial 22 finished with value: 0.7108433734939759 and parameters: {'n_neighbors': 7, 'weights': 'distance', 'metric': 'manhattan'}. Best is trial 13 with value: 0.7228915662650602.\n",
            "[I 2023-07-22 08:50:01,364] Trial 23 finished with value: 0.7168674698795181 and parameters: {'n_neighbors': 9, 'weights': 'distance', 'metric': 'manhattan'}. Best is trial 13 with value: 0.7228915662650602.\n",
            "[I 2023-07-22 08:50:01,382] Trial 24 finished with value: 0.7228915662650602 and parameters: {'n_neighbors': 8, 'weights': 'distance', 'metric': 'manhattan'}. Best is trial 13 with value: 0.7228915662650602.\n",
            "[I 2023-07-22 08:50:01,399] Trial 25 finished with value: 0.7108433734939759 and parameters: {'n_neighbors': 7, 'weights': 'distance', 'metric': 'manhattan'}. Best is trial 13 with value: 0.7228915662650602.\n",
            "[I 2023-07-22 08:50:01,421] Trial 26 finished with value: 0.7168674698795181 and parameters: {'n_neighbors': 9, 'weights': 'uniform', 'metric': 'manhattan'}. Best is trial 13 with value: 0.7228915662650602.\n",
            "[I 2023-07-22 08:50:01,440] Trial 27 finished with value: 0.7048192771084337 and parameters: {'n_neighbors': 10, 'weights': 'distance', 'metric': 'manhattan'}. Best is trial 13 with value: 0.7228915662650602.\n",
            "[I 2023-07-22 08:50:01,457] Trial 28 finished with value: 0.6807228915662651 and parameters: {'n_neighbors': 6, 'weights': 'distance', 'metric': 'euclidean'}. Best is trial 13 with value: 0.7228915662650602.\n",
            "[I 2023-07-22 08:50:01,474] Trial 29 finished with value: 0.7048192771084337 and parameters: {'n_neighbors': 10, 'weights': 'distance', 'metric': 'manhattan'}. Best is trial 13 with value: 0.7228915662650602.\n",
            "[I 2023-07-22 08:50:01,490] Trial 30 finished with value: 0.6987951807228916 and parameters: {'n_neighbors': 8, 'weights': 'distance', 'metric': 'minkowski'}. Best is trial 13 with value: 0.7228915662650602.\n",
            "[I 2023-07-22 08:50:01,510] Trial 31 finished with value: 0.7228915662650602 and parameters: {'n_neighbors': 8, 'weights': 'distance', 'metric': 'manhattan'}. Best is trial 13 with value: 0.7228915662650602.\n",
            "[I 2023-07-22 08:50:01,527] Trial 32 finished with value: 0.7108433734939759 and parameters: {'n_neighbors': 7, 'weights': 'distance', 'metric': 'manhattan'}. Best is trial 13 with value: 0.7228915662650602.\n",
            "[I 2023-07-22 08:50:01,547] Trial 33 finished with value: 0.7168674698795181 and parameters: {'n_neighbors': 9, 'weights': 'distance', 'metric': 'manhattan'}. Best is trial 13 with value: 0.7228915662650602.\n",
            "[I 2023-07-22 08:50:01,567] Trial 34 finished with value: 0.6867469879518072 and parameters: {'n_neighbors': 8, 'weights': 'uniform', 'metric': 'minkowski'}. Best is trial 13 with value: 0.7228915662650602.\n",
            "[I 2023-07-22 08:50:01,589] Trial 35 finished with value: 0.7048192771084337 and parameters: {'n_neighbors': 6, 'weights': 'uniform', 'metric': 'manhattan'}. Best is trial 13 with value: 0.7228915662650602.\n",
            "[I 2023-07-22 08:50:01,605] Trial 36 finished with value: 0.7108433734939759 and parameters: {'n_neighbors': 7, 'weights': 'distance', 'metric': 'minkowski'}. Best is trial 13 with value: 0.7228915662650602.\n",
            "[I 2023-07-22 08:50:01,625] Trial 37 finished with value: 0.7168674698795181 and parameters: {'n_neighbors': 9, 'weights': 'distance', 'metric': 'manhattan'}. Best is trial 13 with value: 0.7228915662650602.\n",
            "[I 2023-07-22 08:50:01,642] Trial 38 finished with value: 0.6506024096385542 and parameters: {'n_neighbors': 1, 'weights': 'uniform', 'metric': 'euclidean'}. Best is trial 13 with value: 0.7228915662650602.\n",
            "[I 2023-07-22 08:50:01,658] Trial 39 finished with value: 0.7048192771084337 and parameters: {'n_neighbors': 6, 'weights': 'distance', 'metric': 'manhattan'}. Best is trial 13 with value: 0.7228915662650602.\n",
            "[I 2023-07-22 08:50:01,674] Trial 40 finished with value: 0.6686746987951807 and parameters: {'n_neighbors': 4, 'weights': 'distance', 'metric': 'minkowski'}. Best is trial 13 with value: 0.7228915662650602.\n",
            "[I 2023-07-22 08:50:01,690] Trial 41 finished with value: 0.7228915662650602 and parameters: {'n_neighbors': 8, 'weights': 'distance', 'metric': 'manhattan'}. Best is trial 13 with value: 0.7228915662650602.\n",
            "[I 2023-07-22 08:50:01,706] Trial 42 finished with value: 0.7228915662650602 and parameters: {'n_neighbors': 8, 'weights': 'distance', 'metric': 'manhattan'}. Best is trial 13 with value: 0.7228915662650602.\n",
            "[I 2023-07-22 08:50:01,724] Trial 43 finished with value: 0.7228915662650602 and parameters: {'n_neighbors': 8, 'weights': 'distance', 'metric': 'manhattan'}. Best is trial 13 with value: 0.7228915662650602.\n",
            "[I 2023-07-22 08:50:01,742] Trial 44 finished with value: 0.7048192771084337 and parameters: {'n_neighbors': 10, 'weights': 'distance', 'metric': 'manhattan'}. Best is trial 13 with value: 0.7228915662650602.\n",
            "[I 2023-07-22 08:50:01,761] Trial 45 finished with value: 0.6987951807228916 and parameters: {'n_neighbors': 9, 'weights': 'distance', 'metric': 'euclidean'}. Best is trial 13 with value: 0.7228915662650602.\n",
            "[I 2023-07-22 08:50:01,779] Trial 46 finished with value: 0.7108433734939759 and parameters: {'n_neighbors': 7, 'weights': 'distance', 'metric': 'manhattan'}. Best is trial 13 with value: 0.7228915662650602.\n",
            "[I 2023-07-22 08:50:01,798] Trial 47 finished with value: 0.7168674698795181 and parameters: {'n_neighbors': 9, 'weights': 'distance', 'metric': 'manhattan'}. Best is trial 13 with value: 0.7228915662650602.\n",
            "[I 2023-07-22 08:50:01,818] Trial 48 finished with value: 0.7048192771084337 and parameters: {'n_neighbors': 6, 'weights': 'uniform', 'metric': 'manhattan'}. Best is trial 13 with value: 0.7228915662650602.\n",
            "[I 2023-07-22 08:50:01,837] Trial 49 finished with value: 0.7108433734939759 and parameters: {'n_neighbors': 7, 'weights': 'distance', 'metric': 'manhattan'}. Best is trial 13 with value: 0.7228915662650602.\n",
            "[I 2023-07-22 08:50:01,854] Trial 50 finished with value: 0.6987951807228916 and parameters: {'n_neighbors': 8, 'weights': 'distance', 'metric': 'euclidean'}. Best is trial 13 with value: 0.7228915662650602.\n",
            "[I 2023-07-22 08:50:01,872] Trial 51 finished with value: 0.7228915662650602 and parameters: {'n_neighbors': 8, 'weights': 'distance', 'metric': 'manhattan'}. Best is trial 13 with value: 0.7228915662650602.\n",
            "[I 2023-07-22 08:50:01,890] Trial 52 finished with value: 0.7168674698795181 and parameters: {'n_neighbors': 9, 'weights': 'distance', 'metric': 'manhattan'}. Best is trial 13 with value: 0.7228915662650602.\n",
            "[I 2023-07-22 08:50:01,909] Trial 53 finished with value: 0.7228915662650602 and parameters: {'n_neighbors': 8, 'weights': 'distance', 'metric': 'manhattan'}. Best is trial 13 with value: 0.7228915662650602.\n",
            "[I 2023-07-22 08:50:01,926] Trial 54 finished with value: 0.7108433734939759 and parameters: {'n_neighbors': 7, 'weights': 'distance', 'metric': 'manhattan'}. Best is trial 13 with value: 0.7228915662650602.\n",
            "[I 2023-07-22 08:50:01,946] Trial 55 finished with value: 0.6746987951807228 and parameters: {'n_neighbors': 2, 'weights': 'distance', 'metric': 'manhattan'}. Best is trial 13 with value: 0.7228915662650602.\n",
            "[I 2023-07-22 08:50:01,966] Trial 56 finished with value: 0.7048192771084337 and parameters: {'n_neighbors': 10, 'weights': 'distance', 'metric': 'manhattan'}. Best is trial 13 with value: 0.7228915662650602.\n",
            "[I 2023-07-22 08:50:01,990] Trial 57 finished with value: 0.7168674698795181 and parameters: {'n_neighbors': 9, 'weights': 'distance', 'metric': 'manhattan'}. Best is trial 13 with value: 0.7228915662650602.\n",
            "[I 2023-07-22 08:50:02,010] Trial 58 finished with value: 0.6987951807228916 and parameters: {'n_neighbors': 8, 'weights': 'distance', 'metric': 'minkowski'}. Best is trial 13 with value: 0.7228915662650602.\n",
            "[I 2023-07-22 08:50:02,031] Trial 59 finished with value: 0.7108433734939759 and parameters: {'n_neighbors': 7, 'weights': 'uniform', 'metric': 'manhattan'}. Best is trial 13 with value: 0.7228915662650602.\n",
            "[I 2023-07-22 08:50:02,051] Trial 60 finished with value: 0.6927710843373494 and parameters: {'n_neighbors': 5, 'weights': 'distance', 'metric': 'manhattan'}. Best is trial 13 with value: 0.7228915662650602.\n",
            "[I 2023-07-22 08:50:02,069] Trial 61 finished with value: 0.7168674698795181 and parameters: {'n_neighbors': 9, 'weights': 'distance', 'metric': 'manhattan'}. Best is trial 13 with value: 0.7228915662650602.\n",
            "[I 2023-07-22 08:50:02,086] Trial 62 finished with value: 0.7228915662650602 and parameters: {'n_neighbors': 8, 'weights': 'distance', 'metric': 'manhattan'}. Best is trial 13 with value: 0.7228915662650602.\n",
            "[I 2023-07-22 08:50:02,104] Trial 63 finished with value: 0.7228915662650602 and parameters: {'n_neighbors': 8, 'weights': 'distance', 'metric': 'manhattan'}. Best is trial 13 with value: 0.7228915662650602.\n",
            "[I 2023-07-22 08:50:02,126] Trial 64 finished with value: 0.7108433734939759 and parameters: {'n_neighbors': 7, 'weights': 'distance', 'metric': 'manhattan'}. Best is trial 13 with value: 0.7228915662650602.\n",
            "[I 2023-07-22 08:50:02,146] Trial 65 finished with value: 0.7228915662650602 and parameters: {'n_neighbors': 8, 'weights': 'distance', 'metric': 'manhattan'}. Best is trial 13 with value: 0.7228915662650602.\n",
            "[I 2023-07-22 08:50:02,166] Trial 66 finished with value: 0.7168674698795181 and parameters: {'n_neighbors': 9, 'weights': 'distance', 'metric': 'manhattan'}. Best is trial 13 with value: 0.7228915662650602.\n",
            "[I 2023-07-22 08:50:02,184] Trial 67 finished with value: 0.7108433734939759 and parameters: {'n_neighbors': 7, 'weights': 'distance', 'metric': 'euclidean'}. Best is trial 13 with value: 0.7228915662650602.\n",
            "[I 2023-07-22 08:50:02,213] Trial 68 finished with value: 0.7228915662650602 and parameters: {'n_neighbors': 8, 'weights': 'distance', 'metric': 'manhattan'}. Best is trial 13 with value: 0.7228915662650602.\n",
            "[I 2023-07-22 08:50:02,231] Trial 69 finished with value: 0.6867469879518072 and parameters: {'n_neighbors': 8, 'weights': 'uniform', 'metric': 'minkowski'}. Best is trial 13 with value: 0.7228915662650602.\n",
            "[I 2023-07-22 08:50:02,249] Trial 70 finished with value: 0.7108433734939759 and parameters: {'n_neighbors': 7, 'weights': 'distance', 'metric': 'manhattan'}. Best is trial 13 with value: 0.7228915662650602.\n",
            "[I 2023-07-22 08:50:02,266] Trial 71 finished with value: 0.7228915662650602 and parameters: {'n_neighbors': 8, 'weights': 'distance', 'metric': 'manhattan'}. Best is trial 13 with value: 0.7228915662650602.\n",
            "[I 2023-07-22 08:50:02,283] Trial 72 finished with value: 0.7168674698795181 and parameters: {'n_neighbors': 9, 'weights': 'distance', 'metric': 'manhattan'}. Best is trial 13 with value: 0.7228915662650602.\n",
            "[I 2023-07-22 08:50:02,300] Trial 73 finished with value: 0.7228915662650602 and parameters: {'n_neighbors': 8, 'weights': 'distance', 'metric': 'manhattan'}. Best is trial 13 with value: 0.7228915662650602.\n",
            "[I 2023-07-22 08:50:02,317] Trial 74 finished with value: 0.7168674698795181 and parameters: {'n_neighbors': 9, 'weights': 'distance', 'metric': 'manhattan'}. Best is trial 13 with value: 0.7228915662650602.\n",
            "[I 2023-07-22 08:50:02,334] Trial 75 finished with value: 0.6686746987951807 and parameters: {'n_neighbors': 4, 'weights': 'distance', 'metric': 'manhattan'}. Best is trial 13 with value: 0.7228915662650602.\n",
            "[I 2023-07-22 08:50:02,350] Trial 76 finished with value: 0.7228915662650602 and parameters: {'n_neighbors': 8, 'weights': 'distance', 'metric': 'manhattan'}. Best is trial 13 with value: 0.7228915662650602.\n",
            "[I 2023-07-22 08:50:02,367] Trial 77 finished with value: 0.7048192771084337 and parameters: {'n_neighbors': 6, 'weights': 'distance', 'metric': 'manhattan'}. Best is trial 13 with value: 0.7228915662650602.\n",
            "[I 2023-07-22 08:50:02,382] Trial 78 finished with value: 0.7108433734939759 and parameters: {'n_neighbors': 7, 'weights': 'distance', 'metric': 'euclidean'}. Best is trial 13 with value: 0.7228915662650602.\n",
            "[I 2023-07-22 08:50:02,403] Trial 79 finished with value: 0.7108433734939759 and parameters: {'n_neighbors': 7, 'weights': 'distance', 'metric': 'manhattan'}. Best is trial 13 with value: 0.7228915662650602.\n",
            "[I 2023-07-22 08:50:02,425] Trial 80 finished with value: 0.7168674698795181 and parameters: {'n_neighbors': 9, 'weights': 'uniform', 'metric': 'manhattan'}. Best is trial 13 with value: 0.7228915662650602.\n",
            "[I 2023-07-22 08:50:02,448] Trial 81 finished with value: 0.7228915662650602 and parameters: {'n_neighbors': 8, 'weights': 'distance', 'metric': 'manhattan'}. Best is trial 13 with value: 0.7228915662650602.\n",
            "[I 2023-07-22 08:50:02,472] Trial 82 finished with value: 0.7228915662650602 and parameters: {'n_neighbors': 8, 'weights': 'distance', 'metric': 'manhattan'}. Best is trial 13 with value: 0.7228915662650602.\n",
            "[I 2023-07-22 08:50:02,490] Trial 83 finished with value: 0.7228915662650602 and parameters: {'n_neighbors': 8, 'weights': 'distance', 'metric': 'manhattan'}. Best is trial 13 with value: 0.7228915662650602.\n",
            "[I 2023-07-22 08:50:02,508] Trial 84 finished with value: 0.7228915662650602 and parameters: {'n_neighbors': 8, 'weights': 'distance', 'metric': 'manhattan'}. Best is trial 13 with value: 0.7228915662650602.\n",
            "[I 2023-07-22 08:50:02,530] Trial 85 finished with value: 0.7168674698795181 and parameters: {'n_neighbors': 9, 'weights': 'distance', 'metric': 'manhattan'}. Best is trial 13 with value: 0.7228915662650602.\n",
            "[I 2023-07-22 08:50:02,547] Trial 86 finished with value: 0.6987951807228916 and parameters: {'n_neighbors': 8, 'weights': 'distance', 'metric': 'minkowski'}. Best is trial 13 with value: 0.7228915662650602.\n",
            "[I 2023-07-22 08:50:02,565] Trial 87 finished with value: 0.7108433734939759 and parameters: {'n_neighbors': 7, 'weights': 'distance', 'metric': 'manhattan'}. Best is trial 13 with value: 0.7228915662650602.\n",
            "[I 2023-07-22 08:50:02,584] Trial 88 finished with value: 0.7228915662650602 and parameters: {'n_neighbors': 8, 'weights': 'distance', 'metric': 'manhattan'}. Best is trial 13 with value: 0.7228915662650602.\n",
            "[I 2023-07-22 08:50:02,609] Trial 89 finished with value: 0.7168674698795181 and parameters: {'n_neighbors': 9, 'weights': 'distance', 'metric': 'manhattan'}. Best is trial 13 with value: 0.7228915662650602.\n",
            "[I 2023-07-22 08:50:02,630] Trial 90 finished with value: 0.7108433734939759 and parameters: {'n_neighbors': 7, 'weights': 'distance', 'metric': 'manhattan'}. Best is trial 13 with value: 0.7228915662650602.\n",
            "[I 2023-07-22 08:50:02,650] Trial 91 finished with value: 0.7228915662650602 and parameters: {'n_neighbors': 8, 'weights': 'distance', 'metric': 'manhattan'}. Best is trial 13 with value: 0.7228915662650602.\n",
            "[I 2023-07-22 08:50:02,670] Trial 92 finished with value: 0.7228915662650602 and parameters: {'n_neighbors': 8, 'weights': 'distance', 'metric': 'manhattan'}. Best is trial 13 with value: 0.7228915662650602.\n",
            "[I 2023-07-22 08:50:02,692] Trial 93 finished with value: 0.7228915662650602 and parameters: {'n_neighbors': 8, 'weights': 'distance', 'metric': 'manhattan'}. Best is trial 13 with value: 0.7228915662650602.\n",
            "[I 2023-07-22 08:50:02,711] Trial 94 finished with value: 0.7168674698795181 and parameters: {'n_neighbors': 9, 'weights': 'distance', 'metric': 'manhattan'}. Best is trial 13 with value: 0.7228915662650602.\n",
            "[I 2023-07-22 08:50:02,732] Trial 95 finished with value: 0.7228915662650602 and parameters: {'n_neighbors': 8, 'weights': 'distance', 'metric': 'manhattan'}. Best is trial 13 with value: 0.7228915662650602.\n",
            "[I 2023-07-22 08:50:02,750] Trial 96 finished with value: 0.6927710843373494 and parameters: {'n_neighbors': 10, 'weights': 'distance', 'metric': 'euclidean'}. Best is trial 13 with value: 0.7228915662650602.\n",
            "[I 2023-07-22 08:50:02,777] Trial 97 finished with value: 0.7108433734939759 and parameters: {'n_neighbors': 7, 'weights': 'uniform', 'metric': 'manhattan'}. Best is trial 13 with value: 0.7228915662650602.\n",
            "[I 2023-07-22 08:50:02,797] Trial 98 finished with value: 0.7228915662650602 and parameters: {'n_neighbors': 8, 'weights': 'distance', 'metric': 'manhattan'}. Best is trial 13 with value: 0.7228915662650602.\n",
            "[I 2023-07-22 08:50:02,817] Trial 99 finished with value: 0.6987951807228916 and parameters: {'n_neighbors': 9, 'weights': 'distance', 'metric': 'minkowski'}. Best is trial 13 with value: 0.7228915662650602.\n"
          ]
        }
      ]
    },
    {
      "cell_type": "markdown",
      "source": [
        "### Optimization History Plot"
      ],
      "metadata": {
        "id": "DAxqfydUvxKy"
      }
    },
    {
      "cell_type": "code",
      "source": [
        "optuna.visualization.plot_optimization_history(study)"
      ],
      "metadata": {
        "colab": {
          "base_uri": "https://localhost:8080/",
          "height": 542
        },
        "id": "VPj0NSjUIHGJ",
        "outputId": "42384279-b351-4ba6-b7b4-34a340a84355"
      },
      "execution_count": 54,
      "outputs": [
        {
          "output_type": "display_data",
          "data": {
            "text/html": [
              "<html>\n",
              "<head><meta charset=\"utf-8\" /></head>\n",
              "<body>\n",
              "    <div>            <script src=\"https://cdnjs.cloudflare.com/ajax/libs/mathjax/2.7.5/MathJax.js?config=TeX-AMS-MML_SVG\"></script><script type=\"text/javascript\">if (window.MathJax && window.MathJax.Hub && window.MathJax.Hub.Config) {window.MathJax.Hub.Config({SVG: {font: \"STIX-Web\"}});}</script>                <script type=\"text/javascript\">window.PlotlyConfig = {MathJaxConfig: 'local'};</script>\n",
              "        <script src=\"https://cdn.plot.ly/plotly-2.18.2.min.js\"></script>                <div id=\"0456a1a9-724e-405c-8cb6-7283cb4419ed\" class=\"plotly-graph-div\" style=\"height:525px; width:100%;\"></div>            <script type=\"text/javascript\">                                    window.PLOTLYENV=window.PLOTLYENV || {};                                    if (document.getElementById(\"0456a1a9-724e-405c-8cb6-7283cb4419ed\")) {                    Plotly.newPlot(                        \"0456a1a9-724e-405c-8cb6-7283cb4419ed\",                        [{\"mode\":\"markers\",\"name\":\"Objective Value\",\"x\":[0,1,2,3,4,5,6,7,8,9,10,11,12,13,14,15,16,17,18,19,20,21,22,23,24,25,26,27,28,29,30,31,32,33,34,35,36,37,38,39,40,41,42,43,44,45,46,47,48,49,50,51,52,53,54,55,56,57,58,59,60,61,62,63,64,65,66,67,68,69,70,71,72,73,74,75,76,77,78,79,80,81,82,83,84,85,86,87,88,89,90,91,92,93,94,95,96,97,98,99],\"y\":[0.6927710843373494,0.6506024096385542,0.6746987951807228,0.6807228915662651,0.6807228915662651,0.6987951807228916,0.6506024096385542,0.6807228915662651,0.6686746987951807,0.6987951807228916,0.7168674698795181,0.7168674698795181,0.7048192771084337,0.7228915662650602,0.7228915662650602,0.7228915662650602,0.7108433734939759,0.7228915662650602,0.7108433734939759,0.7228915662650602,0.6626506024096386,0.7228915662650602,0.7108433734939759,0.7168674698795181,0.7228915662650602,0.7108433734939759,0.7168674698795181,0.7048192771084337,0.6807228915662651,0.7048192771084337,0.6987951807228916,0.7228915662650602,0.7108433734939759,0.7168674698795181,0.6867469879518072,0.7048192771084337,0.7108433734939759,0.7168674698795181,0.6506024096385542,0.7048192771084337,0.6686746987951807,0.7228915662650602,0.7228915662650602,0.7228915662650602,0.7048192771084337,0.6987951807228916,0.7108433734939759,0.7168674698795181,0.7048192771084337,0.7108433734939759,0.6987951807228916,0.7228915662650602,0.7168674698795181,0.7228915662650602,0.7108433734939759,0.6746987951807228,0.7048192771084337,0.7168674698795181,0.6987951807228916,0.7108433734939759,0.6927710843373494,0.7168674698795181,0.7228915662650602,0.7228915662650602,0.7108433734939759,0.7228915662650602,0.7168674698795181,0.7108433734939759,0.7228915662650602,0.6867469879518072,0.7108433734939759,0.7228915662650602,0.7168674698795181,0.7228915662650602,0.7168674698795181,0.6686746987951807,0.7228915662650602,0.7048192771084337,0.7108433734939759,0.7108433734939759,0.7168674698795181,0.7228915662650602,0.7228915662650602,0.7228915662650602,0.7228915662650602,0.7168674698795181,0.6987951807228916,0.7108433734939759,0.7228915662650602,0.7168674698795181,0.7108433734939759,0.7228915662650602,0.7228915662650602,0.7228915662650602,0.7168674698795181,0.7228915662650602,0.6927710843373494,0.7108433734939759,0.7228915662650602,0.6987951807228916],\"type\":\"scatter\"},{\"name\":\"Best Value\",\"x\":[0,1,2,3,4,5,6,7,8,9,10,11,12,13,14,15,16,17,18,19,20,21,22,23,24,25,26,27,28,29,30,31,32,33,34,35,36,37,38,39,40,41,42,43,44,45,46,47,48,49,50,51,52,53,54,55,56,57,58,59,60,61,62,63,64,65,66,67,68,69,70,71,72,73,74,75,76,77,78,79,80,81,82,83,84,85,86,87,88,89,90,91,92,93,94,95,96,97,98,99],\"y\":[0.6927710843373494,0.6927710843373494,0.6927710843373494,0.6927710843373494,0.6927710843373494,0.6987951807228916,0.6987951807228916,0.6987951807228916,0.6987951807228916,0.6987951807228916,0.7168674698795181,0.7168674698795181,0.7168674698795181,0.7228915662650602,0.7228915662650602,0.7228915662650602,0.7228915662650602,0.7228915662650602,0.7228915662650602,0.7228915662650602,0.7228915662650602,0.7228915662650602,0.7228915662650602,0.7228915662650602,0.7228915662650602,0.7228915662650602,0.7228915662650602,0.7228915662650602,0.7228915662650602,0.7228915662650602,0.7228915662650602,0.7228915662650602,0.7228915662650602,0.7228915662650602,0.7228915662650602,0.7228915662650602,0.7228915662650602,0.7228915662650602,0.7228915662650602,0.7228915662650602,0.7228915662650602,0.7228915662650602,0.7228915662650602,0.7228915662650602,0.7228915662650602,0.7228915662650602,0.7228915662650602,0.7228915662650602,0.7228915662650602,0.7228915662650602,0.7228915662650602,0.7228915662650602,0.7228915662650602,0.7228915662650602,0.7228915662650602,0.7228915662650602,0.7228915662650602,0.7228915662650602,0.7228915662650602,0.7228915662650602,0.7228915662650602,0.7228915662650602,0.7228915662650602,0.7228915662650602,0.7228915662650602,0.7228915662650602,0.7228915662650602,0.7228915662650602,0.7228915662650602,0.7228915662650602,0.7228915662650602,0.7228915662650602,0.7228915662650602,0.7228915662650602,0.7228915662650602,0.7228915662650602,0.7228915662650602,0.7228915662650602,0.7228915662650602,0.7228915662650602,0.7228915662650602,0.7228915662650602,0.7228915662650602,0.7228915662650602,0.7228915662650602,0.7228915662650602,0.7228915662650602,0.7228915662650602,0.7228915662650602,0.7228915662650602,0.7228915662650602,0.7228915662650602,0.7228915662650602,0.7228915662650602,0.7228915662650602,0.7228915662650602,0.7228915662650602,0.7228915662650602,0.7228915662650602,0.7228915662650602],\"type\":\"scatter\"}],                        {\"title\":{\"text\":\"Optimization History Plot\"},\"xaxis\":{\"title\":{\"text\":\"Trial\"}},\"yaxis\":{\"title\":{\"text\":\"Objective Value\"}},\"template\":{\"data\":{\"histogram2dcontour\":[{\"type\":\"histogram2dcontour\",\"colorbar\":{\"outlinewidth\":0,\"ticks\":\"\"},\"colorscale\":[[0.0,\"#0d0887\"],[0.1111111111111111,\"#46039f\"],[0.2222222222222222,\"#7201a8\"],[0.3333333333333333,\"#9c179e\"],[0.4444444444444444,\"#bd3786\"],[0.5555555555555556,\"#d8576b\"],[0.6666666666666666,\"#ed7953\"],[0.7777777777777778,\"#fb9f3a\"],[0.8888888888888888,\"#fdca26\"],[1.0,\"#f0f921\"]]}],\"choropleth\":[{\"type\":\"choropleth\",\"colorbar\":{\"outlinewidth\":0,\"ticks\":\"\"}}],\"histogram2d\":[{\"type\":\"histogram2d\",\"colorbar\":{\"outlinewidth\":0,\"ticks\":\"\"},\"colorscale\":[[0.0,\"#0d0887\"],[0.1111111111111111,\"#46039f\"],[0.2222222222222222,\"#7201a8\"],[0.3333333333333333,\"#9c179e\"],[0.4444444444444444,\"#bd3786\"],[0.5555555555555556,\"#d8576b\"],[0.6666666666666666,\"#ed7953\"],[0.7777777777777778,\"#fb9f3a\"],[0.8888888888888888,\"#fdca26\"],[1.0,\"#f0f921\"]]}],\"heatmap\":[{\"type\":\"heatmap\",\"colorbar\":{\"outlinewidth\":0,\"ticks\":\"\"},\"colorscale\":[[0.0,\"#0d0887\"],[0.1111111111111111,\"#46039f\"],[0.2222222222222222,\"#7201a8\"],[0.3333333333333333,\"#9c179e\"],[0.4444444444444444,\"#bd3786\"],[0.5555555555555556,\"#d8576b\"],[0.6666666666666666,\"#ed7953\"],[0.7777777777777778,\"#fb9f3a\"],[0.8888888888888888,\"#fdca26\"],[1.0,\"#f0f921\"]]}],\"heatmapgl\":[{\"type\":\"heatmapgl\",\"colorbar\":{\"outlinewidth\":0,\"ticks\":\"\"},\"colorscale\":[[0.0,\"#0d0887\"],[0.1111111111111111,\"#46039f\"],[0.2222222222222222,\"#7201a8\"],[0.3333333333333333,\"#9c179e\"],[0.4444444444444444,\"#bd3786\"],[0.5555555555555556,\"#d8576b\"],[0.6666666666666666,\"#ed7953\"],[0.7777777777777778,\"#fb9f3a\"],[0.8888888888888888,\"#fdca26\"],[1.0,\"#f0f921\"]]}],\"contourcarpet\":[{\"type\":\"contourcarpet\",\"colorbar\":{\"outlinewidth\":0,\"ticks\":\"\"}}],\"contour\":[{\"type\":\"contour\",\"colorbar\":{\"outlinewidth\":0,\"ticks\":\"\"},\"colorscale\":[[0.0,\"#0d0887\"],[0.1111111111111111,\"#46039f\"],[0.2222222222222222,\"#7201a8\"],[0.3333333333333333,\"#9c179e\"],[0.4444444444444444,\"#bd3786\"],[0.5555555555555556,\"#d8576b\"],[0.6666666666666666,\"#ed7953\"],[0.7777777777777778,\"#fb9f3a\"],[0.8888888888888888,\"#fdca26\"],[1.0,\"#f0f921\"]]}],\"surface\":[{\"type\":\"surface\",\"colorbar\":{\"outlinewidth\":0,\"ticks\":\"\"},\"colorscale\":[[0.0,\"#0d0887\"],[0.1111111111111111,\"#46039f\"],[0.2222222222222222,\"#7201a8\"],[0.3333333333333333,\"#9c179e\"],[0.4444444444444444,\"#bd3786\"],[0.5555555555555556,\"#d8576b\"],[0.6666666666666666,\"#ed7953\"],[0.7777777777777778,\"#fb9f3a\"],[0.8888888888888888,\"#fdca26\"],[1.0,\"#f0f921\"]]}],\"mesh3d\":[{\"type\":\"mesh3d\",\"colorbar\":{\"outlinewidth\":0,\"ticks\":\"\"}}],\"scatter\":[{\"fillpattern\":{\"fillmode\":\"overlay\",\"size\":10,\"solidity\":0.2},\"type\":\"scatter\"}],\"parcoords\":[{\"type\":\"parcoords\",\"line\":{\"colorbar\":{\"outlinewidth\":0,\"ticks\":\"\"}}}],\"scatterpolargl\":[{\"type\":\"scatterpolargl\",\"marker\":{\"colorbar\":{\"outlinewidth\":0,\"ticks\":\"\"}}}],\"bar\":[{\"error_x\":{\"color\":\"#2a3f5f\"},\"error_y\":{\"color\":\"#2a3f5f\"},\"marker\":{\"line\":{\"color\":\"#E5ECF6\",\"width\":0.5},\"pattern\":{\"fillmode\":\"overlay\",\"size\":10,\"solidity\":0.2}},\"type\":\"bar\"}],\"scattergeo\":[{\"type\":\"scattergeo\",\"marker\":{\"colorbar\":{\"outlinewidth\":0,\"ticks\":\"\"}}}],\"scatterpolar\":[{\"type\":\"scatterpolar\",\"marker\":{\"colorbar\":{\"outlinewidth\":0,\"ticks\":\"\"}}}],\"histogram\":[{\"marker\":{\"pattern\":{\"fillmode\":\"overlay\",\"size\":10,\"solidity\":0.2}},\"type\":\"histogram\"}],\"scattergl\":[{\"type\":\"scattergl\",\"marker\":{\"colorbar\":{\"outlinewidth\":0,\"ticks\":\"\"}}}],\"scatter3d\":[{\"type\":\"scatter3d\",\"line\":{\"colorbar\":{\"outlinewidth\":0,\"ticks\":\"\"}},\"marker\":{\"colorbar\":{\"outlinewidth\":0,\"ticks\":\"\"}}}],\"scattermapbox\":[{\"type\":\"scattermapbox\",\"marker\":{\"colorbar\":{\"outlinewidth\":0,\"ticks\":\"\"}}}],\"scatterternary\":[{\"type\":\"scatterternary\",\"marker\":{\"colorbar\":{\"outlinewidth\":0,\"ticks\":\"\"}}}],\"scattercarpet\":[{\"type\":\"scattercarpet\",\"marker\":{\"colorbar\":{\"outlinewidth\":0,\"ticks\":\"\"}}}],\"carpet\":[{\"aaxis\":{\"endlinecolor\":\"#2a3f5f\",\"gridcolor\":\"white\",\"linecolor\":\"white\",\"minorgridcolor\":\"white\",\"startlinecolor\":\"#2a3f5f\"},\"baxis\":{\"endlinecolor\":\"#2a3f5f\",\"gridcolor\":\"white\",\"linecolor\":\"white\",\"minorgridcolor\":\"white\",\"startlinecolor\":\"#2a3f5f\"},\"type\":\"carpet\"}],\"table\":[{\"cells\":{\"fill\":{\"color\":\"#EBF0F8\"},\"line\":{\"color\":\"white\"}},\"header\":{\"fill\":{\"color\":\"#C8D4E3\"},\"line\":{\"color\":\"white\"}},\"type\":\"table\"}],\"barpolar\":[{\"marker\":{\"line\":{\"color\":\"#E5ECF6\",\"width\":0.5},\"pattern\":{\"fillmode\":\"overlay\",\"size\":10,\"solidity\":0.2}},\"type\":\"barpolar\"}],\"pie\":[{\"automargin\":true,\"type\":\"pie\"}]},\"layout\":{\"autotypenumbers\":\"strict\",\"colorway\":[\"#636efa\",\"#EF553B\",\"#00cc96\",\"#ab63fa\",\"#FFA15A\",\"#19d3f3\",\"#FF6692\",\"#B6E880\",\"#FF97FF\",\"#FECB52\"],\"font\":{\"color\":\"#2a3f5f\"},\"hovermode\":\"closest\",\"hoverlabel\":{\"align\":\"left\"},\"paper_bgcolor\":\"white\",\"plot_bgcolor\":\"#E5ECF6\",\"polar\":{\"bgcolor\":\"#E5ECF6\",\"angularaxis\":{\"gridcolor\":\"white\",\"linecolor\":\"white\",\"ticks\":\"\"},\"radialaxis\":{\"gridcolor\":\"white\",\"linecolor\":\"white\",\"ticks\":\"\"}},\"ternary\":{\"bgcolor\":\"#E5ECF6\",\"aaxis\":{\"gridcolor\":\"white\",\"linecolor\":\"white\",\"ticks\":\"\"},\"baxis\":{\"gridcolor\":\"white\",\"linecolor\":\"white\",\"ticks\":\"\"},\"caxis\":{\"gridcolor\":\"white\",\"linecolor\":\"white\",\"ticks\":\"\"}},\"coloraxis\":{\"colorbar\":{\"outlinewidth\":0,\"ticks\":\"\"}},\"colorscale\":{\"sequential\":[[0.0,\"#0d0887\"],[0.1111111111111111,\"#46039f\"],[0.2222222222222222,\"#7201a8\"],[0.3333333333333333,\"#9c179e\"],[0.4444444444444444,\"#bd3786\"],[0.5555555555555556,\"#d8576b\"],[0.6666666666666666,\"#ed7953\"],[0.7777777777777778,\"#fb9f3a\"],[0.8888888888888888,\"#fdca26\"],[1.0,\"#f0f921\"]],\"sequentialminus\":[[0.0,\"#0d0887\"],[0.1111111111111111,\"#46039f\"],[0.2222222222222222,\"#7201a8\"],[0.3333333333333333,\"#9c179e\"],[0.4444444444444444,\"#bd3786\"],[0.5555555555555556,\"#d8576b\"],[0.6666666666666666,\"#ed7953\"],[0.7777777777777778,\"#fb9f3a\"],[0.8888888888888888,\"#fdca26\"],[1.0,\"#f0f921\"]],\"diverging\":[[0,\"#8e0152\"],[0.1,\"#c51b7d\"],[0.2,\"#de77ae\"],[0.3,\"#f1b6da\"],[0.4,\"#fde0ef\"],[0.5,\"#f7f7f7\"],[0.6,\"#e6f5d0\"],[0.7,\"#b8e186\"],[0.8,\"#7fbc41\"],[0.9,\"#4d9221\"],[1,\"#276419\"]]},\"xaxis\":{\"gridcolor\":\"white\",\"linecolor\":\"white\",\"ticks\":\"\",\"title\":{\"standoff\":15},\"zerolinecolor\":\"white\",\"automargin\":true,\"zerolinewidth\":2},\"yaxis\":{\"gridcolor\":\"white\",\"linecolor\":\"white\",\"ticks\":\"\",\"title\":{\"standoff\":15},\"zerolinecolor\":\"white\",\"automargin\":true,\"zerolinewidth\":2},\"scene\":{\"xaxis\":{\"backgroundcolor\":\"#E5ECF6\",\"gridcolor\":\"white\",\"linecolor\":\"white\",\"showbackground\":true,\"ticks\":\"\",\"zerolinecolor\":\"white\",\"gridwidth\":2},\"yaxis\":{\"backgroundcolor\":\"#E5ECF6\",\"gridcolor\":\"white\",\"linecolor\":\"white\",\"showbackground\":true,\"ticks\":\"\",\"zerolinecolor\":\"white\",\"gridwidth\":2},\"zaxis\":{\"backgroundcolor\":\"#E5ECF6\",\"gridcolor\":\"white\",\"linecolor\":\"white\",\"showbackground\":true,\"ticks\":\"\",\"zerolinecolor\":\"white\",\"gridwidth\":2}},\"shapedefaults\":{\"line\":{\"color\":\"#2a3f5f\"}},\"annotationdefaults\":{\"arrowcolor\":\"#2a3f5f\",\"arrowhead\":0,\"arrowwidth\":1},\"geo\":{\"bgcolor\":\"white\",\"landcolor\":\"#E5ECF6\",\"subunitcolor\":\"white\",\"showland\":true,\"showlakes\":true,\"lakecolor\":\"white\"},\"title\":{\"x\":0.05},\"mapbox\":{\"style\":\"light\"}}}},                        {\"responsive\": true}                    ).then(function(){\n",
              "                            \n",
              "var gd = document.getElementById('0456a1a9-724e-405c-8cb6-7283cb4419ed');\n",
              "var x = new MutationObserver(function (mutations, observer) {{\n",
              "        var display = window.getComputedStyle(gd).display;\n",
              "        if (!display || display === 'none') {{\n",
              "            console.log([gd, 'removed!']);\n",
              "            Plotly.purge(gd);\n",
              "            observer.disconnect();\n",
              "        }}\n",
              "}});\n",
              "\n",
              "// Listen for the removal of the full notebook cells\n",
              "var notebookContainer = gd.closest('#notebook-container');\n",
              "if (notebookContainer) {{\n",
              "    x.observe(notebookContainer, {childList: true});\n",
              "}}\n",
              "\n",
              "// Listen for the clearing of the current output cell\n",
              "var outputEl = gd.closest('.output');\n",
              "if (outputEl) {{\n",
              "    x.observe(outputEl, {childList: true});\n",
              "}}\n",
              "\n",
              "                        })                };                            </script>        </div>\n",
              "</body>\n",
              "</html>"
            ]
          },
          "metadata": {}
        }
      ]
    },
    {
      "cell_type": "markdown",
      "source": [
        "### Hyperparameter Importances Optuna"
      ],
      "metadata": {
        "id": "uN5aEAK4v5zy"
      }
    },
    {
      "cell_type": "code",
      "source": [
        "optuna.visualization.plot_param_importances(study)"
      ],
      "metadata": {
        "colab": {
          "base_uri": "https://localhost:8080/",
          "height": 542
        },
        "id": "E14Vu0GuIOJB",
        "outputId": "71ec0f9b-2dc5-42df-859c-e063b59f742e"
      },
      "execution_count": 55,
      "outputs": [
        {
          "output_type": "display_data",
          "data": {
            "text/html": [
              "<html>\n",
              "<head><meta charset=\"utf-8\" /></head>\n",
              "<body>\n",
              "    <div>            <script src=\"https://cdnjs.cloudflare.com/ajax/libs/mathjax/2.7.5/MathJax.js?config=TeX-AMS-MML_SVG\"></script><script type=\"text/javascript\">if (window.MathJax && window.MathJax.Hub && window.MathJax.Hub.Config) {window.MathJax.Hub.Config({SVG: {font: \"STIX-Web\"}});}</script>                <script type=\"text/javascript\">window.PlotlyConfig = {MathJaxConfig: 'local'};</script>\n",
              "        <script src=\"https://cdn.plot.ly/plotly-2.18.2.min.js\"></script>                <div id=\"b20cbd69-ac79-41ae-a394-2d130547e6d1\" class=\"plotly-graph-div\" style=\"height:525px; width:100%;\"></div>            <script type=\"text/javascript\">                                    window.PLOTLYENV=window.PLOTLYENV || {};                                    if (document.getElementById(\"b20cbd69-ac79-41ae-a394-2d130547e6d1\")) {                    Plotly.newPlot(                        \"b20cbd69-ac79-41ae-a394-2d130547e6d1\",                        [{\"cliponaxis\":false,\"hovertemplate\":[\"weights (CategoricalDistribution): 0.01587477512615295<extra></extra>\",\"metric (CategoricalDistribution): 0.09672973057947762<extra></extra>\",\"n_neighbors (IntDistribution): 0.8873954942943694<extra></extra>\"],\"marker\":{\"color\":\"rgb(66,146,198)\"},\"orientation\":\"h\",\"text\":[\"0.02\",\"0.10\",\"0.89\"],\"textposition\":\"outside\",\"x\":[0.01587477512615295,0.09672973057947762,0.8873954942943694],\"y\":[\"weights\",\"metric\",\"n_neighbors\"],\"type\":\"bar\"}],                        {\"showlegend\":false,\"title\":{\"text\":\"Hyperparameter Importances\"},\"xaxis\":{\"title\":{\"text\":\"Importance for Objective Value\"}},\"yaxis\":{\"title\":{\"text\":\"Hyperparameter\"}},\"template\":{\"data\":{\"histogram2dcontour\":[{\"type\":\"histogram2dcontour\",\"colorbar\":{\"outlinewidth\":0,\"ticks\":\"\"},\"colorscale\":[[0.0,\"#0d0887\"],[0.1111111111111111,\"#46039f\"],[0.2222222222222222,\"#7201a8\"],[0.3333333333333333,\"#9c179e\"],[0.4444444444444444,\"#bd3786\"],[0.5555555555555556,\"#d8576b\"],[0.6666666666666666,\"#ed7953\"],[0.7777777777777778,\"#fb9f3a\"],[0.8888888888888888,\"#fdca26\"],[1.0,\"#f0f921\"]]}],\"choropleth\":[{\"type\":\"choropleth\",\"colorbar\":{\"outlinewidth\":0,\"ticks\":\"\"}}],\"histogram2d\":[{\"type\":\"histogram2d\",\"colorbar\":{\"outlinewidth\":0,\"ticks\":\"\"},\"colorscale\":[[0.0,\"#0d0887\"],[0.1111111111111111,\"#46039f\"],[0.2222222222222222,\"#7201a8\"],[0.3333333333333333,\"#9c179e\"],[0.4444444444444444,\"#bd3786\"],[0.5555555555555556,\"#d8576b\"],[0.6666666666666666,\"#ed7953\"],[0.7777777777777778,\"#fb9f3a\"],[0.8888888888888888,\"#fdca26\"],[1.0,\"#f0f921\"]]}],\"heatmap\":[{\"type\":\"heatmap\",\"colorbar\":{\"outlinewidth\":0,\"ticks\":\"\"},\"colorscale\":[[0.0,\"#0d0887\"],[0.1111111111111111,\"#46039f\"],[0.2222222222222222,\"#7201a8\"],[0.3333333333333333,\"#9c179e\"],[0.4444444444444444,\"#bd3786\"],[0.5555555555555556,\"#d8576b\"],[0.6666666666666666,\"#ed7953\"],[0.7777777777777778,\"#fb9f3a\"],[0.8888888888888888,\"#fdca26\"],[1.0,\"#f0f921\"]]}],\"heatmapgl\":[{\"type\":\"heatmapgl\",\"colorbar\":{\"outlinewidth\":0,\"ticks\":\"\"},\"colorscale\":[[0.0,\"#0d0887\"],[0.1111111111111111,\"#46039f\"],[0.2222222222222222,\"#7201a8\"],[0.3333333333333333,\"#9c179e\"],[0.4444444444444444,\"#bd3786\"],[0.5555555555555556,\"#d8576b\"],[0.6666666666666666,\"#ed7953\"],[0.7777777777777778,\"#fb9f3a\"],[0.8888888888888888,\"#fdca26\"],[1.0,\"#f0f921\"]]}],\"contourcarpet\":[{\"type\":\"contourcarpet\",\"colorbar\":{\"outlinewidth\":0,\"ticks\":\"\"}}],\"contour\":[{\"type\":\"contour\",\"colorbar\":{\"outlinewidth\":0,\"ticks\":\"\"},\"colorscale\":[[0.0,\"#0d0887\"],[0.1111111111111111,\"#46039f\"],[0.2222222222222222,\"#7201a8\"],[0.3333333333333333,\"#9c179e\"],[0.4444444444444444,\"#bd3786\"],[0.5555555555555556,\"#d8576b\"],[0.6666666666666666,\"#ed7953\"],[0.7777777777777778,\"#fb9f3a\"],[0.8888888888888888,\"#fdca26\"],[1.0,\"#f0f921\"]]}],\"surface\":[{\"type\":\"surface\",\"colorbar\":{\"outlinewidth\":0,\"ticks\":\"\"},\"colorscale\":[[0.0,\"#0d0887\"],[0.1111111111111111,\"#46039f\"],[0.2222222222222222,\"#7201a8\"],[0.3333333333333333,\"#9c179e\"],[0.4444444444444444,\"#bd3786\"],[0.5555555555555556,\"#d8576b\"],[0.6666666666666666,\"#ed7953\"],[0.7777777777777778,\"#fb9f3a\"],[0.8888888888888888,\"#fdca26\"],[1.0,\"#f0f921\"]]}],\"mesh3d\":[{\"type\":\"mesh3d\",\"colorbar\":{\"outlinewidth\":0,\"ticks\":\"\"}}],\"scatter\":[{\"fillpattern\":{\"fillmode\":\"overlay\",\"size\":10,\"solidity\":0.2},\"type\":\"scatter\"}],\"parcoords\":[{\"type\":\"parcoords\",\"line\":{\"colorbar\":{\"outlinewidth\":0,\"ticks\":\"\"}}}],\"scatterpolargl\":[{\"type\":\"scatterpolargl\",\"marker\":{\"colorbar\":{\"outlinewidth\":0,\"ticks\":\"\"}}}],\"bar\":[{\"error_x\":{\"color\":\"#2a3f5f\"},\"error_y\":{\"color\":\"#2a3f5f\"},\"marker\":{\"line\":{\"color\":\"#E5ECF6\",\"width\":0.5},\"pattern\":{\"fillmode\":\"overlay\",\"size\":10,\"solidity\":0.2}},\"type\":\"bar\"}],\"scattergeo\":[{\"type\":\"scattergeo\",\"marker\":{\"colorbar\":{\"outlinewidth\":0,\"ticks\":\"\"}}}],\"scatterpolar\":[{\"type\":\"scatterpolar\",\"marker\":{\"colorbar\":{\"outlinewidth\":0,\"ticks\":\"\"}}}],\"histogram\":[{\"marker\":{\"pattern\":{\"fillmode\":\"overlay\",\"size\":10,\"solidity\":0.2}},\"type\":\"histogram\"}],\"scattergl\":[{\"type\":\"scattergl\",\"marker\":{\"colorbar\":{\"outlinewidth\":0,\"ticks\":\"\"}}}],\"scatter3d\":[{\"type\":\"scatter3d\",\"line\":{\"colorbar\":{\"outlinewidth\":0,\"ticks\":\"\"}},\"marker\":{\"colorbar\":{\"outlinewidth\":0,\"ticks\":\"\"}}}],\"scattermapbox\":[{\"type\":\"scattermapbox\",\"marker\":{\"colorbar\":{\"outlinewidth\":0,\"ticks\":\"\"}}}],\"scatterternary\":[{\"type\":\"scatterternary\",\"marker\":{\"colorbar\":{\"outlinewidth\":0,\"ticks\":\"\"}}}],\"scattercarpet\":[{\"type\":\"scattercarpet\",\"marker\":{\"colorbar\":{\"outlinewidth\":0,\"ticks\":\"\"}}}],\"carpet\":[{\"aaxis\":{\"endlinecolor\":\"#2a3f5f\",\"gridcolor\":\"white\",\"linecolor\":\"white\",\"minorgridcolor\":\"white\",\"startlinecolor\":\"#2a3f5f\"},\"baxis\":{\"endlinecolor\":\"#2a3f5f\",\"gridcolor\":\"white\",\"linecolor\":\"white\",\"minorgridcolor\":\"white\",\"startlinecolor\":\"#2a3f5f\"},\"type\":\"carpet\"}],\"table\":[{\"cells\":{\"fill\":{\"color\":\"#EBF0F8\"},\"line\":{\"color\":\"white\"}},\"header\":{\"fill\":{\"color\":\"#C8D4E3\"},\"line\":{\"color\":\"white\"}},\"type\":\"table\"}],\"barpolar\":[{\"marker\":{\"line\":{\"color\":\"#E5ECF6\",\"width\":0.5},\"pattern\":{\"fillmode\":\"overlay\",\"size\":10,\"solidity\":0.2}},\"type\":\"barpolar\"}],\"pie\":[{\"automargin\":true,\"type\":\"pie\"}]},\"layout\":{\"autotypenumbers\":\"strict\",\"colorway\":[\"#636efa\",\"#EF553B\",\"#00cc96\",\"#ab63fa\",\"#FFA15A\",\"#19d3f3\",\"#FF6692\",\"#B6E880\",\"#FF97FF\",\"#FECB52\"],\"font\":{\"color\":\"#2a3f5f\"},\"hovermode\":\"closest\",\"hoverlabel\":{\"align\":\"left\"},\"paper_bgcolor\":\"white\",\"plot_bgcolor\":\"#E5ECF6\",\"polar\":{\"bgcolor\":\"#E5ECF6\",\"angularaxis\":{\"gridcolor\":\"white\",\"linecolor\":\"white\",\"ticks\":\"\"},\"radialaxis\":{\"gridcolor\":\"white\",\"linecolor\":\"white\",\"ticks\":\"\"}},\"ternary\":{\"bgcolor\":\"#E5ECF6\",\"aaxis\":{\"gridcolor\":\"white\",\"linecolor\":\"white\",\"ticks\":\"\"},\"baxis\":{\"gridcolor\":\"white\",\"linecolor\":\"white\",\"ticks\":\"\"},\"caxis\":{\"gridcolor\":\"white\",\"linecolor\":\"white\",\"ticks\":\"\"}},\"coloraxis\":{\"colorbar\":{\"outlinewidth\":0,\"ticks\":\"\"}},\"colorscale\":{\"sequential\":[[0.0,\"#0d0887\"],[0.1111111111111111,\"#46039f\"],[0.2222222222222222,\"#7201a8\"],[0.3333333333333333,\"#9c179e\"],[0.4444444444444444,\"#bd3786\"],[0.5555555555555556,\"#d8576b\"],[0.6666666666666666,\"#ed7953\"],[0.7777777777777778,\"#fb9f3a\"],[0.8888888888888888,\"#fdca26\"],[1.0,\"#f0f921\"]],\"sequentialminus\":[[0.0,\"#0d0887\"],[0.1111111111111111,\"#46039f\"],[0.2222222222222222,\"#7201a8\"],[0.3333333333333333,\"#9c179e\"],[0.4444444444444444,\"#bd3786\"],[0.5555555555555556,\"#d8576b\"],[0.6666666666666666,\"#ed7953\"],[0.7777777777777778,\"#fb9f3a\"],[0.8888888888888888,\"#fdca26\"],[1.0,\"#f0f921\"]],\"diverging\":[[0,\"#8e0152\"],[0.1,\"#c51b7d\"],[0.2,\"#de77ae\"],[0.3,\"#f1b6da\"],[0.4,\"#fde0ef\"],[0.5,\"#f7f7f7\"],[0.6,\"#e6f5d0\"],[0.7,\"#b8e186\"],[0.8,\"#7fbc41\"],[0.9,\"#4d9221\"],[1,\"#276419\"]]},\"xaxis\":{\"gridcolor\":\"white\",\"linecolor\":\"white\",\"ticks\":\"\",\"title\":{\"standoff\":15},\"zerolinecolor\":\"white\",\"automargin\":true,\"zerolinewidth\":2},\"yaxis\":{\"gridcolor\":\"white\",\"linecolor\":\"white\",\"ticks\":\"\",\"title\":{\"standoff\":15},\"zerolinecolor\":\"white\",\"automargin\":true,\"zerolinewidth\":2},\"scene\":{\"xaxis\":{\"backgroundcolor\":\"#E5ECF6\",\"gridcolor\":\"white\",\"linecolor\":\"white\",\"showbackground\":true,\"ticks\":\"\",\"zerolinecolor\":\"white\",\"gridwidth\":2},\"yaxis\":{\"backgroundcolor\":\"#E5ECF6\",\"gridcolor\":\"white\",\"linecolor\":\"white\",\"showbackground\":true,\"ticks\":\"\",\"zerolinecolor\":\"white\",\"gridwidth\":2},\"zaxis\":{\"backgroundcolor\":\"#E5ECF6\",\"gridcolor\":\"white\",\"linecolor\":\"white\",\"showbackground\":true,\"ticks\":\"\",\"zerolinecolor\":\"white\",\"gridwidth\":2}},\"shapedefaults\":{\"line\":{\"color\":\"#2a3f5f\"}},\"annotationdefaults\":{\"arrowcolor\":\"#2a3f5f\",\"arrowhead\":0,\"arrowwidth\":1},\"geo\":{\"bgcolor\":\"white\",\"landcolor\":\"#E5ECF6\",\"subunitcolor\":\"white\",\"showland\":true,\"showlakes\":true,\"lakecolor\":\"white\"},\"title\":{\"x\":0.05},\"mapbox\":{\"style\":\"light\"}}}},                        {\"responsive\": true}                    ).then(function(){\n",
              "                            \n",
              "var gd = document.getElementById('b20cbd69-ac79-41ae-a394-2d130547e6d1');\n",
              "var x = new MutationObserver(function (mutations, observer) {{\n",
              "        var display = window.getComputedStyle(gd).display;\n",
              "        if (!display || display === 'none') {{\n",
              "            console.log([gd, 'removed!']);\n",
              "            Plotly.purge(gd);\n",
              "            observer.disconnect();\n",
              "        }}\n",
              "}});\n",
              "\n",
              "// Listen for the removal of the full notebook cells\n",
              "var notebookContainer = gd.closest('#notebook-container');\n",
              "if (notebookContainer) {{\n",
              "    x.observe(notebookContainer, {childList: true});\n",
              "}}\n",
              "\n",
              "// Listen for the clearing of the current output cell\n",
              "var outputEl = gd.closest('.output');\n",
              "if (outputEl) {{\n",
              "    x.observe(outputEl, {childList: true});\n",
              "}}\n",
              "\n",
              "                        })                };                            </script>        </div>\n",
              "</body>\n",
              "</html>"
            ]
          },
          "metadata": {}
        }
      ]
    },
    {
      "cell_type": "markdown",
      "source": [
        "### Best Parameter Optuna"
      ],
      "metadata": {
        "id": "r8bdowkzwDvv"
      }
    },
    {
      "cell_type": "code",
      "source": [
        "best_params = study.best_params\n",
        "best_params"
      ],
      "metadata": {
        "colab": {
          "base_uri": "https://localhost:8080/"
        },
        "id": "iK4pdXLMIZCp",
        "outputId": "d211859b-2ace-494c-d86d-f32644d61a02"
      },
      "execution_count": 56,
      "outputs": [
        {
          "output_type": "execute_result",
          "data": {
            "text/plain": [
              "{'n_neighbors': 8, 'weights': 'distance', 'metric': 'manhattan'}"
            ]
          },
          "metadata": {},
          "execution_count": 56
        }
      ]
    },
    {
      "cell_type": "markdown",
      "source": [
        "### Create Model best Parameter"
      ],
      "metadata": {
        "id": "VXN_LUL9wJ6o"
      }
    },
    {
      "cell_type": "code",
      "source": [
        "#model dengan best parameter\n",
        "def create_model_best_params(best_params):\n",
        "    best_n_neighbors =best_params['n_neighbors']\n",
        "    best_weights =best_params['weights']\n",
        "    best_metric =best_params['metric']\n",
        "    knn_optuna=KNeighborsClassifier(n_neighbors=best_n_neighbors,weights=best_weights,metric=best_metric)\n",
        "    return knn_optuna"
      ],
      "metadata": {
        "id": "OFtUidKKIjQZ"
      },
      "execution_count": 57,
      "outputs": []
    },
    {
      "cell_type": "code",
      "source": [
        "knn_model_optuna=create_model_best_params(best_params)\n",
        "knn_model_optuna.fit(x_train_resampled, y_train_resampled)\n",
        "y_pred_optuna = knn_model_optuna.predict(x_test_resampled)"
      ],
      "metadata": {
        "id": "zyovGJ75Iq7C"
      },
      "execution_count": 58,
      "outputs": []
    },
    {
      "cell_type": "markdown",
      "source": [
        "### Nilai Akurasi Model KNN Default"
      ],
      "metadata": {
        "id": "kI3YiMTnxqng"
      }
    },
    {
      "cell_type": "code",
      "source": [
        "#counfussion metric\n",
        "def plot_confusion_matrixs(actual,prediction):\n",
        "    cm = confusion_matrix(actual,prediction)\n",
        "    cm_df = pd.DataFrame(cm,index = ['Liver','Non-Liver'],columns = ['Liver','Non-Liver'])\n",
        "    #Plotting the confusion matrix\n",
        "    plt.figure(figsize=(5,4))\n",
        "    sns.heatmap(cm_df, annot=True)\n",
        "    plt.title('Confusion Matrix')\n",
        "    plt.ylabel('Actual')\n",
        "    plt.xlabel('Predicted')\n",
        "    plt.show()"
      ],
      "metadata": {
        "id": "WG7PjyNEx2ey"
      },
      "execution_count": 61,
      "outputs": []
    },
    {
      "cell_type": "code",
      "source": [
        "plot_confusion_matrixs(y_test_resampled, y_pred_default)\n",
        "accuracy_default = accuracy_score(y_test_resampled, y_pred_default)\n",
        "class_report_default = classification_report(y_test_resampled, y_pred_default)\n",
        "print(f'akurasi default:  {round(accuracy_default,2)}\\n')\n",
        "print(\"Classification Report Default:\")\n",
        "print(class_report_default)"
      ],
      "metadata": {
        "colab": {
          "base_uri": "https://localhost:8080/",
          "height": 618
        },
        "id": "YR1TUxx2x-FW",
        "outputId": "0e5378f0-6011-4ab2-c6bb-6cd1759f67af"
      },
      "execution_count": 62,
      "outputs": [
        {
          "output_type": "display_data",
          "data": {
            "text/plain": [
              "<Figure size 500x400 with 2 Axes>"
            ],
            "image/png": "[encoded data removed]"
          },
          "metadata": {}
        },
        {
          "output_type": "stream",
          "name": "stdout",
          "text": [
            "akurasi default:  0.68\n",
            "\n",
            "Classification Report Default:\n",
            "              precision    recall  f1-score   support\n",
            "\n",
            "           1       0.70      0.63      0.66        83\n",
            "           2       0.66      0.73      0.70        83\n",
            "\n",
            "    accuracy                           0.68       166\n",
            "   macro avg       0.68      0.68      0.68       166\n",
            "weighted avg       0.68      0.68      0.68       166\n",
            "\n"
          ]
        }
      ]
    },
    {
      "cell_type": "markdown",
      "source": [
        "### Nilai Akurasi Model KNN menggunakan Optuna"
      ],
      "metadata": {
        "id": "KDqz68FKzNH5"
      }
    },
    {
      "cell_type": "code",
      "source": [
        "plot_confusion_matrixs(y_test_resampled, y_pred_optuna)\n",
        "accuracy_optuna = accuracy_score(y_test_resampled, y_pred_optuna)\n",
        "class_report_optuna = classification_report(y_test_resampled, y_pred_optuna)\n",
        "print(f'akurasi optuna:  {round(accuracy_optuna,2)}\\n')\n",
        "print(\"Classification Report Optuna:\")\n",
        "print(class_report_optuna)"
      ],
      "metadata": {
        "colab": {
          "base_uri": "https://localhost:8080/",
          "height": 618
        },
        "id": "Sgj5nXYqzRKN",
        "outputId": "d37d27a6-fbc1-4ca5-f6da-db742264df66"
      },
      "execution_count": 63,
      "outputs": [
        {
          "output_type": "display_data",
          "data": {
            "text/plain": [
              "<Figure size 500x400 with 2 Axes>"
            ],
            "image/png": "[encoded data removed]"
          },
          "metadata": {}
        },
        {
          "output_type": "stream",
          "name": "stdout",
          "text": [
            "akurasi optuna:  0.72\n",
            "\n",
            "Classification Report Optuna:\n",
            "              precision    recall  f1-score   support\n",
            "\n",
            "           1       0.78      0.63      0.69        83\n",
            "           2       0.69      0.82      0.75        83\n",
            "\n",
            "    accuracy                           0.72       166\n",
            "   macro avg       0.73      0.72      0.72       166\n",
            "weighted avg       0.73      0.72      0.72       166\n",
            "\n"
          ]
        }
      ]
    },
    {
      "cell_type": "markdown",
      "source": [
        "### Perbandingan NIlai AKurasi model KNN dengan parameter Default dan Best Parameter Optuna"
      ],
      "metadata": {
        "id": "rNVXXV14zZjU"
      }
    },
    {
      "cell_type": "code",
      "source": [
        "# Plot perbandingan akurasi default dan optuna\n",
        "kategori_bar = ['Default', 'optuna']\n",
        "nilai_bar = [round(accuracy_default,2),round(accuracy_optuna,2)]\n",
        "# Mengatur ukuran plot\n",
        "plt.figure(figsize=(4, 4))\n",
        "# Menggunakan Seaborn untuk menggambarkan bar chart dengan nilai label\n",
        "sns.barplot(x=kategori_bar, y=nilai_bar, palette='tab10')\n",
        "# Menambahkan nilai label pada setiap bar\n",
        "for index, value in enumerate(nilai_bar):\n",
        "    plt.text(index, value, str(value), ha='center', va='bottom', fontsize=10, fontweight='bold')\n",
        "# Menambahkan judul dan label pada sumbu x dan y\n",
        "plt.title('Akurasi Default dan Optuna')\n",
        "plt.xlabel('Kategori')\n",
        "plt.ylabel('Nilai AKurasi')\n",
        "# Menampilkan grid untuk memudahkan pembacaan\n",
        "plt.grid(True)\n",
        "# Menampilkan bar chart\n",
        "plt.show()"
      ],
      "metadata": {
        "colab": {
          "base_uri": "https://localhost:8080/",
          "height": 410
        },
        "id": "sIy4C63czeE6",
        "outputId": "7084cf22-67f4-400b-8141-0ddb6b9bae88"
      },
      "execution_count": 64,
      "outputs": [
        {
          "output_type": "display_data",
          "data": {
            "text/plain": [
              "<Figure size 400x400 with 1 Axes>"
            ],
            "image/png": "[encoded data removed]"
          },
          "metadata": {}
        }
      ]
    },
    {
      "cell_type": "code",
      "source": [
        "selisih_akurasi=((accuracy_optuna-accuracy_default)/accuracy_default)*100\n",
        "print(f'Selisih akurasi default dan optuna {round(selisih_akurasi,2)} %\\n')"
      ],
      "metadata": {
        "colab": {
          "base_uri": "https://localhost:8080/"
        },
        "id": "-b09-TSKzk0o",
        "outputId": "cfc800ab-a6ba-4fce-a056-bafe473bbba4"
      },
      "execution_count": 66,
      "outputs": [
        {
          "output_type": "stream",
          "name": "stdout",
          "text": [
            "Selisih akurasi default dan optuna 6.19 %\n",
            "\n"
          ]
        }
      ]
    }
  ]
}